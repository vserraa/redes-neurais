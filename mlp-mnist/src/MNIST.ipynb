{
 "cells": [
  {
   "cell_type": "code",
   "execution_count": 1,
   "metadata": {},
   "outputs": [
    {
     "name": "stdout",
     "output_type": "stream",
     "text": [
      "Requirement already satisfied: tensorflow in /home/sergio/anaconda3/lib/python3.7/site-packages (2.4.0)\n",
      "Requirement already satisfied: h5py~=2.10.0 in /home/sergio/anaconda3/lib/python3.7/site-packages (from tensorflow) (2.10.0)\n",
      "Requirement already satisfied: keras-preprocessing~=1.1.2 in /home/sergio/anaconda3/lib/python3.7/site-packages (from tensorflow) (1.1.2)\n",
      "Requirement already satisfied: grpcio~=1.32.0 in /home/sergio/anaconda3/lib/python3.7/site-packages (from tensorflow) (1.32.0)\n",
      "Requirement already satisfied: opt-einsum~=3.3.0 in /home/sergio/anaconda3/lib/python3.7/site-packages (from tensorflow) (3.3.0)\n",
      "Requirement already satisfied: gast==0.3.3 in /home/sergio/anaconda3/lib/python3.7/site-packages (from tensorflow) (0.3.3)\n",
      "Requirement already satisfied: tensorflow-estimator<2.5.0,>=2.4.0rc0 in /home/sergio/anaconda3/lib/python3.7/site-packages (from tensorflow) (2.4.0)\n",
      "Requirement already satisfied: absl-py~=0.10 in /home/sergio/anaconda3/lib/python3.7/site-packages (from tensorflow) (0.11.0)\n",
      "Requirement already satisfied: wheel~=0.35 in /home/sergio/anaconda3/lib/python3.7/site-packages (from tensorflow) (0.36.2)\n",
      "Requirement already satisfied: wrapt~=1.12.1 in /home/sergio/anaconda3/lib/python3.7/site-packages (from tensorflow) (1.12.1)\n",
      "Requirement already satisfied: astunparse~=1.6.3 in /home/sergio/anaconda3/lib/python3.7/site-packages (from tensorflow) (1.6.3)\n",
      "Requirement already satisfied: six~=1.15.0 in /home/sergio/anaconda3/lib/python3.7/site-packages (from tensorflow) (1.15.0)\n",
      "Requirement already satisfied: termcolor~=1.1.0 in /home/sergio/anaconda3/lib/python3.7/site-packages (from tensorflow) (1.1.0)\n",
      "Requirement already satisfied: google-pasta~=0.2 in /home/sergio/anaconda3/lib/python3.7/site-packages (from tensorflow) (0.2.0)\n",
      "Requirement already satisfied: typing-extensions~=3.7.4 in /home/sergio/anaconda3/lib/python3.7/site-packages (from tensorflow) (3.7.4.3)\n",
      "Requirement already satisfied: flatbuffers~=1.12.0 in /home/sergio/anaconda3/lib/python3.7/site-packages (from tensorflow) (1.12)\n",
      "Requirement already satisfied: tensorboard~=2.4 in /home/sergio/anaconda3/lib/python3.7/site-packages (from tensorflow) (2.4.1)\n",
      "Requirement already satisfied: numpy~=1.19.2 in /home/sergio/anaconda3/lib/python3.7/site-packages (from tensorflow) (1.19.5)\n",
      "Requirement already satisfied: protobuf>=3.9.2 in /home/sergio/anaconda3/lib/python3.7/site-packages (from tensorflow) (3.12.3)\n",
      "Requirement already satisfied: google-auth<2,>=1.6.3 in /home/sergio/anaconda3/lib/python3.7/site-packages (from tensorboard~=2.4->tensorflow) (1.17.2)\n",
      "Requirement already satisfied: werkzeug>=0.11.15 in /home/sergio/anaconda3/lib/python3.7/site-packages (from tensorboard~=2.4->tensorflow) (1.0.0)\n",
      "Requirement already satisfied: google-auth-oauthlib<0.5,>=0.4.1 in /home/sergio/anaconda3/lib/python3.7/site-packages (from tensorboard~=2.4->tensorflow) (0.4.2)\n",
      "Requirement already satisfied: requests<3,>=2.21.0 in /home/sergio/anaconda3/lib/python3.7/site-packages (from tensorboard~=2.4->tensorflow) (2.22.0)\n",
      "Requirement already satisfied: setuptools>=41.0.0 in /home/sergio/anaconda3/lib/python3.7/site-packages (from tensorboard~=2.4->tensorflow) (45.2.0.post20200210)\n",
      "Requirement already satisfied: tensorboard-plugin-wit>=1.6.0 in /home/sergio/anaconda3/lib/python3.7/site-packages (from tensorboard~=2.4->tensorflow) (1.7.0)\n",
      "Requirement already satisfied: markdown>=2.6.8 in /home/sergio/anaconda3/lib/python3.7/site-packages (from tensorboard~=2.4->tensorflow) (3.3.3)\n",
      "Requirement already satisfied: pyasn1-modules>=0.2.1 in /home/sergio/anaconda3/lib/python3.7/site-packages (from google-auth<2,>=1.6.3->tensorboard~=2.4->tensorflow) (0.2.7)\n",
      "Requirement already satisfied: rsa<5,>=3.1.4; python_version >= \"3\" in /home/sergio/anaconda3/lib/python3.7/site-packages (from google-auth<2,>=1.6.3->tensorboard~=2.4->tensorflow) (4.0)\n",
      "Requirement already satisfied: cachetools<5.0,>=2.0.0 in /home/sergio/anaconda3/lib/python3.7/site-packages (from google-auth<2,>=1.6.3->tensorboard~=2.4->tensorflow) (4.1.0)\n",
      "Requirement already satisfied: requests-oauthlib>=0.7.0 in /home/sergio/anaconda3/lib/python3.7/site-packages (from google-auth-oauthlib<0.5,>=0.4.1->tensorboard~=2.4->tensorflow) (1.3.0)\n",
      "Requirement already satisfied: urllib3!=1.25.0,!=1.25.1,<1.26,>=1.21.1 in /home/sergio/anaconda3/lib/python3.7/site-packages (from requests<3,>=2.21.0->tensorboard~=2.4->tensorflow) (1.25.8)\n",
      "Requirement already satisfied: chardet<3.1.0,>=3.0.2 in /home/sergio/anaconda3/lib/python3.7/site-packages (from requests<3,>=2.21.0->tensorboard~=2.4->tensorflow) (3.0.4)\n",
      "Requirement already satisfied: idna<2.9,>=2.5 in /home/sergio/anaconda3/lib/python3.7/site-packages (from requests<3,>=2.21.0->tensorboard~=2.4->tensorflow) (2.8)\n",
      "Requirement already satisfied: certifi>=2017.4.17 in /home/sergio/anaconda3/lib/python3.7/site-packages (from requests<3,>=2.21.0->tensorboard~=2.4->tensorflow) (2020.6.20)\n",
      "Requirement already satisfied: importlib-metadata; python_version < \"3.8\" in /home/sergio/anaconda3/lib/python3.7/site-packages (from markdown>=2.6.8->tensorboard~=2.4->tensorflow) (1.5.0)\n",
      "Requirement already satisfied: pyasn1<0.5.0,>=0.4.6 in /home/sergio/anaconda3/lib/python3.7/site-packages (from pyasn1-modules>=0.2.1->google-auth<2,>=1.6.3->tensorboard~=2.4->tensorflow) (0.4.8)\n",
      "Requirement already satisfied: oauthlib>=3.0.0 in /home/sergio/anaconda3/lib/python3.7/site-packages (from requests-oauthlib>=0.7.0->google-auth-oauthlib<0.5,>=0.4.1->tensorboard~=2.4->tensorflow) (3.1.0)\n",
      "Requirement already satisfied: zipp>=0.5 in /home/sergio/anaconda3/lib/python3.7/site-packages (from importlib-metadata; python_version < \"3.8\"->markdown>=2.6.8->tensorboard~=2.4->tensorflow) (2.2.0)\n"
     ]
    }
   ],
   "source": [
    "!pip install tensorflow"
   ]
  },
  {
   "cell_type": "code",
   "execution_count": 2,
   "metadata": {},
   "outputs": [
    {
     "name": "stdout",
     "output_type": "stream",
     "text": [
      "Requirement already satisfied: keras in /home/sergio/anaconda3/lib/python3.7/site-packages (2.4.3)\n",
      "Requirement already satisfied: pyyaml in /home/sergio/anaconda3/lib/python3.7/site-packages (from keras) (5.3)\n",
      "Requirement already satisfied: h5py in /home/sergio/anaconda3/lib/python3.7/site-packages (from keras) (2.10.0)\n",
      "Requirement already satisfied: scipy>=0.14 in /home/sergio/anaconda3/lib/python3.7/site-packages (from keras) (1.4.1)\n",
      "Requirement already satisfied: numpy>=1.9.1 in /home/sergio/anaconda3/lib/python3.7/site-packages (from keras) (1.19.5)\n",
      "Requirement already satisfied: six in /home/sergio/anaconda3/lib/python3.7/site-packages (from h5py->keras) (1.15.0)\n"
     ]
    }
   ],
   "source": [
    "!pip install keras"
   ]
  },
  {
   "cell_type": "code",
   "execution_count": 27,
   "metadata": {},
   "outputs": [],
   "source": [
    "from tensorflow import keras\n",
    "import numpy as np\n",
    "from functions import build_model\n",
    "from sklearn.metrics import accuracy_score, recall_score, precision_score, f1_score\n",
    "from sklearn.metrics import confusion_matrix\n",
    "import seaborn as sns\n",
    "from sklearn.metrics import classification_report"
   ]
  },
  {
   "cell_type": "code",
   "execution_count": 4,
   "metadata": {},
   "outputs": [],
   "source": [
    "mnist = keras.datasets.mnist\n",
    "(X_train_full, y_train_full), (X_test, y_test) = mnist.load_data()"
   ]
  },
  {
   "cell_type": "code",
   "execution_count": 5,
   "metadata": {},
   "outputs": [
    {
     "data": {
      "text/plain": [
       "(60000, 28, 28)"
      ]
     },
     "execution_count": 5,
     "metadata": {},
     "output_type": "execute_result"
    }
   ],
   "source": [
    "X_train_full.shape"
   ]
  },
  {
   "cell_type": "code",
   "execution_count": 6,
   "metadata": {},
   "outputs": [
    {
     "data": {
      "text/plain": [
       "dtype('uint8')"
      ]
     },
     "execution_count": 6,
     "metadata": {},
     "output_type": "execute_result"
    }
   ],
   "source": [
    "X_train_full.dtype"
   ]
  },
  {
   "cell_type": "code",
   "execution_count": 7,
   "metadata": {},
   "outputs": [],
   "source": [
    "#dividindo por 255 para escalar os pixels entre 0 e 1\n",
    "X_valid, X_train = X_train_full[:5000] / 255.0, X_train_full[5000:] /255.0\n",
    "y_valid, y_train = y_train_full[:5000], y_train_full[5000:]"
   ]
  },
  {
   "cell_type": "code",
   "execution_count": 8,
   "metadata": {},
   "outputs": [],
   "source": [
    "#hidden_layer_size = [8, 16, 32, 64, 128, 256]\n",
    "#learning_rate = [0.001, 0.01, 0.05, 0.1, 0.25, 0.5]\n",
    "hidden_layer_size = [8, 64, 256]\n",
    "learning_rate = [0.001, 0.01, 0.05]\n",
    "activation = [\"relu\"]"
   ]
  },
  {
   "cell_type": "code",
   "execution_count": 9,
   "metadata": {},
   "outputs": [],
   "source": [
    "best_sz, best_lr, best_func = 0, 0, \"\"\n",
    "best_acc = 0"
   ]
  },
  {
   "cell_type": "code",
   "execution_count": 11,
   "metadata": {},
   "outputs": [
    {
     "name": "stdout",
     "output_type": "stream",
     "text": [
      "Epoch 1/10\n",
      "1719/1719 [==============================] - 5s 1ms/step - loss: 2.1577 - accuracy: 0.2463\n",
      "Epoch 2/10\n",
      "1719/1719 [==============================] - 2s 941us/step - loss: 1.6571 - accuracy: 0.4541\n",
      "Epoch 3/10\n",
      "1719/1719 [==============================] - 2s 903us/step - loss: 1.3306 - accuracy: 0.6096\n",
      "Epoch 4/10\n",
      "1719/1719 [==============================] - 2s 935us/step - loss: 1.0949 - accuracy: 0.6937\n",
      "Epoch 5/10\n",
      "1719/1719 [==============================] - 2s 918us/step - loss: 0.9427 - accuracy: 0.7350\n",
      "Epoch 6/10\n",
      "1719/1719 [==============================] - 2s 943us/step - loss: 0.8446 - accuracy: 0.7615\n",
      "Epoch 7/10\n",
      "1719/1719 [==============================] - 2s 933us/step - loss: 0.7663 - accuracy: 0.7862\n",
      "Epoch 8/10\n",
      "1719/1719 [==============================] - 2s 942us/step - loss: 0.7142 - accuracy: 0.7997\n",
      "Epoch 9/10\n",
      "1719/1719 [==============================] - 2s 921us/step - loss: 0.6646 - accuracy: 0.8137\n",
      "Epoch 10/10\n",
      "1719/1719 [==============================] - 2s 920us/step - loss: 0.6301 - accuracy: 0.8204\n",
      "Epoch 1/10\n",
      "1719/1719 [==============================] - 2s 992us/step - loss: 1.2873 - accuracy: 0.6142\n",
      "Epoch 2/10\n",
      "1719/1719 [==============================] - 2s 940us/step - loss: 0.4530 - accuracy: 0.8764\n",
      "Epoch 3/10\n",
      "1719/1719 [==============================] - 2s 953us/step - loss: 0.3843 - accuracy: 0.8915\n",
      "Epoch 4/10\n",
      "1719/1719 [==============================] - 2s 969us/step - loss: 0.3578 - accuracy: 0.8968\n",
      "Epoch 5/10\n",
      "1719/1719 [==============================] - 2s 953us/step - loss: 0.3417 - accuracy: 0.9018\n",
      "Epoch 6/10\n",
      "1719/1719 [==============================] - 2s 1ms/step - loss: 0.3243 - accuracy: 0.9086\n",
      "Epoch 7/10\n",
      "1719/1719 [==============================] - 2s 963us/step - loss: 0.3177 - accuracy: 0.9102\n",
      "Epoch 8/10\n",
      "1719/1719 [==============================] - 2s 948us/step - loss: 0.3113 - accuracy: 0.9114\n",
      "Epoch 9/10\n",
      "1719/1719 [==============================] - 2s 903us/step - loss: 0.3035 - accuracy: 0.9135\n",
      "Epoch 10/10\n",
      "1719/1719 [==============================] - 2s 984us/step - loss: 0.3003 - accuracy: 0.9157\n",
      "Epoch 1/10\n",
      "1719/1719 [==============================] - 2s 946us/step - loss: 0.8640 - accuracy: 0.7392\n",
      "Epoch 2/10\n",
      "1719/1719 [==============================] - 2s 956us/step - loss: 0.3552 - accuracy: 0.8984\n",
      "Epoch 3/10\n",
      "1719/1719 [==============================] - 2s 986us/step - loss: 0.3236 - accuracy: 0.9073\n",
      "Epoch 4/10\n",
      "1719/1719 [==============================] - 2s 1ms/step - loss: 0.3128 - accuracy: 0.9114\n",
      "Epoch 5/10\n",
      "1719/1719 [==============================] - 2s 1ms/step - loss: 0.3090 - accuracy: 0.9128\n",
      "Epoch 6/10\n",
      "1719/1719 [==============================] - 2s 1ms/step - loss: 0.3022 - accuracy: 0.9137\n",
      "Epoch 7/10\n",
      "1719/1719 [==============================] - 2s 1ms/step - loss: 0.2829 - accuracy: 0.9201\n",
      "Epoch 8/10\n",
      "1719/1719 [==============================] - 2s 1ms/step - loss: 0.2861 - accuracy: 0.9180\n",
      "Epoch 9/10\n",
      "1719/1719 [==============================] - 2s 1ms/step - loss: 0.2887 - accuracy: 0.9167\n",
      "Epoch 10/10\n",
      "1719/1719 [==============================] - 2s 1ms/step - loss: 0.2839 - accuracy: 0.9219\n",
      "Epoch 1/10\n",
      "1719/1719 [==============================] - 7s 1ms/step - loss: 1.9914 - accuracy: 0.3884\n",
      "Epoch 2/10\n",
      "1719/1719 [==============================] - 2s 998us/step - loss: 1.1664 - accuracy: 0.7565\n",
      "Epoch 3/10\n",
      "1719/1719 [==============================] - 2s 1ms/step - loss: 0.8021 - accuracy: 0.8212\n",
      "Epoch 4/10\n",
      "1719/1719 [==============================] - 2s 1ms/step - loss: 0.6440 - accuracy: 0.8477\n",
      "Epoch 5/10\n",
      "1719/1719 [==============================] - 2s 1ms/step - loss: 0.5608 - accuracy: 0.8610\n",
      "Epoch 6/10\n",
      "1719/1719 [==============================] - 2s 1ms/step - loss: 0.5089 - accuracy: 0.8703\n",
      "Epoch 7/10\n",
      "1719/1719 [==============================] - 2s 1ms/step - loss: 0.4732 - accuracy: 0.8739\n",
      "Epoch 8/10\n",
      "1719/1719 [==============================] - 2s 1ms/step - loss: 0.4446 - accuracy: 0.8809\n",
      "Epoch 9/10\n",
      "1719/1719 [==============================] - 2s 1ms/step - loss: 0.4214 - accuracy: 0.8861\n",
      "Epoch 10/10\n",
      "1719/1719 [==============================] - 2s 1ms/step - loss: 0.4075 - accuracy: 0.8895\n",
      "Epoch 1/10\n",
      "1719/1719 [==============================] - 2s 1ms/step - loss: 1.0871 - accuracy: 0.7035\n",
      "Epoch 2/10\n",
      "1719/1719 [==============================] - 2s 1ms/step - loss: 0.3646 - accuracy: 0.8989\n",
      "Epoch 3/10\n",
      "1719/1719 [==============================] - 2s 1ms/step - loss: 0.3122 - accuracy: 0.9125\n",
      "Epoch 4/10\n",
      "1719/1719 [==============================] - 2s 1ms/step - loss: 0.2825 - accuracy: 0.9197\n",
      "Epoch 5/10\n",
      "1719/1719 [==============================] - 2s 1ms/step - loss: 0.2576 - accuracy: 0.9284\n",
      "Epoch 6/10\n",
      "1719/1719 [==============================] - 2s 1ms/step - loss: 0.2438 - accuracy: 0.9322\n",
      "Epoch 7/10\n",
      "1719/1719 [==============================] - 2s 1ms/step - loss: 0.2288 - accuracy: 0.9356\n",
      "Epoch 8/10\n",
      "1719/1719 [==============================] - 2s 1ms/step - loss: 0.2139 - accuracy: 0.9407\n",
      "Epoch 9/10\n",
      "1719/1719 [==============================] - 2s 1ms/step - loss: 0.2027 - accuracy: 0.9426\n",
      "Epoch 10/10\n",
      "1719/1719 [==============================] - 2s 1ms/step - loss: 0.1923 - accuracy: 0.9454\n",
      "Epoch 1/10\n",
      "1719/1719 [==============================] - 2s 1ms/step - loss: 0.6176 - accuracy: 0.8316\n",
      "Epoch 2/10\n",
      "1719/1719 [==============================] - 2s 1ms/step - loss: 0.2329 - accuracy: 0.9323\n",
      "Epoch 3/10\n",
      "1719/1719 [==============================] - 2s 1ms/step - loss: 0.1826 - accuracy: 0.9489\n",
      "Epoch 4/10\n",
      "1719/1719 [==============================] - 2s 1ms/step - loss: 0.1492 - accuracy: 0.9569\n",
      "Epoch 5/10\n",
      "1719/1719 [==============================] - 2s 1ms/step - loss: 0.1320 - accuracy: 0.9621\n",
      "Epoch 6/10\n",
      "1719/1719 [==============================] - 2s 1ms/step - loss: 0.1074 - accuracy: 0.9686\n",
      "Epoch 7/10\n",
      "1719/1719 [==============================] - 2s 1ms/step - loss: 0.0952 - accuracy: 0.9725\n",
      "Epoch 8/10\n",
      "1719/1719 [==============================] - 2s 1ms/step - loss: 0.0878 - accuracy: 0.9755\n",
      "Epoch 9/10\n",
      "1719/1719 [==============================] - 2s 989us/step - loss: 0.0819 - accuracy: 0.9764\n",
      "Epoch 10/10\n",
      "1719/1719 [==============================] - 2s 1ms/step - loss: 0.0756 - accuracy: 0.9789\n",
      "Epoch 1/10\n",
      "1719/1719 [==============================] - 4s 2ms/step - loss: 1.9681 - accuracy: 0.3857\n",
      "Epoch 2/10\n",
      "1719/1719 [==============================] - 3s 2ms/step - loss: 1.0136 - accuracy: 0.7923\n",
      "Epoch 3/10\n",
      "1719/1719 [==============================] - 3s 2ms/step - loss: 0.7163 - accuracy: 0.8361\n",
      "Epoch 4/10\n",
      "1719/1719 [==============================] - 3s 1ms/step - loss: 0.5899 - accuracy: 0.8593\n",
      "Epoch 5/10\n",
      "1719/1719 [==============================] - 3s 2ms/step - loss: 0.5149 - accuracy: 0.8689\n",
      "Epoch 6/10\n",
      "1719/1719 [==============================] - 3s 2ms/step - loss: 0.4733 - accuracy: 0.8794\n",
      "Epoch 7/10\n",
      "1719/1719 [==============================] - 3s 2ms/step - loss: 0.4472 - accuracy: 0.8820\n",
      "Epoch 8/10\n",
      "1719/1719 [==============================] - 3s 2ms/step - loss: 0.4185 - accuracy: 0.8879\n",
      "Epoch 9/10\n",
      "1719/1719 [==============================] - 3s 2ms/step - loss: 0.3957 - accuracy: 0.8934\n",
      "Epoch 10/10\n",
      "1719/1719 [==============================] - 3s 2ms/step - loss: 0.3903 - accuracy: 0.8936\n",
      "Epoch 1/10\n",
      "1719/1719 [==============================] - 3s 2ms/step - loss: 1.0348 - accuracy: 0.7361\n",
      "Epoch 2/10\n",
      "1719/1719 [==============================] - 3s 2ms/step - loss: 0.3645 - accuracy: 0.8986\n",
      "Epoch 3/10\n",
      "1719/1719 [==============================] - 3s 2ms/step - loss: 0.3077 - accuracy: 0.9145\n",
      "Epoch 4/10\n",
      "1719/1719 [==============================] - 3s 2ms/step - loss: 0.2728 - accuracy: 0.9226\n",
      "Epoch 5/10\n",
      "1719/1719 [==============================] - 3s 2ms/step - loss: 0.2430 - accuracy: 0.9337\n",
      "Epoch 6/10\n",
      "1719/1719 [==============================] - 3s 2ms/step - loss: 0.2256 - accuracy: 0.9370\n",
      "Epoch 7/10\n",
      "1719/1719 [==============================] - 3s 2ms/step - loss: 0.2085 - accuracy: 0.9425\n",
      "Epoch 8/10\n",
      "1719/1719 [==============================] - 3s 2ms/step - loss: 0.1930 - accuracy: 0.9458\n",
      "Epoch 9/10\n",
      "1719/1719 [==============================] - 3s 2ms/step - loss: 0.1768 - accuracy: 0.9504\n",
      "Epoch 10/10\n",
      "1719/1719 [==============================] - 3s 2ms/step - loss: 0.1685 - accuracy: 0.9535\n",
      "Epoch 1/10\n",
      "1719/1719 [==============================] - 3s 2ms/step - loss: 0.5817 - accuracy: 0.8438\n",
      "Epoch 2/10\n",
      "1719/1719 [==============================] - 3s 2ms/step - loss: 0.2127 - accuracy: 0.9400\n",
      "Epoch 3/10\n",
      "1719/1719 [==============================] - 3s 2ms/step - loss: 0.1565 - accuracy: 0.9558\n",
      "Epoch 4/10\n",
      "1719/1719 [==============================] - 3s 2ms/step - loss: 0.1253 - accuracy: 0.9647\n",
      "Epoch 5/10\n",
      "1719/1719 [==============================] - 3s 2ms/step - loss: 0.0978 - accuracy: 0.9733\n",
      "Epoch 6/10\n",
      "1719/1719 [==============================] - 3s 2ms/step - loss: 0.0863 - accuracy: 0.9771\n",
      "Epoch 7/10\n",
      "1719/1719 [==============================] - 3s 2ms/step - loss: 0.0726 - accuracy: 0.9802\n",
      "Epoch 8/10\n",
      "1719/1719 [==============================] - 3s 2ms/step - loss: 0.0646 - accuracy: 0.9823\n",
      "Epoch 9/10\n",
      "1719/1719 [==============================] - 3s 2ms/step - loss: 0.0550 - accuracy: 0.9857\n",
      "Epoch 10/10\n",
      "1719/1719 [==============================] - 3s 2ms/step - loss: 0.0513 - accuracy: 0.9865\n"
     ]
    }
   ],
   "source": [
    "for sz in hidden_layer_size:\n",
    "    for lr in learning_rate:\n",
    "        for func in activation:\n",
    "            \n",
    "            model = build_model(sz, lr, func)\n",
    "            model.fit(X_train, y_train, epochs=10)\n",
    "            y_pred = np.argmax(model.predict(X_valid), axis=-1)\n",
    "            accuracy = accuracy_score(y_valid, y_pred)\n",
    "            \n",
    "            if accuracy > best_acc:\n",
    "                best_acc = accuracy\n",
    "                best_sz, best_lr, best_func = sz, lr, func"
   ]
  },
  {
   "cell_type": "code",
   "execution_count": 11,
   "metadata": {},
   "outputs": [
    {
     "name": "stdout",
     "output_type": "stream",
     "text": [
      "256 0.05 relu\n"
     ]
    }
   ],
   "source": [
    "\n",
    "\n",
    "#just to avoid grid search redo\n",
    "best_sz = 256\n",
    "best_lr = 0.05\n",
    "best_func = 'relu'\n",
    "\n",
    "print(best_sz, best_lr, best_func)"
   ]
  },
  {
   "cell_type": "code",
   "execution_count": 12,
   "metadata": {},
   "outputs": [],
   "source": [
    "final_model = build_model(best_sz, best_lr, best_func)"
   ]
  },
  {
   "cell_type": "code",
   "execution_count": 13,
   "metadata": {},
   "outputs": [
    {
     "name": "stdout",
     "output_type": "stream",
     "text": [
      "Model: \"sequential\"\n",
      "_________________________________________________________________\n",
      "Layer (type)                 Output Shape              Param #   \n",
      "=================================================================\n",
      "flatten (Flatten)            (None, 784)               0         \n",
      "_________________________________________________________________\n",
      "dense (Dense)                (None, 256)               200960    \n",
      "_________________________________________________________________\n",
      "dense_1 (Dense)              (None, 10)                2570      \n",
      "=================================================================\n",
      "Total params: 203,530\n",
      "Trainable params: 203,530\n",
      "Non-trainable params: 0\n",
      "_________________________________________________________________\n"
     ]
    }
   ],
   "source": [
    "final_model.summary()"
   ]
  },
  {
   "cell_type": "code",
   "execution_count": 14,
   "metadata": {},
   "outputs": [
    {
     "name": "stdout",
     "output_type": "stream",
     "text": [
      "Epoch 1/10\n",
      "1719/1719 [==============================] - 5s 2ms/step - loss: 0.5820 - accuracy: 0.8460 - val_loss: 0.2101 - val_accuracy: 0.9426\n",
      "Epoch 2/10\n",
      "1719/1719 [==============================] - 3s 2ms/step - loss: 0.2130 - accuracy: 0.9411 - val_loss: 0.1582 - val_accuracy: 0.9562\n",
      "Epoch 3/10\n",
      "1719/1719 [==============================] - 3s 2ms/step - loss: 0.1567 - accuracy: 0.9555 - val_loss: 0.1285 - val_accuracy: 0.9666\n",
      "Epoch 4/10\n",
      "1719/1719 [==============================] - 3s 1ms/step - loss: 0.1219 - accuracy: 0.9660 - val_loss: 0.1146 - val_accuracy: 0.9684\n",
      "Epoch 5/10\n",
      "1719/1719 [==============================] - 3s 1ms/step - loss: 0.0982 - accuracy: 0.9721 - val_loss: 0.1025 - val_accuracy: 0.9728\n",
      "Epoch 6/10\n",
      "1719/1719 [==============================] - 3s 1ms/step - loss: 0.0867 - accuracy: 0.9760 - val_loss: 0.0918 - val_accuracy: 0.9742\n",
      "Epoch 7/10\n",
      "1719/1719 [==============================] - 3s 1ms/step - loss: 0.0764 - accuracy: 0.9797 - val_loss: 0.0851 - val_accuracy: 0.9760\n",
      "Epoch 8/10\n",
      "1719/1719 [==============================] - 3s 2ms/step - loss: 0.0654 - accuracy: 0.9821 - val_loss: 0.0811 - val_accuracy: 0.9772\n",
      "Epoch 9/10\n",
      "1719/1719 [==============================] - 3s 2ms/step - loss: 0.0575 - accuracy: 0.9843 - val_loss: 0.0755 - val_accuracy: 0.9782\n",
      "Epoch 10/10\n",
      "1719/1719 [==============================] - 3s 2ms/step - loss: 0.0519 - accuracy: 0.9862 - val_loss: 0.0736 - val_accuracy: 0.9778\n"
     ]
    }
   ],
   "source": [
    "history = final_model.fit(X_train, y_train, epochs=10, validation_data=(X_valid, y_valid))"
   ]
  },
  {
   "cell_type": "code",
   "execution_count": 15,
   "metadata": {},
   "outputs": [
    {
     "data": {
      "text/html": [
       "<div>\n",
       "<style scoped>\n",
       "    .dataframe tbody tr th:only-of-type {\n",
       "        vertical-align: middle;\n",
       "    }\n",
       "\n",
       "    .dataframe tbody tr th {\n",
       "        vertical-align: top;\n",
       "    }\n",
       "\n",
       "    .dataframe thead th {\n",
       "        text-align: right;\n",
       "    }\n",
       "</style>\n",
       "<table border=\"1\" class=\"dataframe\">\n",
       "  <thead>\n",
       "    <tr style=\"text-align: right;\">\n",
       "      <th></th>\n",
       "      <th>loss</th>\n",
       "      <th>accuracy</th>\n",
       "      <th>val_loss</th>\n",
       "      <th>val_accuracy</th>\n",
       "    </tr>\n",
       "  </thead>\n",
       "  <tbody>\n",
       "    <tr>\n",
       "      <th>0</th>\n",
       "      <td>0.370061</td>\n",
       "      <td>0.898982</td>\n",
       "      <td>0.210125</td>\n",
       "      <td>0.9426</td>\n",
       "    </tr>\n",
       "    <tr>\n",
       "      <th>1</th>\n",
       "      <td>0.197763</td>\n",
       "      <td>0.944055</td>\n",
       "      <td>0.158171</td>\n",
       "      <td>0.9562</td>\n",
       "    </tr>\n",
       "    <tr>\n",
       "      <th>2</th>\n",
       "      <td>0.147909</td>\n",
       "      <td>0.958127</td>\n",
       "      <td>0.128513</td>\n",
       "      <td>0.9666</td>\n",
       "    </tr>\n",
       "    <tr>\n",
       "      <th>3</th>\n",
       "      <td>0.118838</td>\n",
       "      <td>0.966709</td>\n",
       "      <td>0.114582</td>\n",
       "      <td>0.9684</td>\n",
       "    </tr>\n",
       "    <tr>\n",
       "      <th>4</th>\n",
       "      <td>0.099669</td>\n",
       "      <td>0.972018</td>\n",
       "      <td>0.102463</td>\n",
       "      <td>0.9728</td>\n",
       "    </tr>\n",
       "    <tr>\n",
       "      <th>5</th>\n",
       "      <td>0.085512</td>\n",
       "      <td>0.976218</td>\n",
       "      <td>0.091843</td>\n",
       "      <td>0.9742</td>\n",
       "    </tr>\n",
       "    <tr>\n",
       "      <th>6</th>\n",
       "      <td>0.074063</td>\n",
       "      <td>0.980127</td>\n",
       "      <td>0.085059</td>\n",
       "      <td>0.9760</td>\n",
       "    </tr>\n",
       "    <tr>\n",
       "      <th>7</th>\n",
       "      <td>0.065387</td>\n",
       "      <td>0.982018</td>\n",
       "      <td>0.081108</td>\n",
       "      <td>0.9772</td>\n",
       "    </tr>\n",
       "    <tr>\n",
       "      <th>8</th>\n",
       "      <td>0.058114</td>\n",
       "      <td>0.984109</td>\n",
       "      <td>0.075537</td>\n",
       "      <td>0.9782</td>\n",
       "    </tr>\n",
       "    <tr>\n",
       "      <th>9</th>\n",
       "      <td>0.052016</td>\n",
       "      <td>0.986327</td>\n",
       "      <td>0.073618</td>\n",
       "      <td>0.9778</td>\n",
       "    </tr>\n",
       "  </tbody>\n",
       "</table>\n",
       "</div>"
      ],
      "text/plain": [
       "       loss  accuracy  val_loss  val_accuracy\n",
       "0  0.370061  0.898982  0.210125        0.9426\n",
       "1  0.197763  0.944055  0.158171        0.9562\n",
       "2  0.147909  0.958127  0.128513        0.9666\n",
       "3  0.118838  0.966709  0.114582        0.9684\n",
       "4  0.099669  0.972018  0.102463        0.9728\n",
       "5  0.085512  0.976218  0.091843        0.9742\n",
       "6  0.074063  0.980127  0.085059        0.9760\n",
       "7  0.065387  0.982018  0.081108        0.9772\n",
       "8  0.058114  0.984109  0.075537        0.9782\n",
       "9  0.052016  0.986327  0.073618        0.9778"
      ]
     },
     "execution_count": 15,
     "metadata": {},
     "output_type": "execute_result"
    }
   ],
   "source": [
    "import pandas as pd\n",
    "import matplotlib.pyplot as plt\n",
    "\n",
    "df_losses = pd.DataFrame(history.history)\n",
    "df_losses"
   ]
  },
  {
   "cell_type": "code",
   "execution_count": 16,
   "metadata": {},
   "outputs": [
    {
     "data": {
      "image/png": "[encoded data removed]",
      "text/plain": [
       "<Figure size 720x576 with 1 Axes>"
      ]
     },
     "metadata": {
      "needs_background": "light"
     },
     "output_type": "display_data"
    }
   ],
   "source": [
    "df_losses.plot(figsize=(10,8))\n",
    "plt.grid(True)\n",
    "plt.gca().set_ylim(0, 1) # set the vertical range to [0-1]\n",
    "plt.show()"
   ]
  },
  {
   "cell_type": "markdown",
   "metadata": {},
   "source": [
    "Validation curve e training curve proximas -> baixo risco de overfitting\n",
    "\n",
    "*O erro do dataset de validação é computado após o treinamento da epoch, enquanto do treino é durante, por isso a curva de validação parece performar melhor que a de treino "
   ]
  },
  {
   "cell_type": "markdown",
   "metadata": {},
   "source": [
    "Parametros que podem ser tunados:\n",
    "\n",
    "- learning rate\n",
    "- tentar outro optimizer\n",
    "- numero de camadas, neurons por camadas, tipos de funções de ativação para cada hidden layer\n",
    "- batch size (padrão 32), que é tunado no fit\n",
    "- class_weight, caso o dataset seja muito assimetrico (para dar mais peso para classe pouco representada)"
   ]
  },
  {
   "cell_type": "code",
   "execution_count": 17,
   "metadata": {},
   "outputs": [
    {
     "name": "stdout",
     "output_type": "stream",
     "text": [
      "313/313 [==============================] - 1s 2ms/step - loss: 11.9491 - accuracy: 0.9739\n"
     ]
    },
    {
     "data": {
      "text/plain": [
       "[11.94909954071045, 0.9739000201225281]"
      ]
     },
     "execution_count": 17,
     "metadata": {},
     "output_type": "execute_result"
    }
   ],
   "source": [
    "final_model.evaluate(X_test, y_test)"
   ]
  },
  {
   "cell_type": "code",
   "execution_count": 19,
   "metadata": {},
   "outputs": [
    {
     "data": {
      "text/plain": [
       "array([7, 2, 1, ..., 4, 5, 6])"
      ]
     },
     "execution_count": 19,
     "metadata": {},
     "output_type": "execute_result"
    }
   ],
   "source": [
    "y_pred = np.argmax(final_model.predict(X_test), axis=-1)\n",
    "y_pred"
   ]
  },
  {
   "cell_type": "code",
   "execution_count": 21,
   "metadata": {},
   "outputs": [
    {
     "name": "stdout",
     "output_type": "stream",
     "text": [
      "[[ 973    0    1    1    0    0    0    1    3    1]\n",
      " [   0 1124    3    2    0    1    2    0    3    0]\n",
      " [   5    2 1007    5    2    0    3    4    4    0]\n",
      " [   0    0    2 1002    0    0    0    1    3    2]\n",
      " [   2    0    2    2  942    0    4    3    2   25]\n",
      " [   7    1    1   27    2  837    8    1    5    3]\n",
      " [   9    3    1    1    2    2  935    1    4    0]\n",
      " [   2    4    9    8    0    0    0  994    1   10]\n",
      " [   3    1    3   10    1    1    2    3  949    1]\n",
      " [   4    6    0    9    6    1    0    5    2  976]]\n"
     ]
    }
   ],
   "source": [
    "print(confusion_matrix(y_test, y_pred))"
   ]
  },
  {
   "cell_type": "code",
   "execution_count": 22,
   "metadata": {},
   "outputs": [
    {
     "data": {
      "text/plain": [
       "<matplotlib.axes._subplots.AxesSubplot at 0x7f5c24841490>"
      ]
     },
     "execution_count": 22,
     "metadata": {},
     "output_type": "execute_result"
    },
    {
     "data": {
      "image/png": "[encoded data removed]",
      "text/plain": [
       "<Figure size 936x504 with 2 Axes>"
      ]
     },
     "metadata": {
      "needs_background": "light"
     },
     "output_type": "display_data"
    }
   ],
   "source": [
    "#traditional confusion matrix\n",
    "df_cm = pd.DataFrame(confusion_matrix(y_test, y_pred))\n",
    "\n",
    "plt.figure(figsize = (13,7))\n",
    "sns.heatmap(df_cm, annot=True, fmt='d')"
   ]
  },
  {
   "cell_type": "code",
   "execution_count": 26,
   "metadata": {},
   "outputs": [
    {
     "data": {
      "text/plain": [
       "<matplotlib.axes._subplots.AxesSubplot at 0x7f5c26762950>"
      ]
     },
     "execution_count": 26,
     "metadata": {},
     "output_type": "execute_result"
    },
    {
     "data": {
      "image/png": "[encoded data removed]",
      "text/plain": [
       "<Figure size 936x504 with 2 Axes>"
      ]
     },
     "metadata": {
      "needs_background": "light"
     },
     "output_type": "display_data"
    }
   ],
   "source": [
    "#confusion matrix in accuracy format for each class\n",
    "cm = confusion_matrix(y_test, y_pred)\n",
    "\n",
    "df_cm_acc = pd.DataFrame(cm.astype('float') / cm.sum(axis=1)[:, np.newaxis])\n",
    "\n",
    "plt.figure(figsize = (13,7))\n",
    "sns.heatmap(df_cm_acc, annot=True, fmt='f')"
   ]
  },
  {
   "cell_type": "code",
   "execution_count": 24,
   "metadata": {},
   "outputs": [
    {
     "name": "stdout",
     "output_type": "stream",
     "text": [
      "f1 score: [0.98035264 0.98769772 0.97719554 0.96485315 0.9726381  0.96539792\n",
      " 0.97803347 0.97403234 0.97333333 0.96299951]\n",
      "precision: [0.9681592  0.98510079 0.97862002 0.93908154 0.98638743 0.99406176\n",
      " 0.98008386 0.98124383 0.97233607 0.95874263]\n",
      "recall: [0.99285714 0.99030837 0.97577519 0.99207921 0.9592668  0.93834081\n",
      " 0.97599165 0.96692607 0.97433265 0.96729435]\n",
      "accuracy 0.9739\n"
     ]
    }
   ],
   "source": [
    "accuracy = accuracy_score(y_test, y_pred)\n",
    "recall = recall_score(y_test, y_pred, average=None)\n",
    "precision = precision_score(y_test, y_pred, average=None)\n",
    "f1 = f1_score(y_test, y_pred, average=None)\n",
    "\n",
    "print('f1 score:', f1)\n",
    "print('precision:', precision)\n",
    "print('recall:', recall)\n",
    "print('accuracy', accuracy)"
   ]
  },
  {
   "cell_type": "code",
   "execution_count": null,
   "metadata": {},
   "outputs": [],
   "source": []
  },
  {
   "cell_type": "code",
   "execution_count": null,
   "metadata": {},
   "outputs": [],
   "source": []
  }
 ],
 "metadata": {
  "kernelspec": {
   "display_name": "Python 3",
   "language": "python",
   "name": "python3"
  },
  "language_info": {
   "codemirror_mode": {
    "name": "ipython",
    "version": 3
   },
   "file_extension": ".py",
   "mimetype": "text/x-python",
   "name": "python",
   "nbconvert_exporter": "python",
   "pygments_lexer": "ipython3",
   "version": "3.7.6"
  }
 },
 "nbformat": 4,
 "nbformat_minor": 4
}
