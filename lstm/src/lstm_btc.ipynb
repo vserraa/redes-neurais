{
  "nbformat": 4,
  "nbformat_minor": 0,
  "metadata": {
    "colab": {
      "name": "lstm-btc.ipynb",
      "provenance": [],
      "collapsed_sections": []
    },
    "kernelspec": {
      "name": "python3",
      "display_name": "Python 3"
    },
    "language_info": {
      "name": "python"
    }
  },
  "cells": [
    {
      "cell_type": "code",
      "metadata": {
        "colab": {
          "base_uri": "https://localhost:8080/"
        },
        "id": "5Pg-9dvOQjJj",
        "outputId": "3a417378-7fae-4d99-e385-19aa41ab7ec7"
      },
      "source": [
        "!pip install tensorflow\n",
        "!pip install keras\n",
        "!pip install numpy\n",
        "!pip install pandas\n",
        "!pip install matplotlib\n",
        "!pip install scikit-learn"
      ],
      "execution_count": 1,
      "outputs": [
        {
          "output_type": "stream",
          "text": [
            "Requirement already satisfied: tensorflow in /usr/local/lib/python3.7/dist-packages (2.4.1)\n",
            "Requirement already satisfied: numpy~=1.19.2 in /usr/local/lib/python3.7/dist-packages (from tensorflow) (1.19.5)\n",
            "Requirement already satisfied: google-pasta~=0.2 in /usr/local/lib/python3.7/dist-packages (from tensorflow) (0.2.0)\n",
            "Requirement already satisfied: protobuf>=3.9.2 in /usr/local/lib/python3.7/dist-packages (from tensorflow) (3.12.4)\n",
            "Requirement already satisfied: grpcio~=1.32.0 in /usr/local/lib/python3.7/dist-packages (from tensorflow) (1.32.0)\n",
            "Requirement already satisfied: typing-extensions~=3.7.4 in /usr/local/lib/python3.7/dist-packages (from tensorflow) (3.7.4.3)\n",
            "Requirement already satisfied: wrapt~=1.12.1 in /usr/local/lib/python3.7/dist-packages (from tensorflow) (1.12.1)\n",
            "Requirement already satisfied: termcolor~=1.1.0 in /usr/local/lib/python3.7/dist-packages (from tensorflow) (1.1.0)\n",
            "Requirement already satisfied: h5py~=2.10.0 in /usr/local/lib/python3.7/dist-packages (from tensorflow) (2.10.0)\n",
            "Requirement already satisfied: tensorflow-estimator<2.5.0,>=2.4.0 in /usr/local/lib/python3.7/dist-packages (from tensorflow) (2.4.0)\n",
            "Requirement already satisfied: opt-einsum~=3.3.0 in /usr/local/lib/python3.7/dist-packages (from tensorflow) (3.3.0)\n",
            "Requirement already satisfied: tensorboard~=2.4 in /usr/local/lib/python3.7/dist-packages (from tensorflow) (2.4.1)\n",
            "Requirement already satisfied: flatbuffers~=1.12.0 in /usr/local/lib/python3.7/dist-packages (from tensorflow) (1.12)\n",
            "Requirement already satisfied: absl-py~=0.10 in /usr/local/lib/python3.7/dist-packages (from tensorflow) (0.12.0)\n",
            "Requirement already satisfied: keras-preprocessing~=1.1.2 in /usr/local/lib/python3.7/dist-packages (from tensorflow) (1.1.2)\n",
            "Requirement already satisfied: six~=1.15.0 in /usr/local/lib/python3.7/dist-packages (from tensorflow) (1.15.0)\n",
            "Requirement already satisfied: gast==0.3.3 in /usr/local/lib/python3.7/dist-packages (from tensorflow) (0.3.3)\n",
            "Requirement already satisfied: astunparse~=1.6.3 in /usr/local/lib/python3.7/dist-packages (from tensorflow) (1.6.3)\n",
            "Requirement already satisfied: wheel~=0.35 in /usr/local/lib/python3.7/dist-packages (from tensorflow) (0.36.2)\n",
            "Requirement already satisfied: setuptools in /usr/local/lib/python3.7/dist-packages (from protobuf>=3.9.2->tensorflow) (54.2.0)\n",
            "Requirement already satisfied: markdown>=2.6.8 in /usr/local/lib/python3.7/dist-packages (from tensorboard~=2.4->tensorflow) (3.3.4)\n",
            "Requirement already satisfied: tensorboard-plugin-wit>=1.6.0 in /usr/local/lib/python3.7/dist-packages (from tensorboard~=2.4->tensorflow) (1.8.0)\n",
            "Requirement already satisfied: werkzeug>=0.11.15 in /usr/local/lib/python3.7/dist-packages (from tensorboard~=2.4->tensorflow) (1.0.1)\n",
            "Requirement already satisfied: google-auth<2,>=1.6.3 in /usr/local/lib/python3.7/dist-packages (from tensorboard~=2.4->tensorflow) (1.28.0)\n",
            "Requirement already satisfied: requests<3,>=2.21.0 in /usr/local/lib/python3.7/dist-packages (from tensorboard~=2.4->tensorflow) (2.23.0)\n",
            "Requirement already satisfied: google-auth-oauthlib<0.5,>=0.4.1 in /usr/local/lib/python3.7/dist-packages (from tensorboard~=2.4->tensorflow) (0.4.3)\n",
            "Requirement already satisfied: importlib-metadata; python_version < \"3.8\" in /usr/local/lib/python3.7/dist-packages (from markdown>=2.6.8->tensorboard~=2.4->tensorflow) (3.8.1)\n",
            "Requirement already satisfied: pyasn1-modules>=0.2.1 in /usr/local/lib/python3.7/dist-packages (from google-auth<2,>=1.6.3->tensorboard~=2.4->tensorflow) (0.2.8)\n",
            "Requirement already satisfied: cachetools<5.0,>=2.0.0 in /usr/local/lib/python3.7/dist-packages (from google-auth<2,>=1.6.3->tensorboard~=2.4->tensorflow) (4.2.1)\n",
            "Requirement already satisfied: rsa<5,>=3.1.4; python_version >= \"3.6\" in /usr/local/lib/python3.7/dist-packages (from google-auth<2,>=1.6.3->tensorboard~=2.4->tensorflow) (4.7.2)\n",
            "Requirement already satisfied: idna<3,>=2.5 in /usr/local/lib/python3.7/dist-packages (from requests<3,>=2.21.0->tensorboard~=2.4->tensorflow) (2.10)\n",
            "Requirement already satisfied: chardet<4,>=3.0.2 in /usr/local/lib/python3.7/dist-packages (from requests<3,>=2.21.0->tensorboard~=2.4->tensorflow) (3.0.4)\n",
            "Requirement already satisfied: urllib3!=1.25.0,!=1.25.1,<1.26,>=1.21.1 in /usr/local/lib/python3.7/dist-packages (from requests<3,>=2.21.0->tensorboard~=2.4->tensorflow) (1.24.3)\n",
            "Requirement already satisfied: certifi>=2017.4.17 in /usr/local/lib/python3.7/dist-packages (from requests<3,>=2.21.0->tensorboard~=2.4->tensorflow) (2020.12.5)\n",
            "Requirement already satisfied: requests-oauthlib>=0.7.0 in /usr/local/lib/python3.7/dist-packages (from google-auth-oauthlib<0.5,>=0.4.1->tensorboard~=2.4->tensorflow) (1.3.0)\n",
            "Requirement already satisfied: zipp>=0.5 in /usr/local/lib/python3.7/dist-packages (from importlib-metadata; python_version < \"3.8\"->markdown>=2.6.8->tensorboard~=2.4->tensorflow) (3.4.1)\n",
            "Requirement already satisfied: pyasn1<0.5.0,>=0.4.6 in /usr/local/lib/python3.7/dist-packages (from pyasn1-modules>=0.2.1->google-auth<2,>=1.6.3->tensorboard~=2.4->tensorflow) (0.4.8)\n",
            "Requirement already satisfied: oauthlib>=3.0.0 in /usr/local/lib/python3.7/dist-packages (from requests-oauthlib>=0.7.0->google-auth-oauthlib<0.5,>=0.4.1->tensorboard~=2.4->tensorflow) (3.1.0)\n",
            "Requirement already satisfied: keras in /usr/local/lib/python3.7/dist-packages (2.4.3)\n",
            "Requirement already satisfied: pyyaml in /usr/local/lib/python3.7/dist-packages (from keras) (3.13)\n",
            "Requirement already satisfied: scipy>=0.14 in /usr/local/lib/python3.7/dist-packages (from keras) (1.4.1)\n",
            "Requirement already satisfied: numpy>=1.9.1 in /usr/local/lib/python3.7/dist-packages (from keras) (1.19.5)\n",
            "Requirement already satisfied: h5py in /usr/local/lib/python3.7/dist-packages (from keras) (2.10.0)\n",
            "Requirement already satisfied: six in /usr/local/lib/python3.7/dist-packages (from h5py->keras) (1.15.0)\n",
            "Requirement already satisfied: numpy in /usr/local/lib/python3.7/dist-packages (1.19.5)\n",
            "Requirement already satisfied: pandas in /usr/local/lib/python3.7/dist-packages (1.1.5)\n",
            "Requirement already satisfied: numpy>=1.15.4 in /usr/local/lib/python3.7/dist-packages (from pandas) (1.19.5)\n",
            "Requirement already satisfied: pytz>=2017.2 in /usr/local/lib/python3.7/dist-packages (from pandas) (2018.9)\n",
            "Requirement already satisfied: python-dateutil>=2.7.3 in /usr/local/lib/python3.7/dist-packages (from pandas) (2.8.1)\n",
            "Requirement already satisfied: six>=1.5 in /usr/local/lib/python3.7/dist-packages (from python-dateutil>=2.7.3->pandas) (1.15.0)\n",
            "Requirement already satisfied: matplotlib in /usr/local/lib/python3.7/dist-packages (3.2.2)\n",
            "Requirement already satisfied: python-dateutil>=2.1 in /usr/local/lib/python3.7/dist-packages (from matplotlib) (2.8.1)\n",
            "Requirement already satisfied: pyparsing!=2.0.4,!=2.1.2,!=2.1.6,>=2.0.1 in /usr/local/lib/python3.7/dist-packages (from matplotlib) (2.4.7)\n",
            "Requirement already satisfied: kiwisolver>=1.0.1 in /usr/local/lib/python3.7/dist-packages (from matplotlib) (1.3.1)\n",
            "Requirement already satisfied: cycler>=0.10 in /usr/local/lib/python3.7/dist-packages (from matplotlib) (0.10.0)\n",
            "Requirement already satisfied: numpy>=1.11 in /usr/local/lib/python3.7/dist-packages (from matplotlib) (1.19.5)\n",
            "Requirement already satisfied: six>=1.5 in /usr/local/lib/python3.7/dist-packages (from python-dateutil>=2.1->matplotlib) (1.15.0)\n",
            "Requirement already satisfied: scikit-learn in /usr/local/lib/python3.7/dist-packages (0.22.2.post1)\n",
            "Requirement already satisfied: scipy>=0.17.0 in /usr/local/lib/python3.7/dist-packages (from scikit-learn) (1.4.1)\n",
            "Requirement already satisfied: numpy>=1.11.0 in /usr/local/lib/python3.7/dist-packages (from scikit-learn) (1.19.5)\n",
            "Requirement already satisfied: joblib>=0.11 in /usr/local/lib/python3.7/dist-packages (from scikit-learn) (1.0.1)\n"
          ],
          "name": "stdout"
        }
      ]
    },
    {
      "cell_type": "code",
      "metadata": {
        "id": "H32mqu-S1g4E"
      },
      "source": [
        "import tensorflow as tf\n",
        "import numpy as np\n",
        "import pandas as pd\n",
        "import matplotlib.pyplot as plt\n",
        "from sklearn.preprocessing import StandardScaler\n",
        "import io\n",
        "%matplotlib inline"
      ],
      "execution_count": 2,
      "outputs": []
    },
    {
      "cell_type": "code",
      "metadata": {
        "colab": {
          "resources": {
            "http://localhost:8080/nbextensions/google.colab/files.js": {
              "data": "Ly8gQ29weXJpZ2h0IDIwMTcgR29vZ2xlIExMQwovLwovLyBMaWNlbnNlZCB1bmRlciB0aGUgQXBhY2hlIExpY2Vuc2UsIFZlcnNpb24gMi4wICh0aGUgIkxpY2Vuc2UiKTsKLy8geW91IG1heSBub3QgdXNlIHRoaXMgZmlsZSBleGNlcHQgaW4gY29tcGxpYW5jZSB3aXRoIHRoZSBMaWNlbnNlLgovLyBZb3UgbWF5IG9idGFpbiBhIGNvcHkgb2YgdGhlIExpY2Vuc2UgYXQKLy8KLy8gICAgICBodHRwOi8vd3d3LmFwYWNoZS5vcmcvbGljZW5zZXMvTElDRU5TRS0yLjAKLy8KLy8gVW5sZXNzIHJlcXVpcmVkIGJ5IGFwcGxpY2FibGUgbGF3IG9yIGFncmVlZCB0byBpbiB3cml0aW5nLCBzb2Z0d2FyZQovLyBkaXN0cmlidXRlZCB1bmRlciB0aGUgTGljZW5zZSBpcyBkaXN0cmlidXRlZCBvbiBhbiAiQVMgSVMiIEJBU0lTLAovLyBXSVRIT1VUIFdBUlJBTlRJRVMgT1IgQ09ORElUSU9OUyBPRiBBTlkgS0lORCwgZWl0aGVyIGV4cHJlc3Mgb3IgaW1wbGllZC4KLy8gU2VlIHRoZSBMaWNlbnNlIGZvciB0aGUgc3BlY2lmaWMgbGFuZ3VhZ2UgZ292ZXJuaW5nIHBlcm1pc3Npb25zIGFuZAovLyBsaW1pdGF0aW9ucyB1bmRlciB0aGUgTGljZW5zZS4KCi8qKgogKiBAZmlsZW92ZXJ2aWV3IEhlbHBlcnMgZm9yIGdvb2dsZS5jb2xhYiBQeXRob24gbW9kdWxlLgogKi8KKGZ1bmN0aW9uKHNjb3BlKSB7CmZ1bmN0aW9uIHNwYW4odGV4dCwgc3R5bGVBdHRyaWJ1dGVzID0ge30pIHsKICBjb25zdCBlbGVtZW50ID0gZG9jdW1lbnQuY3JlYXRlRWxlbWVudCgnc3BhbicpOwogIGVsZW1lbnQudGV4dENvbnRlbnQgPSB0ZXh0OwogIGZvciAoY29uc3Qga2V5IG9mIE9iamVjdC5rZXlzKHN0eWxlQXR0cmlidXRlcykpIHsKICAgIGVsZW1lbnQuc3R5bGVba2V5XSA9IHN0eWxlQXR0cmlidXRlc1trZXldOwogIH0KICByZXR1cm4gZWxlbWVudDsKfQoKLy8gTWF4IG51bWJlciBvZiBieXRlcyB3aGljaCB3aWxsIGJlIHVwbG9hZGVkIGF0IGEgdGltZS4KY29uc3QgTUFYX1BBWUxPQURfU0laRSA9IDEwMCAqIDEwMjQ7CgpmdW5jdGlvbiBfdXBsb2FkRmlsZXMoaW5wdXRJZCwgb3V0cHV0SWQpIHsKICBjb25zdCBzdGVwcyA9IHVwbG9hZEZpbGVzU3RlcChpbnB1dElkLCBvdXRwdXRJZCk7CiAgY29uc3Qgb3V0cHV0RWxlbWVudCA9IGRvY3VtZW50LmdldEVsZW1lbnRCeUlkKG91dHB1dElkKTsKICAvLyBDYWNoZSBzdGVwcyBvbiB0aGUgb3V0cHV0RWxlbWVudCB0byBtYWtlIGl0IGF2YWlsYWJsZSBmb3IgdGhlIG5leHQgY2FsbAogIC8vIHRvIHVwbG9hZEZpbGVzQ29udGludWUgZnJvbSBQeXRob24uCiAgb3V0cHV0RWxlbWVudC5zdGVwcyA9IHN0ZXBzOwoKICByZXR1cm4gX3VwbG9hZEZpbGVzQ29udGludWUob3V0cHV0SWQpOwp9CgovLyBUaGlzIGlzIHJvdWdobHkgYW4gYXN5bmMgZ2VuZXJhdG9yIChub3Qgc3VwcG9ydGVkIGluIHRoZSBicm93c2VyIHlldCksCi8vIHdoZXJlIHRoZXJlIGFyZSBtdWx0aXBsZSBhc3luY2hyb25vdXMgc3RlcHMgYW5kIHRoZSBQeXRob24gc2lkZSBpcyBnb2luZwovLyB0byBwb2xsIGZvciBjb21wbGV0aW9uIG9mIGVhY2ggc3RlcC4KLy8gVGhpcyB1c2VzIGEgUHJvbWlzZSB0byBibG9jayB0aGUgcHl0aG9uIHNpZGUgb24gY29tcGxldGlvbiBvZiBlYWNoIHN0ZXAsCi8vIHRoZW4gcGFzc2VzIHRoZSByZXN1bHQgb2YgdGhlIHByZXZpb3VzIHN0ZXAgYXMgdGhlIGlucHV0IHRvIHRoZSBuZXh0IHN0ZXAuCmZ1bmN0aW9uIF91cGxvYWRGaWxlc0NvbnRpbnVlKG91dHB1dElkKSB7CiAgY29uc3Qgb3V0cHV0RWxlbWVudCA9IGRvY3VtZW50LmdldEVsZW1lbnRCeUlkKG91dHB1dElkKTsKICBjb25zdCBzdGVwcyA9IG91dHB1dEVsZW1lbnQuc3RlcHM7CgogIGNvbnN0IG5leHQgPSBzdGVwcy5uZXh0KG91dHB1dEVsZW1lbnQubGFzdFByb21pc2VWYWx1ZSk7CiAgcmV0dXJuIFByb21pc2UucmVzb2x2ZShuZXh0LnZhbHVlLnByb21pc2UpLnRoZW4oKHZhbHVlKSA9PiB7CiAgICAvLyBDYWNoZSB0aGUgbGFzdCBwcm9taXNlIHZhbHVlIHRvIG1ha2UgaXQgYXZhaWxhYmxlIHRvIHRoZSBuZXh0CiAgICAvLyBzdGVwIG9mIHRoZSBnZW5lcmF0b3IuCiAgICBvdXRwdXRFbGVtZW50Lmxhc3RQcm9taXNlVmFsdWUgPSB2YWx1ZTsKICAgIHJldHVybiBuZXh0LnZhbHVlLnJlc3BvbnNlOwogIH0pOwp9CgovKioKICogR2VuZXJhdG9yIGZ1bmN0aW9uIHdoaWNoIGlzIGNhbGxlZCBiZXR3ZWVuIGVhY2ggYXN5bmMgc3RlcCBvZiB0aGUgdXBsb2FkCiAqIHByb2Nlc3MuCiAqIEBwYXJhbSB7c3RyaW5nfSBpbnB1dElkIEVsZW1lbnQgSUQgb2YgdGhlIGlucHV0IGZpbGUgcGlja2VyIGVsZW1lbnQuCiAqIEBwYXJhbSB7c3RyaW5nfSBvdXRwdXRJZCBFbGVtZW50IElEIG9mIHRoZSBvdXRwdXQgZGlzcGxheS4KICogQHJldHVybiB7IUl0ZXJhYmxlPCFPYmplY3Q+fSBJdGVyYWJsZSBvZiBuZXh0IHN0ZXBzLgogKi8KZnVuY3Rpb24qIHVwbG9hZEZpbGVzU3RlcChpbnB1dElkLCBvdXRwdXRJZCkgewogIGNvbnN0IGlucHV0RWxlbWVudCA9IGRvY3VtZW50LmdldEVsZW1lbnRCeUlkKGlucHV0SWQpOwogIGlucHV0RWxlbWVudC5kaXNhYmxlZCA9IGZhbHNlOwoKICBjb25zdCBvdXRwdXRFbGVtZW50ID0gZG9jdW1lbnQuZ2V0RWxlbWVudEJ5SWQob3V0cHV0SWQpOwogIG91dHB1dEVsZW1lbnQuaW5uZXJIVE1MID0gJyc7CgogIGNvbnN0IHBpY2tlZFByb21pc2UgPSBuZXcgUHJvbWlzZSgocmVzb2x2ZSkgPT4gewogICAgaW5wdXRFbGVtZW50LmFkZEV2ZW50TGlzdGVuZXIoJ2NoYW5nZScsIChlKSA9PiB7CiAgICAgIHJlc29sdmUoZS50YXJnZXQuZmlsZXMpOwogICAgfSk7CiAgfSk7CgogIGNvbnN0IGNhbmNlbCA9IGRvY3VtZW50LmNyZWF0ZUVsZW1lbnQoJ2J1dHRvbicpOwogIGlucHV0RWxlbWVudC5wYXJlbnRFbGVtZW50LmFwcGVuZENoaWxkKGNhbmNlbCk7CiAgY2FuY2VsLnRleHRDb250ZW50ID0gJ0NhbmNlbCB1cGxvYWQnOwogIGNvbnN0IGNhbmNlbFByb21pc2UgPSBuZXcgUHJvbWlzZSgocmVzb2x2ZSkgPT4gewogICAgY2FuY2VsLm9uY2xpY2sgPSAoKSA9PiB7CiAgICAgIHJlc29sdmUobnVsbCk7CiAgICB9OwogIH0pOwoKICAvLyBXYWl0IGZvciB0aGUgdXNlciB0byBwaWNrIHRoZSBmaWxlcy4KICBjb25zdCBmaWxlcyA9IHlpZWxkIHsKICAgIHByb21pc2U6IFByb21pc2UucmFjZShbcGlja2VkUHJvbWlzZSwgY2FuY2VsUHJvbWlzZV0pLAogICAgcmVzcG9uc2U6IHsKICAgICAgYWN0aW9uOiAnc3RhcnRpbmcnLAogICAgfQogIH07CgogIGNhbmNlbC5yZW1vdmUoKTsKCiAgLy8gRGlzYWJsZSB0aGUgaW5wdXQgZWxlbWVudCBzaW5jZSBmdXJ0aGVyIHBpY2tzIGFyZSBub3QgYWxsb3dlZC4KICBpbnB1dEVsZW1lbnQuZGlzYWJsZWQgPSB0cnVlOwoKICBpZiAoIWZpbGVzKSB7CiAgICByZXR1cm4gewogICAgICByZXNwb25zZTogewogICAgICAgIGFjdGlvbjogJ2NvbXBsZXRlJywKICAgICAgfQogICAgfTsKICB9CgogIGZvciAoY29uc3QgZmlsZSBvZiBmaWxlcykgewogICAgY29uc3QgbGkgPSBkb2N1bWVudC5jcmVhdGVFbGVtZW50KCdsaScpOwogICAgbGkuYXBwZW5kKHNwYW4oZmlsZS5uYW1lLCB7Zm9udFdlaWdodDogJ2JvbGQnfSkpOwogICAgbGkuYXBwZW5kKHNwYW4oCiAgICAgICAgYCgke2ZpbGUudHlwZSB8fCAnbi9hJ30pIC0gJHtmaWxlLnNpemV9IGJ5dGVzLCBgICsKICAgICAgICBgbGFzdCBtb2RpZmllZDogJHsKICAgICAgICAgICAgZmlsZS5sYXN0TW9kaWZpZWREYXRlID8gZmlsZS5sYXN0TW9kaWZpZWREYXRlLnRvTG9jYWxlRGF0ZVN0cmluZygpIDoKICAgICAgICAgICAgICAgICAgICAgICAgICAgICAgICAgICAgJ24vYSd9IC0gYCkpOwogICAgY29uc3QgcGVyY2VudCA9IHNwYW4oJzAlIGRvbmUnKTsKICAgIGxpLmFwcGVuZENoaWxkKHBlcmNlbnQpOwoKICAgIG91dHB1dEVsZW1lbnQuYXBwZW5kQ2hpbGQobGkpOwoKICAgIGNvbnN0IGZpbGVEYXRhUHJvbWlzZSA9IG5ldyBQcm9taXNlKChyZXNvbHZlKSA9PiB7CiAgICAgIGNvbnN0IHJlYWRlciA9IG5ldyBGaWxlUmVhZGVyKCk7CiAgICAgIHJlYWRlci5vbmxvYWQgPSAoZSkgPT4gewogICAgICAgIHJlc29sdmUoZS50YXJnZXQucmVzdWx0KTsKICAgICAgfTsKICAgICAgcmVhZGVyLnJlYWRBc0FycmF5QnVmZmVyKGZpbGUpOwogICAgfSk7CiAgICAvLyBXYWl0IGZvciB0aGUgZGF0YSB0byBiZSByZWFkeS4KICAgIGxldCBmaWxlRGF0YSA9IHlpZWxkIHsKICAgICAgcHJvbWlzZTogZmlsZURhdGFQcm9taXNlLAogICAgICByZXNwb25zZTogewogICAgICAgIGFjdGlvbjogJ2NvbnRpbnVlJywKICAgICAgfQogICAgfTsKCiAgICAvLyBVc2UgYSBjaHVua2VkIHNlbmRpbmcgdG8gYXZvaWQgbWVzc2FnZSBzaXplIGxpbWl0cy4gU2VlIGIvNjIxMTU2NjAuCiAgICBsZXQgcG9zaXRpb24gPSAwOwogICAgd2hpbGUgKHBvc2l0aW9uIDwgZmlsZURhdGEuYnl0ZUxlbmd0aCkgewogICAgICBjb25zdCBsZW5ndGggPSBNYXRoLm1pbihmaWxlRGF0YS5ieXRlTGVuZ3RoIC0gcG9zaXRpb24sIE1BWF9QQVlMT0FEX1NJWkUpOwogICAgICBjb25zdCBjaHVuayA9IG5ldyBVaW50OEFycmF5KGZpbGVEYXRhLCBwb3NpdGlvbiwgbGVuZ3RoKTsKICAgICAgcG9zaXRpb24gKz0gbGVuZ3RoOwoKICAgICAgY29uc3QgYmFzZTY0ID0gYnRvYShTdHJpbmcuZnJvbUNoYXJDb2RlLmFwcGx5KG51bGwsIGNodW5rKSk7CiAgICAgIHlpZWxkIHsKICAgICAgICByZXNwb25zZTogewogICAgICAgICAgYWN0aW9uOiAnYXBwZW5kJywKICAgICAgICAgIGZpbGU6IGZpbGUubmFtZSwKICAgICAgICAgIGRhdGE6IGJhc2U2NCwKICAgICAgICB9LAogICAgICB9OwogICAgICBwZXJjZW50LnRleHRDb250ZW50ID0KICAgICAgICAgIGAke01hdGgucm91bmQoKHBvc2l0aW9uIC8gZmlsZURhdGEuYnl0ZUxlbmd0aCkgKiAxMDApfSUgZG9uZWA7CiAgICB9CiAgfQoKICAvLyBBbGwgZG9uZS4KICB5aWVsZCB7CiAgICByZXNwb25zZTogewogICAgICBhY3Rpb246ICdjb21wbGV0ZScsCiAgICB9CiAgfTsKfQoKc2NvcGUuZ29vZ2xlID0gc2NvcGUuZ29vZ2xlIHx8IHt9OwpzY29wZS5nb29nbGUuY29sYWIgPSBzY29wZS5nb29nbGUuY29sYWIgfHwge307CnNjb3BlLmdvb2dsZS5jb2xhYi5fZmlsZXMgPSB7CiAgX3VwbG9hZEZpbGVzLAogIF91cGxvYWRGaWxlc0NvbnRpbnVlLAp9Owp9KShzZWxmKTsK",
              "ok": true,
              "headers": [
                [
                  "content-type",
                  "application/javascript"
                ]
              ],
              "status": 200,
              "status_text": ""
            }
          },
          "base_uri": "https://localhost:8080/",
          "height": 72
        },
        "id": "IBn9Eea5SGxR",
        "outputId": "2000234d-7469-4b8e-cd70-e4165a971ef7"
      },
      "source": [
        "from google.colab import files\n",
        "uploaded = files.upload()"
      ],
      "execution_count": 3,
      "outputs": [
        {
          "output_type": "display_data",
          "data": {
            "text/html": [
              "\n",
              "     <input type=\"file\" id=\"files-56eeb083-180a-415d-a663-979047b0041b\" name=\"files[]\" multiple disabled\n",
              "        style=\"border:none\" />\n",
              "     <output id=\"result-56eeb083-180a-415d-a663-979047b0041b\">\n",
              "      Upload widget is only available when the cell has been executed in the\n",
              "      current browser session. Please rerun this cell to enable.\n",
              "      </output>\n",
              "      <script src=\"/nbextensions/google.colab/files.js\"></script> "
            ],
            "text/plain": [
              "<IPython.core.display.HTML object>"
            ]
          },
          "metadata": {
            "tags": []
          }
        },
        {
          "output_type": "stream",
          "text": [
            "Saving btc.csv to btc.csv\n"
          ],
          "name": "stdout"
        }
      ]
    },
    {
      "cell_type": "code",
      "metadata": {
        "colab": {
          "base_uri": "https://localhost:8080/",
          "height": 204
        },
        "id": "eh7133K_SJa8",
        "outputId": "a092b40c-29d4-4aee-a7b6-b00d15e9ed69"
      },
      "source": [
        "btc = pd.read_csv(io.StringIO(uploaded['btc.csv'].decode('utf-8')))\n",
        "btc.head()"
      ],
      "execution_count": 4,
      "outputs": [
        {
          "output_type": "execute_result",
          "data": {
            "text/html": [
              "<div>\n",
              "<style scoped>\n",
              "    .dataframe tbody tr th:only-of-type {\n",
              "        vertical-align: middle;\n",
              "    }\n",
              "\n",
              "    .dataframe tbody tr th {\n",
              "        vertical-align: top;\n",
              "    }\n",
              "\n",
              "    .dataframe thead th {\n",
              "        text-align: right;\n",
              "    }\n",
              "</style>\n",
              "<table border=\"1\" class=\"dataframe\">\n",
              "  <thead>\n",
              "    <tr style=\"text-align: right;\">\n",
              "      <th></th>\n",
              "      <th>Date</th>\n",
              "      <th>Symbol</th>\n",
              "      <th>Open</th>\n",
              "      <th>High</th>\n",
              "      <th>Low</th>\n",
              "      <th>Close</th>\n",
              "      <th>Volume From</th>\n",
              "      <th>Volume To</th>\n",
              "    </tr>\n",
              "  </thead>\n",
              "  <tbody>\n",
              "    <tr>\n",
              "      <th>0</th>\n",
              "      <td>5/26/2018</td>\n",
              "      <td>BTCUSD</td>\n",
              "      <td>7459.11</td>\n",
              "      <td>7640.46</td>\n",
              "      <td>7380.00</td>\n",
              "      <td>7520.00</td>\n",
              "      <td>2722.80</td>\n",
              "      <td>2.042265e+07</td>\n",
              "    </tr>\n",
              "    <tr>\n",
              "      <th>1</th>\n",
              "      <td>5/25/2018</td>\n",
              "      <td>BTCUSD</td>\n",
              "      <td>7584.15</td>\n",
              "      <td>7661.85</td>\n",
              "      <td>7326.94</td>\n",
              "      <td>7459.11</td>\n",
              "      <td>8491.93</td>\n",
              "      <td>6.342069e+07</td>\n",
              "    </tr>\n",
              "    <tr>\n",
              "      <th>2</th>\n",
              "      <td>5/24/2018</td>\n",
              "      <td>BTCUSD</td>\n",
              "      <td>7505.00</td>\n",
              "      <td>7734.99</td>\n",
              "      <td>7269.00</td>\n",
              "      <td>7584.15</td>\n",
              "      <td>11033.72</td>\n",
              "      <td>8.293137e+07</td>\n",
              "    </tr>\n",
              "    <tr>\n",
              "      <th>3</th>\n",
              "      <td>5/23/2018</td>\n",
              "      <td>BTCUSD</td>\n",
              "      <td>7987.70</td>\n",
              "      <td>8030.00</td>\n",
              "      <td>7433.19</td>\n",
              "      <td>7505.00</td>\n",
              "      <td>14905.99</td>\n",
              "      <td>1.148104e+08</td>\n",
              "    </tr>\n",
              "    <tr>\n",
              "      <th>4</th>\n",
              "      <td>5/22/2018</td>\n",
              "      <td>BTCUSD</td>\n",
              "      <td>8393.44</td>\n",
              "      <td>8400.00</td>\n",
              "      <td>7950.00</td>\n",
              "      <td>7987.70</td>\n",
              "      <td>6589.43</td>\n",
              "      <td>5.389753e+07</td>\n",
              "    </tr>\n",
              "  </tbody>\n",
              "</table>\n",
              "</div>"
            ],
            "text/plain": [
              "        Date  Symbol     Open  ...    Close  Volume From     Volume To\n",
              "0  5/26/2018  BTCUSD  7459.11  ...  7520.00      2722.80  2.042265e+07\n",
              "1  5/25/2018  BTCUSD  7584.15  ...  7459.11      8491.93  6.342069e+07\n",
              "2  5/24/2018  BTCUSD  7505.00  ...  7584.15     11033.72  8.293137e+07\n",
              "3  5/23/2018  BTCUSD  7987.70  ...  7505.00     14905.99  1.148104e+08\n",
              "4  5/22/2018  BTCUSD  8393.44  ...  7987.70      6589.43  5.389753e+07\n",
              "\n",
              "[5 rows x 8 columns]"
            ]
          },
          "metadata": {
            "tags": []
          },
          "execution_count": 4
        }
      ]
    },
    {
      "cell_type": "code",
      "metadata": {
        "id": "pirlX9diSQ5b"
      },
      "source": [
        "# these columns will not be useful for our model\n",
        "# we will work only with the opening and closing price of bitcoin\n",
        "useful_btc_data = btc.drop(labels = ['Date', 'Symbol', 'Volume From', 'Volume To', 'High', 'Low'], axis = 1)"
      ],
      "execution_count": 5,
      "outputs": []
    },
    {
      "cell_type": "code",
      "metadata": {
        "colab": {
          "base_uri": "https://localhost:8080/",
          "height": 204
        },
        "id": "FK6h3m1lXFUv",
        "outputId": "e5f7270b-dca0-4733-b4ff-bc6d44229637"
      },
      "source": [
        "useful_btc_data.head()"
      ],
      "execution_count": 6,
      "outputs": [
        {
          "output_type": "execute_result",
          "data": {
            "text/html": [
              "<div>\n",
              "<style scoped>\n",
              "    .dataframe tbody tr th:only-of-type {\n",
              "        vertical-align: middle;\n",
              "    }\n",
              "\n",
              "    .dataframe tbody tr th {\n",
              "        vertical-align: top;\n",
              "    }\n",
              "\n",
              "    .dataframe thead th {\n",
              "        text-align: right;\n",
              "    }\n",
              "</style>\n",
              "<table border=\"1\" class=\"dataframe\">\n",
              "  <thead>\n",
              "    <tr style=\"text-align: right;\">\n",
              "      <th></th>\n",
              "      <th>Open</th>\n",
              "      <th>Close</th>\n",
              "    </tr>\n",
              "  </thead>\n",
              "  <tbody>\n",
              "    <tr>\n",
              "      <th>0</th>\n",
              "      <td>7459.11</td>\n",
              "      <td>7520.00</td>\n",
              "    </tr>\n",
              "    <tr>\n",
              "      <th>1</th>\n",
              "      <td>7584.15</td>\n",
              "      <td>7459.11</td>\n",
              "    </tr>\n",
              "    <tr>\n",
              "      <th>2</th>\n",
              "      <td>7505.00</td>\n",
              "      <td>7584.15</td>\n",
              "    </tr>\n",
              "    <tr>\n",
              "      <th>3</th>\n",
              "      <td>7987.70</td>\n",
              "      <td>7505.00</td>\n",
              "    </tr>\n",
              "    <tr>\n",
              "      <th>4</th>\n",
              "      <td>8393.44</td>\n",
              "      <td>7987.70</td>\n",
              "    </tr>\n",
              "  </tbody>\n",
              "</table>\n",
              "</div>"
            ],
            "text/plain": [
              "      Open    Close\n",
              "0  7459.11  7520.00\n",
              "1  7584.15  7459.11\n",
              "2  7505.00  7584.15\n",
              "3  7987.70  7505.00\n",
              "4  8393.44  7987.70"
            ]
          },
          "metadata": {
            "tags": []
          },
          "execution_count": 6
        }
      ]
    },
    {
      "cell_type": "code",
      "metadata": {
        "colab": {
          "base_uri": "https://localhost:8080/"
        },
        "id": "nQFRqHsei-aS",
        "outputId": "5119d7ed-7817-41fc-90d1-b1d28c5e829f"
      },
      "source": [
        "#drop rows with NaN data\n",
        "clean_data = useful_btc_data.dropna()\n",
        "clean_data.size"
      ],
      "execution_count": 7,
      "outputs": [
        {
          "output_type": "execute_result",
          "data": {
            "text/plain": [
              "2546"
            ]
          },
          "metadata": {
            "tags": []
          },
          "execution_count": 7
        }
      ]
    },
    {
      "cell_type": "code",
      "metadata": {
        "colab": {
          "base_uri": "https://localhost:8080/"
        },
        "id": "K9ATHx9zXae3",
        "outputId": "295fe8ef-7f75-4a63-b2fc-98eb0210f2f8"
      },
      "source": [
        "data_array = clean_data.to_numpy()\n",
        "data_array"
      ],
      "execution_count": 8,
      "outputs": [
        {
          "output_type": "execute_result",
          "data": {
            "text/plain": [
              "array([[7459.11, 7520.  ],\n",
              "       [7584.15, 7459.11],\n",
              "       [7505.  , 7584.15],\n",
              "       ...,\n",
              "       [ 378.  ,  378.  ],\n",
              "       [ 370.  ,  378.  ],\n",
              "       [ 300.  ,  370.  ]])"
            ]
          },
          "metadata": {
            "tags": []
          },
          "execution_count": 8
        }
      ]
    },
    {
      "cell_type": "code",
      "metadata": {
        "colab": {
          "base_uri": "https://localhost:8080/"
        },
        "id": "8EJtuwUjY0r4",
        "outputId": "120b0dcf-29e0-4c96-acf7-beda78433db4"
      },
      "source": [
        "# we are going to convert this 2-d array to a 1-d array\n",
        "flatten_data = data_array.flatten().reshape(-1, 1)\n",
        "flatten_data"
      ],
      "execution_count": 9,
      "outputs": [
        {
          "output_type": "execute_result",
          "data": {
            "text/plain": [
              "array([[7459.11],\n",
              "       [7520.  ],\n",
              "       [7584.15],\n",
              "       ...,\n",
              "       [ 378.  ],\n",
              "       [ 300.  ],\n",
              "       [ 370.  ]])"
            ]
          },
          "metadata": {
            "tags": []
          },
          "execution_count": 9
        }
      ]
    },
    {
      "cell_type": "code",
      "metadata": {
        "colab": {
          "base_uri": "https://localhost:8080/"
        },
        "id": "w9419VQ_02zU",
        "outputId": "e5a2a5ed-e986-4242-da8e-588367311930"
      },
      "source": [
        "scaler = StandardScaler()\n",
        "scaled_data = scaler.fit_transform(flatten_data)\n",
        "scaled_data"
      ],
      "execution_count": 10,
      "outputs": [
        {
          "output_type": "execute_result",
          "data": {
            "text/plain": [
              "array([[ 1.30947341],\n",
              "       [ 1.32555627],\n",
              "       [ 1.34250021],\n",
              "       ...,\n",
              "       [-0.56085933],\n",
              "       [-0.58146147],\n",
              "       [-0.56297237]])"
            ]
          },
          "metadata": {
            "tags": []
          },
          "execution_count": 10
        }
      ]
    },
    {
      "cell_type": "code",
      "metadata": {
        "id": "h4-naYRYZBQ9"
      },
      "source": [
        "# to predict the closing price of btc in a given day, we are going to use historical\n",
        "# data (openning and closing price of btc from the previous days) as well as the openning price \n",
        "# of btc of the given day\n",
        "\n",
        "class WindowData():\n",
        "  def __init__(self, raw_data, window_size, train_frac = 0.8, test_frac = 0.2):\n",
        "    self.raw_data = raw_data\n",
        "    self.window_size = window_size\n",
        "    #we are only predicting closing prices\n",
        "    length = raw_data.size // 2\n",
        "    self.test_size = int(length * test_frac)\n",
        "    self.train_size = length - self.test_size\n",
        "    assert self.train_size + self.test_size == length\n",
        "\n",
        "  def initialize(self):\n",
        "    input = self.raw_data\n",
        "    window_size = self.window_size\n",
        "    data, labels = [], []\n",
        "    for i in range(0, input.size - window_size, 2):\n",
        "      cur_window = input[i:i+window_size]\n",
        "      # append firs values to X_data\n",
        "      data.append(cur_window[:-1].reshape(-1, 1))\n",
        "      # last value of the range is what we want to predict (closing value for the last day)\n",
        "      labels.append(cur_window[-1:].reshape(-1, 1))\n",
        "\n",
        "    self.data = np.array(data)\n",
        "    self.labels = np.array(labels)\n",
        "\n",
        "  @property\n",
        "  def X_train(self):\n",
        "    return self.data[0:self.train_size]\n",
        "\n",
        "  @property\n",
        "  def y_train(self):\n",
        "    return self.labels[0:self.train_size]\n",
        "\n",
        "  @property\n",
        "  def X_test(self):\n",
        "    return self.data[-self.test_size:]\n",
        "  \n",
        "  @property\n",
        "  def y_test(self):\n",
        "    return self.labels[-self.test_size:]   \n",
        "\n",
        "  @property\n",
        "  def X(self):\n",
        "    return self.data\n",
        "\n",
        "  @property\n",
        "  def y(self):\n",
        "    return self.labels"
      ],
      "execution_count": 176,
      "outputs": []
    },
    {
      "cell_type": "code",
      "metadata": {
        "id": "nRDq8jHcgUCR"
      },
      "source": [
        "window_size = 10\n",
        "windowed_data = WindowData(scaled_data, window_size)\n",
        "windowed_data.initialize()"
      ],
      "execution_count": 177,
      "outputs": []
    },
    {
      "cell_type": "code",
      "metadata": {
        "id": "-co4j93SjsA0"
      },
      "source": [
        "def build_model(optimizer, lstm_activation, lstm_kernel_init, lstm_recur_init):\n",
        "  #now we have our data windowed, we have to create our model\n",
        "  lstm_model = tf.keras.models.Sequential([\n",
        "      tf.keras.layers.LSTM(units = 1,\n",
        "                           return_sequences=False,\n",
        "                           kernel_initializer = lstm_kernel_init,\n",
        "                           recurrent_initializer = lstm_recur_init,\n",
        "                           ),\n",
        "      tf.keras.layers.Dense(units=1)\n",
        "  ])\n",
        "\n",
        "  lstm_model.compile(loss=tf.losses.MeanSquaredError(),\n",
        "                optimizer=optimizer,\n",
        "                metrics=[tf.metrics.MeanAbsoluteError()])\n",
        "\n",
        "  return lstm_model"
      ],
      "execution_count": 178,
      "outputs": []
    },
    {
      "cell_type": "code",
      "metadata": {
        "id": "h6hFpdKP6SGB"
      },
      "source": [
        "def fit_model(model, X_train, y_train, validation_split, max_epochs, patience=10):\n",
        "  # this will stop the training if we do not decrease the loss within 'patience' epochs\n",
        "  early_stopping = tf.keras.callbacks.EarlyStopping(monitor='val_loss',\n",
        "                                                  patience=patience,\n",
        "                                                  mode='min')\n",
        "  \n",
        "  history = model.fit(X_train, y_train, epochs=max_epochs,\n",
        "                  validation_split=validation_split,\n",
        "                  callbacks=[early_stopping])\n",
        "  \n",
        "  return history"
      ],
      "execution_count": 179,
      "outputs": []
    },
    {
      "cell_type": "code",
      "metadata": {
        "id": "04oaEDzBw9kA"
      },
      "source": [
        "X_train = windowed_data.X_train\n",
        "y_train = windowed_data.y_train"
      ],
      "execution_count": 180,
      "outputs": []
    },
    {
      "cell_type": "markdown",
      "metadata": {
        "id": "WIYyN2iT9GrE"
      },
      "source": [
        "We define the following parameters to execute the grid search:"
      ]
    },
    {
      "cell_type": "code",
      "metadata": {
        "id": "j2hFn3fuqEF0"
      },
      "source": [
        "optimizer_params = [tf.optimizers.Adam()]\n",
        "activation_params = [\"tanh\"]\n",
        "kernel_initializer_params = [\"glorot_uniform\"]\n",
        "recurrent_initializer_params = [\"orthogonal\"]"
      ],
      "execution_count": 181,
      "outputs": []
    },
    {
      "cell_type": "markdown",
      "metadata": {
        "id": "FHaDFAvs9NwX"
      },
      "source": [
        "Here, we iterate over all possible parameters configurations and select the best model. We save this model so we can reload it later."
      ]
    },
    {
      "cell_type": "code",
      "metadata": {
        "id": "YRaHwnSWxJIO"
      },
      "source": [
        "def grid_search(opt_params, act_params, ker_params, rec_params,\n",
        "                validation_frac = 0.15, max_epochs = 1000,\n",
        "                model_out_path = \"best_model\"):\n",
        "  best_loss = None\n",
        "  for opt in opt_params:\n",
        "    for act in act_params:\n",
        "      for ker in ker_params:\n",
        "        for rec in rec_params:\n",
        "          model = build_model(opt, act, ker, rec)\n",
        "          history = fit_model(model, X_train, y_train, validation_frac, max_epochs, patience = 15)\n",
        "          final_loss = history.history[\"loss\"][-1]\n",
        "          if best_loss == None or final_loss < best_loss:\n",
        "            best_loss = final_loss\n",
        "            model.save(model_out_path, overwrite = True)"
      ],
      "execution_count": 182,
      "outputs": []
    },
    {
      "cell_type": "code",
      "metadata": {
        "colab": {
          "base_uri": "https://localhost:8080/"
        },
        "id": "fv4r78HdyT6b",
        "outputId": "e6260220-488e-4bd1-e856-1008aae4f44b"
      },
      "source": [
        "grid_search(optimizer_params, activation_params,\n",
        "            kernel_initializer_params, recurrent_initializer_params)"
      ],
      "execution_count": 183,
      "outputs": [
        {
          "output_type": "stream",
          "text": [
            "Epoch 1/1000\n",
            "28/28 [==============================] - 3s 25ms/step - loss: 1.2288 - mean_absolute_error: 0.7709 - val_loss: 0.3426 - val_mean_absolute_error: 0.5849\n",
            "Epoch 2/1000\n",
            "28/28 [==============================] - 0s 7ms/step - loss: 1.0993 - mean_absolute_error: 0.7508 - val_loss: 0.3603 - val_mean_absolute_error: 0.5999\n",
            "Epoch 3/1000\n",
            "28/28 [==============================] - 0s 6ms/step - loss: 1.0406 - mean_absolute_error: 0.7424 - val_loss: 0.3694 - val_mean_absolute_error: 0.6075\n",
            "Epoch 4/1000\n",
            "28/28 [==============================] - 0s 6ms/step - loss: 0.9683 - mean_absolute_error: 0.7196 - val_loss: 0.3781 - val_mean_absolute_error: 0.6146\n",
            "Epoch 5/1000\n",
            "28/28 [==============================] - 0s 6ms/step - loss: 1.0664 - mean_absolute_error: 0.7559 - val_loss: 0.3844 - val_mean_absolute_error: 0.6196\n",
            "Epoch 6/1000\n",
            "28/28 [==============================] - 0s 6ms/step - loss: 0.9820 - mean_absolute_error: 0.7305 - val_loss: 0.3824 - val_mean_absolute_error: 0.6180\n",
            "Epoch 7/1000\n",
            "28/28 [==============================] - 0s 6ms/step - loss: 1.0114 - mean_absolute_error: 0.7442 - val_loss: 0.3839 - val_mean_absolute_error: 0.6192\n",
            "Epoch 8/1000\n",
            "28/28 [==============================] - 0s 6ms/step - loss: 0.9379 - mean_absolute_error: 0.7078 - val_loss: 0.3794 - val_mean_absolute_error: 0.6156\n",
            "Epoch 9/1000\n",
            "28/28 [==============================] - 0s 6ms/step - loss: 0.8383 - mean_absolute_error: 0.6795 - val_loss: 0.3752 - val_mean_absolute_error: 0.6122\n",
            "Epoch 10/1000\n",
            "28/28 [==============================] - 0s 6ms/step - loss: 0.8252 - mean_absolute_error: 0.6689 - val_loss: 0.3669 - val_mean_absolute_error: 0.6053\n",
            "Epoch 11/1000\n",
            "28/28 [==============================] - 0s 6ms/step - loss: 0.8405 - mean_absolute_error: 0.6531 - val_loss: 0.3591 - val_mean_absolute_error: 0.5989\n",
            "Epoch 12/1000\n",
            "28/28 [==============================] - 0s 7ms/step - loss: 0.7643 - mean_absolute_error: 0.6279 - val_loss: 0.3489 - val_mean_absolute_error: 0.5903\n",
            "Epoch 13/1000\n",
            "28/28 [==============================] - 0s 6ms/step - loss: 0.7954 - mean_absolute_error: 0.6288 - val_loss: 0.3407 - val_mean_absolute_error: 0.5833\n",
            "Epoch 14/1000\n",
            "28/28 [==============================] - 0s 6ms/step - loss: 0.7409 - mean_absolute_error: 0.6159 - val_loss: 0.3351 - val_mean_absolute_error: 0.5785\n",
            "Epoch 15/1000\n",
            "28/28 [==============================] - 0s 6ms/step - loss: 0.6666 - mean_absolute_error: 0.5881 - val_loss: 0.3226 - val_mean_absolute_error: 0.5675\n",
            "Epoch 16/1000\n",
            "28/28 [==============================] - 0s 6ms/step - loss: 0.6426 - mean_absolute_error: 0.5645 - val_loss: 0.3096 - val_mean_absolute_error: 0.5559\n",
            "Epoch 17/1000\n",
            "28/28 [==============================] - 0s 6ms/step - loss: 0.6740 - mean_absolute_error: 0.5819 - val_loss: 0.2991 - val_mean_absolute_error: 0.5464\n",
            "Epoch 18/1000\n",
            "28/28 [==============================] - 0s 6ms/step - loss: 0.6543 - mean_absolute_error: 0.5703 - val_loss: 0.2857 - val_mean_absolute_error: 0.5340\n",
            "Epoch 19/1000\n",
            "28/28 [==============================] - 0s 6ms/step - loss: 0.6137 - mean_absolute_error: 0.5438 - val_loss: 0.2746 - val_mean_absolute_error: 0.5235\n",
            "Epoch 20/1000\n",
            "28/28 [==============================] - 0s 6ms/step - loss: 0.5929 - mean_absolute_error: 0.5370 - val_loss: 0.2640 - val_mean_absolute_error: 0.5132\n",
            "Epoch 21/1000\n",
            "28/28 [==============================] - 0s 6ms/step - loss: 0.5710 - mean_absolute_error: 0.5255 - val_loss: 0.2561 - val_mean_absolute_error: 0.5056\n",
            "Epoch 22/1000\n",
            "28/28 [==============================] - 0s 6ms/step - loss: 0.5691 - mean_absolute_error: 0.5162 - val_loss: 0.2497 - val_mean_absolute_error: 0.4991\n",
            "Epoch 23/1000\n",
            "28/28 [==============================] - 0s 7ms/step - loss: 0.4547 - mean_absolute_error: 0.4791 - val_loss: 0.2367 - val_mean_absolute_error: 0.4860\n",
            "Epoch 24/1000\n",
            "28/28 [==============================] - 0s 8ms/step - loss: 0.4861 - mean_absolute_error: 0.4834 - val_loss: 0.2254 - val_mean_absolute_error: 0.4741\n",
            "Epoch 25/1000\n",
            "28/28 [==============================] - 0s 7ms/step - loss: 0.4725 - mean_absolute_error: 0.4737 - val_loss: 0.2107 - val_mean_absolute_error: 0.4584\n",
            "Epoch 26/1000\n",
            "28/28 [==============================] - 0s 8ms/step - loss: 0.4435 - mean_absolute_error: 0.4638 - val_loss: 0.1989 - val_mean_absolute_error: 0.4453\n",
            "Epoch 27/1000\n",
            "28/28 [==============================] - 0s 9ms/step - loss: 0.4671 - mean_absolute_error: 0.4602 - val_loss: 0.1890 - val_mean_absolute_error: 0.4341\n",
            "Epoch 28/1000\n",
            "28/28 [==============================] - 0s 7ms/step - loss: 0.4082 - mean_absolute_error: 0.4379 - val_loss: 0.1799 - val_mean_absolute_error: 0.4235\n",
            "Epoch 29/1000\n",
            "28/28 [==============================] - 0s 6ms/step - loss: 0.4595 - mean_absolute_error: 0.4500 - val_loss: 0.1727 - val_mean_absolute_error: 0.4149\n",
            "Epoch 30/1000\n",
            "28/28 [==============================] - 0s 6ms/step - loss: 0.3861 - mean_absolute_error: 0.4162 - val_loss: 0.1598 - val_mean_absolute_error: 0.3991\n",
            "Epoch 31/1000\n",
            "28/28 [==============================] - 0s 6ms/step - loss: 0.4147 - mean_absolute_error: 0.4286 - val_loss: 0.1555 - val_mean_absolute_error: 0.3936\n",
            "Epoch 32/1000\n",
            "28/28 [==============================] - 0s 6ms/step - loss: 0.3677 - mean_absolute_error: 0.4001 - val_loss: 0.1453 - val_mean_absolute_error: 0.3804\n",
            "Epoch 33/1000\n",
            "28/28 [==============================] - 0s 6ms/step - loss: 0.3215 - mean_absolute_error: 0.3739 - val_loss: 0.1366 - val_mean_absolute_error: 0.3689\n",
            "Epoch 34/1000\n",
            "28/28 [==============================] - 0s 6ms/step - loss: 0.3565 - mean_absolute_error: 0.3841 - val_loss: 0.1308 - val_mean_absolute_error: 0.3608\n",
            "Epoch 35/1000\n",
            "28/28 [==============================] - 0s 6ms/step - loss: 0.3361 - mean_absolute_error: 0.3707 - val_loss: 0.1246 - val_mean_absolute_error: 0.3522\n",
            "Epoch 36/1000\n",
            "28/28 [==============================] - 0s 6ms/step - loss: 0.3641 - mean_absolute_error: 0.3794 - val_loss: 0.1201 - val_mean_absolute_error: 0.3457\n",
            "Epoch 37/1000\n",
            "28/28 [==============================] - 0s 6ms/step - loss: 0.3163 - mean_absolute_error: 0.3551 - val_loss: 0.1128 - val_mean_absolute_error: 0.3350\n",
            "Epoch 38/1000\n",
            "28/28 [==============================] - 0s 7ms/step - loss: 0.3212 - mean_absolute_error: 0.3533 - val_loss: 0.1085 - val_mean_absolute_error: 0.3285\n",
            "Epoch 39/1000\n",
            "28/28 [==============================] - 0s 6ms/step - loss: 0.3039 - mean_absolute_error: 0.3444 - val_loss: 0.1018 - val_mean_absolute_error: 0.3181\n",
            "Epoch 40/1000\n",
            "28/28 [==============================] - 0s 7ms/step - loss: 0.2595 - mean_absolute_error: 0.3142 - val_loss: 0.0971 - val_mean_absolute_error: 0.3107\n",
            "Epoch 41/1000\n",
            "28/28 [==============================] - 0s 7ms/step - loss: 0.3020 - mean_absolute_error: 0.3304 - val_loss: 0.0953 - val_mean_absolute_error: 0.3078\n",
            "Epoch 42/1000\n",
            "28/28 [==============================] - 0s 7ms/step - loss: 0.3010 - mean_absolute_error: 0.3301 - val_loss: 0.0923 - val_mean_absolute_error: 0.3029\n",
            "Epoch 43/1000\n",
            "28/28 [==============================] - 0s 7ms/step - loss: 0.2436 - mean_absolute_error: 0.3061 - val_loss: 0.0859 - val_mean_absolute_error: 0.2921\n",
            "Epoch 44/1000\n",
            "28/28 [==============================] - 0s 6ms/step - loss: 0.2380 - mean_absolute_error: 0.2950 - val_loss: 0.0828 - val_mean_absolute_error: 0.2867\n",
            "Epoch 45/1000\n",
            "28/28 [==============================] - 0s 8ms/step - loss: 0.2557 - mean_absolute_error: 0.2923 - val_loss: 0.0821 - val_mean_absolute_error: 0.2856\n",
            "Epoch 46/1000\n",
            "28/28 [==============================] - 0s 8ms/step - loss: 0.2049 - mean_absolute_error: 0.2768 - val_loss: 0.0791 - val_mean_absolute_error: 0.2802\n",
            "Epoch 47/1000\n",
            "28/28 [==============================] - 0s 8ms/step - loss: 0.2357 - mean_absolute_error: 0.2845 - val_loss: 0.0749 - val_mean_absolute_error: 0.2727\n",
            "Epoch 48/1000\n",
            "28/28 [==============================] - 0s 8ms/step - loss: 0.2303 - mean_absolute_error: 0.2777 - val_loss: 0.0711 - val_mean_absolute_error: 0.2657\n",
            "Epoch 49/1000\n",
            "28/28 [==============================] - 0s 7ms/step - loss: 0.2313 - mean_absolute_error: 0.2750 - val_loss: 0.0670 - val_mean_absolute_error: 0.2579\n",
            "Epoch 50/1000\n",
            "28/28 [==============================] - 0s 7ms/step - loss: 0.2082 - mean_absolute_error: 0.2658 - val_loss: 0.0631 - val_mean_absolute_error: 0.2501\n",
            "Epoch 51/1000\n",
            "28/28 [==============================] - 0s 7ms/step - loss: 0.2567 - mean_absolute_error: 0.2838 - val_loss: 0.0609 - val_mean_absolute_error: 0.2458\n",
            "Epoch 52/1000\n",
            "28/28 [==============================] - 0s 7ms/step - loss: 0.2345 - mean_absolute_error: 0.2595 - val_loss: 0.0575 - val_mean_absolute_error: 0.2389\n",
            "Epoch 53/1000\n",
            "28/28 [==============================] - 0s 7ms/step - loss: 0.1675 - mean_absolute_error: 0.2294 - val_loss: 0.0546 - val_mean_absolute_error: 0.2327\n",
            "Epoch 54/1000\n",
            "28/28 [==============================] - 0s 7ms/step - loss: 0.1987 - mean_absolute_error: 0.2405 - val_loss: 0.0537 - val_mean_absolute_error: 0.2307\n",
            "Epoch 55/1000\n",
            "28/28 [==============================] - 0s 7ms/step - loss: 0.1852 - mean_absolute_error: 0.2312 - val_loss: 0.0499 - val_mean_absolute_error: 0.2224\n",
            "Epoch 56/1000\n",
            "28/28 [==============================] - 0s 6ms/step - loss: 0.1364 - mean_absolute_error: 0.2100 - val_loss: 0.0483 - val_mean_absolute_error: 0.2188\n",
            "Epoch 57/1000\n",
            "28/28 [==============================] - 0s 7ms/step - loss: 0.1621 - mean_absolute_error: 0.2173 - val_loss: 0.0464 - val_mean_absolute_error: 0.2144\n",
            "Epoch 58/1000\n",
            "28/28 [==============================] - 0s 6ms/step - loss: 0.1588 - mean_absolute_error: 0.2118 - val_loss: 0.0443 - val_mean_absolute_error: 0.2094\n",
            "Epoch 59/1000\n",
            "28/28 [==============================] - 0s 6ms/step - loss: 0.1768 - mean_absolute_error: 0.2195 - val_loss: 0.0427 - val_mean_absolute_error: 0.2055\n",
            "Epoch 60/1000\n",
            "28/28 [==============================] - 0s 7ms/step - loss: 0.1630 - mean_absolute_error: 0.2103 - val_loss: 0.0414 - val_mean_absolute_error: 0.2025\n",
            "Epoch 61/1000\n",
            "28/28 [==============================] - 0s 7ms/step - loss: 0.1274 - mean_absolute_error: 0.1932 - val_loss: 0.0404 - val_mean_absolute_error: 0.2000\n",
            "Epoch 62/1000\n",
            "28/28 [==============================] - 0s 6ms/step - loss: 0.1802 - mean_absolute_error: 0.2081 - val_loss: 0.0396 - val_mean_absolute_error: 0.1980\n",
            "Epoch 63/1000\n",
            "28/28 [==============================] - 0s 7ms/step - loss: 0.1594 - mean_absolute_error: 0.2096 - val_loss: 0.0396 - val_mean_absolute_error: 0.1979\n",
            "Epoch 64/1000\n",
            "28/28 [==============================] - 0s 7ms/step - loss: 0.1412 - mean_absolute_error: 0.1944 - val_loss: 0.0374 - val_mean_absolute_error: 0.1923\n",
            "Epoch 65/1000\n",
            "28/28 [==============================] - 0s 8ms/step - loss: 0.1532 - mean_absolute_error: 0.1975 - val_loss: 0.0367 - val_mean_absolute_error: 0.1905\n",
            "Epoch 66/1000\n",
            "28/28 [==============================] - 0s 7ms/step - loss: 0.1556 - mean_absolute_error: 0.2012 - val_loss: 0.0339 - val_mean_absolute_error: 0.1831\n",
            "Epoch 67/1000\n",
            "28/28 [==============================] - 0s 7ms/step - loss: 0.1111 - mean_absolute_error: 0.1750 - val_loss: 0.0316 - val_mean_absolute_error: 0.1766\n",
            "Epoch 68/1000\n",
            "28/28 [==============================] - 0s 7ms/step - loss: 0.1592 - mean_absolute_error: 0.1967 - val_loss: 0.0326 - val_mean_absolute_error: 0.1794\n",
            "Epoch 69/1000\n",
            "28/28 [==============================] - 0s 7ms/step - loss: 0.1109 - mean_absolute_error: 0.1759 - val_loss: 0.0322 - val_mean_absolute_error: 0.1785\n",
            "Epoch 70/1000\n",
            "28/28 [==============================] - 0s 6ms/step - loss: 0.1301 - mean_absolute_error: 0.1854 - val_loss: 0.0304 - val_mean_absolute_error: 0.1732\n",
            "Epoch 71/1000\n",
            "28/28 [==============================] - 0s 7ms/step - loss: 0.0724 - mean_absolute_error: 0.1464 - val_loss: 0.0292 - val_mean_absolute_error: 0.1697\n",
            "Epoch 72/1000\n",
            "28/28 [==============================] - 0s 6ms/step - loss: 0.1196 - mean_absolute_error: 0.1718 - val_loss: 0.0279 - val_mean_absolute_error: 0.1658\n",
            "Epoch 73/1000\n",
            "28/28 [==============================] - 0s 7ms/step - loss: 0.1104 - mean_absolute_error: 0.1685 - val_loss: 0.0282 - val_mean_absolute_error: 0.1667\n",
            "Epoch 74/1000\n",
            "28/28 [==============================] - 0s 7ms/step - loss: 0.1235 - mean_absolute_error: 0.1761 - val_loss: 0.0266 - val_mean_absolute_error: 0.1621\n",
            "Epoch 75/1000\n",
            "28/28 [==============================] - 0s 6ms/step - loss: 0.0887 - mean_absolute_error: 0.1505 - val_loss: 0.0254 - val_mean_absolute_error: 0.1584\n",
            "Epoch 76/1000\n",
            "28/28 [==============================] - 0s 8ms/step - loss: 0.1283 - mean_absolute_error: 0.1712 - val_loss: 0.0245 - val_mean_absolute_error: 0.1555\n",
            "Epoch 77/1000\n",
            "28/28 [==============================] - 0s 8ms/step - loss: 0.0845 - mean_absolute_error: 0.1448 - val_loss: 0.0241 - val_mean_absolute_error: 0.1541\n",
            "Epoch 78/1000\n",
            "28/28 [==============================] - 0s 8ms/step - loss: 0.1140 - mean_absolute_error: 0.1597 - val_loss: 0.0233 - val_mean_absolute_error: 0.1515\n",
            "Epoch 79/1000\n",
            "28/28 [==============================] - 0s 8ms/step - loss: 0.0844 - mean_absolute_error: 0.1448 - val_loss: 0.0230 - val_mean_absolute_error: 0.1507\n",
            "Epoch 80/1000\n",
            "28/28 [==============================] - 0s 7ms/step - loss: 0.0885 - mean_absolute_error: 0.1472 - val_loss: 0.0216 - val_mean_absolute_error: 0.1459\n",
            "Epoch 81/1000\n",
            "28/28 [==============================] - 0s 7ms/step - loss: 0.0869 - mean_absolute_error: 0.1465 - val_loss: 0.0222 - val_mean_absolute_error: 0.1480\n",
            "Epoch 82/1000\n",
            "28/28 [==============================] - 0s 7ms/step - loss: 0.0737 - mean_absolute_error: 0.1405 - val_loss: 0.0215 - val_mean_absolute_error: 0.1454\n",
            "Epoch 83/1000\n",
            "28/28 [==============================] - 0s 7ms/step - loss: 0.0778 - mean_absolute_error: 0.1389 - val_loss: 0.0211 - val_mean_absolute_error: 0.1440\n",
            "Epoch 84/1000\n",
            "28/28 [==============================] - 0s 7ms/step - loss: 0.0667 - mean_absolute_error: 0.1306 - val_loss: 0.0200 - val_mean_absolute_error: 0.1403\n",
            "Epoch 85/1000\n",
            "28/28 [==============================] - 0s 7ms/step - loss: 0.0762 - mean_absolute_error: 0.1287 - val_loss: 0.0195 - val_mean_absolute_error: 0.1387\n",
            "Epoch 86/1000\n",
            "28/28 [==============================] - 0s 6ms/step - loss: 0.0867 - mean_absolute_error: 0.1399 - val_loss: 0.0187 - val_mean_absolute_error: 0.1355\n",
            "Epoch 87/1000\n",
            "28/28 [==============================] - 0s 7ms/step - loss: 0.0832 - mean_absolute_error: 0.1354 - val_loss: 0.0183 - val_mean_absolute_error: 0.1343\n",
            "Epoch 88/1000\n",
            "28/28 [==============================] - 0s 7ms/step - loss: 0.0585 - mean_absolute_error: 0.1224 - val_loss: 0.0174 - val_mean_absolute_error: 0.1310\n",
            "Epoch 89/1000\n",
            "28/28 [==============================] - 0s 7ms/step - loss: 0.0795 - mean_absolute_error: 0.1339 - val_loss: 0.0170 - val_mean_absolute_error: 0.1293\n",
            "Epoch 90/1000\n",
            "28/28 [==============================] - 0s 7ms/step - loss: 0.0597 - mean_absolute_error: 0.1175 - val_loss: 0.0171 - val_mean_absolute_error: 0.1296\n",
            "Epoch 91/1000\n",
            "28/28 [==============================] - 0s 6ms/step - loss: 0.0796 - mean_absolute_error: 0.1316 - val_loss: 0.0161 - val_mean_absolute_error: 0.1258\n",
            "Epoch 92/1000\n",
            "28/28 [==============================] - 0s 7ms/step - loss: 0.0507 - mean_absolute_error: 0.1109 - val_loss: 0.0159 - val_mean_absolute_error: 0.1252\n",
            "Epoch 93/1000\n",
            "28/28 [==============================] - 0s 8ms/step - loss: 0.0585 - mean_absolute_error: 0.1183 - val_loss: 0.0147 - val_mean_absolute_error: 0.1200\n",
            "Epoch 94/1000\n",
            "28/28 [==============================] - 0s 6ms/step - loss: 0.0492 - mean_absolute_error: 0.1087 - val_loss: 0.0151 - val_mean_absolute_error: 0.1217\n",
            "Epoch 95/1000\n",
            "28/28 [==============================] - 0s 6ms/step - loss: 0.0496 - mean_absolute_error: 0.1102 - val_loss: 0.0148 - val_mean_absolute_error: 0.1206\n",
            "Epoch 96/1000\n",
            "28/28 [==============================] - 0s 7ms/step - loss: 0.0597 - mean_absolute_error: 0.1203 - val_loss: 0.0143 - val_mean_absolute_error: 0.1184\n",
            "Epoch 97/1000\n",
            "28/28 [==============================] - 0s 7ms/step - loss: 0.0485 - mean_absolute_error: 0.1050 - val_loss: 0.0139 - val_mean_absolute_error: 0.1169\n",
            "Epoch 98/1000\n",
            "28/28 [==============================] - 0s 7ms/step - loss: 0.0536 - mean_absolute_error: 0.1127 - val_loss: 0.0138 - val_mean_absolute_error: 0.1162\n",
            "Epoch 99/1000\n",
            "28/28 [==============================] - 0s 7ms/step - loss: 0.0605 - mean_absolute_error: 0.1112 - val_loss: 0.0134 - val_mean_absolute_error: 0.1146\n",
            "Epoch 100/1000\n",
            "28/28 [==============================] - 0s 7ms/step - loss: 0.0418 - mean_absolute_error: 0.1004 - val_loss: 0.0128 - val_mean_absolute_error: 0.1123\n",
            "Epoch 101/1000\n",
            "28/28 [==============================] - 0s 7ms/step - loss: 0.0578 - mean_absolute_error: 0.1099 - val_loss: 0.0124 - val_mean_absolute_error: 0.1105\n",
            "Epoch 102/1000\n",
            "28/28 [==============================] - 0s 7ms/step - loss: 0.0641 - mean_absolute_error: 0.1123 - val_loss: 0.0124 - val_mean_absolute_error: 0.1102\n",
            "Epoch 103/1000\n",
            "28/28 [==============================] - 0s 8ms/step - loss: 0.0490 - mean_absolute_error: 0.0992 - val_loss: 0.0120 - val_mean_absolute_error: 0.1084\n",
            "Epoch 104/1000\n",
            "28/28 [==============================] - 0s 7ms/step - loss: 0.0505 - mean_absolute_error: 0.1006 - val_loss: 0.0119 - val_mean_absolute_error: 0.1079\n",
            "Epoch 105/1000\n",
            "28/28 [==============================] - 0s 7ms/step - loss: 0.0391 - mean_absolute_error: 0.0944 - val_loss: 0.0114 - val_mean_absolute_error: 0.1056\n",
            "Epoch 106/1000\n",
            "28/28 [==============================] - 0s 7ms/step - loss: 0.0435 - mean_absolute_error: 0.0994 - val_loss: 0.0107 - val_mean_absolute_error: 0.1023\n",
            "Epoch 107/1000\n",
            "28/28 [==============================] - 0s 7ms/step - loss: 0.0429 - mean_absolute_error: 0.0971 - val_loss: 0.0104 - val_mean_absolute_error: 0.1010\n",
            "Epoch 108/1000\n",
            "28/28 [==============================] - 0s 7ms/step - loss: 0.0401 - mean_absolute_error: 0.0922 - val_loss: 0.0107 - val_mean_absolute_error: 0.1026\n",
            "Epoch 109/1000\n",
            "28/28 [==============================] - 0s 6ms/step - loss: 0.0421 - mean_absolute_error: 0.0947 - val_loss: 0.0109 - val_mean_absolute_error: 0.1034\n",
            "Epoch 110/1000\n",
            "28/28 [==============================] - 0s 8ms/step - loss: 0.0322 - mean_absolute_error: 0.0870 - val_loss: 0.0106 - val_mean_absolute_error: 0.1021\n",
            "Epoch 111/1000\n",
            "28/28 [==============================] - 0s 7ms/step - loss: 0.0399 - mean_absolute_error: 0.0938 - val_loss: 0.0100 - val_mean_absolute_error: 0.0989\n",
            "Epoch 112/1000\n",
            "28/28 [==============================] - 0s 6ms/step - loss: 0.0405 - mean_absolute_error: 0.0932 - val_loss: 0.0097 - val_mean_absolute_error: 0.0973\n",
            "Epoch 113/1000\n",
            "28/28 [==============================] - 0s 7ms/step - loss: 0.0370 - mean_absolute_error: 0.0902 - val_loss: 0.0096 - val_mean_absolute_error: 0.0967\n",
            "Epoch 114/1000\n",
            "28/28 [==============================] - 0s 7ms/step - loss: 0.0450 - mean_absolute_error: 0.0959 - val_loss: 0.0097 - val_mean_absolute_error: 0.0972\n",
            "Epoch 115/1000\n",
            "28/28 [==============================] - 0s 7ms/step - loss: 0.0448 - mean_absolute_error: 0.0946 - val_loss: 0.0093 - val_mean_absolute_error: 0.0952\n",
            "Epoch 116/1000\n",
            "28/28 [==============================] - 0s 7ms/step - loss: 0.0381 - mean_absolute_error: 0.0873 - val_loss: 0.0093 - val_mean_absolute_error: 0.0953\n",
            "Epoch 117/1000\n",
            "28/28 [==============================] - 0s 7ms/step - loss: 0.0350 - mean_absolute_error: 0.0874 - val_loss: 0.0084 - val_mean_absolute_error: 0.0906\n",
            "Epoch 118/1000\n",
            "28/28 [==============================] - 0s 7ms/step - loss: 0.0404 - mean_absolute_error: 0.0869 - val_loss: 0.0084 - val_mean_absolute_error: 0.0907\n",
            "Epoch 119/1000\n",
            "28/28 [==============================] - 0s 7ms/step - loss: 0.0335 - mean_absolute_error: 0.0853 - val_loss: 0.0081 - val_mean_absolute_error: 0.0887\n",
            "Epoch 120/1000\n",
            "28/28 [==============================] - 0s 7ms/step - loss: 0.0301 - mean_absolute_error: 0.0814 - val_loss: 0.0080 - val_mean_absolute_error: 0.0884\n",
            "Epoch 121/1000\n",
            "28/28 [==============================] - 0s 7ms/step - loss: 0.0280 - mean_absolute_error: 0.0802 - val_loss: 0.0078 - val_mean_absolute_error: 0.0875\n",
            "Epoch 122/1000\n",
            "28/28 [==============================] - 0s 7ms/step - loss: 0.0236 - mean_absolute_error: 0.0750 - val_loss: 0.0079 - val_mean_absolute_error: 0.0878\n",
            "Epoch 123/1000\n",
            "28/28 [==============================] - 0s 6ms/step - loss: 0.0195 - mean_absolute_error: 0.0723 - val_loss: 0.0075 - val_mean_absolute_error: 0.0854\n",
            "Epoch 124/1000\n",
            "28/28 [==============================] - 0s 7ms/step - loss: 0.0293 - mean_absolute_error: 0.0815 - val_loss: 0.0080 - val_mean_absolute_error: 0.0886\n",
            "Epoch 125/1000\n",
            "28/28 [==============================] - 0s 7ms/step - loss: 0.0288 - mean_absolute_error: 0.0780 - val_loss: 0.0077 - val_mean_absolute_error: 0.0870\n",
            "Epoch 126/1000\n",
            "28/28 [==============================] - 0s 7ms/step - loss: 0.0242 - mean_absolute_error: 0.0781 - val_loss: 0.0076 - val_mean_absolute_error: 0.0863\n",
            "Epoch 127/1000\n",
            "28/28 [==============================] - 0s 7ms/step - loss: 0.0305 - mean_absolute_error: 0.0808 - val_loss: 0.0074 - val_mean_absolute_error: 0.0847\n",
            "Epoch 128/1000\n",
            "28/28 [==============================] - 0s 7ms/step - loss: 0.0266 - mean_absolute_error: 0.0780 - val_loss: 0.0065 - val_mean_absolute_error: 0.0797\n",
            "Epoch 129/1000\n",
            "28/28 [==============================] - 0s 6ms/step - loss: 0.0280 - mean_absolute_error: 0.0751 - val_loss: 0.0073 - val_mean_absolute_error: 0.0845\n",
            "Epoch 130/1000\n",
            "28/28 [==============================] - 0s 7ms/step - loss: 0.0273 - mean_absolute_error: 0.0782 - val_loss: 0.0066 - val_mean_absolute_error: 0.0802\n",
            "Epoch 131/1000\n",
            "28/28 [==============================] - 0s 7ms/step - loss: 0.0308 - mean_absolute_error: 0.0786 - val_loss: 0.0064 - val_mean_absolute_error: 0.0792\n",
            "Epoch 132/1000\n",
            "28/28 [==============================] - 0s 7ms/step - loss: 0.0372 - mean_absolute_error: 0.0801 - val_loss: 0.0062 - val_mean_absolute_error: 0.0780\n",
            "Epoch 133/1000\n",
            "28/28 [==============================] - 0s 7ms/step - loss: 0.0352 - mean_absolute_error: 0.0808 - val_loss: 0.0060 - val_mean_absolute_error: 0.0763\n",
            "Epoch 134/1000\n",
            "28/28 [==============================] - 0s 6ms/step - loss: 0.0197 - mean_absolute_error: 0.0670 - val_loss: 0.0061 - val_mean_absolute_error: 0.0774\n",
            "Epoch 135/1000\n",
            "28/28 [==============================] - 0s 6ms/step - loss: 0.0187 - mean_absolute_error: 0.0661 - val_loss: 0.0057 - val_mean_absolute_error: 0.0747\n",
            "Epoch 136/1000\n",
            "28/28 [==============================] - 0s 7ms/step - loss: 0.0224 - mean_absolute_error: 0.0706 - val_loss: 0.0061 - val_mean_absolute_error: 0.0772\n",
            "Epoch 137/1000\n",
            "28/28 [==============================] - 0s 9ms/step - loss: 0.0278 - mean_absolute_error: 0.0712 - val_loss: 0.0057 - val_mean_absolute_error: 0.0745\n",
            "Epoch 138/1000\n",
            "28/28 [==============================] - 0s 9ms/step - loss: 0.0220 - mean_absolute_error: 0.0678 - val_loss: 0.0055 - val_mean_absolute_error: 0.0730\n",
            "Epoch 139/1000\n",
            "28/28 [==============================] - 0s 8ms/step - loss: 0.0153 - mean_absolute_error: 0.0619 - val_loss: 0.0056 - val_mean_absolute_error: 0.0739\n",
            "Epoch 140/1000\n",
            "28/28 [==============================] - 0s 9ms/step - loss: 0.0149 - mean_absolute_error: 0.0596 - val_loss: 0.0054 - val_mean_absolute_error: 0.0724\n",
            "Epoch 141/1000\n",
            "28/28 [==============================] - 0s 7ms/step - loss: 0.0191 - mean_absolute_error: 0.0656 - val_loss: 0.0052 - val_mean_absolute_error: 0.0709\n",
            "Epoch 142/1000\n",
            "28/28 [==============================] - 0s 7ms/step - loss: 0.0143 - mean_absolute_error: 0.0607 - val_loss: 0.0054 - val_mean_absolute_error: 0.0726\n",
            "Epoch 143/1000\n",
            "28/28 [==============================] - 0s 8ms/step - loss: 0.0254 - mean_absolute_error: 0.0706 - val_loss: 0.0051 - val_mean_absolute_error: 0.0706\n",
            "Epoch 144/1000\n",
            "28/28 [==============================] - 0s 7ms/step - loss: 0.0185 - mean_absolute_error: 0.0637 - val_loss: 0.0052 - val_mean_absolute_error: 0.0709\n",
            "Epoch 145/1000\n",
            "28/28 [==============================] - 0s 8ms/step - loss: 0.0137 - mean_absolute_error: 0.0576 - val_loss: 0.0049 - val_mean_absolute_error: 0.0693\n",
            "Epoch 146/1000\n",
            "28/28 [==============================] - 0s 7ms/step - loss: 0.0180 - mean_absolute_error: 0.0613 - val_loss: 0.0045 - val_mean_absolute_error: 0.0665\n",
            "Epoch 147/1000\n",
            "28/28 [==============================] - 0s 7ms/step - loss: 0.0198 - mean_absolute_error: 0.0656 - val_loss: 0.0049 - val_mean_absolute_error: 0.0690\n",
            "Epoch 148/1000\n",
            "28/28 [==============================] - 0s 7ms/step - loss: 0.0127 - mean_absolute_error: 0.0567 - val_loss: 0.0044 - val_mean_absolute_error: 0.0657\n",
            "Epoch 149/1000\n",
            "28/28 [==============================] - 0s 7ms/step - loss: 0.0131 - mean_absolute_error: 0.0576 - val_loss: 0.0045 - val_mean_absolute_error: 0.0660\n",
            "Epoch 150/1000\n",
            "28/28 [==============================] - 0s 7ms/step - loss: 0.0143 - mean_absolute_error: 0.0600 - val_loss: 0.0047 - val_mean_absolute_error: 0.0676\n",
            "Epoch 151/1000\n",
            "28/28 [==============================] - 0s 7ms/step - loss: 0.0161 - mean_absolute_error: 0.0606 - val_loss: 0.0043 - val_mean_absolute_error: 0.0648\n",
            "Epoch 152/1000\n",
            "28/28 [==============================] - 0s 7ms/step - loss: 0.0121 - mean_absolute_error: 0.0562 - val_loss: 0.0046 - val_mean_absolute_error: 0.0667\n",
            "Epoch 153/1000\n",
            "28/28 [==============================] - 0s 7ms/step - loss: 0.0164 - mean_absolute_error: 0.0604 - val_loss: 0.0041 - val_mean_absolute_error: 0.0627\n",
            "Epoch 154/1000\n",
            "28/28 [==============================] - 0s 6ms/step - loss: 0.0126 - mean_absolute_error: 0.0548 - val_loss: 0.0041 - val_mean_absolute_error: 0.0633\n",
            "Epoch 155/1000\n",
            "28/28 [==============================] - 0s 7ms/step - loss: 0.0105 - mean_absolute_error: 0.0504 - val_loss: 0.0040 - val_mean_absolute_error: 0.0626\n",
            "Epoch 156/1000\n",
            "28/28 [==============================] - 0s 7ms/step - loss: 0.0186 - mean_absolute_error: 0.0594 - val_loss: 0.0039 - val_mean_absolute_error: 0.0618\n",
            "Epoch 157/1000\n",
            "28/28 [==============================] - 0s 7ms/step - loss: 0.0122 - mean_absolute_error: 0.0572 - val_loss: 0.0040 - val_mean_absolute_error: 0.0626\n",
            "Epoch 158/1000\n",
            "28/28 [==============================] - 0s 7ms/step - loss: 0.0157 - mean_absolute_error: 0.0599 - val_loss: 0.0040 - val_mean_absolute_error: 0.0625\n",
            "Epoch 159/1000\n",
            "28/28 [==============================] - 0s 7ms/step - loss: 0.0166 - mean_absolute_error: 0.0602 - val_loss: 0.0033 - val_mean_absolute_error: 0.0565\n",
            "Epoch 160/1000\n",
            "28/28 [==============================] - 0s 7ms/step - loss: 0.0126 - mean_absolute_error: 0.0544 - val_loss: 0.0037 - val_mean_absolute_error: 0.0599\n",
            "Epoch 161/1000\n",
            "28/28 [==============================] - 0s 7ms/step - loss: 0.0125 - mean_absolute_error: 0.0548 - val_loss: 0.0036 - val_mean_absolute_error: 0.0591\n",
            "Epoch 162/1000\n",
            "28/28 [==============================] - 0s 7ms/step - loss: 0.0119 - mean_absolute_error: 0.0534 - val_loss: 0.0035 - val_mean_absolute_error: 0.0585\n",
            "Epoch 163/1000\n",
            "28/28 [==============================] - 0s 7ms/step - loss: 0.0159 - mean_absolute_error: 0.0593 - val_loss: 0.0037 - val_mean_absolute_error: 0.0598\n",
            "Epoch 164/1000\n",
            "28/28 [==============================] - 0s 7ms/step - loss: 0.0131 - mean_absolute_error: 0.0544 - val_loss: 0.0032 - val_mean_absolute_error: 0.0558\n",
            "Epoch 165/1000\n",
            "28/28 [==============================] - 0s 7ms/step - loss: 0.0176 - mean_absolute_error: 0.0597 - val_loss: 0.0033 - val_mean_absolute_error: 0.0562\n",
            "Epoch 166/1000\n",
            "28/28 [==============================] - 0s 8ms/step - loss: 0.0161 - mean_absolute_error: 0.0561 - val_loss: 0.0036 - val_mean_absolute_error: 0.0595\n",
            "Epoch 167/1000\n",
            "28/28 [==============================] - 0s 9ms/step - loss: 0.0122 - mean_absolute_error: 0.0553 - val_loss: 0.0033 - val_mean_absolute_error: 0.0563\n",
            "Epoch 168/1000\n",
            "28/28 [==============================] - 0s 8ms/step - loss: 0.0124 - mean_absolute_error: 0.0545 - val_loss: 0.0031 - val_mean_absolute_error: 0.0545\n",
            "Epoch 169/1000\n",
            "28/28 [==============================] - 0s 8ms/step - loss: 0.0133 - mean_absolute_error: 0.0541 - val_loss: 0.0033 - val_mean_absolute_error: 0.0565\n",
            "Epoch 170/1000\n",
            "28/28 [==============================] - 0s 8ms/step - loss: 0.0123 - mean_absolute_error: 0.0524 - val_loss: 0.0029 - val_mean_absolute_error: 0.0525\n",
            "Epoch 171/1000\n",
            "28/28 [==============================] - 0s 7ms/step - loss: 0.0081 - mean_absolute_error: 0.0467 - val_loss: 0.0030 - val_mean_absolute_error: 0.0542\n",
            "Epoch 172/1000\n",
            "28/28 [==============================] - 0s 7ms/step - loss: 0.0074 - mean_absolute_error: 0.0457 - val_loss: 0.0034 - val_mean_absolute_error: 0.0574\n",
            "Epoch 173/1000\n",
            "28/28 [==============================] - 0s 7ms/step - loss: 0.0123 - mean_absolute_error: 0.0523 - val_loss: 0.0029 - val_mean_absolute_error: 0.0527\n",
            "Epoch 174/1000\n",
            "28/28 [==============================] - 0s 7ms/step - loss: 0.0100 - mean_absolute_error: 0.0487 - val_loss: 0.0029 - val_mean_absolute_error: 0.0526\n",
            "Epoch 175/1000\n",
            "28/28 [==============================] - 0s 7ms/step - loss: 0.0109 - mean_absolute_error: 0.0501 - val_loss: 0.0024 - val_mean_absolute_error: 0.0480\n",
            "Epoch 176/1000\n",
            "28/28 [==============================] - 0s 7ms/step - loss: 0.0095 - mean_absolute_error: 0.0482 - val_loss: 0.0029 - val_mean_absolute_error: 0.0532\n",
            "Epoch 177/1000\n",
            "28/28 [==============================] - 0s 7ms/step - loss: 0.0085 - mean_absolute_error: 0.0472 - val_loss: 0.0027 - val_mean_absolute_error: 0.0507\n",
            "Epoch 178/1000\n",
            "28/28 [==============================] - 0s 7ms/step - loss: 0.0102 - mean_absolute_error: 0.0498 - val_loss: 0.0029 - val_mean_absolute_error: 0.0530\n",
            "Epoch 179/1000\n",
            "28/28 [==============================] - 0s 6ms/step - loss: 0.0099 - mean_absolute_error: 0.0498 - val_loss: 0.0027 - val_mean_absolute_error: 0.0507\n",
            "Epoch 180/1000\n",
            "28/28 [==============================] - 0s 7ms/step - loss: 0.0130 - mean_absolute_error: 0.0535 - val_loss: 0.0025 - val_mean_absolute_error: 0.0491\n",
            "Epoch 181/1000\n",
            "28/28 [==============================] - 0s 9ms/step - loss: 0.0135 - mean_absolute_error: 0.0532 - val_loss: 0.0023 - val_mean_absolute_error: 0.0470\n",
            "Epoch 182/1000\n",
            "28/28 [==============================] - 0s 8ms/step - loss: 0.0076 - mean_absolute_error: 0.0453 - val_loss: 0.0026 - val_mean_absolute_error: 0.0498\n",
            "Epoch 183/1000\n",
            "28/28 [==============================] - 0s 8ms/step - loss: 0.0113 - mean_absolute_error: 0.0509 - val_loss: 0.0026 - val_mean_absolute_error: 0.0502\n",
            "Epoch 184/1000\n",
            "28/28 [==============================] - 0s 8ms/step - loss: 0.0070 - mean_absolute_error: 0.0447 - val_loss: 0.0023 - val_mean_absolute_error: 0.0471\n",
            "Epoch 185/1000\n",
            "28/28 [==============================] - 0s 7ms/step - loss: 0.0096 - mean_absolute_error: 0.0483 - val_loss: 0.0023 - val_mean_absolute_error: 0.0469\n",
            "Epoch 186/1000\n",
            "28/28 [==============================] - 0s 7ms/step - loss: 0.0063 - mean_absolute_error: 0.0428 - val_loss: 0.0022 - val_mean_absolute_error: 0.0462\n",
            "Epoch 187/1000\n",
            "28/28 [==============================] - 0s 7ms/step - loss: 0.0109 - mean_absolute_error: 0.0497 - val_loss: 0.0021 - val_mean_absolute_error: 0.0450\n",
            "Epoch 188/1000\n",
            "28/28 [==============================] - 0s 7ms/step - loss: 0.0086 - mean_absolute_error: 0.0451 - val_loss: 0.0024 - val_mean_absolute_error: 0.0484\n",
            "Epoch 189/1000\n",
            "28/28 [==============================] - 0s 7ms/step - loss: 0.0090 - mean_absolute_error: 0.0467 - val_loss: 0.0020 - val_mean_absolute_error: 0.0443\n",
            "Epoch 190/1000\n",
            "28/28 [==============================] - 0s 8ms/step - loss: 0.0082 - mean_absolute_error: 0.0460 - val_loss: 0.0021 - val_mean_absolute_error: 0.0451\n",
            "Epoch 191/1000\n",
            "28/28 [==============================] - 0s 7ms/step - loss: 0.0072 - mean_absolute_error: 0.0458 - val_loss: 0.0024 - val_mean_absolute_error: 0.0483\n",
            "Epoch 192/1000\n",
            "28/28 [==============================] - 0s 7ms/step - loss: 0.0071 - mean_absolute_error: 0.0433 - val_loss: 0.0020 - val_mean_absolute_error: 0.0441\n",
            "Epoch 193/1000\n",
            "28/28 [==============================] - 0s 7ms/step - loss: 0.0077 - mean_absolute_error: 0.0460 - val_loss: 0.0020 - val_mean_absolute_error: 0.0440\n",
            "Epoch 194/1000\n",
            "28/28 [==============================] - 0s 7ms/step - loss: 0.0086 - mean_absolute_error: 0.0457 - val_loss: 0.0024 - val_mean_absolute_error: 0.0481\n",
            "Epoch 195/1000\n",
            "28/28 [==============================] - 0s 6ms/step - loss: 0.0067 - mean_absolute_error: 0.0434 - val_loss: 0.0022 - val_mean_absolute_error: 0.0458\n",
            "Epoch 196/1000\n",
            "28/28 [==============================] - 0s 7ms/step - loss: 0.0067 - mean_absolute_error: 0.0434 - val_loss: 0.0019 - val_mean_absolute_error: 0.0425\n",
            "Epoch 197/1000\n",
            "28/28 [==============================] - 0s 6ms/step - loss: 0.0065 - mean_absolute_error: 0.0437 - val_loss: 0.0021 - val_mean_absolute_error: 0.0446\n",
            "Epoch 198/1000\n",
            "28/28 [==============================] - 0s 7ms/step - loss: 0.0092 - mean_absolute_error: 0.0466 - val_loss: 0.0021 - val_mean_absolute_error: 0.0447\n",
            "Epoch 199/1000\n",
            "28/28 [==============================] - 0s 8ms/step - loss: 0.0105 - mean_absolute_error: 0.0495 - val_loss: 0.0018 - val_mean_absolute_error: 0.0414\n",
            "Epoch 200/1000\n",
            "28/28 [==============================] - 0s 7ms/step - loss: 0.0060 - mean_absolute_error: 0.0418 - val_loss: 0.0018 - val_mean_absolute_error: 0.0416\n",
            "Epoch 201/1000\n",
            "28/28 [==============================] - 0s 7ms/step - loss: 0.0055 - mean_absolute_error: 0.0417 - val_loss: 0.0017 - val_mean_absolute_error: 0.0401\n",
            "Epoch 202/1000\n",
            "28/28 [==============================] - 0s 7ms/step - loss: 0.0101 - mean_absolute_error: 0.0466 - val_loss: 0.0019 - val_mean_absolute_error: 0.0424\n",
            "Epoch 203/1000\n",
            "28/28 [==============================] - 0s 7ms/step - loss: 0.0069 - mean_absolute_error: 0.0428 - val_loss: 0.0020 - val_mean_absolute_error: 0.0438\n",
            "Epoch 204/1000\n",
            "28/28 [==============================] - 0s 7ms/step - loss: 0.0080 - mean_absolute_error: 0.0453 - val_loss: 0.0018 - val_mean_absolute_error: 0.0419\n",
            "Epoch 205/1000\n",
            "28/28 [==============================] - 0s 7ms/step - loss: 0.0075 - mean_absolute_error: 0.0443 - val_loss: 0.0016 - val_mean_absolute_error: 0.0393\n",
            "Epoch 206/1000\n",
            "28/28 [==============================] - 0s 7ms/step - loss: 0.0066 - mean_absolute_error: 0.0416 - val_loss: 0.0016 - val_mean_absolute_error: 0.0387\n",
            "Epoch 207/1000\n",
            "28/28 [==============================] - 0s 7ms/step - loss: 0.0059 - mean_absolute_error: 0.0414 - val_loss: 0.0021 - val_mean_absolute_error: 0.0454\n",
            "Epoch 208/1000\n",
            "28/28 [==============================] - 0s 7ms/step - loss: 0.0073 - mean_absolute_error: 0.0468 - val_loss: 0.0015 - val_mean_absolute_error: 0.0377\n",
            "Epoch 209/1000\n",
            "28/28 [==============================] - 0s 8ms/step - loss: 0.0070 - mean_absolute_error: 0.0418 - val_loss: 0.0015 - val_mean_absolute_error: 0.0381\n",
            "Epoch 210/1000\n",
            "28/28 [==============================] - 0s 7ms/step - loss: 0.0069 - mean_absolute_error: 0.0422 - val_loss: 0.0014 - val_mean_absolute_error: 0.0370\n",
            "Epoch 211/1000\n",
            "28/28 [==============================] - 0s 6ms/step - loss: 0.0078 - mean_absolute_error: 0.0412 - val_loss: 0.0016 - val_mean_absolute_error: 0.0390\n",
            "Epoch 212/1000\n",
            "28/28 [==============================] - 0s 7ms/step - loss: 0.0075 - mean_absolute_error: 0.0420 - val_loss: 0.0015 - val_mean_absolute_error: 0.0376\n",
            "Epoch 213/1000\n",
            "28/28 [==============================] - 0s 7ms/step - loss: 0.0085 - mean_absolute_error: 0.0436 - val_loss: 0.0016 - val_mean_absolute_error: 0.0388\n",
            "Epoch 214/1000\n",
            "28/28 [==============================] - 0s 7ms/step - loss: 0.0069 - mean_absolute_error: 0.0426 - val_loss: 0.0016 - val_mean_absolute_error: 0.0391\n",
            "Epoch 215/1000\n",
            "28/28 [==============================] - 0s 7ms/step - loss: 0.0099 - mean_absolute_error: 0.0459 - val_loss: 0.0012 - val_mean_absolute_error: 0.0335\n",
            "Epoch 216/1000\n",
            "28/28 [==============================] - 0s 7ms/step - loss: 0.0085 - mean_absolute_error: 0.0430 - val_loss: 0.0016 - val_mean_absolute_error: 0.0398\n",
            "Epoch 217/1000\n",
            "28/28 [==============================] - 0s 8ms/step - loss: 0.0070 - mean_absolute_error: 0.0427 - val_loss: 0.0014 - val_mean_absolute_error: 0.0367\n",
            "Epoch 218/1000\n",
            "28/28 [==============================] - 0s 7ms/step - loss: 0.0071 - mean_absolute_error: 0.0430 - val_loss: 0.0018 - val_mean_absolute_error: 0.0415\n",
            "Epoch 219/1000\n",
            "28/28 [==============================] - 0s 7ms/step - loss: 0.0049 - mean_absolute_error: 0.0379 - val_loss: 0.0013 - val_mean_absolute_error: 0.0351\n",
            "Epoch 220/1000\n",
            "28/28 [==============================] - 0s 8ms/step - loss: 0.0070 - mean_absolute_error: 0.0396 - val_loss: 0.0016 - val_mean_absolute_error: 0.0392\n",
            "Epoch 221/1000\n",
            "28/28 [==============================] - 0s 9ms/step - loss: 0.0070 - mean_absolute_error: 0.0424 - val_loss: 0.0013 - val_mean_absolute_error: 0.0349\n",
            "Epoch 222/1000\n",
            "28/28 [==============================] - 0s 9ms/step - loss: 0.0077 - mean_absolute_error: 0.0419 - val_loss: 0.0015 - val_mean_absolute_error: 0.0380\n",
            "Epoch 223/1000\n",
            "28/28 [==============================] - 0s 9ms/step - loss: 0.0048 - mean_absolute_error: 0.0392 - val_loss: 0.0015 - val_mean_absolute_error: 0.0375\n",
            "Epoch 224/1000\n",
            "28/28 [==============================] - 0s 7ms/step - loss: 0.0075 - mean_absolute_error: 0.0421 - val_loss: 0.0017 - val_mean_absolute_error: 0.0402\n",
            "Epoch 225/1000\n",
            "28/28 [==============================] - 0s 7ms/step - loss: 0.0074 - mean_absolute_error: 0.0432 - val_loss: 0.0012 - val_mean_absolute_error: 0.0333\n",
            "Epoch 226/1000\n",
            "28/28 [==============================] - 0s 7ms/step - loss: 0.0042 - mean_absolute_error: 0.0379 - val_loss: 0.0010 - val_mean_absolute_error: 0.0316\n",
            "Epoch 227/1000\n",
            "28/28 [==============================] - 0s 7ms/step - loss: 0.0049 - mean_absolute_error: 0.0383 - val_loss: 0.0011 - val_mean_absolute_error: 0.0328\n",
            "Epoch 228/1000\n",
            "28/28 [==============================] - 0s 8ms/step - loss: 0.0047 - mean_absolute_error: 0.0372 - val_loss: 0.0016 - val_mean_absolute_error: 0.0391\n",
            "Epoch 229/1000\n",
            "28/28 [==============================] - 0s 6ms/step - loss: 0.0080 - mean_absolute_error: 0.0436 - val_loss: 0.0014 - val_mean_absolute_error: 0.0374\n",
            "Epoch 230/1000\n",
            "28/28 [==============================] - 0s 7ms/step - loss: 0.0073 - mean_absolute_error: 0.0414 - val_loss: 0.0014 - val_mean_absolute_error: 0.0362\n",
            "Epoch 231/1000\n",
            "28/28 [==============================] - 0s 7ms/step - loss: 0.0042 - mean_absolute_error: 0.0360 - val_loss: 0.0011 - val_mean_absolute_error: 0.0332\n",
            "Epoch 232/1000\n",
            "28/28 [==============================] - 0s 7ms/step - loss: 0.0053 - mean_absolute_error: 0.0392 - val_loss: 0.0013 - val_mean_absolute_error: 0.0351\n",
            "Epoch 233/1000\n",
            "28/28 [==============================] - 0s 7ms/step - loss: 0.0050 - mean_absolute_error: 0.0384 - val_loss: 0.0012 - val_mean_absolute_error: 0.0335\n",
            "Epoch 234/1000\n",
            "28/28 [==============================] - 0s 6ms/step - loss: 0.0054 - mean_absolute_error: 0.0368 - val_loss: 0.0012 - val_mean_absolute_error: 0.0340\n",
            "Epoch 235/1000\n",
            "28/28 [==============================] - 0s 7ms/step - loss: 0.0060 - mean_absolute_error: 0.0390 - val_loss: 0.0014 - val_mean_absolute_error: 0.0362\n",
            "Epoch 236/1000\n",
            "28/28 [==============================] - 0s 7ms/step - loss: 0.0048 - mean_absolute_error: 0.0382 - val_loss: 0.0012 - val_mean_absolute_error: 0.0337\n",
            "Epoch 237/1000\n",
            "28/28 [==============================] - 0s 7ms/step - loss: 0.0081 - mean_absolute_error: 0.0420 - val_loss: 0.0011 - val_mean_absolute_error: 0.0331\n",
            "Epoch 238/1000\n",
            "28/28 [==============================] - 0s 8ms/step - loss: 0.0055 - mean_absolute_error: 0.0385 - val_loss: 8.6301e-04 - val_mean_absolute_error: 0.0286\n",
            "Epoch 239/1000\n",
            "28/28 [==============================] - 0s 7ms/step - loss: 0.0050 - mean_absolute_error: 0.0375 - val_loss: 0.0010 - val_mean_absolute_error: 0.0316\n",
            "Epoch 240/1000\n",
            "28/28 [==============================] - 0s 7ms/step - loss: 0.0072 - mean_absolute_error: 0.0403 - val_loss: 0.0013 - val_mean_absolute_error: 0.0357\n",
            "Epoch 241/1000\n",
            "28/28 [==============================] - 0s 7ms/step - loss: 0.0060 - mean_absolute_error: 0.0386 - val_loss: 0.0012 - val_mean_absolute_error: 0.0334\n",
            "Epoch 242/1000\n",
            "28/28 [==============================] - 0s 7ms/step - loss: 0.0061 - mean_absolute_error: 0.0388 - val_loss: 8.7475e-04 - val_mean_absolute_error: 0.0289\n",
            "Epoch 243/1000\n",
            "28/28 [==============================] - 0s 7ms/step - loss: 0.0045 - mean_absolute_error: 0.0379 - val_loss: 0.0012 - val_mean_absolute_error: 0.0343\n",
            "Epoch 244/1000\n",
            "28/28 [==============================] - 0s 8ms/step - loss: 0.0067 - mean_absolute_error: 0.0410 - val_loss: 0.0012 - val_mean_absolute_error: 0.0344\n",
            "Epoch 245/1000\n",
            "28/28 [==============================] - 0s 6ms/step - loss: 0.0050 - mean_absolute_error: 0.0378 - val_loss: 0.0011 - val_mean_absolute_error: 0.0318\n",
            "Epoch 246/1000\n",
            "28/28 [==============================] - 0s 7ms/step - loss: 0.0089 - mean_absolute_error: 0.0433 - val_loss: 9.9295e-04 - val_mean_absolute_error: 0.0309\n",
            "Epoch 247/1000\n",
            "28/28 [==============================] - 0s 8ms/step - loss: 0.0058 - mean_absolute_error: 0.0416 - val_loss: 6.0546e-04 - val_mean_absolute_error: 0.0238\n",
            "Epoch 248/1000\n",
            "28/28 [==============================] - 0s 8ms/step - loss: 0.0050 - mean_absolute_error: 0.0354 - val_loss: 0.0011 - val_mean_absolute_error: 0.0327\n",
            "Epoch 249/1000\n",
            "28/28 [==============================] - 0s 7ms/step - loss: 0.0047 - mean_absolute_error: 0.0365 - val_loss: 0.0013 - val_mean_absolute_error: 0.0351\n",
            "Epoch 250/1000\n",
            "28/28 [==============================] - 0s 8ms/step - loss: 0.0043 - mean_absolute_error: 0.0352 - val_loss: 8.6739e-04 - val_mean_absolute_error: 0.0288\n",
            "Epoch 251/1000\n",
            "28/28 [==============================] - 0s 8ms/step - loss: 0.0060 - mean_absolute_error: 0.0391 - val_loss: 9.7864e-04 - val_mean_absolute_error: 0.0307\n",
            "Epoch 252/1000\n",
            "28/28 [==============================] - 0s 7ms/step - loss: 0.0046 - mean_absolute_error: 0.0353 - val_loss: 9.7191e-04 - val_mean_absolute_error: 0.0306\n",
            "Epoch 253/1000\n",
            "28/28 [==============================] - 0s 7ms/step - loss: 0.0047 - mean_absolute_error: 0.0375 - val_loss: 0.0011 - val_mean_absolute_error: 0.0324\n",
            "Epoch 254/1000\n",
            "28/28 [==============================] - 0s 7ms/step - loss: 0.0059 - mean_absolute_error: 0.0393 - val_loss: 0.0011 - val_mean_absolute_error: 0.0333\n",
            "Epoch 255/1000\n",
            "28/28 [==============================] - 0s 7ms/step - loss: 0.0066 - mean_absolute_error: 0.0404 - val_loss: 8.8674e-04 - val_mean_absolute_error: 0.0292\n",
            "Epoch 256/1000\n",
            "28/28 [==============================] - 0s 7ms/step - loss: 0.0043 - mean_absolute_error: 0.0366 - val_loss: 9.9748e-04 - val_mean_absolute_error: 0.0310\n",
            "Epoch 257/1000\n",
            "28/28 [==============================] - 0s 7ms/step - loss: 0.0054 - mean_absolute_error: 0.0362 - val_loss: 8.0099e-04 - val_mean_absolute_error: 0.0276\n",
            "Epoch 258/1000\n",
            "28/28 [==============================] - 0s 7ms/step - loss: 0.0045 - mean_absolute_error: 0.0347 - val_loss: 9.3391e-04 - val_mean_absolute_error: 0.0300\n",
            "Epoch 259/1000\n",
            "28/28 [==============================] - 0s 7ms/step - loss: 0.0043 - mean_absolute_error: 0.0364 - val_loss: 9.5002e-04 - val_mean_absolute_error: 0.0303\n",
            "Epoch 260/1000\n",
            "28/28 [==============================] - 0s 7ms/step - loss: 0.0044 - mean_absolute_error: 0.0333 - val_loss: 8.5236e-04 - val_mean_absolute_error: 0.0286\n",
            "Epoch 261/1000\n",
            "28/28 [==============================] - 0s 7ms/step - loss: 0.0050 - mean_absolute_error: 0.0370 - val_loss: 8.8286e-04 - val_mean_absolute_error: 0.0291\n",
            "Epoch 262/1000\n",
            "28/28 [==============================] - 0s 7ms/step - loss: 0.0050 - mean_absolute_error: 0.0359 - val_loss: 7.7820e-04 - val_mean_absolute_error: 0.0273\n"
          ],
          "name": "stdout"
        },
        {
          "output_type": "stream",
          "text": [
            "WARNING:absl:Found untraced functions such as lstm_cell_24_layer_call_fn, lstm_cell_24_layer_call_and_return_conditional_losses, lstm_cell_24_layer_call_fn, lstm_cell_24_layer_call_and_return_conditional_losses, lstm_cell_24_layer_call_and_return_conditional_losses while saving (showing 5 of 5). These functions will not be directly callable after loading.\n",
            "WARNING:absl:Found untraced functions such as lstm_cell_24_layer_call_fn, lstm_cell_24_layer_call_and_return_conditional_losses, lstm_cell_24_layer_call_fn, lstm_cell_24_layer_call_and_return_conditional_losses, lstm_cell_24_layer_call_and_return_conditional_losses while saving (showing 5 of 5). These functions will not be directly callable after loading.\n"
          ],
          "name": "stderr"
        },
        {
          "output_type": "stream",
          "text": [
            "INFO:tensorflow:Assets written to: best_model/assets\n"
          ],
          "name": "stdout"
        },
        {
          "output_type": "stream",
          "text": [
            "INFO:tensorflow:Assets written to: best_model/assets\n"
          ],
          "name": "stderr"
        }
      ]
    },
    {
      "cell_type": "markdown",
      "metadata": {
        "id": "MJ5dqhWz9cPm"
      },
      "source": [
        "Now, we load our best model to analyze its performance"
      ]
    },
    {
      "cell_type": "code",
      "metadata": {
        "id": "WhvaPzQbw9oN"
      },
      "source": [
        "from keras.models import load_model\n",
        "\n",
        "lstm_model = load_model(\"best_model\")"
      ],
      "execution_count": 184,
      "outputs": []
    },
    {
      "cell_type": "code",
      "metadata": {
        "id": "232h5ppMzOtW"
      },
      "source": [
        "X_test = windowed_data.X_test\n",
        "y_test = windowed_data.y_test"
      ],
      "execution_count": 185,
      "outputs": []
    },
    {
      "cell_type": "code",
      "metadata": {
        "colab": {
          "base_uri": "https://localhost:8080/"
        },
        "id": "Tr_-9l0U22cN",
        "outputId": "70652d44-5698-4d56-9c34-791679067b5a"
      },
      "source": [
        "lstm_model.evaluate(X_test, y_test)"
      ],
      "execution_count": 186,
      "outputs": [
        {
          "output_type": "stream",
          "text": [
            "8/8 [==============================] - 0s 2ms/step - loss: 9.3326e-04 - mean_absolute_error: 0.0303\n"
          ],
          "name": "stdout"
        },
        {
          "output_type": "execute_result",
          "data": {
            "text/plain": [
              "[0.0009332640911452472, 0.030285673215985298]"
            ]
          },
          "metadata": {
            "tags": []
          },
          "execution_count": 186
        }
      ]
    },
    {
      "cell_type": "code",
      "metadata": {
        "id": "TcDVPpRQ5sZj"
      },
      "source": [
        "def plot(y_test, y_pred):\n",
        "  plt.clf()\n",
        "  plt.xlabel('time')\n",
        "  plt.ylabel('btc_scaled_price_usd')\n",
        "  plt.plot(y_test, '-b', label='real_vals')\n",
        "  plt.plot(y_pred, '--r', label='predicted_vals')\n",
        "  plt.legend()\n",
        "  plt.title('Bitcoin real price vs predicted price')\n",
        "  plt.show()"
      ],
      "execution_count": 187,
      "outputs": []
    },
    {
      "cell_type": "code",
      "metadata": {
        "id": "H4Qynkg91dj9"
      },
      "source": [
        "y_pred = lstm_model.predict(X_test)"
      ],
      "execution_count": 188,
      "outputs": []
    },
    {
      "cell_type": "markdown",
      "metadata": {
        "id": "yFD_4Rnn8z9r"
      },
      "source": [
        "Now, we can analyze our model with a graph of the actual btc price versus the btc price predicted by our model in the test set"
      ]
    },
    {
      "cell_type": "code",
      "metadata": {
        "colab": {
          "base_uri": "https://localhost:8080/",
          "height": 295
        },
        "id": "AbxSFesH3j4C",
        "outputId": "ddebfd85-fd5e-43b1-d3b3-c610c45b2189"
      },
      "source": [
        "plot(y_test.reshape(-1), y_pred.reshape(-1))"
      ],
      "execution_count": 189,
      "outputs": [
        {
          "output_type": "display_data",
          "data": {
            "image/png": "[encoded data removed]",
            "text/plain": [
              "<Figure size 432x288 with 1 Axes>"
            ]
          },
          "metadata": {
            "tags": [],
            "needs_background": "light"
          }
        }
      ]
    },
    {
      "cell_type": "code",
      "metadata": {
        "id": "qeBoFMUK5G0M"
      },
      "source": [
        "y = windowed_data.y.reshape(-1)\n",
        "y_pred = lstm_model.predict(windowed_data.X).reshape(-1)"
      ],
      "execution_count": 190,
      "outputs": []
    },
    {
      "cell_type": "markdown",
      "metadata": {
        "id": "67So9BUE7iqC"
      },
      "source": [
        "Next, we have a grahp for the bitcoin price in the whole dataset (training and test)"
      ]
    },
    {
      "cell_type": "code",
      "metadata": {
        "colab": {
          "base_uri": "https://localhost:8080/",
          "height": 295
        },
        "id": "6E2mJg2j5xwS",
        "outputId": "25a273b5-0045-402d-aab7-db5fb9ab4e4e"
      },
      "source": [
        "plot(y, y_pred)"
      ],
      "execution_count": 191,
      "outputs": [
        {
          "output_type": "display_data",
          "data": {
            "image/png": "[encoded data removed]",
            "text/plain": [
              "<Figure size 432x288 with 1 Axes>"
            ]
          },
          "metadata": {
            "tags": [],
            "needs_background": "light"
          }
        }
      ]
    },
    {
      "cell_type": "code",
      "metadata": {
        "id": "GJg9HdC572b1"
      },
      "source": [
        ""
      ],
      "execution_count": null,
      "outputs": []
    }
  ]
}