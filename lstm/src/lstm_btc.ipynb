{
  "nbformat": 4,
  "nbformat_minor": 0,
  "metadata": {
    "colab": {
      "name": "lstm-btc.ipynb",
      "provenance": [],
      "collapsed_sections": []
    },
    "kernelspec": {
      "name": "python3",
      "display_name": "Python 3"
    },
    "language_info": {
      "name": "python"
    }
  },
  "cells": [
    {
      "cell_type": "code",
      "metadata": {
        "colab": {
          "base_uri": "https://localhost:8080/"
        },
        "id": "5Pg-9dvOQjJj",
        "outputId": "d24a8c74-b138-4b07-be3f-fe6ea3894484"
      },
      "source": [
        "!pip install tensorflow\n",
        "!pip install keras\n",
        "!pip install numpy\n",
        "!pip install pandas\n",
        "!pip install matplotlib\n",
        "!pip install scikit-learn"
      ],
      "execution_count": 187,
      "outputs": [
        {
          "output_type": "stream",
          "text": [
            "Requirement already satisfied: tensorflow in /usr/local/lib/python3.7/dist-packages (2.4.1)\n",
            "Requirement already satisfied: numpy~=1.19.2 in /usr/local/lib/python3.7/dist-packages (from tensorflow) (1.19.5)\n",
            "Requirement already satisfied: typing-extensions~=3.7.4 in /usr/local/lib/python3.7/dist-packages (from tensorflow) (3.7.4.3)\n",
            "Requirement already satisfied: astunparse~=1.6.3 in /usr/local/lib/python3.7/dist-packages (from tensorflow) (1.6.3)\n",
            "Requirement already satisfied: tensorboard~=2.4 in /usr/local/lib/python3.7/dist-packages (from tensorflow) (2.4.1)\n",
            "Requirement already satisfied: gast==0.3.3 in /usr/local/lib/python3.7/dist-packages (from tensorflow) (0.3.3)\n",
            "Requirement already satisfied: wrapt~=1.12.1 in /usr/local/lib/python3.7/dist-packages (from tensorflow) (1.12.1)\n",
            "Requirement already satisfied: six~=1.15.0 in /usr/local/lib/python3.7/dist-packages (from tensorflow) (1.15.0)\n",
            "Requirement already satisfied: grpcio~=1.32.0 in /usr/local/lib/python3.7/dist-packages (from tensorflow) (1.32.0)\n",
            "Requirement already satisfied: tensorflow-estimator<2.5.0,>=2.4.0 in /usr/local/lib/python3.7/dist-packages (from tensorflow) (2.4.0)\n",
            "Requirement already satisfied: termcolor~=1.1.0 in /usr/local/lib/python3.7/dist-packages (from tensorflow) (1.1.0)\n",
            "Requirement already satisfied: wheel~=0.35 in /usr/local/lib/python3.7/dist-packages (from tensorflow) (0.36.2)\n",
            "Requirement already satisfied: flatbuffers~=1.12.0 in /usr/local/lib/python3.7/dist-packages (from tensorflow) (1.12)\n",
            "Requirement already satisfied: h5py~=2.10.0 in /usr/local/lib/python3.7/dist-packages (from tensorflow) (2.10.0)\n",
            "Requirement already satisfied: google-pasta~=0.2 in /usr/local/lib/python3.7/dist-packages (from tensorflow) (0.2.0)\n",
            "Requirement already satisfied: protobuf>=3.9.2 in /usr/local/lib/python3.7/dist-packages (from tensorflow) (3.12.4)\n",
            "Requirement already satisfied: absl-py~=0.10 in /usr/local/lib/python3.7/dist-packages (from tensorflow) (0.12.0)\n",
            "Requirement already satisfied: opt-einsum~=3.3.0 in /usr/local/lib/python3.7/dist-packages (from tensorflow) (3.3.0)\n",
            "Requirement already satisfied: keras-preprocessing~=1.1.2 in /usr/local/lib/python3.7/dist-packages (from tensorflow) (1.1.2)\n",
            "Requirement already satisfied: setuptools>=41.0.0 in /usr/local/lib/python3.7/dist-packages (from tensorboard~=2.4->tensorflow) (54.2.0)\n",
            "Requirement already satisfied: requests<3,>=2.21.0 in /usr/local/lib/python3.7/dist-packages (from tensorboard~=2.4->tensorflow) (2.23.0)\n",
            "Requirement already satisfied: markdown>=2.6.8 in /usr/local/lib/python3.7/dist-packages (from tensorboard~=2.4->tensorflow) (3.3.4)\n",
            "Requirement already satisfied: tensorboard-plugin-wit>=1.6.0 in /usr/local/lib/python3.7/dist-packages (from tensorboard~=2.4->tensorflow) (1.8.0)\n",
            "Requirement already satisfied: google-auth-oauthlib<0.5,>=0.4.1 in /usr/local/lib/python3.7/dist-packages (from tensorboard~=2.4->tensorflow) (0.4.3)\n",
            "Requirement already satisfied: werkzeug>=0.11.15 in /usr/local/lib/python3.7/dist-packages (from tensorboard~=2.4->tensorflow) (1.0.1)\n",
            "Requirement already satisfied: google-auth<2,>=1.6.3 in /usr/local/lib/python3.7/dist-packages (from tensorboard~=2.4->tensorflow) (1.28.0)\n",
            "Requirement already satisfied: urllib3!=1.25.0,!=1.25.1,<1.26,>=1.21.1 in /usr/local/lib/python3.7/dist-packages (from requests<3,>=2.21.0->tensorboard~=2.4->tensorflow) (1.24.3)\n",
            "Requirement already satisfied: idna<3,>=2.5 in /usr/local/lib/python3.7/dist-packages (from requests<3,>=2.21.0->tensorboard~=2.4->tensorflow) (2.10)\n",
            "Requirement already satisfied: chardet<4,>=3.0.2 in /usr/local/lib/python3.7/dist-packages (from requests<3,>=2.21.0->tensorboard~=2.4->tensorflow) (3.0.4)\n",
            "Requirement already satisfied: certifi>=2017.4.17 in /usr/local/lib/python3.7/dist-packages (from requests<3,>=2.21.0->tensorboard~=2.4->tensorflow) (2020.12.5)\n",
            "Requirement already satisfied: importlib-metadata; python_version < \"3.8\" in /usr/local/lib/python3.7/dist-packages (from markdown>=2.6.8->tensorboard~=2.4->tensorflow) (3.8.1)\n",
            "Requirement already satisfied: requests-oauthlib>=0.7.0 in /usr/local/lib/python3.7/dist-packages (from google-auth-oauthlib<0.5,>=0.4.1->tensorboard~=2.4->tensorflow) (1.3.0)\n",
            "Requirement already satisfied: rsa<5,>=3.1.4; python_version >= \"3.6\" in /usr/local/lib/python3.7/dist-packages (from google-auth<2,>=1.6.3->tensorboard~=2.4->tensorflow) (4.7.2)\n",
            "Requirement already satisfied: pyasn1-modules>=0.2.1 in /usr/local/lib/python3.7/dist-packages (from google-auth<2,>=1.6.3->tensorboard~=2.4->tensorflow) (0.2.8)\n",
            "Requirement already satisfied: cachetools<5.0,>=2.0.0 in /usr/local/lib/python3.7/dist-packages (from google-auth<2,>=1.6.3->tensorboard~=2.4->tensorflow) (4.2.1)\n",
            "Requirement already satisfied: zipp>=0.5 in /usr/local/lib/python3.7/dist-packages (from importlib-metadata; python_version < \"3.8\"->markdown>=2.6.8->tensorboard~=2.4->tensorflow) (3.4.1)\n",
            "Requirement already satisfied: oauthlib>=3.0.0 in /usr/local/lib/python3.7/dist-packages (from requests-oauthlib>=0.7.0->google-auth-oauthlib<0.5,>=0.4.1->tensorboard~=2.4->tensorflow) (3.1.0)\n",
            "Requirement already satisfied: pyasn1>=0.1.3 in /usr/local/lib/python3.7/dist-packages (from rsa<5,>=3.1.4; python_version >= \"3.6\"->google-auth<2,>=1.6.3->tensorboard~=2.4->tensorflow) (0.4.8)\n",
            "Requirement already satisfied: keras in /usr/local/lib/python3.7/dist-packages (2.4.3)\n",
            "Requirement already satisfied: numpy>=1.9.1 in /usr/local/lib/python3.7/dist-packages (from keras) (1.19.5)\n",
            "Requirement already satisfied: scipy>=0.14 in /usr/local/lib/python3.7/dist-packages (from keras) (1.4.1)\n",
            "Requirement already satisfied: pyyaml in /usr/local/lib/python3.7/dist-packages (from keras) (3.13)\n",
            "Requirement already satisfied: h5py in /usr/local/lib/python3.7/dist-packages (from keras) (2.10.0)\n",
            "Requirement already satisfied: six in /usr/local/lib/python3.7/dist-packages (from h5py->keras) (1.15.0)\n",
            "Requirement already satisfied: numpy in /usr/local/lib/python3.7/dist-packages (1.19.5)\n",
            "Requirement already satisfied: pandas in /usr/local/lib/python3.7/dist-packages (1.1.5)\n",
            "Requirement already satisfied: python-dateutil>=2.7.3 in /usr/local/lib/python3.7/dist-packages (from pandas) (2.8.1)\n",
            "Requirement already satisfied: numpy>=1.15.4 in /usr/local/lib/python3.7/dist-packages (from pandas) (1.19.5)\n",
            "Requirement already satisfied: pytz>=2017.2 in /usr/local/lib/python3.7/dist-packages (from pandas) (2018.9)\n",
            "Requirement already satisfied: six>=1.5 in /usr/local/lib/python3.7/dist-packages (from python-dateutil>=2.7.3->pandas) (1.15.0)\n",
            "Requirement already satisfied: matplotlib in /usr/local/lib/python3.7/dist-packages (3.2.2)\n",
            "Requirement already satisfied: kiwisolver>=1.0.1 in /usr/local/lib/python3.7/dist-packages (from matplotlib) (1.3.1)\n",
            "Requirement already satisfied: cycler>=0.10 in /usr/local/lib/python3.7/dist-packages (from matplotlib) (0.10.0)\n",
            "Requirement already satisfied: python-dateutil>=2.1 in /usr/local/lib/python3.7/dist-packages (from matplotlib) (2.8.1)\n",
            "Requirement already satisfied: numpy>=1.11 in /usr/local/lib/python3.7/dist-packages (from matplotlib) (1.19.5)\n",
            "Requirement already satisfied: pyparsing!=2.0.4,!=2.1.2,!=2.1.6,>=2.0.1 in /usr/local/lib/python3.7/dist-packages (from matplotlib) (2.4.7)\n",
            "Requirement already satisfied: six in /usr/local/lib/python3.7/dist-packages (from cycler>=0.10->matplotlib) (1.15.0)\n",
            "Requirement already satisfied: scikit-learn in /usr/local/lib/python3.7/dist-packages (0.22.2.post1)\n",
            "Requirement already satisfied: numpy>=1.11.0 in /usr/local/lib/python3.7/dist-packages (from scikit-learn) (1.19.5)\n",
            "Requirement already satisfied: joblib>=0.11 in /usr/local/lib/python3.7/dist-packages (from scikit-learn) (1.0.1)\n",
            "Requirement already satisfied: scipy>=0.17.0 in /usr/local/lib/python3.7/dist-packages (from scikit-learn) (1.4.1)\n"
          ],
          "name": "stdout"
        }
      ]
    },
    {
      "cell_type": "code",
      "metadata": {
        "id": "H32mqu-S1g4E"
      },
      "source": [
        "import tensorflow as tf\n",
        "import numpy as np\n",
        "import pandas as pd\n",
        "import matplotlib.pyplot as plt\n",
        "from sklearn.preprocessing import StandardScaler\n",
        "import io\n",
        "%matplotlib inline"
      ],
      "execution_count": 278,
      "outputs": []
    },
    {
      "cell_type": "code",
      "metadata": {
        "colab": {
          "resources": {
            "http://localhost:8080/nbextensions/google.colab/files.js": {
              "data": "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",
              "ok": true,
              "headers": [
                [
                  "content-type",
                  "application/javascript"
                ]
              ],
              "status": 200,
              "status_text": ""
            }
          },
          "base_uri": "https://localhost:8080/",
          "height": 72
        },
        "id": "IBn9Eea5SGxR",
        "outputId": "57c63d07-9231-423c-914e-c24e5ffa1c68"
      },
      "source": [
        "from google.colab import files\n",
        "uploaded = files.upload()"
      ],
      "execution_count": 279,
      "outputs": [
        {
          "output_type": "display_data",
          "data": {
            "text/html": [
              "\n",
              "     <input type=\"file\" id=\"files-c1cc47c9-245c-4e82-816c-96a15b2eb955\" name=\"files[]\" multiple disabled\n",
              "        style=\"border:none\" />\n",
              "     <output id=\"result-c1cc47c9-245c-4e82-816c-96a15b2eb955\">\n",
              "      Upload widget is only available when the cell has been executed in the\n",
              "      current browser session. Please rerun this cell to enable.\n",
              "      </output>\n",
              "      <script src=\"/nbextensions/google.colab/files.js\"></script> "
            ],
            "text/plain": [
              "<IPython.core.display.HTML object>"
            ]
          },
          "metadata": {
            "tags": []
          }
        },
        {
          "output_type": "stream",
          "text": [
            "Saving btc.csv to btc (3).csv\n"
          ],
          "name": "stdout"
        }
      ]
    },
    {
      "cell_type": "code",
      "metadata": {
        "colab": {
          "base_uri": "https://localhost:8080/",
          "height": 204
        },
        "id": "eh7133K_SJa8",
        "outputId": "76c6175a-e268-4358-8496-d0d5b8ec2ce3"
      },
      "source": [
        "btc = pd.read_csv(io.StringIO(uploaded['btc.csv'].decode('utf-8')))\n",
        "btc.head()"
      ],
      "execution_count": 280,
      "outputs": [
        {
          "output_type": "execute_result",
          "data": {
            "text/html": [
              "<div>\n",
              "<style scoped>\n",
              "    .dataframe tbody tr th:only-of-type {\n",
              "        vertical-align: middle;\n",
              "    }\n",
              "\n",
              "    .dataframe tbody tr th {\n",
              "        vertical-align: top;\n",
              "    }\n",
              "\n",
              "    .dataframe thead th {\n",
              "        text-align: right;\n",
              "    }\n",
              "</style>\n",
              "<table border=\"1\" class=\"dataframe\">\n",
              "  <thead>\n",
              "    <tr style=\"text-align: right;\">\n",
              "      <th></th>\n",
              "      <th>Date</th>\n",
              "      <th>Symbol</th>\n",
              "      <th>Open</th>\n",
              "      <th>High</th>\n",
              "      <th>Low</th>\n",
              "      <th>Close</th>\n",
              "      <th>Volume From</th>\n",
              "      <th>Volume To</th>\n",
              "    </tr>\n",
              "  </thead>\n",
              "  <tbody>\n",
              "    <tr>\n",
              "      <th>0</th>\n",
              "      <td>5/26/2018</td>\n",
              "      <td>BTCUSD</td>\n",
              "      <td>7459.11</td>\n",
              "      <td>7640.46</td>\n",
              "      <td>7380.00</td>\n",
              "      <td>7520.00</td>\n",
              "      <td>2722.80</td>\n",
              "      <td>2.042265e+07</td>\n",
              "    </tr>\n",
              "    <tr>\n",
              "      <th>1</th>\n",
              "      <td>5/25/2018</td>\n",
              "      <td>BTCUSD</td>\n",
              "      <td>7584.15</td>\n",
              "      <td>7661.85</td>\n",
              "      <td>7326.94</td>\n",
              "      <td>7459.11</td>\n",
              "      <td>8491.93</td>\n",
              "      <td>6.342069e+07</td>\n",
              "    </tr>\n",
              "    <tr>\n",
              "      <th>2</th>\n",
              "      <td>5/24/2018</td>\n",
              "      <td>BTCUSD</td>\n",
              "      <td>7505.00</td>\n",
              "      <td>7734.99</td>\n",
              "      <td>7269.00</td>\n",
              "      <td>7584.15</td>\n",
              "      <td>11033.72</td>\n",
              "      <td>8.293137e+07</td>\n",
              "    </tr>\n",
              "    <tr>\n",
              "      <th>3</th>\n",
              "      <td>5/23/2018</td>\n",
              "      <td>BTCUSD</td>\n",
              "      <td>7987.70</td>\n",
              "      <td>8030.00</td>\n",
              "      <td>7433.19</td>\n",
              "      <td>7505.00</td>\n",
              "      <td>14905.99</td>\n",
              "      <td>1.148104e+08</td>\n",
              "    </tr>\n",
              "    <tr>\n",
              "      <th>4</th>\n",
              "      <td>5/22/2018</td>\n",
              "      <td>BTCUSD</td>\n",
              "      <td>8393.44</td>\n",
              "      <td>8400.00</td>\n",
              "      <td>7950.00</td>\n",
              "      <td>7987.70</td>\n",
              "      <td>6589.43</td>\n",
              "      <td>5.389753e+07</td>\n",
              "    </tr>\n",
              "  </tbody>\n",
              "</table>\n",
              "</div>"
            ],
            "text/plain": [
              "        Date  Symbol     Open  ...    Close  Volume From     Volume To\n",
              "0  5/26/2018  BTCUSD  7459.11  ...  7520.00      2722.80  2.042265e+07\n",
              "1  5/25/2018  BTCUSD  7584.15  ...  7459.11      8491.93  6.342069e+07\n",
              "2  5/24/2018  BTCUSD  7505.00  ...  7584.15     11033.72  8.293137e+07\n",
              "3  5/23/2018  BTCUSD  7987.70  ...  7505.00     14905.99  1.148104e+08\n",
              "4  5/22/2018  BTCUSD  8393.44  ...  7987.70      6589.43  5.389753e+07\n",
              "\n",
              "[5 rows x 8 columns]"
            ]
          },
          "metadata": {
            "tags": []
          },
          "execution_count": 280
        }
      ]
    },
    {
      "cell_type": "code",
      "metadata": {
        "id": "pirlX9diSQ5b"
      },
      "source": [
        "# these columns will not be useful for our model\n",
        "# we will work only with the opening and closing price of bitcoin\n",
        "useful_btc_data = btc.drop(labels = ['Date', 'Symbol', 'Volume From', 'Volume To', 'High', 'Low'], axis = 1)"
      ],
      "execution_count": 281,
      "outputs": []
    },
    {
      "cell_type": "code",
      "metadata": {
        "colab": {
          "base_uri": "https://localhost:8080/",
          "height": 204
        },
        "id": "FK6h3m1lXFUv",
        "outputId": "b3a3c331-4fe6-4e54-a800-a3b9d71cbec5"
      },
      "source": [
        "useful_btc_data.head()"
      ],
      "execution_count": 282,
      "outputs": [
        {
          "output_type": "execute_result",
          "data": {
            "text/html": [
              "<div>\n",
              "<style scoped>\n",
              "    .dataframe tbody tr th:only-of-type {\n",
              "        vertical-align: middle;\n",
              "    }\n",
              "\n",
              "    .dataframe tbody tr th {\n",
              "        vertical-align: top;\n",
              "    }\n",
              "\n",
              "    .dataframe thead th {\n",
              "        text-align: right;\n",
              "    }\n",
              "</style>\n",
              "<table border=\"1\" class=\"dataframe\">\n",
              "  <thead>\n",
              "    <tr style=\"text-align: right;\">\n",
              "      <th></th>\n",
              "      <th>Open</th>\n",
              "      <th>Close</th>\n",
              "    </tr>\n",
              "  </thead>\n",
              "  <tbody>\n",
              "    <tr>\n",
              "      <th>0</th>\n",
              "      <td>7459.11</td>\n",
              "      <td>7520.00</td>\n",
              "    </tr>\n",
              "    <tr>\n",
              "      <th>1</th>\n",
              "      <td>7584.15</td>\n",
              "      <td>7459.11</td>\n",
              "    </tr>\n",
              "    <tr>\n",
              "      <th>2</th>\n",
              "      <td>7505.00</td>\n",
              "      <td>7584.15</td>\n",
              "    </tr>\n",
              "    <tr>\n",
              "      <th>3</th>\n",
              "      <td>7987.70</td>\n",
              "      <td>7505.00</td>\n",
              "    </tr>\n",
              "    <tr>\n",
              "      <th>4</th>\n",
              "      <td>8393.44</td>\n",
              "      <td>7987.70</td>\n",
              "    </tr>\n",
              "  </tbody>\n",
              "</table>\n",
              "</div>"
            ],
            "text/plain": [
              "      Open    Close\n",
              "0  7459.11  7520.00\n",
              "1  7584.15  7459.11\n",
              "2  7505.00  7584.15\n",
              "3  7987.70  7505.00\n",
              "4  8393.44  7987.70"
            ]
          },
          "metadata": {
            "tags": []
          },
          "execution_count": 282
        }
      ]
    },
    {
      "cell_type": "code",
      "metadata": {
        "colab": {
          "base_uri": "https://localhost:8080/"
        },
        "id": "nQFRqHsei-aS",
        "outputId": "58bffa66-4161-47e0-9ba7-5f0da63efcf0"
      },
      "source": [
        "#drop rows with NaN data\n",
        "clean_data = useful_btc_data.dropna()\n",
        "clean_data.size"
      ],
      "execution_count": 283,
      "outputs": [
        {
          "output_type": "execute_result",
          "data": {
            "text/plain": [
              "2546"
            ]
          },
          "metadata": {
            "tags": []
          },
          "execution_count": 283
        }
      ]
    },
    {
      "cell_type": "code",
      "metadata": {
        "colab": {
          "base_uri": "https://localhost:8080/"
        },
        "id": "K9ATHx9zXae3",
        "outputId": "149c8b33-63f6-4ffd-84e4-f83ff6f18cf7"
      },
      "source": [
        "data_array = clean_data.to_numpy()\n",
        "data_array"
      ],
      "execution_count": 284,
      "outputs": [
        {
          "output_type": "execute_result",
          "data": {
            "text/plain": [
              "array([[7459.11, 7520.  ],\n",
              "       [7584.15, 7459.11],\n",
              "       [7505.  , 7584.15],\n",
              "       ...,\n",
              "       [ 378.  ,  378.  ],\n",
              "       [ 370.  ,  378.  ],\n",
              "       [ 300.  ,  370.  ]])"
            ]
          },
          "metadata": {
            "tags": []
          },
          "execution_count": 284
        }
      ]
    },
    {
      "cell_type": "code",
      "metadata": {
        "colab": {
          "base_uri": "https://localhost:8080/"
        },
        "id": "8EJtuwUjY0r4",
        "outputId": "16af5f01-4241-4ba6-ecc1-6a5c08f33081"
      },
      "source": [
        "# we are going to convert this 2-d array to a 1-d array\n",
        "flatten_data = data_array.flatten().reshape(-1, 1)\n",
        "flatten_data"
      ],
      "execution_count": 285,
      "outputs": [
        {
          "output_type": "execute_result",
          "data": {
            "text/plain": [
              "array([[7459.11],\n",
              "       [7520.  ],\n",
              "       [7584.15],\n",
              "       ...,\n",
              "       [ 378.  ],\n",
              "       [ 300.  ],\n",
              "       [ 370.  ]])"
            ]
          },
          "metadata": {
            "tags": []
          },
          "execution_count": 285
        }
      ]
    },
    {
      "cell_type": "code",
      "metadata": {
        "colab": {
          "base_uri": "https://localhost:8080/"
        },
        "id": "w9419VQ_02zU",
        "outputId": "8121bdf1-c16a-4c4c-e11b-06b5e309b27e"
      },
      "source": [
        "scaler = StandardScaler()\n",
        "scaled_data = scaler.fit_transform(flatten_data)\n",
        "scaled_data"
      ],
      "execution_count": 286,
      "outputs": [
        {
          "output_type": "execute_result",
          "data": {
            "text/plain": [
              "array([[ 1.30947341],\n",
              "       [ 1.32555627],\n",
              "       [ 1.34250021],\n",
              "       ...,\n",
              "       [-0.56085933],\n",
              "       [-0.58146147],\n",
              "       [-0.56297237]])"
            ]
          },
          "metadata": {
            "tags": []
          },
          "execution_count": 286
        }
      ]
    },
    {
      "cell_type": "code",
      "metadata": {
        "id": "h4-naYRYZBQ9"
      },
      "source": [
        "# to predict the closing price of btc in a given day, we are going to use historical\n",
        "# data (openning and closing price of btc from the previous days) as well as the openning price \n",
        "# of btc of the given day\n",
        "\n",
        "class WindowData():\n",
        "  def __init__(self, raw_data, labels, window_size, train_frac = 0.8, test_frac = 0.2):\n",
        "    self.raw_data = raw_data\n",
        "    self.window_size = window_size\n",
        "    self.labels = labels\n",
        "    length = raw_data.size\n",
        "    self.test_size = int(length * test_frac)\n",
        "    self.train_size = length - self.test_size\n",
        "    assert self.train_size + self.test_size == length\n",
        "\n",
        "  def initialize(self):\n",
        "    input = self.raw_data\n",
        "    window_size = self.window_size\n",
        "    data, labels = [], []\n",
        "    for i in range(0, input.size - window_size, 2):\n",
        "      cur_window = input[i:i+window_size-1]\n",
        "      # append firs values to X_data\n",
        "      data.append(cur_window.reshape(-1, 1))\n",
        "      # last value of the range is what we want to predict (closing value for the last day)\n",
        "      labels.append(cur_window[:-1].reshape(-1, 1))\n",
        "    self.data = np.array(data)\n",
        "    self.labels = np.array(labels)\n",
        "\n",
        "  @property\n",
        "  def X_train(self):\n",
        "    return self.data[0:self.train_size]\n",
        "\n",
        "  @property\n",
        "  def y_train(self):\n",
        "    return self.labels[0:self.train_size]\n",
        "\n",
        "  @property\n",
        "  def X_test(self):\n",
        "    return self.data[:-self.test_size]\n",
        "  \n",
        "  @property\n",
        "  def y_test(self):\n",
        "    return self.labels[:-self.test_size]   "
      ],
      "execution_count": 306,
      "outputs": []
    },
    {
      "cell_type": "code",
      "metadata": {
        "colab": {
          "base_uri": "https://localhost:8080/"
        },
        "id": "nRDq8jHcgUCR",
        "outputId": "25c16045-b4a7-42c2-d81e-b97c23d04f0e"
      },
      "source": [
        "windowed_data = WindowData(scaled_data, labels, window_size)\n",
        "windowed_data.initialize()\n",
        "windowed_data.data.shape"
      ],
      "execution_count": 307,
      "outputs": [
        {
          "output_type": "execute_result",
          "data": {
            "text/plain": [
              "(1268, 9, 1)"
            ]
          },
          "metadata": {
            "tags": []
          },
          "execution_count": 307
        }
      ]
    },
    {
      "cell_type": "code",
      "metadata": {
        "id": "-co4j93SjsA0"
      },
      "source": [
        "def build_model():\n",
        "  #now we have our data windowed, we have to create our model\n",
        "  lstm_model = tf.keras.models.Sequential([\n",
        "      tf.keras.layers.LSTM(1, return_sequences=False),\n",
        "      tf.keras.layers.Dense(units=1)\n",
        "  ])\n",
        "\n",
        "  lstm_model.compile(loss=tf.losses.MeanSquaredError(),\n",
        "                optimizer=tf.optimizers.Adam(),\n",
        "                metrics=[tf.metrics.MeanAbsoluteError()])\n",
        "\n",
        "  return lstm_model"
      ],
      "execution_count": 308,
      "outputs": []
    },
    {
      "cell_type": "code",
      "metadata": {
        "id": "uWrsU1H6w7vi"
      },
      "source": [
        "lstm_model = build_model()"
      ],
      "execution_count": 309,
      "outputs": []
    },
    {
      "cell_type": "code",
      "metadata": {
        "id": "h6hFpdKP6SGB"
      },
      "source": [
        "def fit_model(model, X_train, y_train, validation_split, max_epochs, patience=10):\n",
        "    # this will stop the training if we do not decrease the loss within 'patience' epochs\n",
        "    early_stopping = tf.keras.callbacks.EarlyStopping(monitor='val_loss',\n",
        "                                                    patience=patience,\n",
        "                                                    mode='min')\n",
        "    \n",
        "    history = model.fit(X_train, y_train, epochs=max_epochs,\n",
        "                    validation_split=validation_split,\n",
        "                    callbacks=[early_stopping])"
      ],
      "execution_count": 316,
      "outputs": []
    },
    {
      "cell_type": "code",
      "metadata": {
        "id": "04oaEDzBw9kA"
      },
      "source": [
        "X_train = windowed_data.X_train\n",
        "y_train = windowed_data.y_train"
      ],
      "execution_count": 317,
      "outputs": []
    },
    {
      "cell_type": "code",
      "metadata": {
        "colab": {
          "base_uri": "https://localhost:8080/"
        },
        "id": "YRaHwnSWxJIO",
        "outputId": "43892df1-0861-4f5f-d50d-4c0d745c8047"
      },
      "source": [
        "fit_model(lstm_model, X_train, y_train, 0.2, 10000)"
      ],
      "execution_count": 319,
      "outputs": [
        {
          "output_type": "stream",
          "text": [
            "Epoch 1/10000\n",
            "32/32 [==============================] - 0s 9ms/step - loss: 0.4637 - mean_absolute_error: 0.3806 - val_loss: 0.0756 - val_mean_absolute_error: 0.2748\n",
            "Epoch 2/10000\n",
            "32/32 [==============================] - 0s 6ms/step - loss: 0.4489 - mean_absolute_error: 0.3714 - val_loss: 0.0714 - val_mean_absolute_error: 0.2671\n",
            "Epoch 3/10000\n",
            "32/32 [==============================] - 0s 7ms/step - loss: 0.4346 - mean_absolute_error: 0.3626 - val_loss: 0.0681 - val_mean_absolute_error: 0.2607\n",
            "Epoch 4/10000\n",
            "32/32 [==============================] - 0s 7ms/step - loss: 0.4208 - mean_absolute_error: 0.3542 - val_loss: 0.0646 - val_mean_absolute_error: 0.2540\n",
            "Epoch 5/10000\n",
            "32/32 [==============================] - 0s 7ms/step - loss: 0.4077 - mean_absolute_error: 0.3469 - val_loss: 0.0623 - val_mean_absolute_error: 0.2493\n",
            "Epoch 6/10000\n",
            "32/32 [==============================] - 0s 6ms/step - loss: 0.3947 - mean_absolute_error: 0.3387 - val_loss: 0.0584 - val_mean_absolute_error: 0.2414\n",
            "Epoch 7/10000\n",
            "32/32 [==============================] - 0s 7ms/step - loss: 0.3822 - mean_absolute_error: 0.3317 - val_loss: 0.0570 - val_mean_absolute_error: 0.2385\n",
            "Epoch 8/10000\n",
            "32/32 [==============================] - 0s 7ms/step - loss: 0.3697 - mean_absolute_error: 0.3255 - val_loss: 0.0554 - val_mean_absolute_error: 0.2351\n",
            "Epoch 9/10000\n",
            "32/32 [==============================] - 0s 7ms/step - loss: 0.3570 - mean_absolute_error: 0.3170 - val_loss: 0.0524 - val_mean_absolute_error: 0.2287\n",
            "Epoch 10/10000\n",
            "32/32 [==============================] - 0s 7ms/step - loss: 0.3444 - mean_absolute_error: 0.3100 - val_loss: 0.0510 - val_mean_absolute_error: 0.2255\n",
            "Epoch 11/10000\n",
            "32/32 [==============================] - 0s 6ms/step - loss: 0.3309 - mean_absolute_error: 0.3021 - val_loss: 0.0488 - val_mean_absolute_error: 0.2206\n",
            "Epoch 12/10000\n",
            "32/32 [==============================] - 0s 7ms/step - loss: 0.3172 - mean_absolute_error: 0.2947 - val_loss: 0.0475 - val_mean_absolute_error: 0.2176\n",
            "Epoch 13/10000\n",
            "32/32 [==============================] - 0s 6ms/step - loss: 0.3023 - mean_absolute_error: 0.2863 - val_loss: 0.0454 - val_mean_absolute_error: 0.2128\n",
            "Epoch 14/10000\n",
            "32/32 [==============================] - 0s 7ms/step - loss: 0.2861 - mean_absolute_error: 0.2769 - val_loss: 0.0436 - val_mean_absolute_error: 0.2085\n",
            "Epoch 15/10000\n",
            "32/32 [==============================] - 0s 7ms/step - loss: 0.2690 - mean_absolute_error: 0.2676 - val_loss: 0.0429 - val_mean_absolute_error: 0.2068\n",
            "Epoch 16/10000\n",
            "32/32 [==============================] - 0s 6ms/step - loss: 0.2497 - mean_absolute_error: 0.2584 - val_loss: 0.0417 - val_mean_absolute_error: 0.2039\n",
            "Epoch 17/10000\n",
            "32/32 [==============================] - 0s 7ms/step - loss: 0.2295 - mean_absolute_error: 0.2489 - val_loss: 0.0394 - val_mean_absolute_error: 0.1982\n",
            "Epoch 18/10000\n",
            "32/32 [==============================] - 0s 6ms/step - loss: 0.2073 - mean_absolute_error: 0.2382 - val_loss: 0.0370 - val_mean_absolute_error: 0.1922\n",
            "Epoch 19/10000\n",
            "32/32 [==============================] - 0s 6ms/step - loss: 0.1864 - mean_absolute_error: 0.2284 - val_loss: 0.0350 - val_mean_absolute_error: 0.1868\n",
            "Epoch 20/10000\n",
            "32/32 [==============================] - 0s 7ms/step - loss: 0.1676 - mean_absolute_error: 0.2216 - val_loss: 0.0335 - val_mean_absolute_error: 0.1828\n",
            "Epoch 21/10000\n",
            "32/32 [==============================] - 0s 6ms/step - loss: 0.1494 - mean_absolute_error: 0.2118 - val_loss: 0.0321 - val_mean_absolute_error: 0.1788\n",
            "Epoch 22/10000\n",
            "32/32 [==============================] - 0s 6ms/step - loss: 0.1338 - mean_absolute_error: 0.2030 - val_loss: 0.0307 - val_mean_absolute_error: 0.1750\n",
            "Epoch 23/10000\n",
            "32/32 [==============================] - 0s 6ms/step - loss: 0.1203 - mean_absolute_error: 0.1943 - val_loss: 0.0298 - val_mean_absolute_error: 0.1723\n",
            "Epoch 24/10000\n",
            "32/32 [==============================] - 0s 6ms/step - loss: 0.1087 - mean_absolute_error: 0.1858 - val_loss: 0.0284 - val_mean_absolute_error: 0.1684\n",
            "Epoch 25/10000\n",
            "32/32 [==============================] - 0s 6ms/step - loss: 0.0989 - mean_absolute_error: 0.1778 - val_loss: 0.0276 - val_mean_absolute_error: 0.1660\n",
            "Epoch 26/10000\n",
            "32/32 [==============================] - 0s 7ms/step - loss: 0.0908 - mean_absolute_error: 0.1710 - val_loss: 0.0265 - val_mean_absolute_error: 0.1626\n",
            "Epoch 27/10000\n",
            "32/32 [==============================] - 0s 6ms/step - loss: 0.0836 - mean_absolute_error: 0.1639 - val_loss: 0.0254 - val_mean_absolute_error: 0.1590\n",
            "Epoch 28/10000\n",
            "32/32 [==============================] - 0s 7ms/step - loss: 0.0776 - mean_absolute_error: 0.1579 - val_loss: 0.0243 - val_mean_absolute_error: 0.1556\n",
            "Epoch 29/10000\n",
            "32/32 [==============================] - 0s 7ms/step - loss: 0.0724 - mean_absolute_error: 0.1524 - val_loss: 0.0226 - val_mean_absolute_error: 0.1500\n",
            "Epoch 30/10000\n",
            "32/32 [==============================] - 0s 6ms/step - loss: 0.0677 - mean_absolute_error: 0.1472 - val_loss: 0.0210 - val_mean_absolute_error: 0.1447\n",
            "Epoch 31/10000\n",
            "32/32 [==============================] - 0s 7ms/step - loss: 0.0638 - mean_absolute_error: 0.1421 - val_loss: 0.0196 - val_mean_absolute_error: 0.1397\n",
            "Epoch 32/10000\n",
            "32/32 [==============================] - 0s 7ms/step - loss: 0.0600 - mean_absolute_error: 0.1380 - val_loss: 0.0187 - val_mean_absolute_error: 0.1363\n",
            "Epoch 33/10000\n",
            "32/32 [==============================] - 0s 7ms/step - loss: 0.0570 - mean_absolute_error: 0.1346 - val_loss: 0.0177 - val_mean_absolute_error: 0.1326\n",
            "Epoch 34/10000\n",
            "32/32 [==============================] - 0s 6ms/step - loss: 0.0540 - mean_absolute_error: 0.1302 - val_loss: 0.0167 - val_mean_absolute_error: 0.1291\n",
            "Epoch 35/10000\n",
            "32/32 [==============================] - 0s 6ms/step - loss: 0.0514 - mean_absolute_error: 0.1265 - val_loss: 0.0155 - val_mean_absolute_error: 0.1241\n",
            "Epoch 36/10000\n",
            "32/32 [==============================] - 0s 6ms/step - loss: 0.0490 - mean_absolute_error: 0.1232 - val_loss: 0.0148 - val_mean_absolute_error: 0.1212\n",
            "Epoch 37/10000\n",
            "32/32 [==============================] - 0s 7ms/step - loss: 0.0469 - mean_absolute_error: 0.1210 - val_loss: 0.0137 - val_mean_absolute_error: 0.1169\n",
            "Epoch 38/10000\n",
            "32/32 [==============================] - 0s 7ms/step - loss: 0.0449 - mean_absolute_error: 0.1177 - val_loss: 0.0122 - val_mean_absolute_error: 0.1100\n",
            "Epoch 39/10000\n",
            "32/32 [==============================] - 0s 6ms/step - loss: 0.0431 - mean_absolute_error: 0.1145 - val_loss: 0.0129 - val_mean_absolute_error: 0.1133\n",
            "Epoch 40/10000\n",
            "32/32 [==============================] - 0s 6ms/step - loss: 0.0414 - mean_absolute_error: 0.1128 - val_loss: 0.0114 - val_mean_absolute_error: 0.1064\n",
            "Epoch 41/10000\n",
            "32/32 [==============================] - 0s 6ms/step - loss: 0.0398 - mean_absolute_error: 0.1095 - val_loss: 0.0118 - val_mean_absolute_error: 0.1081\n",
            "Epoch 42/10000\n",
            "32/32 [==============================] - 0s 6ms/step - loss: 0.0384 - mean_absolute_error: 0.1080 - val_loss: 0.0107 - val_mean_absolute_error: 0.1033\n",
            "Epoch 43/10000\n",
            "32/32 [==============================] - 0s 6ms/step - loss: 0.0370 - mean_absolute_error: 0.1058 - val_loss: 0.0096 - val_mean_absolute_error: 0.0976\n",
            "Epoch 44/10000\n",
            "32/32 [==============================] - 0s 7ms/step - loss: 0.0358 - mean_absolute_error: 0.1030 - val_loss: 0.0101 - val_mean_absolute_error: 0.1000\n",
            "Epoch 45/10000\n",
            "32/32 [==============================] - 0s 6ms/step - loss: 0.0346 - mean_absolute_error: 0.1018 - val_loss: 0.0093 - val_mean_absolute_error: 0.0959\n",
            "Epoch 46/10000\n",
            "32/32 [==============================] - 0s 7ms/step - loss: 0.0335 - mean_absolute_error: 0.1000 - val_loss: 0.0087 - val_mean_absolute_error: 0.0930\n",
            "Epoch 47/10000\n",
            "32/32 [==============================] - 0s 6ms/step - loss: 0.0325 - mean_absolute_error: 0.0977 - val_loss: 0.0085 - val_mean_absolute_error: 0.0917\n",
            "Epoch 48/10000\n",
            "32/32 [==============================] - 0s 6ms/step - loss: 0.0316 - mean_absolute_error: 0.0966 - val_loss: 0.0080 - val_mean_absolute_error: 0.0892\n",
            "Epoch 49/10000\n",
            "32/32 [==============================] - 0s 7ms/step - loss: 0.0306 - mean_absolute_error: 0.0947 - val_loss: 0.0082 - val_mean_absolute_error: 0.0901\n",
            "Epoch 50/10000\n",
            "32/32 [==============================] - 0s 7ms/step - loss: 0.0299 - mean_absolute_error: 0.0934 - val_loss: 0.0074 - val_mean_absolute_error: 0.0857\n",
            "Epoch 51/10000\n",
            "32/32 [==============================] - 0s 6ms/step - loss: 0.0290 - mean_absolute_error: 0.0924 - val_loss: 0.0072 - val_mean_absolute_error: 0.0848\n",
            "Epoch 52/10000\n",
            "32/32 [==============================] - 0s 7ms/step - loss: 0.0283 - mean_absolute_error: 0.0903 - val_loss: 0.0071 - val_mean_absolute_error: 0.0839\n",
            "Epoch 53/10000\n",
            "32/32 [==============================] - 0s 7ms/step - loss: 0.0276 - mean_absolute_error: 0.0892 - val_loss: 0.0067 - val_mean_absolute_error: 0.0813\n",
            "Epoch 54/10000\n",
            "32/32 [==============================] - 0s 6ms/step - loss: 0.0269 - mean_absolute_error: 0.0878 - val_loss: 0.0065 - val_mean_absolute_error: 0.0805\n",
            "Epoch 55/10000\n",
            "32/32 [==============================] - 0s 7ms/step - loss: 0.0263 - mean_absolute_error: 0.0871 - val_loss: 0.0056 - val_mean_absolute_error: 0.0749\n",
            "Epoch 56/10000\n",
            "32/32 [==============================] - 0s 6ms/step - loss: 0.0257 - mean_absolute_error: 0.0851 - val_loss: 0.0063 - val_mean_absolute_error: 0.0792\n",
            "Epoch 57/10000\n",
            "32/32 [==============================] - 0s 6ms/step - loss: 0.0251 - mean_absolute_error: 0.0846 - val_loss: 0.0054 - val_mean_absolute_error: 0.0733\n",
            "Epoch 58/10000\n",
            "32/32 [==============================] - 0s 7ms/step - loss: 0.0246 - mean_absolute_error: 0.0835 - val_loss: 0.0059 - val_mean_absolute_error: 0.0767\n",
            "Epoch 59/10000\n",
            "32/32 [==============================] - 0s 7ms/step - loss: 0.0241 - mean_absolute_error: 0.0823 - val_loss: 0.0052 - val_mean_absolute_error: 0.0715\n",
            "Epoch 60/10000\n",
            "32/32 [==============================] - 0s 7ms/step - loss: 0.0237 - mean_absolute_error: 0.0816 - val_loss: 0.0054 - val_mean_absolute_error: 0.0734\n",
            "Epoch 61/10000\n",
            "32/32 [==============================] - 0s 6ms/step - loss: 0.0232 - mean_absolute_error: 0.0807 - val_loss: 0.0053 - val_mean_absolute_error: 0.0727\n",
            "Epoch 62/10000\n",
            "32/32 [==============================] - 0s 7ms/step - loss: 0.0227 - mean_absolute_error: 0.0796 - val_loss: 0.0051 - val_mean_absolute_error: 0.0711\n",
            "Epoch 63/10000\n",
            "32/32 [==============================] - 0s 6ms/step - loss: 0.0223 - mean_absolute_error: 0.0790 - val_loss: 0.0050 - val_mean_absolute_error: 0.0701\n",
            "Epoch 64/10000\n",
            "32/32 [==============================] - 0s 6ms/step - loss: 0.0219 - mean_absolute_error: 0.0783 - val_loss: 0.0045 - val_mean_absolute_error: 0.0670\n",
            "Epoch 65/10000\n",
            "32/32 [==============================] - 0s 6ms/step - loss: 0.0216 - mean_absolute_error: 0.0767 - val_loss: 0.0045 - val_mean_absolute_error: 0.0670\n",
            "Epoch 66/10000\n",
            "32/32 [==============================] - 0s 7ms/step - loss: 0.0212 - mean_absolute_error: 0.0766 - val_loss: 0.0044 - val_mean_absolute_error: 0.0658\n",
            "Epoch 67/10000\n",
            "32/32 [==============================] - 0s 7ms/step - loss: 0.0209 - mean_absolute_error: 0.0755 - val_loss: 0.0041 - val_mean_absolute_error: 0.0636\n",
            "Epoch 68/10000\n",
            "32/32 [==============================] - 0s 6ms/step - loss: 0.0205 - mean_absolute_error: 0.0748 - val_loss: 0.0040 - val_mean_absolute_error: 0.0629\n",
            "Epoch 69/10000\n",
            "32/32 [==============================] - 0s 6ms/step - loss: 0.0202 - mean_absolute_error: 0.0740 - val_loss: 0.0044 - val_mean_absolute_error: 0.0661\n",
            "Epoch 70/10000\n",
            "32/32 [==============================] - 0s 7ms/step - loss: 0.0199 - mean_absolute_error: 0.0744 - val_loss: 0.0035 - val_mean_absolute_error: 0.0589\n",
            "Epoch 71/10000\n",
            "32/32 [==============================] - 0s 7ms/step - loss: 0.0197 - mean_absolute_error: 0.0722 - val_loss: 0.0040 - val_mean_absolute_error: 0.0626\n",
            "Epoch 72/10000\n",
            "32/32 [==============================] - 0s 7ms/step - loss: 0.0194 - mean_absolute_error: 0.0730 - val_loss: 0.0041 - val_mean_absolute_error: 0.0639\n",
            "Epoch 73/10000\n",
            "32/32 [==============================] - 0s 6ms/step - loss: 0.0191 - mean_absolute_error: 0.0716 - val_loss: 0.0037 - val_mean_absolute_error: 0.0607\n",
            "Epoch 74/10000\n",
            "32/32 [==============================] - 0s 6ms/step - loss: 0.0189 - mean_absolute_error: 0.0716 - val_loss: 0.0038 - val_mean_absolute_error: 0.0616\n",
            "Epoch 75/10000\n",
            "32/32 [==============================] - 0s 7ms/step - loss: 0.0186 - mean_absolute_error: 0.0706 - val_loss: 0.0032 - val_mean_absolute_error: 0.0566\n",
            "Epoch 76/10000\n",
            "32/32 [==============================] - 0s 6ms/step - loss: 0.0184 - mean_absolute_error: 0.0694 - val_loss: 0.0035 - val_mean_absolute_error: 0.0593\n",
            "Epoch 77/10000\n",
            "32/32 [==============================] - 0s 7ms/step - loss: 0.0182 - mean_absolute_error: 0.0703 - val_loss: 0.0027 - val_mean_absolute_error: 0.0519\n",
            "Epoch 78/10000\n",
            "32/32 [==============================] - 0s 6ms/step - loss: 0.0180 - mean_absolute_error: 0.0691 - val_loss: 0.0030 - val_mean_absolute_error: 0.0543\n",
            "Epoch 79/10000\n",
            "32/32 [==============================] - 0s 7ms/step - loss: 0.0178 - mean_absolute_error: 0.0684 - val_loss: 0.0031 - val_mean_absolute_error: 0.0551\n",
            "Epoch 80/10000\n",
            "32/32 [==============================] - 0s 7ms/step - loss: 0.0176 - mean_absolute_error: 0.0680 - val_loss: 0.0026 - val_mean_absolute_error: 0.0511\n",
            "Epoch 81/10000\n",
            "32/32 [==============================] - 0s 7ms/step - loss: 0.0174 - mean_absolute_error: 0.0676 - val_loss: 0.0034 - val_mean_absolute_error: 0.0584\n",
            "Epoch 82/10000\n",
            "32/32 [==============================] - 0s 6ms/step - loss: 0.0172 - mean_absolute_error: 0.0673 - val_loss: 0.0029 - val_mean_absolute_error: 0.0535\n",
            "Epoch 83/10000\n",
            "32/32 [==============================] - 0s 7ms/step - loss: 0.0171 - mean_absolute_error: 0.0674 - val_loss: 0.0029 - val_mean_absolute_error: 0.0532\n",
            "Epoch 84/10000\n",
            "32/32 [==============================] - 0s 7ms/step - loss: 0.0169 - mean_absolute_error: 0.0662 - val_loss: 0.0026 - val_mean_absolute_error: 0.0508\n",
            "Epoch 85/10000\n",
            "32/32 [==============================] - 0s 7ms/step - loss: 0.0167 - mean_absolute_error: 0.0662 - val_loss: 0.0026 - val_mean_absolute_error: 0.0503\n",
            "Epoch 86/10000\n",
            "32/32 [==============================] - 0s 6ms/step - loss: 0.0165 - mean_absolute_error: 0.0656 - val_loss: 0.0023 - val_mean_absolute_error: 0.0477\n",
            "Epoch 87/10000\n",
            "32/32 [==============================] - 0s 7ms/step - loss: 0.0164 - mean_absolute_error: 0.0649 - val_loss: 0.0025 - val_mean_absolute_error: 0.0492\n",
            "Epoch 88/10000\n",
            "32/32 [==============================] - 0s 7ms/step - loss: 0.0162 - mean_absolute_error: 0.0650 - val_loss: 0.0025 - val_mean_absolute_error: 0.0501\n",
            "Epoch 89/10000\n",
            "32/32 [==============================] - 0s 7ms/step - loss: 0.0161 - mean_absolute_error: 0.0645 - val_loss: 0.0025 - val_mean_absolute_error: 0.0493\n",
            "Epoch 90/10000\n",
            "32/32 [==============================] - 0s 7ms/step - loss: 0.0160 - mean_absolute_error: 0.0642 - val_loss: 0.0022 - val_mean_absolute_error: 0.0461\n",
            "Epoch 91/10000\n",
            "32/32 [==============================] - 0s 6ms/step - loss: 0.0159 - mean_absolute_error: 0.0638 - val_loss: 0.0026 - val_mean_absolute_error: 0.0503\n",
            "Epoch 92/10000\n",
            "32/32 [==============================] - 0s 7ms/step - loss: 0.0157 - mean_absolute_error: 0.0637 - val_loss: 0.0030 - val_mean_absolute_error: 0.0546\n",
            "Epoch 93/10000\n",
            "32/32 [==============================] - 0s 7ms/step - loss: 0.0157 - mean_absolute_error: 0.0632 - val_loss: 0.0025 - val_mean_absolute_error: 0.0495\n",
            "Epoch 94/10000\n",
            "32/32 [==============================] - 0s 7ms/step - loss: 0.0155 - mean_absolute_error: 0.0629 - val_loss: 0.0020 - val_mean_absolute_error: 0.0448\n",
            "Epoch 95/10000\n",
            "32/32 [==============================] - 0s 7ms/step - loss: 0.0155 - mean_absolute_error: 0.0629 - val_loss: 0.0021 - val_mean_absolute_error: 0.0456\n",
            "Epoch 96/10000\n",
            "32/32 [==============================] - 0s 7ms/step - loss: 0.0154 - mean_absolute_error: 0.0634 - val_loss: 0.0017 - val_mean_absolute_error: 0.0415\n",
            "Epoch 97/10000\n",
            "32/32 [==============================] - 0s 7ms/step - loss: 0.0152 - mean_absolute_error: 0.0617 - val_loss: 0.0023 - val_mean_absolute_error: 0.0476\n",
            "Epoch 98/10000\n",
            "32/32 [==============================] - 0s 7ms/step - loss: 0.0151 - mean_absolute_error: 0.0618 - val_loss: 0.0020 - val_mean_absolute_error: 0.0449\n",
            "Epoch 99/10000\n",
            "32/32 [==============================] - 0s 7ms/step - loss: 0.0150 - mean_absolute_error: 0.0615 - val_loss: 0.0023 - val_mean_absolute_error: 0.0481\n",
            "Epoch 100/10000\n",
            "32/32 [==============================] - 0s 7ms/step - loss: 0.0149 - mean_absolute_error: 0.0611 - val_loss: 0.0020 - val_mean_absolute_error: 0.0447\n",
            "Epoch 101/10000\n",
            "32/32 [==============================] - 0s 7ms/step - loss: 0.0148 - mean_absolute_error: 0.0612 - val_loss: 0.0019 - val_mean_absolute_error: 0.0436\n",
            "Epoch 102/10000\n",
            "32/32 [==============================] - 0s 7ms/step - loss: 0.0147 - mean_absolute_error: 0.0612 - val_loss: 0.0018 - val_mean_absolute_error: 0.0420\n",
            "Epoch 103/10000\n",
            "32/32 [==============================] - 0s 7ms/step - loss: 0.0148 - mean_absolute_error: 0.0607 - val_loss: 0.0022 - val_mean_absolute_error: 0.0467\n",
            "Epoch 104/10000\n",
            "32/32 [==============================] - 0s 7ms/step - loss: 0.0145 - mean_absolute_error: 0.0601 - val_loss: 0.0019 - val_mean_absolute_error: 0.0431\n",
            "Epoch 105/10000\n",
            "32/32 [==============================] - 0s 7ms/step - loss: 0.0145 - mean_absolute_error: 0.0600 - val_loss: 0.0020 - val_mean_absolute_error: 0.0443\n",
            "Epoch 106/10000\n",
            "32/32 [==============================] - 0s 7ms/step - loss: 0.0143 - mean_absolute_error: 0.0600 - val_loss: 0.0017 - val_mean_absolute_error: 0.0405\n",
            "Epoch 107/10000\n",
            "32/32 [==============================] - 0s 7ms/step - loss: 0.0143 - mean_absolute_error: 0.0598 - val_loss: 0.0016 - val_mean_absolute_error: 0.0395\n",
            "Epoch 108/10000\n",
            "32/32 [==============================] - 0s 6ms/step - loss: 0.0142 - mean_absolute_error: 0.0597 - val_loss: 0.0016 - val_mean_absolute_error: 0.0395\n",
            "Epoch 109/10000\n",
            "32/32 [==============================] - 0s 7ms/step - loss: 0.0142 - mean_absolute_error: 0.0589 - val_loss: 0.0015 - val_mean_absolute_error: 0.0383\n",
            "Epoch 110/10000\n",
            "32/32 [==============================] - 0s 7ms/step - loss: 0.0141 - mean_absolute_error: 0.0594 - val_loss: 0.0016 - val_mean_absolute_error: 0.0402\n",
            "Epoch 111/10000\n",
            "32/32 [==============================] - 0s 7ms/step - loss: 0.0140 - mean_absolute_error: 0.0584 - val_loss: 0.0019 - val_mean_absolute_error: 0.0436\n",
            "Epoch 112/10000\n",
            "32/32 [==============================] - 0s 7ms/step - loss: 0.0140 - mean_absolute_error: 0.0588 - val_loss: 0.0017 - val_mean_absolute_error: 0.0410\n",
            "Epoch 113/10000\n",
            "32/32 [==============================] - 0s 6ms/step - loss: 0.0139 - mean_absolute_error: 0.0585 - val_loss: 0.0016 - val_mean_absolute_error: 0.0395\n",
            "Epoch 114/10000\n",
            "32/32 [==============================] - 0s 7ms/step - loss: 0.0138 - mean_absolute_error: 0.0581 - val_loss: 0.0013 - val_mean_absolute_error: 0.0355\n",
            "Epoch 115/10000\n",
            "32/32 [==============================] - 0s 7ms/step - loss: 0.0138 - mean_absolute_error: 0.0577 - val_loss: 0.0018 - val_mean_absolute_error: 0.0418\n",
            "Epoch 116/10000\n",
            "32/32 [==============================] - 0s 7ms/step - loss: 0.0137 - mean_absolute_error: 0.0583 - val_loss: 0.0014 - val_mean_absolute_error: 0.0372\n",
            "Epoch 117/10000\n",
            "32/32 [==============================] - 0s 7ms/step - loss: 0.0139 - mean_absolute_error: 0.0585 - val_loss: 0.0014 - val_mean_absolute_error: 0.0374\n",
            "Epoch 118/10000\n",
            "32/32 [==============================] - 0s 6ms/step - loss: 0.0137 - mean_absolute_error: 0.0581 - val_loss: 0.0017 - val_mean_absolute_error: 0.0411\n",
            "Epoch 119/10000\n",
            "32/32 [==============================] - 0s 7ms/step - loss: 0.0135 - mean_absolute_error: 0.0568 - val_loss: 0.0014 - val_mean_absolute_error: 0.0375\n",
            "Epoch 120/10000\n",
            "32/32 [==============================] - 0s 7ms/step - loss: 0.0135 - mean_absolute_error: 0.0575 - val_loss: 0.0013 - val_mean_absolute_error: 0.0361\n",
            "Epoch 121/10000\n",
            "32/32 [==============================] - 0s 7ms/step - loss: 0.0134 - mean_absolute_error: 0.0569 - val_loss: 0.0015 - val_mean_absolute_error: 0.0383\n",
            "Epoch 122/10000\n",
            "32/32 [==============================] - 0s 7ms/step - loss: 0.0134 - mean_absolute_error: 0.0569 - val_loss: 0.0017 - val_mean_absolute_error: 0.0408\n",
            "Epoch 123/10000\n",
            "32/32 [==============================] - 0s 7ms/step - loss: 0.0134 - mean_absolute_error: 0.0565 - val_loss: 0.0013 - val_mean_absolute_error: 0.0353\n",
            "Epoch 124/10000\n",
            "32/32 [==============================] - 0s 7ms/step - loss: 0.0133 - mean_absolute_error: 0.0571 - val_loss: 0.0015 - val_mean_absolute_error: 0.0380\n",
            "Epoch 125/10000\n",
            "32/32 [==============================] - 0s 7ms/step - loss: 0.0132 - mean_absolute_error: 0.0560 - val_loss: 0.0012 - val_mean_absolute_error: 0.0341\n",
            "Epoch 126/10000\n",
            "32/32 [==============================] - 0s 7ms/step - loss: 0.0132 - mean_absolute_error: 0.0561 - val_loss: 0.0013 - val_mean_absolute_error: 0.0355\n",
            "Epoch 127/10000\n",
            "32/32 [==============================] - 0s 7ms/step - loss: 0.0131 - mean_absolute_error: 0.0558 - val_loss: 0.0013 - val_mean_absolute_error: 0.0354\n",
            "Epoch 128/10000\n",
            "32/32 [==============================] - 0s 7ms/step - loss: 0.0131 - mean_absolute_error: 0.0561 - val_loss: 0.0015 - val_mean_absolute_error: 0.0386\n",
            "Epoch 129/10000\n",
            "32/32 [==============================] - 0s 7ms/step - loss: 0.0131 - mean_absolute_error: 0.0556 - val_loss: 9.5337e-04 - val_mean_absolute_error: 0.0306\n",
            "Epoch 130/10000\n",
            "32/32 [==============================] - 0s 7ms/step - loss: 0.0130 - mean_absolute_error: 0.0556 - val_loss: 0.0015 - val_mean_absolute_error: 0.0384\n",
            "Epoch 131/10000\n",
            "32/32 [==============================] - 0s 7ms/step - loss: 0.0129 - mean_absolute_error: 0.0558 - val_loss: 0.0015 - val_mean_absolute_error: 0.0379\n",
            "Epoch 132/10000\n",
            "32/32 [==============================] - 0s 7ms/step - loss: 0.0129 - mean_absolute_error: 0.0554 - val_loss: 0.0015 - val_mean_absolute_error: 0.0380\n",
            "Epoch 133/10000\n",
            "32/32 [==============================] - 0s 7ms/step - loss: 0.0129 - mean_absolute_error: 0.0556 - val_loss: 0.0013 - val_mean_absolute_error: 0.0362\n",
            "Epoch 134/10000\n",
            "32/32 [==============================] - 0s 7ms/step - loss: 0.0128 - mean_absolute_error: 0.0555 - val_loss: 0.0010 - val_mean_absolute_error: 0.0319\n",
            "Epoch 135/10000\n",
            "32/32 [==============================] - 0s 7ms/step - loss: 0.0128 - mean_absolute_error: 0.0543 - val_loss: 0.0014 - val_mean_absolute_error: 0.0371\n",
            "Epoch 136/10000\n",
            "32/32 [==============================] - 0s 7ms/step - loss: 0.0128 - mean_absolute_error: 0.0552 - val_loss: 0.0011 - val_mean_absolute_error: 0.0332\n",
            "Epoch 137/10000\n",
            "32/32 [==============================] - 0s 7ms/step - loss: 0.0127 - mean_absolute_error: 0.0551 - val_loss: 0.0012 - val_mean_absolute_error: 0.0342\n",
            "Epoch 138/10000\n",
            "32/32 [==============================] - 0s 7ms/step - loss: 0.0127 - mean_absolute_error: 0.0547 - val_loss: 0.0011 - val_mean_absolute_error: 0.0333\n",
            "Epoch 139/10000\n",
            "32/32 [==============================] - 0s 7ms/step - loss: 0.0126 - mean_absolute_error: 0.0541 - val_loss: 0.0012 - val_mean_absolute_error: 0.0341\n"
          ],
          "name": "stdout"
        }
      ]
    },
    {
      "cell_type": "code",
      "metadata": {
        "colab": {
          "base_uri": "https://localhost:8080/"
        },
        "id": "fv4r78HdyT6b",
        "outputId": "f8ff6d83-d04c-41ac-c06b-6627bed0cf59"
      },
      "source": [
        "lstm_model.summary()"
      ],
      "execution_count": 320,
      "outputs": [
        {
          "output_type": "stream",
          "text": [
            "Model: \"sequential_24\"\n",
            "_________________________________________________________________\n",
            "Layer (type)                 Output Shape              Param #   \n",
            "=================================================================\n",
            "lstm_30 (LSTM)               (None, 1)                 12        \n",
            "_________________________________________________________________\n",
            "dense_23 (Dense)             (None, 1)                 2         \n",
            "=================================================================\n",
            "Total params: 14\n",
            "Trainable params: 14\n",
            "Non-trainable params: 0\n",
            "_________________________________________________________________\n"
          ],
          "name": "stdout"
        }
      ]
    },
    {
      "cell_type": "code",
      "metadata": {
        "id": "232h5ppMzOtW"
      },
      "source": [
        "X_test = windowed_data.X_test\n",
        "y_test = windowed_data.y_test"
      ],
      "execution_count": 321,
      "outputs": []
    },
    {
      "cell_type": "code",
      "metadata": {
        "colab": {
          "base_uri": "https://localhost:8080/"
        },
        "id": "Tr_-9l0U22cN",
        "outputId": "23edb59a-5e93-4dc6-eeb0-1b3ba8a3904d"
      },
      "source": [
        "lstm_model.evaluate(X_test, y_test)"
      ],
      "execution_count": 322,
      "outputs": [
        {
          "output_type": "stream",
          "text": [
            "24/24 [==============================] - 0s 2ms/step - loss: 0.0165 - mean_absolute_error: 0.0639\n"
          ],
          "name": "stdout"
        },
        {
          "output_type": "execute_result",
          "data": {
            "text/plain": [
              "[0.016498399898409843, 0.06390006840229034]"
            ]
          },
          "metadata": {
            "tags": []
          },
          "execution_count": 322
        }
      ]
    },
    {
      "cell_type": "code",
      "metadata": {
        "id": "TcDVPpRQ5sZj"
      },
      "source": [
        ""
      ],
      "execution_count": null,
      "outputs": []
    }
  ]
}