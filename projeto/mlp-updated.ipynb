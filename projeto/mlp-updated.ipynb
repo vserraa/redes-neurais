{
  "nbformat": 4,
  "nbformat_minor": 5,
  "metadata": {
    "kernelspec": {
      "display_name": "Python 3",
      "language": "python",
      "name": "python3"
    },
    "language_info": {
      "codemirror_mode": {
        "name": "ipython",
        "version": 3
      },
      "file_extension": ".py",
      "mimetype": "text/x-python",
      "name": "python",
      "nbconvert_exporter": "python",
      "pygments_lexer": "ipython3",
      "version": "3.9.2"
    },
    "colab": {
      "name": "mlp.ipynb",
      "provenance": [],
      "collapsed_sections": [],
      "toc_visible": true
    }
  },
  "cells": [
    {
      "cell_type": "code",
      "metadata": {
        "colab": {
          "base_uri": "https://localhost:8080/"
        },
        "id": "bL0lNRVyb3Ov",
        "outputId": "b3a92259-93fb-4b03-f26e-f42846a915be"
      },
      "source": [
        "from google.colab import drive\n",
        "drive.mount('/content/drive')"
      ],
      "id": "bL0lNRVyb3Ov",
      "execution_count": 1,
      "outputs": [
        {
          "output_type": "stream",
          "text": [
            "Mounted at /content/drive\n"
          ],
          "name": "stdout"
        }
      ]
    },
    {
      "cell_type": "code",
      "metadata": {
        "id": "ud5O1Bl3R4PC"
      },
      "source": [
        "##imports\n",
        "import pandas as pd\n",
        "import numpy as np\n",
        "import matplotlib.pyplot as plt\n",
        "from sklearn.metrics import accuracy_score, recall_score, precision_score, f1_score, roc_auc_score\n",
        "from sklearn.metrics import confusion_matrix"
      ],
      "id": "ud5O1Bl3R4PC",
      "execution_count": 2,
      "outputs": []
    },
    {
      "cell_type": "markdown",
      "metadata": {
        "id": "unexpected-simpson"
      },
      "source": [
        "# Importação dos Dados"
      ],
      "id": "unexpected-simpson"
    },
    {
      "cell_type": "code",
      "metadata": {
        "id": "junior-writer"
      },
      "source": [
        "columns_to_drop = ['NEURO_LABEL', 'PROPHET_LABEL']\n",
        "\n",
        "df_train = pd.read_csv('/content/drive/MyDrive/projeto/treino_309.csv').drop(columns_to_drop, axis=1)\n",
        "df_valid = pd.read_csv('/content/drive/MyDrive/projeto/valid.csv').drop(columns_to_drop, axis=1)\n",
        "df_test = pd.read_csv('/content/drive/MyDrive/projeto/BASE-PREPROCESSED(TESTE).gz', compression='gzip', sep='\\t').drop(columns_to_drop, axis=1)"
      ],
      "id": "junior-writer",
      "execution_count": 14,
      "outputs": []
    },
    {
      "cell_type": "code",
      "metadata": {
        "id": "younger-cooler"
      },
      "source": [
        "def create_split(df, target, drop_start):\n",
        "    df.drop(['PROPHET_NORM_FEATURES'], inplace=True, axis=1)\n",
        "    return df[df.columns[drop_start:]].to_numpy(), df[[target]].to_numpy().reshape(-1)"
      ],
      "id": "younger-cooler",
      "execution_count": 15,
      "outputs": []
    },
    {
      "cell_type": "code",
      "metadata": {
        "id": "solved-ebony"
      },
      "source": [
        "X_train, y_train = create_split(df_train, 'ALVO', drop_start=2)\n",
        "X_valid, y_valid = create_split(df_valid, 'ALVO', drop_start=2)\n",
        "X_test, y_test = create_split(df_test, 'ALVO', drop_start=1)"
      ],
      "id": "solved-ebony",
      "execution_count": 16,
      "outputs": []
    },
    {
      "cell_type": "markdown",
      "metadata": {
        "id": "PpsEkdT7bSF5"
      },
      "source": [
        "# MLP"
      ],
      "id": "PpsEkdT7bSF5"
    },
    {
      "cell_type": "code",
      "metadata": {
        "id": "CPM5VDpkbNoM"
      },
      "source": [
        "hidden_layers = [(20), (20, 20), (50), (50, 50)]\n",
        "activation_functions = ['logistic', 'tanh', 'relu']\n",
        "learning_rates = [0.001, 0.01]"
      ],
      "id": "CPM5VDpkbNoM",
      "execution_count": null,
      "outputs": []
    },
    {
      "cell_type": "code",
      "metadata": {
        "id": "x2tIfUueYuHU"
      },
      "source": [
        "from sklearn.neural_network import MLPClassifier\n",
        "from scipy.stats import ks_2samp"
      ],
      "id": "x2tIfUueYuHU",
      "execution_count": 17,
      "outputs": []
    },
    {
      "cell_type": "code",
      "metadata": {
        "id": "XE6p6aKyncD8"
      },
      "source": [
        "best_result = None\n",
        "best_parameters = None\n",
        "\n",
        "for hidden_layer in hidden_layers:\n",
        "  for activation_function in activation_functions:\n",
        "    for learning_rate in learning_rates:\n",
        "      mlp = MLPClassifier(random_state = 0, \n",
        "                          activation = activation_function,\n",
        "                          learning_rate_init = learning_rate,\n",
        "                          hidden_layer_sizes = hidden_layer,\n",
        "                          max_iter=50)\n",
        "      \n",
        "      mlp.fit(X_train, y_train)\n",
        "\n",
        "      y_pred = mlp.predict(X_valid)\n",
        "\n",
        "      accuracy = accuracy_score(y_valid, y_pred)\n",
        "      recall = recall_score(y_valid, y_pred)\n",
        "      precision = precision_score(y_valid, y_pred)\n",
        "      f1 = f1_score(y_valid, y_pred)\n",
        "      roc = roc_auc_score(y_valid, y_pred)\n",
        "      ks = ks_2samp(y_valid, y_pred)\n",
        "\n",
        "      current_parameters = (hidden_layer, activation_function, learning_rate)\n",
        "      current_result = (recall, precision, accuracy, f1, roc, ks)\n",
        "\n",
        "      if best_result == None or current_result > best_result:\n",
        "        best_result = current_result\n",
        "        best_parameters = current_parameters"
      ],
      "id": "XE6p6aKyncD8",
      "execution_count": null,
      "outputs": []
    },
    {
      "cell_type": "code",
      "metadata": {
        "colab": {
          "base_uri": "https://localhost:8080/"
        },
        "id": "0dWqKAorpNzg",
        "outputId": "98ac5ada-4e55-4975-a877-bbd21bd30003"
      },
      "source": [
        "print(best_parameters)\n",
        "print(best_result)"
      ],
      "id": "0dWqKAorpNzg",
      "execution_count": null,
      "outputs": [
        {
          "output_type": "stream",
          "text": [
            "((50, 50), 'relu', 0.001)\n",
            "(0.9271762881941478, 0.49817982657518795, 0.496612424771415, 0.6481194666666666, 0.496612424771415, Ks_2sampResult(statistic=0.4305638634227328, pvalue=0.0))\n"
          ],
          "name": "stdout"
        }
      ]
    },
    {
      "cell_type": "code",
      "metadata": {
        "id": "YRGxpfAM3TM5"
      },
      "source": [
        "final_mlp = MLPClassifier(random_state = 0, \n",
        "                          activation = 'relu',\n",
        "                          learning_rate_init = 0.001,\n",
        "                          hidden_layer_sizes = (50, 50),\n",
        "                          max_iter=50)"
      ],
      "id": "YRGxpfAM3TM5",
      "execution_count": 18,
      "outputs": []
    },
    {
      "cell_type": "code",
      "metadata": {
        "colab": {
          "base_uri": "https://localhost:8080/"
        },
        "id": "acwC-kI73f0F",
        "outputId": "ea06f9d4-1bc3-423a-bcb6-8f5b86b48990"
      },
      "source": [
        "final_mlp.fit(X_train, y_train)"
      ],
      "id": "acwC-kI73f0F",
      "execution_count": 19,
      "outputs": [
        {
          "output_type": "stream",
          "text": [
            "/usr/local/lib/python3.7/dist-packages/sklearn/neural_network/_multilayer_perceptron.py:571: ConvergenceWarning: Stochastic Optimizer: Maximum iterations (50) reached and the optimization hasn't converged yet.\n",
            "  % self.max_iter, ConvergenceWarning)\n"
          ],
          "name": "stderr"
        },
        {
          "output_type": "execute_result",
          "data": {
            "text/plain": [
              "MLPClassifier(activation='relu', alpha=0.0001, batch_size='auto', beta_1=0.9,\n",
              "              beta_2=0.999, early_stopping=False, epsilon=1e-08,\n",
              "              hidden_layer_sizes=(50, 50), learning_rate='constant',\n",
              "              learning_rate_init=0.001, max_fun=15000, max_iter=50,\n",
              "              momentum=0.9, n_iter_no_change=10, nesterovs_momentum=True,\n",
              "              power_t=0.5, random_state=0, shuffle=True, solver='adam',\n",
              "              tol=0.0001, validation_fraction=0.1, verbose=False,\n",
              "              warm_start=False)"
            ]
          },
          "metadata": {
            "tags": []
          },
          "execution_count": 19
        }
      ]
    },
    {
      "cell_type": "code",
      "metadata": {
        "colab": {
          "base_uri": "https://localhost:8080/"
        },
        "id": "uUEjV2ammVAe",
        "outputId": "adc15fad-e7d8-42b5-8594-93cf8e9a7ff3"
      },
      "source": [
        "y_pred_test = final_mlp.predict(X_test)\n",
        "\n",
        "accuracy = accuracy_score(y_test, y_pred_test)\n",
        "recall = recall_score(y_test, y_pred_test)\n",
        "precision = precision_score(y_test, y_pred_test)\n",
        "f1 = f1_score(y_test, y_pred_test)\n",
        "roc = roc_auc_score(y_test, y_pred_test)\n",
        "ks = ks_2samp(y_test, y_pred_test)\n",
        "\n",
        "print(accuracy, precision, f1, roc, ks, recall)"
      ],
      "id": "uUEjV2ammVAe",
      "execution_count": 20,
      "outputs": [
        {
          "output_type": "stream",
          "text": [
            "0.2966145013140299 0.8300913939232999 0.3551286845630594 0.47392274680344615 Ks_2sampResult(statistic=0.624099670072646, pvalue=0.0) 0.22588279217651025\n"
          ],
          "name": "stdout"
        }
      ]
    },
    {
      "cell_type": "code",
      "metadata": {
        "id": "6bgfwAj0Rl5U"
      },
      "source": [
        "metrics_dict = {'Accuracy': accuracy, 'Recall': recall, 'Precision': precision, 'F1': f1, 'ROC-AUC': roc}"
      ],
      "id": "6bgfwAj0Rl5U",
      "execution_count": 21,
      "outputs": []
    },
    {
      "cell_type": "code",
      "metadata": {
        "id": "OGKGnlQURo90"
      },
      "source": [
        "metrics_df = pd.DataFrame(metrics_dict.items(), index = metrics_dict.keys(), columns=['Métrica', 'Valor'])"
      ],
      "id": "OGKGnlQURo90",
      "execution_count": 22,
      "outputs": []
    },
    {
      "cell_type": "code",
      "metadata": {
        "colab": {
          "base_uri": "https://localhost:8080/",
          "height": 195
        },
        "id": "dSUV0U_0RplJ",
        "outputId": "f7ed2ac7-c490-403d-8a43-369d8d263c65"
      },
      "source": [
        "metrics_df"
      ],
      "id": "dSUV0U_0RplJ",
      "execution_count": 23,
      "outputs": [
        {
          "output_type": "execute_result",
          "data": {
            "text/html": [
              "<div>\n",
              "<style scoped>\n",
              "    .dataframe tbody tr th:only-of-type {\n",
              "        vertical-align: middle;\n",
              "    }\n",
              "\n",
              "    .dataframe tbody tr th {\n",
              "        vertical-align: top;\n",
              "    }\n",
              "\n",
              "    .dataframe thead th {\n",
              "        text-align: right;\n",
              "    }\n",
              "</style>\n",
              "<table border=\"1\" class=\"dataframe\">\n",
              "  <thead>\n",
              "    <tr style=\"text-align: right;\">\n",
              "      <th></th>\n",
              "      <th>Métrica</th>\n",
              "      <th>Valor</th>\n",
              "    </tr>\n",
              "  </thead>\n",
              "  <tbody>\n",
              "    <tr>\n",
              "      <th>Accuracy</th>\n",
              "      <td>Accuracy</td>\n",
              "      <td>0.296615</td>\n",
              "    </tr>\n",
              "    <tr>\n",
              "      <th>Recall</th>\n",
              "      <td>Recall</td>\n",
              "      <td>0.225883</td>\n",
              "    </tr>\n",
              "    <tr>\n",
              "      <th>Precision</th>\n",
              "      <td>Precision</td>\n",
              "      <td>0.830091</td>\n",
              "    </tr>\n",
              "    <tr>\n",
              "      <th>F1</th>\n",
              "      <td>F1</td>\n",
              "      <td>0.355129</td>\n",
              "    </tr>\n",
              "    <tr>\n",
              "      <th>ROC-AUC</th>\n",
              "      <td>ROC-AUC</td>\n",
              "      <td>0.473923</td>\n",
              "    </tr>\n",
              "  </tbody>\n",
              "</table>\n",
              "</div>"
            ],
            "text/plain": [
              "             Métrica     Valor\n",
              "Accuracy    Accuracy  0.296615\n",
              "Recall        Recall  0.225883\n",
              "Precision  Precision  0.830091\n",
              "F1                F1  0.355129\n",
              "ROC-AUC      ROC-AUC  0.473923"
            ]
          },
          "metadata": {
            "tags": []
          },
          "execution_count": 23
        }
      ]
    },
    {
      "cell_type": "code",
      "metadata": {
        "colab": {
          "base_uri": "https://localhost:8080/",
          "height": 536
        },
        "id": "xIbdIGdyRtWf",
        "outputId": "14dcd7e5-5d75-45f1-9cd1-9e5627d9b0bb"
      },
      "source": [
        "metrics_df.plot(kind='bar',figsize=(14,8))"
      ],
      "id": "xIbdIGdyRtWf",
      "execution_count": 24,
      "outputs": [
        {
          "output_type": "execute_result",
          "data": {
            "text/plain": [
              "<matplotlib.axes._subplots.AxesSubplot at 0x7f8e5b45e090>"
            ]
          },
          "metadata": {
            "tags": []
          },
          "execution_count": 24
        },
        {
          "output_type": "display_data",
          "data": {
            "image/png": "[encoded data removed]",
            "text/plain": [
              "<Figure size 1008x576 with 1 Axes>"
            ]
          },
          "metadata": {
            "tags": [],
            "needs_background": "light"
          }
        }
      ]
    },
    {
      "cell_type": "code",
      "metadata": {
        "id": "ueHNKncbrT_T"
      },
      "source": [
        "import pickle\n",
        "f = open('/content/drive/MyDrive/projeto/models/MLP', 'wb')\n",
        "pickle.dump(final_mlp, f)"
      ],
      "id": "ueHNKncbrT_T",
      "execution_count": 25,
      "outputs": []
    },
    {
      "cell_type": "code",
      "metadata": {
        "id": "xKjTrjq-0IeL"
      },
      "source": [
        ""
      ],
      "id": "xKjTrjq-0IeL",
      "execution_count": null,
      "outputs": []
    }
  ]
}