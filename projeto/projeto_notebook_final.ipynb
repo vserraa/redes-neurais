{
 "cells": [
  {
   "cell_type": "code",
   "execution_count": 1,
   "id": "chemical-charlotte",
   "metadata": {
    "id": "chemical-charlotte"
   },
   "outputs": [],
   "source": [
    "##imports\n",
    "import pandas as pd\n",
    "import numpy as np\n",
    "import matplotlib.pyplot as plt\n",
    "from sklearn.metrics import accuracy_score, recall_score, precision_score, f1_score, roc_auc_score\n",
    "from sklearn.metrics import confusion_matrix"
   ]
  },
  {
   "cell_type": "markdown",
   "id": "unexpected-simpson",
   "metadata": {
    "id": "unexpected-simpson"
   },
   "source": [
    "# Importação dos Dados"
   ]
  },
  {
   "cell_type": "code",
   "execution_count": 2,
   "id": "junior-writer",
   "metadata": {
    "id": "junior-writer"
   },
   "outputs": [],
   "source": [
    "df_train = pd.read_csv('./data/treino_309.csv')\n",
    "df_test = pd.read_csv('./data/preprocessed_test.csv.gz', compression='gzip', sep='\\t')"
   ]
  },
  {
   "cell_type": "code",
   "execution_count": 3,
   "id": "younger-cooler",
   "metadata": {
    "id": "younger-cooler"
   },
   "outputs": [],
   "source": [
    "def create_split(df, target, drop_end=1):\n",
    "    df = df.dropna()\n",
    "    if 'PROPHET_NORM_FEATURES' in df.columns.values:\n",
    "        df.drop(['PROPHET_NORM_FEATURES'], inplace=True, axis=1)\n",
    "    if 'NEURO_LABEL' in df.columns.values:\n",
    "        df.drop(['NEURO_LABEL'], inplace=True, axis=1)\n",
    "    if 'PROPHET_LABEL' in df.columns.values:\n",
    "        df.drop(['PROPHET_LABEL'], inplace=True, axis=1)\n",
    "    return df[df.columns[:len(df.columns)-drop_end]].to_numpy(), df[[target]].to_numpy().reshape(-1)"
   ]
  },
  {
   "cell_type": "code",
   "execution_count": 4,
   "id": "dZMGOlJXU4c2",
   "metadata": {
    "id": "dZMGOlJXU4c2"
   },
   "outputs": [],
   "source": [
    "df = df_train.drop(['PROPHET_NORM_FEATURES', 'NEURO_LABEL', 'Unnamed: 0'], axis = 1).append(df_test.drop(['PROPHET_NORM_FEATURES', 'NEURO_LABEL'], axis = 1))"
   ]
  },
  {
   "cell_type": "code",
   "execution_count": 5,
   "id": "aL3os-VJRP-e",
   "metadata": {
    "colab": {
     "base_uri": "https://localhost:8080/",
     "height": 439
    },
    "id": "aL3os-VJRP-e",
    "outputId": "75747fc4-416c-4e4c-c625-27b7fd06f6d4"
   },
   "outputs": [],
   "source": [
    "X = df[df.columns].drop(['ALVO'], axis=1)"
   ]
  },
  {
   "cell_type": "code",
   "execution_count": 6,
   "id": "ioO9UJsgkNia",
   "metadata": {
    "id": "ioO9UJsgkNia"
   },
   "outputs": [],
   "source": [
    "X.drop('PROPHET_LABEL', axis=1, inplace=True)"
   ]
  },
  {
   "cell_type": "code",
   "execution_count": 7,
   "id": "fTJNE7FyVamT",
   "metadata": {
    "id": "fTJNE7FyVamT"
   },
   "outputs": [],
   "source": [
    "y = df.ALVO"
   ]
  },
  {
   "cell_type": "code",
   "execution_count": 8,
   "id": "nRjNf88ARCfc",
   "metadata": {
    "colab": {
     "base_uri": "https://localhost:8080/"
    },
    "id": "nRjNf88ARCfc",
    "outputId": "bfd70c73-8481-474e-ff61-21f767c64ed8"
   },
   "outputs": [
    {
     "data": {
      "text/plain": [
       "array([9.08467726e-03, 1.65250584e-02, 3.28695561e-02, 1.49525465e-02,\n",
       "       1.97277307e-04, 2.99919140e-04, 5.12269323e-04, 1.70814570e-03,\n",
       "       7.77580647e-04, 6.32680646e-03, 0.00000000e+00, 6.06583209e-04,\n",
       "       7.85454546e-04, 2.06491365e-03, 1.18990718e-03, 5.88353183e-04,\n",
       "       9.66964032e-04, 1.33494556e-03, 0.00000000e+00, 1.47316539e-03,\n",
       "       7.42635165e-04, 2.14059778e-03, 9.56356811e-04, 2.19160907e-03,\n",
       "       0.00000000e+00, 4.16283200e-04, 7.02743608e-04, 6.19674906e-04,\n",
       "       1.23576350e-03, 1.16679837e-03, 1.52252927e-03, 9.33371575e-04,\n",
       "       4.19563548e-04, 1.39311076e-03, 1.41392945e-03, 9.07199720e-04,\n",
       "       0.00000000e+00, 7.15213023e-04, 6.30818383e-04, 0.00000000e+00,\n",
       "       1.11680238e-03, 7.69537290e-04, 1.75439487e-03, 1.03205409e-03,\n",
       "       1.04628330e-03, 1.74956804e-03, 1.65381122e-03, 9.30191277e-04,\n",
       "       0.00000000e+00, 6.47308236e-04, 1.40333284e-03, 1.69106862e-03,\n",
       "       6.35783108e-04, 1.40206008e-03, 1.36497473e-03, 8.59280811e-04,\n",
       "       1.38987480e-03, 6.46274322e-04, 1.27970782e-03, 1.56313461e-03,\n",
       "       1.24537822e-03, 1.10151223e-03, 0.00000000e+00, 5.97272030e-04,\n",
       "       1.51556942e-03, 1.27012053e-02, 1.56415848e-03, 8.71318566e-04,\n",
       "       0.00000000e+00, 5.47627638e-04, 1.06252075e-03, 6.26369255e-04,\n",
       "       1.17590172e-03, 1.42736315e-03, 4.83343530e-04, 1.76326939e-03,\n",
       "       1.95636748e-03, 0.00000000e+00, 4.72551162e-04, 1.13675416e-03,\n",
       "       0.00000000e+00, 9.57947588e-04, 5.45940374e-04, 1.04334997e-03,\n",
       "       2.02716019e-03, 1.67995902e-03, 1.29101084e-03, 0.00000000e+00,\n",
       "       6.16599929e-04, 1.49297250e-03, 1.81410334e-03, 1.05064562e-03,\n",
       "       1.64676965e-03, 6.82524578e-04, 1.46704234e-03, 3.83250117e-04,\n",
       "       1.07710864e-03, 1.07734363e-03, 0.00000000e+00, 1.74889263e-03,\n",
       "       1.42134581e-03, 0.00000000e+00, 5.52521915e-04, 1.22189841e-03,\n",
       "       3.95081663e-04, 1.17538740e-03, 1.84457417e-03, 0.00000000e+00,\n",
       "       9.52858961e-04, 0.00000000e+00, 5.53874935e-04, 1.62180494e-03,\n",
       "       1.37974966e-03, 2.24137090e-03, 2.31478256e-03, 7.66676752e-04,\n",
       "       1.97128685e-03, 1.96100637e-03, 8.50896022e-05, 7.82514244e-04,\n",
       "       1.81828095e-03, 1.51509133e-03, 1.09560489e-03, 1.97432357e-03,\n",
       "       7.47429809e-04, 1.63638475e-03, 1.03074808e-03, 8.64677250e-04,\n",
       "       1.63047713e-03, 1.54195013e-03, 6.04793679e-04, 1.98755935e-03,\n",
       "       1.21071552e-03, 2.17113695e-04, 2.30422692e-03, 9.41561724e-04,\n",
       "       6.31038958e-04, 1.46900425e-03, 1.30117816e-03, 4.08075527e-04,\n",
       "       1.55221295e-03, 1.42448559e-03, 7.71878574e-05, 1.88452137e-03,\n",
       "       1.94381133e-03, 2.31253152e-04, 1.03148000e-03, 2.13726987e-03,\n",
       "       1.25211116e-03, 1.99617028e-03, 1.56507091e-03, 8.42806893e-04,\n",
       "       1.81145121e-03, 1.95621315e-03, 1.45592056e-03, 9.23234305e-04,\n",
       "       2.06817852e-03, 1.08528786e-03, 1.75002754e-03, 2.03760655e-03,\n",
       "       1.52373566e-03, 1.17253310e-03, 1.84963341e-03, 7.88717052e-04,\n",
       "       1.82309389e-03, 1.08323456e-03, 2.19018759e-05, 1.85981182e-03,\n",
       "       1.43007947e-03, 0.00000000e+00, 4.54195542e-04, 0.00000000e+00,\n",
       "       1.24786585e-03, 1.76053494e-03, 4.20263298e-04, 2.07924115e-03,\n",
       "       1.93780598e-03, 1.08321568e-03, 1.36680868e-03, 1.36489628e-03,\n",
       "       8.00393103e-04, 1.61546620e-03, 1.31273220e-03, 8.82684708e-04,\n",
       "       1.71590720e-03, 1.33571193e-03, 6.06243696e-04, 1.70962912e-03,\n",
       "       1.39479793e-03, 1.80392676e-03, 8.13435064e-04, 1.83886516e-03,\n",
       "       2.13074639e-04, 1.10164383e-03, 1.14922577e-03, 9.47394578e-04,\n",
       "       1.75253026e-03, 1.39488255e-03, 1.73058674e-04, 1.92401161e-03,\n",
       "       8.71291395e-04, 3.02481989e-04, 2.09984811e-03, 1.30518618e-03,\n",
       "       8.35688187e-04, 1.94501982e-03, 1.96153134e-03, 5.28751130e-04,\n",
       "       8.83412962e-04, 1.64556519e-03, 6.62201022e-04, 2.04249773e-03,\n",
       "       1.24778753e-03, 6.89569809e-04, 1.65553028e-03, 1.76971086e-03,\n",
       "       4.09476132e-04, 1.58096408e-03, 1.14195049e-03, 1.00125209e-03,\n",
       "       1.72242092e-03, 1.48776895e-03, 2.54735392e-05, 1.69273209e-03,\n",
       "       1.43300310e-03, 4.62872531e-04, 2.11212548e-03, 1.12681776e-03,\n",
       "       6.02508579e-03, 2.95162706e-03, 5.79115087e-03, 7.20141248e-04,\n",
       "       2.22263453e-03, 1.90347846e-04, 1.06928160e-03, 2.23034885e-03,\n",
       "       1.71739274e-03, 1.62928965e-03, 2.28844302e-04, 7.56661885e-04,\n",
       "       0.00000000e+00, 3.37141384e-03, 0.00000000e+00, 1.75787124e-03,\n",
       "       1.55175794e-03, 2.81573288e-03, 1.53541586e-03, 0.00000000e+00,\n",
       "       0.00000000e+00, 2.50204595e-03, 0.00000000e+00, 2.80610573e-03,\n",
       "       1.90878850e-04, 1.49282650e-03, 0.00000000e+00, 4.05369499e-03,\n",
       "       0.00000000e+00, 2.28270701e-03, 1.12135154e-03, 0.00000000e+00,\n",
       "       0.00000000e+00, 2.73382711e-03, 0.00000000e+00, 3.63579168e-03,\n",
       "       0.00000000e+00, 2.91424260e-03, 0.00000000e+00, 1.86242205e-03,\n",
       "       0.00000000e+00, 1.66880838e-03, 0.00000000e+00, 2.58795387e-03,\n",
       "       0.00000000e+00, 2.92842014e-03, 1.00603956e-03, 5.07620562e-03,\n",
       "       8.07771711e-02, 3.17705685e-02, 3.07620174e-02, 1.37265757e-03,\n",
       "       1.37758240e-02, 8.99765966e-02, 2.70559011e-03, 3.05855703e-03,\n",
       "       7.30316637e-03, 1.69212382e-02, 8.49199186e-03, 2.59861551e-02,\n",
       "       5.72434544e-02, 2.91587382e-02, 2.49223102e-02, 5.56474436e-02,\n",
       "       7.08375762e-04, 3.42883824e-03, 2.77556958e-02, 4.16169656e-03,\n",
       "       7.15712230e-04, 9.26934271e-04, 9.05066613e-04, 3.08963213e-03,\n",
       "       1.13899307e-02, 1.11001223e-02, 2.01744143e-02, 1.29676343e-02,\n",
       "       5.62080342e-03])"
      ]
     },
     "execution_count": 8,
     "metadata": {},
     "output_type": "execute_result"
    }
   ],
   "source": [
    "from sklearn.tree import DecisionTreeRegressor\n",
    "\n",
    "tree = DecisionTreeRegressor().fit(X, y)\n",
    "tree.feature_importances_"
   ]
  },
  {
   "cell_type": "code",
   "execution_count": 9,
   "id": "Vc2v8ovvj4I8",
   "metadata": {
    "id": "Vc2v8ovvj4I8"
   },
   "outputs": [],
   "source": [
    "feat_imp = tree.feature_importances_\n",
    "cols_to_use = X[X.columns.values[np.where(feat_imp>5e-3)]].columns.values"
   ]
  },
  {
   "cell_type": "code",
   "execution_count": 10,
   "id": "DlzsvDdhkEU2",
   "metadata": {
    "id": "DlzsvDdhkEU2"
   },
   "outputs": [],
   "source": [
    "cols_to_use = np.append(cols_to_use, df_test.columns[0])"
   ]
  },
  {
   "cell_type": "code",
   "execution_count": 11,
   "id": "APrr0L5UneCe",
   "metadata": {
    "id": "APrr0L5UneCe"
   },
   "outputs": [],
   "source": [
    "df_train = df_train[cols_to_use]\n",
    "df_test = df_test[cols_to_use]"
   ]
  },
  {
   "cell_type": "code",
   "execution_count": 12,
   "id": "solved-ebony",
   "metadata": {
    "id": "solved-ebony"
   },
   "outputs": [],
   "source": [
    "X_train = df_train[df_train.drop(['ALVO'], axis=1).columns.values]\n",
    "y_train = df_train.ALVO\n"
   ]
  },
  {
   "cell_type": "code",
   "execution_count": 13,
   "id": "g2BTeM6kXrsA",
   "metadata": {
    "id": "g2BTeM6kXrsA"
   },
   "outputs": [],
   "source": [
    "X_test = df_test[df_test.drop(['ALVO'], axis=1).columns.values]\n",
    "y_test = df_test.ALVO"
   ]
  },
  {
   "cell_type": "markdown",
   "id": "documented-ordering",
   "metadata": {
    "id": "documented-ordering"
   },
   "source": [
    "# Primeiro Modelo: Random Forest"
   ]
  },
  {
   "cell_type": "code",
   "execution_count": 69,
   "id": "emotional-surgery",
   "metadata": {
    "id": "emotional-surgery"
   },
   "outputs": [],
   "source": [
    "from sklearn.ensemble import RandomForestClassifier"
   ]
  },
  {
   "cell_type": "code",
   "execution_count": 72,
   "id": "equipped-front",
   "metadata": {
    "id": "equipped-front"
   },
   "outputs": [],
   "source": [
    "forest = RandomForestClassifier(max_features=6, n_estimators=50)"
   ]
  },
  {
   "cell_type": "code",
   "execution_count": 73,
   "id": "level-bibliography",
   "metadata": {
    "colab": {
     "base_uri": "https://localhost:8080/"
    },
    "id": "level-bibliography",
    "outputId": "13f01927-265f-4338-ce85-9ac2d3fd418a"
   },
   "outputs": [
    {
     "data": {
      "text/plain": [
       "RandomForestClassifier(max_features=6, n_estimators=50)"
      ]
     },
     "execution_count": 73,
     "metadata": {},
     "output_type": "execute_result"
    }
   ],
   "source": [
    "forest.fit(X_train, y_train)"
   ]
  },
  {
   "cell_type": "code",
   "execution_count": 74,
   "id": "allied-reconstruction",
   "metadata": {
    "id": "allied-reconstruction"
   },
   "outputs": [],
   "source": [
    "y_pred = forest.predict(X_test)\n",
    "accuracy = accuracy_score(y_test, y_pred)\n",
    "recall = recall_score(y_test, y_pred)\n",
    "precision = precision_score(y_test, y_pred)\n",
    "f1 = f1_score(y_test, y_pred)\n",
    "roc = roc_auc_score(y_test, y_pred)"
   ]
  },
  {
   "cell_type": "code",
   "execution_count": 75,
   "id": "secure-freight",
   "metadata": {
    "id": "secure-freight"
   },
   "outputs": [],
   "source": [
    "metrics_dict = {'Accuracy': accuracy, 'Recall': recall, 'Precision': precision, 'F1': f1, 'ROC-AUC': roc}"
   ]
  },
  {
   "cell_type": "code",
   "execution_count": 76,
   "id": "dangerous-perry",
   "metadata": {
    "id": "dangerous-perry"
   },
   "outputs": [],
   "source": [
    "metrics_df = pd.DataFrame(metrics_dict.items(), index = metrics_dict.keys(), columns=['Métrica', 'Valor'])"
   ]
  },
  {
   "cell_type": "code",
   "execution_count": 77,
   "id": "IY8hG5H4Zl-e",
   "metadata": {
    "colab": {
     "base_uri": "https://localhost:8080/",
     "height": 204
    },
    "id": "IY8hG5H4Zl-e",
    "outputId": "6a280ea5-dcf6-4511-83b2-6dcfcdeba4e9"
   },
   "outputs": [
    {
     "data": {
      "text/html": [
       "<div>\n",
       "<style scoped>\n",
       "    .dataframe tbody tr th:only-of-type {\n",
       "        vertical-align: middle;\n",
       "    }\n",
       "\n",
       "    .dataframe tbody tr th {\n",
       "        vertical-align: top;\n",
       "    }\n",
       "\n",
       "    .dataframe thead th {\n",
       "        text-align: right;\n",
       "    }\n",
       "</style>\n",
       "<table border=\"1\" class=\"dataframe\">\n",
       "  <thead>\n",
       "    <tr style=\"text-align: right;\">\n",
       "      <th></th>\n",
       "      <th>Métrica</th>\n",
       "      <th>Valor</th>\n",
       "    </tr>\n",
       "  </thead>\n",
       "  <tbody>\n",
       "    <tr>\n",
       "      <th>Accuracy</th>\n",
       "      <td>Accuracy</td>\n",
       "      <td>0.842709</td>\n",
       "    </tr>\n",
       "    <tr>\n",
       "      <th>Recall</th>\n",
       "      <td>Recall</td>\n",
       "      <td>0.961280</td>\n",
       "    </tr>\n",
       "    <tr>\n",
       "      <th>Precision</th>\n",
       "      <td>Precision</td>\n",
       "      <td>0.869144</td>\n",
       "    </tr>\n",
       "    <tr>\n",
       "      <th>F1</th>\n",
       "      <td>F1</td>\n",
       "      <td>0.912893</td>\n",
       "    </tr>\n",
       "    <tr>\n",
       "      <th>ROC-AUC</th>\n",
       "      <td>ROC-AUC</td>\n",
       "      <td>0.545478</td>\n",
       "    </tr>\n",
       "  </tbody>\n",
       "</table>\n",
       "</div>"
      ],
      "text/plain": [
       "             Métrica     Valor\n",
       "Accuracy    Accuracy  0.842709\n",
       "Recall        Recall  0.961280\n",
       "Precision  Precision  0.869144\n",
       "F1                F1  0.912893\n",
       "ROC-AUC      ROC-AUC  0.545478"
      ]
     },
     "execution_count": 77,
     "metadata": {},
     "output_type": "execute_result"
    }
   ],
   "source": [
    "metrics_df"
   ]
  },
  {
   "cell_type": "code",
   "execution_count": 78,
   "id": "shaped-advocate",
   "metadata": {
    "colab": {
     "base_uri": "https://localhost:8080/",
     "height": 537
    },
    "id": "shaped-advocate",
    "outputId": "f930ead6-d621-4d90-bf99-e59b648839e1"
   },
   "outputs": [
    {
     "data": {
      "text/plain": [
       "<AxesSubplot:>"
      ]
     },
     "execution_count": 78,
     "metadata": {},
     "output_type": "execute_result"
    },
    {
     "data": {
      "image/png": "[encoded data removed]",
      "text/plain": [
       "<Figure size 1008x576 with 1 Axes>"
      ]
     },
     "metadata": {
      "needs_background": "light"
     },
     "output_type": "display_data"
    }
   ],
   "source": [
    "metrics_df.plot(kind='bar',figsize=(14,8))"
   ]
  },
  {
   "cell_type": "code",
   "execution_count": 79,
   "id": "6COgjE_cm8eS",
   "metadata": {
    "colab": {
     "base_uri": "https://localhost:8080/"
    },
    "id": "6COgjE_cm8eS",
    "outputId": "03f9ed1d-79a2-4a6e-f6cc-9cf4835439ca"
   },
   "outputs": [
    {
     "data": {
      "text/plain": [
       "KstestResult(statistic=0.09089266260152108, pvalue=0.0)"
      ]
     },
     "execution_count": 79,
     "metadata": {},
     "output_type": "execute_result"
    }
   ],
   "source": [
    "from scipy.stats import ks_2samp\n",
    "ks_2samp(y_pred, y_test)"
   ]
  },
  {
   "cell_type": "code",
   "execution_count": 80,
   "id": "6fce06b3",
   "metadata": {},
   "outputs": [
    {
     "data": {
      "text/plain": [
       "<AxesSubplot:title={'center':'KS Statistic Plot'}, xlabel='Threshold', ylabel='Percentage below threshold'>"
      ]
     },
     "execution_count": 80,
     "metadata": {},
     "output_type": "execute_result"
    },
    {
     "data": {
      "image/png": "[encoded data removed]",
      "text/plain": [
       "<Figure size 432x288 with 1 Axes>"
      ]
     },
     "metadata": {
      "needs_background": "light"
     },
     "output_type": "display_data"
    }
   ],
   "source": [
    "from scikitplot.metrics import plot_ks_statistic\n",
    "\n",
    "plot_ks_statistic(y_test, gbrt.predict_proba(X_test))"
   ]
  },
  {
   "cell_type": "code",
   "execution_count": 81,
   "id": "0817a30c",
   "metadata": {},
   "outputs": [
    {
     "data": {
      "text/plain": [
       "<AxesSubplot:title={'center':'Normalized Confusion Matrix'}, xlabel='Predicted label', ylabel='True label'>"
      ]
     },
     "execution_count": 81,
     "metadata": {},
     "output_type": "execute_result"
    },
    {
     "data": {
      "image/png": "[encoded data removed]",
      "text/plain": [
       "<Figure size 432x288 with 2 Axes>"
      ]
     },
     "metadata": {
      "needs_background": "light"
     },
     "output_type": "display_data"
    }
   ],
   "source": [
    "from scikitplot.metrics import plot_confusion_matrix\n",
    "plot_confusion_matrix(y_test, forest.predict(X_test), normalize = True, cmap = 'Pastel2', text_fontsize = 'large')"
   ]
  },
  {
   "cell_type": "markdown",
   "id": "southern-stability",
   "metadata": {
    "id": "southern-stability"
   },
   "source": [
    "# Gradient Boosting"
   ]
  },
  {
   "cell_type": "code",
   "execution_count": 14,
   "id": "genetic-carolina",
   "metadata": {
    "id": "genetic-carolina"
   },
   "outputs": [],
   "source": [
    "from sklearn.ensemble import GradientBoostingClassifier"
   ]
  },
  {
   "cell_type": "code",
   "execution_count": 25,
   "id": "proof-effectiveness",
   "metadata": {
    "id": "proof-effectiveness"
   },
   "outputs": [],
   "source": [
    "gbrt = GradientBoostingClassifier(max_depth = 6, n_estimators = 35)"
   ]
  },
  {
   "cell_type": "code",
   "execution_count": 26,
   "id": "aggressive-south",
   "metadata": {
    "id": "aggressive-south",
    "outputId": "39a9f082-d87e-41df-9157-69d83a446829"
   },
   "outputs": [
    {
     "data": {
      "text/plain": [
       "GradientBoostingClassifier(max_depth=6, n_estimators=35)"
      ]
     },
     "execution_count": 26,
     "metadata": {},
     "output_type": "execute_result"
    }
   ],
   "source": [
    "gbrt.fit(X_train, y_train)"
   ]
  },
  {
   "cell_type": "code",
   "execution_count": 82,
   "id": "external-fountain",
   "metadata": {
    "id": "external-fountain"
   },
   "outputs": [],
   "source": [
    "y_pred = gbrt.predict(X_test)\n",
    "accuracy = accuracy_score(y_test, y_pred)\n",
    "recall = recall_score(y_test, y_pred)\n",
    "precision = precision_score(y_test, y_pred)\n",
    "f1 = f1_score(y_test, y_pred)\n",
    "roc = roc_auc_score(y_test, y_pred)"
   ]
  },
  {
   "cell_type": "code",
   "execution_count": 83,
   "id": "super-federal",
   "metadata": {
    "colab": {
     "base_uri": "https://localhost:8080/",
     "height": 537
    },
    "id": "super-federal",
    "outputId": "269c62be-fe00-4ccc-d046-0e81ccbdd56f"
   },
   "outputs": [
    {
     "data": {
      "text/plain": [
       "<AxesSubplot:>"
      ]
     },
     "execution_count": 83,
     "metadata": {},
     "output_type": "execute_result"
    },
    {
     "data": {
      "image/png": "[encoded data removed]",
      "text/plain": [
       "<Figure size 1008x576 with 1 Axes>"
      ]
     },
     "metadata": {
      "needs_background": "light"
     },
     "output_type": "display_data"
    }
   ],
   "source": [
    "metrics_dict = {'Accuracy': accuracy, 'Recall': recall, 'Precision': precision, 'F1': f1, 'ROC-AUC': roc}\n",
    "\n",
    "metrics_df = pd.DataFrame(metrics_dict.items(), index = metrics_dict.keys(), columns=['Métrica', 'Valor'])\n",
    "\n",
    "metrics_df.plot(kind='bar',figsize=(14,8))"
   ]
  },
  {
   "cell_type": "code",
   "execution_count": 84,
   "id": "59255b8d",
   "metadata": {},
   "outputs": [
    {
     "data": {
      "text/html": [
       "<div>\n",
       "<style scoped>\n",
       "    .dataframe tbody tr th:only-of-type {\n",
       "        vertical-align: middle;\n",
       "    }\n",
       "\n",
       "    .dataframe tbody tr th {\n",
       "        vertical-align: top;\n",
       "    }\n",
       "\n",
       "    .dataframe thead th {\n",
       "        text-align: right;\n",
       "    }\n",
       "</style>\n",
       "<table border=\"1\" class=\"dataframe\">\n",
       "  <thead>\n",
       "    <tr style=\"text-align: right;\">\n",
       "      <th></th>\n",
       "      <th>Métrica</th>\n",
       "      <th>Valor</th>\n",
       "    </tr>\n",
       "  </thead>\n",
       "  <tbody>\n",
       "    <tr>\n",
       "      <th>Accuracy</th>\n",
       "      <td>Accuracy</td>\n",
       "      <td>0.635412</td>\n",
       "    </tr>\n",
       "    <tr>\n",
       "      <th>Recall</th>\n",
       "      <td>Recall</td>\n",
       "      <td>0.632401</td>\n",
       "    </tr>\n",
       "    <tr>\n",
       "      <th>Precision</th>\n",
       "      <td>Precision</td>\n",
       "      <td>0.916500</td>\n",
       "    </tr>\n",
       "    <tr>\n",
       "      <th>F1</th>\n",
       "      <td>F1</td>\n",
       "      <td>0.748396</td>\n",
       "    </tr>\n",
       "    <tr>\n",
       "      <th>ROC-AUC</th>\n",
       "      <td>ROC-AUC</td>\n",
       "      <td>0.642961</td>\n",
       "    </tr>\n",
       "  </tbody>\n",
       "</table>\n",
       "</div>"
      ],
      "text/plain": [
       "             Métrica     Valor\n",
       "Accuracy    Accuracy  0.635412\n",
       "Recall        Recall  0.632401\n",
       "Precision  Precision  0.916500\n",
       "F1                F1  0.748396\n",
       "ROC-AUC      ROC-AUC  0.642961"
      ]
     },
     "execution_count": 84,
     "metadata": {},
     "output_type": "execute_result"
    }
   ],
   "source": [
    "metrics_df"
   ]
  },
  {
   "cell_type": "code",
   "execution_count": 30,
   "id": "d2818d01",
   "metadata": {},
   "outputs": [
    {
     "data": {
      "text/plain": [
       "KstestResult(statistic=0.26578513932847647, pvalue=0.0)"
      ]
     },
     "execution_count": 30,
     "metadata": {},
     "output_type": "execute_result"
    }
   ],
   "source": [
    "from scipy.stats import ks_2samp\n",
    "\n",
    "ks_2samp(y_test, y_pred)"
   ]
  },
  {
   "cell_type": "code",
   "execution_count": 31,
   "id": "f8a70369",
   "metadata": {},
   "outputs": [
    {
     "data": {
      "text/plain": [
       "<AxesSubplot:title={'center':'KS Statistic Plot'}, xlabel='Threshold', ylabel='Percentage below threshold'>"
      ]
     },
     "execution_count": 31,
     "metadata": {},
     "output_type": "execute_result"
    },
    {
     "data": {
      "image/png": "[encoded data removed]",
      "text/plain": [
       "<Figure size 432x288 with 1 Axes>"
      ]
     },
     "metadata": {
      "needs_background": "light"
     },
     "output_type": "display_data"
    }
   ],
   "source": [
    "from scikitplot.metrics import plot_ks_statistic\n",
    "\n",
    "plot_ks_statistic(y_test, gbrt.predict_proba(X_test))"
   ]
  },
  {
   "cell_type": "code",
   "execution_count": 66,
   "id": "4f3501a3",
   "metadata": {},
   "outputs": [
    {
     "data": {
      "text/plain": [
       "<AxesSubplot:title={'center':'Normalized Confusion Matrix'}, xlabel='Predicted label', ylabel='True label'>"
      ]
     },
     "execution_count": 66,
     "metadata": {},
     "output_type": "execute_result"
    },
    {
     "data": {
      "image/png": "[encoded data removed]",
      "text/plain": [
       "<Figure size 432x288 with 2 Axes>"
      ]
     },
     "metadata": {
      "needs_background": "light"
     },
     "output_type": "display_data"
    }
   ],
   "source": [
    "plot_confusion_matrix(y_test, gbrt.predict(X_test), normalize = True, cmap = 'Pastel2', text_fontsize = 'large')"
   ]
  },
  {
   "cell_type": "code",
   "execution_count": null,
   "id": "546b4b9e",
   "metadata": {},
   "outputs": [],
   "source": [
    "import pickle\n",
    "f = open('./models/GradientBoosting', 'wb')\n",
    "pickle.dump(gbrt, f)"
   ]
  },
  {
   "cell_type": "markdown",
   "id": "88bd7b69",
   "metadata": {
    "id": "88bd7b69"
   },
   "source": [
    "# Ensemble MLP"
   ]
  },
  {
   "cell_type": "code",
   "execution_count": 44,
   "id": "822efcb7",
   "metadata": {
    "id": "822efcb7"
   },
   "outputs": [],
   "source": [
    "from sklearn.neural_network import MLPClassifier\n",
    "from sklearn.ensemble import BaggingClassifier"
   ]
  },
  {
   "cell_type": "code",
   "execution_count": 45,
   "id": "003ba258",
   "metadata": {
    "id": "003ba258"
   },
   "outputs": [],
   "source": [
    "baggingClassifier = BaggingClassifier(\n",
    "    base_estimator = MLPClassifier(hidden_layer_sizes = (16)),\n",
    "    max_samples = 0.75,\n",
    "    max_features = 0.75,\n",
    "    n_estimators = 5\n",
    ")"
   ]
  },
  {
   "cell_type": "code",
   "execution_count": 46,
   "id": "8a42b7a2",
   "metadata": {
    "id": "8a42b7a2",
    "outputId": "f2c9603d-5f40-410e-b6d5-1d464080bb56"
   },
   "outputs": [
    {
     "data": {
      "text/plain": [
       "BaggingClassifier(base_estimator=MLPClassifier(hidden_layer_sizes=16),\n",
       "                  max_features=0.75, max_samples=0.75, n_estimators=5)"
      ]
     },
     "execution_count": 46,
     "metadata": {},
     "output_type": "execute_result"
    }
   ],
   "source": [
    "baggingClassifier.fit(X_train, y_train)"
   ]
  },
  {
   "cell_type": "code",
   "execution_count": 47,
   "id": "eb6c998a",
   "metadata": {
    "id": "eb6c998a"
   },
   "outputs": [],
   "source": [
    "y_pred = baggingClassifier.predict(X_test)"
   ]
  },
  {
   "cell_type": "code",
   "execution_count": 48,
   "id": "b942f41e",
   "metadata": {
    "id": "b942f41e"
   },
   "outputs": [],
   "source": [
    "accuracy = accuracy_score(y_test, y_pred)\n",
    "recall = recall_score(y_test, y_pred)\n",
    "precision = precision_score(y_test, y_pred)\n",
    "f1 = f1_score(y_test, y_pred)\n",
    "roc = roc_auc_score(y_test, y_pred)"
   ]
  },
  {
   "cell_type": "code",
   "execution_count": 49,
   "id": "d4fd66ed",
   "metadata": {
    "id": "d4fd66ed",
    "outputId": "c77acd17-c8f7-46ea-c893-76d3da06bd91"
   },
   "outputs": [
    {
     "data": {
      "text/plain": [
       "<AxesSubplot:>"
      ]
     },
     "execution_count": 49,
     "metadata": {},
     "output_type": "execute_result"
    },
    {
     "data": {
      "image/png": "[encoded data removed]",
      "text/plain": [
       "<Figure size 1008x576 with 1 Axes>"
      ]
     },
     "metadata": {
      "needs_background": "light"
     },
     "output_type": "display_data"
    }
   ],
   "source": [
    "metrics_dict = {'Accuracy': accuracy, 'Recall': recall, 'Precision': precision, 'F1': f1, 'ROC-AUC': roc}\n",
    "\n",
    "metrics_df = pd.DataFrame(metrics_dict.items(), index = metrics_dict.keys(), columns=['Métrica', 'Valor'])\n",
    "\n",
    "metrics_df.plot(kind='bar',figsize=(14,8))"
   ]
  },
  {
   "cell_type": "code",
   "execution_count": 50,
   "id": "81a80393",
   "metadata": {
    "id": "81a80393"
   },
   "outputs": [],
   "source": [
    "from scipy.stats import ks_2samp"
   ]
  },
  {
   "cell_type": "code",
   "execution_count": 51,
   "id": "4b2f5824",
   "metadata": {
    "id": "4b2f5824",
    "outputId": "c53abab3-3d6c-4a53-c1e9-f7ebcecf0ac7"
   },
   "outputs": [
    {
     "data": {
      "text/plain": [
       "KstestResult(statistic=0.27515631534652696, pvalue=0.0)"
      ]
     },
     "execution_count": 51,
     "metadata": {},
     "output_type": "execute_result"
    }
   ],
   "source": [
    "from scipy.stats import ks_2samp\n",
    "ks_2samp(y_pred, y_test)"
   ]
  },
  {
   "cell_type": "code",
   "execution_count": 64,
   "id": "feb35217",
   "metadata": {},
   "outputs": [
    {
     "data": {
      "text/plain": [
       "<AxesSubplot:title={'center':'Normalized Confusion Matrix'}, xlabel='Predicted label', ylabel='True label'>"
      ]
     },
     "execution_count": 64,
     "metadata": {},
     "output_type": "execute_result"
    },
    {
     "data": {
      "image/png": "[encoded data removed]",
      "text/plain": [
       "<Figure size 432x288 with 2 Axes>"
      ]
     },
     "metadata": {
      "needs_background": "light"
     },
     "output_type": "display_data"
    }
   ],
   "source": [
    "plot_confusion_matrix(y_test, baggingClassifier.predict(X_test), normalize = True, cmap = 'Pastel2', text_fontsize = 'large')"
   ]
  },
  {
   "cell_type": "code",
   "execution_count": 53,
   "id": "993a6399",
   "metadata": {},
   "outputs": [
    {
     "data": {
      "text/plain": [
       "<AxesSubplot:title={'center':'KS Statistic Plot'}, xlabel='Threshold', ylabel='Percentage below threshold'>"
      ]
     },
     "execution_count": 53,
     "metadata": {},
     "output_type": "execute_result"
    },
    {
     "data": {
      "image/png": "[encoded data removed]",
      "text/plain": [
       "<Figure size 432x288 with 1 Axes>"
      ]
     },
     "metadata": {
      "needs_background": "light"
     },
     "output_type": "display_data"
    }
   ],
   "source": [
    "plot_ks_statistic(y_test, baggingClassifier.predict_proba(X_test))"
   ]
  },
  {
   "cell_type": "code",
   "execution_count": 67,
   "id": "eaeb4527",
   "metadata": {},
   "outputs": [
    {
     "data": {
      "text/html": [
       "<div>\n",
       "<style scoped>\n",
       "    .dataframe tbody tr th:only-of-type {\n",
       "        vertical-align: middle;\n",
       "    }\n",
       "\n",
       "    .dataframe tbody tr th {\n",
       "        vertical-align: top;\n",
       "    }\n",
       "\n",
       "    .dataframe thead th {\n",
       "        text-align: right;\n",
       "    }\n",
       "</style>\n",
       "<table border=\"1\" class=\"dataframe\">\n",
       "  <thead>\n",
       "    <tr style=\"text-align: right;\">\n",
       "      <th></th>\n",
       "      <th>Métrica</th>\n",
       "      <th>Valor</th>\n",
       "    </tr>\n",
       "  </thead>\n",
       "  <tbody>\n",
       "    <tr>\n",
       "      <th>Accuracy</th>\n",
       "      <td>Accuracy</td>\n",
       "      <td>0.625401</td>\n",
       "    </tr>\n",
       "    <tr>\n",
       "      <th>Recall</th>\n",
       "      <td>Recall</td>\n",
       "      <td>0.621098</td>\n",
       "    </tr>\n",
       "    <tr>\n",
       "      <th>Precision</th>\n",
       "      <td>Precision</td>\n",
       "      <td>0.914606</td>\n",
       "    </tr>\n",
       "    <tr>\n",
       "      <th>F1</th>\n",
       "      <td>F1</td>\n",
       "      <td>0.739804</td>\n",
       "    </tr>\n",
       "    <tr>\n",
       "      <th>ROC-AUC</th>\n",
       "      <td>ROC-AUC</td>\n",
       "      <td>0.636187</td>\n",
       "    </tr>\n",
       "  </tbody>\n",
       "</table>\n",
       "</div>"
      ],
      "text/plain": [
       "             Métrica     Valor\n",
       "Accuracy    Accuracy  0.625401\n",
       "Recall        Recall  0.621098\n",
       "Precision  Precision  0.914606\n",
       "F1                F1  0.739804\n",
       "ROC-AUC      ROC-AUC  0.636187"
      ]
     },
     "execution_count": 67,
     "metadata": {},
     "output_type": "execute_result"
    }
   ],
   "source": [
    "metrics_df"
   ]
  },
  {
   "cell_type": "markdown",
   "id": "3ad01d8c",
   "metadata": {},
   "source": [
    "# MLP"
   ]
  },
  {
   "cell_type": "code",
   "execution_count": 94,
   "id": "b0c6f8a7",
   "metadata": {},
   "outputs": [],
   "source": [
    "from sklearn.neural_network import MLPClassifier\n",
    "\n",
    "mlp = MLPClassifier(hidden_layer_sizes = (50, 50), activation = 'relu', learning_rate_init = 0.001)"
   ]
  },
  {
   "cell_type": "code",
   "execution_count": 95,
   "id": "4174dbed",
   "metadata": {},
   "outputs": [
    {
     "data": {
      "text/plain": [
       "MLPClassifier(hidden_layer_sizes=(50, 50))"
      ]
     },
     "execution_count": 95,
     "metadata": {},
     "output_type": "execute_result"
    }
   ],
   "source": [
    "mlp.fit(X_train, y_train)"
   ]
  },
  {
   "cell_type": "code",
   "execution_count": 96,
   "id": "cf9b8039",
   "metadata": {},
   "outputs": [],
   "source": [
    "y_pred = baggingClassifier.predict(X_test)"
   ]
  },
  {
   "cell_type": "code",
   "execution_count": 97,
   "id": "964f4c28",
   "metadata": {},
   "outputs": [],
   "source": [
    "accuracy = accuracy_score(y_test, y_pred)\n",
    "recall = recall_score(y_test, y_pred)\n",
    "precision = precision_score(y_test, y_pred)\n",
    "f1 = f1_score(y_test, y_pred)\n",
    "roc = roc_auc_score(y_test, y_pred)"
   ]
  },
  {
   "cell_type": "code",
   "execution_count": 98,
   "id": "b3e27d30",
   "metadata": {},
   "outputs": [
    {
     "data": {
      "text/plain": [
       "<AxesSubplot:>"
      ]
     },
     "execution_count": 98,
     "metadata": {},
     "output_type": "execute_result"
    },
    {
     "data": {
      "image/png": "[encoded data removed]",
      "text/plain": [
       "<Figure size 1008x576 with 1 Axes>"
      ]
     },
     "metadata": {
      "needs_background": "light"
     },
     "output_type": "display_data"
    }
   ],
   "source": [
    "metrics_dict = {'Accuracy': accuracy, 'Recall': recall, 'Precision': precision, 'F1': f1, 'ROC-AUC': roc}\n",
    "\n",
    "metrics_df = pd.DataFrame(metrics_dict.items(), index = metrics_dict.keys(), columns=['Métrica', 'Valor'])\n",
    "\n",
    "metrics_df.plot(kind='bar',figsize=(14,8))"
   ]
  },
  {
   "cell_type": "code",
   "execution_count": 99,
   "id": "b5b7ee91",
   "metadata": {},
   "outputs": [
    {
     "data": {
      "text/html": [
       "<div>\n",
       "<style scoped>\n",
       "    .dataframe tbody tr th:only-of-type {\n",
       "        vertical-align: middle;\n",
       "    }\n",
       "\n",
       "    .dataframe tbody tr th {\n",
       "        vertical-align: top;\n",
       "    }\n",
       "\n",
       "    .dataframe thead th {\n",
       "        text-align: right;\n",
       "    }\n",
       "</style>\n",
       "<table border=\"1\" class=\"dataframe\">\n",
       "  <thead>\n",
       "    <tr style=\"text-align: right;\">\n",
       "      <th></th>\n",
       "      <th>Métrica</th>\n",
       "      <th>Valor</th>\n",
       "    </tr>\n",
       "  </thead>\n",
       "  <tbody>\n",
       "    <tr>\n",
       "      <th>Accuracy</th>\n",
       "      <td>Accuracy</td>\n",
       "      <td>0.625401</td>\n",
       "    </tr>\n",
       "    <tr>\n",
       "      <th>Recall</th>\n",
       "      <td>Recall</td>\n",
       "      <td>0.621098</td>\n",
       "    </tr>\n",
       "    <tr>\n",
       "      <th>Precision</th>\n",
       "      <td>Precision</td>\n",
       "      <td>0.914606</td>\n",
       "    </tr>\n",
       "    <tr>\n",
       "      <th>F1</th>\n",
       "      <td>F1</td>\n",
       "      <td>0.739804</td>\n",
       "    </tr>\n",
       "    <tr>\n",
       "      <th>ROC-AUC</th>\n",
       "      <td>ROC-AUC</td>\n",
       "      <td>0.636187</td>\n",
       "    </tr>\n",
       "  </tbody>\n",
       "</table>\n",
       "</div>"
      ],
      "text/plain": [
       "             Métrica     Valor\n",
       "Accuracy    Accuracy  0.625401\n",
       "Recall        Recall  0.621098\n",
       "Precision  Precision  0.914606\n",
       "F1                F1  0.739804\n",
       "ROC-AUC      ROC-AUC  0.636187"
      ]
     },
     "execution_count": 99,
     "metadata": {},
     "output_type": "execute_result"
    }
   ],
   "source": [
    "metrics_df"
   ]
  },
  {
   "cell_type": "code",
   "execution_count": 100,
   "id": "71222bce",
   "metadata": {},
   "outputs": [
    {
     "data": {
      "text/plain": [
       "<AxesSubplot:title={'center':'Normalized Confusion Matrix'}, xlabel='Predicted label', ylabel='True label'>"
      ]
     },
     "execution_count": 100,
     "metadata": {},
     "output_type": "execute_result"
    },
    {
     "data": {
      "image/png": "[encoded data removed]",
      "text/plain": [
       "<Figure size 432x288 with 2 Axes>"
      ]
     },
     "metadata": {
      "needs_background": "light"
     },
     "output_type": "display_data"
    }
   ],
   "source": [
    "plot_confusion_matrix(y_test, mlp.predict(X_test), normalize = True, cmap = 'Pastel2', text_fontsize = 'large')"
   ]
  },
  {
   "cell_type": "code",
   "execution_count": 101,
   "id": "4c009006",
   "metadata": {},
   "outputs": [
    {
     "data": {
      "text/plain": [
       "<AxesSubplot:title={'center':'KS Statistic Plot'}, xlabel='Threshold', ylabel='Percentage below threshold'>"
      ]
     },
     "execution_count": 101,
     "metadata": {},
     "output_type": "execute_result"
    },
    {
     "data": {
      "image/png": "[encoded data removed]",
      "text/plain": [
       "<Figure size 432x288 with 1 Axes>"
      ]
     },
     "metadata": {
      "needs_background": "light"
     },
     "output_type": "display_data"
    }
   ],
   "source": [
    "plot_ks_statistic(y_test, mlp.predict_proba(X_test))"
   ]
  },
  {
   "cell_type": "markdown",
   "id": "901919a2",
   "metadata": {},
   "source": [
    "# SVM"
   ]
  },
  {
   "cell_type": "code",
   "execution_count": 14,
   "id": "948de9ef",
   "metadata": {},
   "outputs": [],
   "source": [
    "from sklearn.svm import SVC\n",
    "\n",
    "final_svm = SVC(random_state = 0,\n",
    "                kernel = 'poly',\n",
    "                degree = 3,\n",
    "                gamma = 'scale',\n",
    "                max_iter=10000)"
   ]
  },
  {
   "cell_type": "code",
   "execution_count": 15,
   "id": "006639ad",
   "metadata": {},
   "outputs": [
    {
     "name": "stderr",
     "output_type": "stream",
     "text": [
      "/usr/local/lib/python3.9/site-packages/sklearn/svm/_base.py:255: ConvergenceWarning: Solver terminated early (max_iter=10000).  Consider pre-processing your data with StandardScaler or MinMaxScaler.\n",
      "  warnings.warn('Solver terminated early (max_iter=%i).'\n"
     ]
    },
    {
     "data": {
      "text/plain": [
       "SVC(kernel='poly', max_iter=10000, random_state=0)"
      ]
     },
     "execution_count": 15,
     "metadata": {},
     "output_type": "execute_result"
    }
   ],
   "source": [
    "final_svm.fit(X_train, y_train)"
   ]
  },
  {
   "cell_type": "code",
   "execution_count": 16,
   "id": "2f997368",
   "metadata": {},
   "outputs": [],
   "source": [
    "y_pred = final_svm.predict(X_test)"
   ]
  },
  {
   "cell_type": "code",
   "execution_count": 17,
   "id": "ff41932d",
   "metadata": {},
   "outputs": [],
   "source": [
    "accuracy = accuracy_score(y_test, y_pred)\n",
    "recall = recall_score(y_test, y_pred)\n",
    "precision = precision_score(y_test, y_pred)\n",
    "f1 = f1_score(y_test, y_pred)\n",
    "roc = roc_auc_score(y_test, y_pred)"
   ]
  },
  {
   "cell_type": "code",
   "execution_count": 18,
   "id": "74f5e5e7",
   "metadata": {},
   "outputs": [
    {
     "data": {
      "text/plain": [
       "<AxesSubplot:>"
      ]
     },
     "execution_count": 18,
     "metadata": {},
     "output_type": "execute_result"
    },
    {
     "data": {
      "image/png": "[encoded data removed]",
      "text/plain": [
       "<Figure size 1008x576 with 1 Axes>"
      ]
     },
     "metadata": {
      "needs_background": "light"
     },
     "output_type": "display_data"
    }
   ],
   "source": [
    "metrics_dict = {'Accuracy': accuracy, 'Recall': recall, 'Precision': precision, 'F1': f1, 'ROC-AUC': roc}\n",
    "\n",
    "metrics_df = pd.DataFrame(metrics_dict.items(), index = metrics_dict.keys(), columns=['Métrica', 'Valor'])\n",
    "\n",
    "metrics_df.plot(kind='bar',figsize=(14,8))"
   ]
  },
  {
   "cell_type": "code",
   "execution_count": 19,
   "id": "d372aaf0",
   "metadata": {},
   "outputs": [
    {
     "data": {
      "text/html": [
       "<div>\n",
       "<style scoped>\n",
       "    .dataframe tbody tr th:only-of-type {\n",
       "        vertical-align: middle;\n",
       "    }\n",
       "\n",
       "    .dataframe tbody tr th {\n",
       "        vertical-align: top;\n",
       "    }\n",
       "\n",
       "    .dataframe thead th {\n",
       "        text-align: right;\n",
       "    }\n",
       "</style>\n",
       "<table border=\"1\" class=\"dataframe\">\n",
       "  <thead>\n",
       "    <tr style=\"text-align: right;\">\n",
       "      <th></th>\n",
       "      <th>Métrica</th>\n",
       "      <th>Valor</th>\n",
       "    </tr>\n",
       "  </thead>\n",
       "  <tbody>\n",
       "    <tr>\n",
       "      <th>Accuracy</th>\n",
       "      <td>Accuracy</td>\n",
       "      <td>0.852214</td>\n",
       "    </tr>\n",
       "    <tr>\n",
       "      <th>Recall</th>\n",
       "      <td>Recall</td>\n",
       "      <td>0.991756</td>\n",
       "    </tr>\n",
       "    <tr>\n",
       "      <th>Precision</th>\n",
       "      <td>Precision</td>\n",
       "      <td>0.858014</td>\n",
       "    </tr>\n",
       "    <tr>\n",
       "      <th>F1</th>\n",
       "      <td>F1</td>\n",
       "      <td>0.920050</td>\n",
       "    </tr>\n",
       "    <tr>\n",
       "      <th>ROC-AUC</th>\n",
       "      <td>ROC-AUC</td>\n",
       "      <td>0.502414</td>\n",
       "    </tr>\n",
       "  </tbody>\n",
       "</table>\n",
       "</div>"
      ],
      "text/plain": [
       "             Métrica     Valor\n",
       "Accuracy    Accuracy  0.852214\n",
       "Recall        Recall  0.991756\n",
       "Precision  Precision  0.858014\n",
       "F1                F1  0.920050\n",
       "ROC-AUC      ROC-AUC  0.502414"
      ]
     },
     "execution_count": 19,
     "metadata": {},
     "output_type": "execute_result"
    }
   ],
   "source": [
    "metrics_df"
   ]
  },
  {
   "cell_type": "code",
   "execution_count": 20,
   "id": "a780a56d",
   "metadata": {},
   "outputs": [
    {
     "data": {
      "text/plain": [
       "<AxesSubplot:title={'center':'Normalized Confusion Matrix'}, xlabel='Predicted label', ylabel='True label'>"
      ]
     },
     "execution_count": 20,
     "metadata": {},
     "output_type": "execute_result"
    },
    {
     "data": {
      "image/png": "[encoded data removed]",
      "text/plain": [
       "<Figure size 432x288 with 2 Axes>"
      ]
     },
     "metadata": {
      "needs_background": "light"
     },
     "output_type": "display_data"
    }
   ],
   "source": [
    "from scikitplot.metrics import plot_confusion_matrix\n",
    "\n",
    "plot_confusion_matrix(y_test, final_svm.predict(X_test), normalize = True, cmap = 'Pastel2', text_fontsize = 'large')"
   ]
  },
  {
   "cell_type": "code",
   "execution_count": 23,
   "id": "206b3b5c",
   "metadata": {},
   "outputs": [
    {
     "data": {
      "text/plain": [
       "KstestResult(statistic=0.1336489758827751, pvalue=0.0)"
      ]
     },
     "execution_count": 23,
     "metadata": {},
     "output_type": "execute_result"
    }
   ],
   "source": [
    "from scipy.stats import ks_2samp\n",
    "ks_2samp(y_test, y_pred)"
   ]
  },
  {
   "cell_type": "code",
   "execution_count": null,
   "id": "b58fabc4",
   "metadata": {},
   "outputs": [],
   "source": []
  }
 ],
 "metadata": {
  "accelerator": "GPU",
  "colab": {
   "collapsed_sections": [],
   "name": "projeto-modelos.ipynb",
   "provenance": [],
   "toc_visible": true
  },
  "kernelspec": {
   "display_name": "Python 3",
   "language": "python",
   "name": "python3"
  },
  "language_info": {
   "codemirror_mode": {
    "name": "ipython",
    "version": 3
   },
   "file_extension": ".py",
   "mimetype": "text/x-python",
   "name": "python",
   "nbconvert_exporter": "python",
   "pygments_lexer": "ipython3",
   "version": "3.9.2"
  }
 },
 "nbformat": 4,
 "nbformat_minor": 5
}
