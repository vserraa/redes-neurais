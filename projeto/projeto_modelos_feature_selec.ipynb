{
  "nbformat": 4,
  "nbformat_minor": 5,
  "metadata": {
    "kernelspec": {
      "display_name": "Python 3",
      "language": "python",
      "name": "python3"
    },
    "language_info": {
      "codemirror_mode": {
        "name": "ipython",
        "version": 3
      },
      "file_extension": ".py",
      "mimetype": "text/x-python",
      "name": "python",
      "nbconvert_exporter": "python",
      "pygments_lexer": "ipython3",
      "version": "3.9.2"
    },
    "colab": {
      "name": "projeto-modelos.ipynb",
      "provenance": [],
      "collapsed_sections": [],
      "toc_visible": true
    },
    "accelerator": "GPU"
  },
  "cells": [
    {
      "cell_type": "code",
      "metadata": {
        "id": "chemical-charlotte"
      },
      "source": [
        "##imports\n",
        "import pandas as pd\n",
        "import numpy as np\n",
        "import matplotlib.pyplot as plt\n",
        "from sklearn.metrics import accuracy_score, recall_score, precision_score, f1_score, roc_auc_score\n",
        "from sklearn.metrics import confusion_matrix"
      ],
      "id": "chemical-charlotte",
      "execution_count": 30,
      "outputs": []
    },
    {
      "cell_type": "code",
      "metadata": {
        "colab": {
          "base_uri": "https://localhost:8080/"
        },
        "id": "VinTpJg_xskD",
        "outputId": "899245d6-df25-4c5f-a274-1c47e895ec2d"
      },
      "source": [
        "## mounting on gdrive/comment for jupyter\n",
        "from google.colab import drive\n",
        "drive.mount('/content/drive')"
      ],
      "id": "VinTpJg_xskD",
      "execution_count": 31,
      "outputs": [
        {
          "output_type": "stream",
          "text": [
            "Drive already mounted at /content/drive; to attempt to forcibly remount, call drive.mount(\"/content/drive\", force_remount=True).\n"
          ],
          "name": "stdout"
        }
      ]
    },
    {
      "cell_type": "markdown",
      "metadata": {
        "id": "unexpected-simpson"
      },
      "source": [
        "# Importação dos Dados"
      ],
      "id": "unexpected-simpson"
    },
    {
      "cell_type": "code",
      "metadata": {
        "id": "junior-writer"
      },
      "source": [
        "df_train = pd.read_csv('drive/MyDrive/Colab Notebooks/treino_309.csv')\n",
        "df_test = pd.read_csv('drive/MyDrive/Colab Notebooks/BASE-PREPROCESSED(TESTE).gz', compression='gzip', sep='\\t')"
      ],
      "id": "junior-writer",
      "execution_count": 32,
      "outputs": []
    },
    {
      "cell_type": "code",
      "metadata": {
        "id": "younger-cooler"
      },
      "source": [
        "def create_split(df, target, drop_end=1):\n",
        "    df = df.dropna()\n",
        "    if 'PROPHET_NORM_FEATURES' in df.columns.values:\n",
        "        df.drop(['PROPHET_NORM_FEATURES'], inplace=True, axis=1)\n",
        "    if 'NEURO_LABEL' in df.columns.values:\n",
        "        df.drop(['NEURO_LABEL'], inplace=True, axis=1)\n",
        "    if 'PROPHET_LABEL' in df.columns.values:\n",
        "        df.drop(['PROPHET_LABEL'], inplace=True, axis=1)\n",
        "    return df[df.columns[:len(df.columns)-drop_end]].to_numpy(), df[[target]].to_numpy().reshape(-1)"
      ],
      "id": "younger-cooler",
      "execution_count": 91,
      "outputs": []
    },
    {
      "cell_type": "code",
      "metadata": {
        "id": "dZMGOlJXU4c2"
      },
      "source": [
        "df = df_train.drop(['PROPHET_NORM_FEATURES', 'NEURO_LABEL', 'Unnamed: 0'], axis = 1).append(df_test.drop(['PROPHET_NORM_FEATURES', 'NEURO_LABEL'], axis = 1))"
      ],
      "id": "dZMGOlJXU4c2",
      "execution_count": 34,
      "outputs": []
    },
    {
      "cell_type": "code",
      "metadata": {
        "colab": {
          "base_uri": "https://localhost:8080/",
          "height": 439
        },
        "id": "aL3os-VJRP-e",
        "outputId": "75747fc4-416c-4e4c-c625-27b7fd06f6d4"
      },
      "source": [
        "X = df[df.columns].drop(['ALVO'], axis=1)\n",
        "X.drop"
      ],
      "id": "aL3os-VJRP-e",
      "execution_count": 36,
      "outputs": [
        {
          "output_type": "execute_result",
          "data": {
            "text/html": [
              "<div>\n",
              "<style scoped>\n",
              "    .dataframe tbody tr th:only-of-type {\n",
              "        vertical-align: middle;\n",
              "    }\n",
              "\n",
              "    .dataframe tbody tr th {\n",
              "        vertical-align: top;\n",
              "    }\n",
              "\n",
              "    .dataframe thead th {\n",
              "        text-align: right;\n",
              "    }\n",
              "</style>\n",
              "<table border=\"1\" class=\"dataframe\">\n",
              "  <thead>\n",
              "    <tr style=\"text-align: right;\">\n",
              "      <th></th>\n",
              "      <th>ATIVIDADE_EMAIL_PCNC_PNM_perc</th>\n",
              "      <th>ATIVIDADE_ENDERECO_PCNC_PNM_perc</th>\n",
              "      <th>ATIVIDADE_MERCADO_FINANCEIRO_PCNC_PNM_perc</th>\n",
              "      <th>ATIVIDADE_TELEFONE_PCNC_PNM_perc</th>\n",
              "      <th>BANCO_RELACIONAMENTO_PCNC_PCM_rv_0</th>\n",
              "      <th>BANCO_RELACIONAMENTO_PCNC_PCM_rv_1</th>\n",
              "      <th>BANCO_RELACIONAMENTO_PCNC_PCM_rv_2</th>\n",
              "      <th>CLASSE_SOCIAL_VIZINHANCA_PCNC_PCM_rv_0</th>\n",
              "      <th>CLASSE_SOCIAL_VIZINHANCA_PCNC_PCM_rv_1</th>\n",
              "      <th>COMPARATIVO_RENDA_PCNC_PNM_perc</th>\n",
              "      <th>CONCENTRACAO_ACADEMIAS_PCNC_PCM_rv_0</th>\n",
              "      <th>CONCENTRACAO_ACADEMIAS_PCNC_PCM_rv_1</th>\n",
              "      <th>CONCENTRACAO_ACADEMIAS_PCNC_PCM_rv_2</th>\n",
              "      <th>CONCENTRACAO_AEROPORTOS_PCNC_PCM_rv_0</th>\n",
              "      <th>CONCENTRACAO_AEROPORTOS_PCNC_PCM_rv_1</th>\n",
              "      <th>CONCENTRACAO_AGLOMERADO_SUBNORMAL_PCNC_PCM_rv_0</th>\n",
              "      <th>CONCENTRACAO_AGLOMERADO_SUBNORMAL_PCNC_PCM_rv_1</th>\n",
              "      <th>CONCENTRACAO_AGLOMERADO_SUBNORMAL_PCNC_PCM_rv_2</th>\n",
              "      <th>CONCENTRACAO_ALUGUEL_CARROS_PCNC_PCM_rv_0</th>\n",
              "      <th>CONCENTRACAO_ALUGUEL_CARROS_PCNC_PCM_rv_1</th>\n",
              "      <th>CONCENTRACAO_ALUGUEL_CARROS_PCNC_PCM_rv_2</th>\n",
              "      <th>CONCENTRACAO_AREA_RISCO_PCNC_PCM_rv_0</th>\n",
              "      <th>CONCENTRACAO_AREA_RISCO_PCNC_PCM_rv_1</th>\n",
              "      <th>CONCENTRACAO_AREA_RISCO_PCNC_PCM_rv_2</th>\n",
              "      <th>CONCENTRACAO_BANCOS_PCNC_PCM_rv_0</th>\n",
              "      <th>CONCENTRACAO_BANCOS_PCNC_PCM_rv_1</th>\n",
              "      <th>CONCENTRACAO_BANCOS_PCNC_PCM_rv_2</th>\n",
              "      <th>CONCENTRACAO_BARES_PCNC_PCM_rv_0</th>\n",
              "      <th>CONCENTRACAO_BARES_PCNC_PCM_rv_1</th>\n",
              "      <th>CONCENTRACAO_BARES_PCNC_PCM_rv_2</th>\n",
              "      <th>CONCENTRACAO_BEBIDAS_PCNC_PCM_rv_0</th>\n",
              "      <th>CONCENTRACAO_BEBIDAS_PCNC_PCM_rv_1</th>\n",
              "      <th>CONCENTRACAO_BEBIDAS_PCNC_PCM_rv_2</th>\n",
              "      <th>CONCENTRACAO_BOMBEIRO_PCNC_PCM_rv_0</th>\n",
              "      <th>CONCENTRACAO_BOMBEIRO_PCNC_PCM_rv_1</th>\n",
              "      <th>CONCENTRACAO_BOMBEIRO_PCNC_PCM_rv_2</th>\n",
              "      <th>CONCENTRACAO_CAIXA_ELETRONICO_PCNC_PCM_rv_0</th>\n",
              "      <th>CONCENTRACAO_CAIXA_ELETRONICO_PCNC_PCM_rv_1</th>\n",
              "      <th>CONCENTRACAO_CAIXA_ELETRONICO_PCNC_PCM_rv_2</th>\n",
              "      <th>CONCENTRACAO_CASA_NOTURNA_PCNC_PCM_rv_0</th>\n",
              "      <th>...</th>\n",
              "      <th>FLAG_WEB_SAUDE_PCNC_PCM_rv_0</th>\n",
              "      <th>FLAG_WEB_SAUDE_PCNC_PCM_rv_1</th>\n",
              "      <th>FLAG_WEB_SOCIEDADE_GENEALOGIA_PCNC_PCM_rv_0</th>\n",
              "      <th>FLAG_WEB_SOCIEDADE_GENEALOGIA_PCNC_PCM_rv_1</th>\n",
              "      <th>FLAG_WEB_SOCIEDADE_PCNC_PCM_rv_0</th>\n",
              "      <th>FLAG_WEB_SOCIEDADE_PCNC_PCM_rv_1</th>\n",
              "      <th>FLAG_WEB_TV_PCNC_PCM_rv_0</th>\n",
              "      <th>FLAG_WEB_TV_PCNC_PCM_rv_1</th>\n",
              "      <th>GENERO_PCNC_PCM_rv_0</th>\n",
              "      <th>GENERO_PCNC_PCM_rv_1</th>\n",
              "      <th>IDADE_PCNC_PNM_perc</th>\n",
              "      <th>LATITUDE_PCNC_PNM_perc</th>\n",
              "      <th>LONGITUDE_PCNC_PNM_perc</th>\n",
              "      <th>NIVEL_RELACIONAMENTO_AUTOMOVEL_PCNC_PNM_perc</th>\n",
              "      <th>NIVEL_RELACIONAMENTO_CREDITO_PCNC_PNM_perc</th>\n",
              "      <th>NIVEL_RELACIONAMENTO_SEGUROS_01_PCNC_PNM_perc</th>\n",
              "      <th>NIVEL_RELACIONAMENTO_SEGUROS_02_PCNC_PNM_perc</th>\n",
              "      <th>NIVEL_RELACIONAMENTO_VAREJO_PCNC_PNM_perc</th>\n",
              "      <th>PASSAGENS_EMAIL_PCNC_PNM_perc</th>\n",
              "      <th>PASSAGENS_ENDERECO_PCNC_PNM_perc</th>\n",
              "      <th>PASSAGENS_TELEFONE_PCNC_PNM_perc</th>\n",
              "      <th>PASSAGENS_WEB_PCNC_PNM_perc</th>\n",
              "      <th>PROPHET_LABEL</th>\n",
              "      <th>SCORE_RISCO_CADASTRAL_PCNC_PNM_perc</th>\n",
              "      <th>SCORE_RISCO_DEMOGRAFICO_PCNC_PNM_perc</th>\n",
              "      <th>SCORE_RISCO_GEORREFERENCIADO_PCNC_PNM_perc</th>\n",
              "      <th>SCORE_RISCO_WEB_PCNC_PNM_perc</th>\n",
              "      <th>SIGLA_PARTIDO_FILIADO_PCNC_PCM_rv_0</th>\n",
              "      <th>STATUS_RESTITUICAO_IRPF_PCNC_PCM_rv_0</th>\n",
              "      <th>STATUS_RESTITUICAO_IRPF_PCNC_PCM_rv_1</th>\n",
              "      <th>STATUS_RESTITUICAO_IRPF_PCNC_PCM_rv_2</th>\n",
              "      <th>UF_PCNC_PCM_rv_0</th>\n",
              "      <th>UF_PCNC_PCM_rv_1</th>\n",
              "      <th>UF_PCNC_PCM_rv_2</th>\n",
              "      <th>UF_PCNC_PCM_rv_3</th>\n",
              "      <th>ULTIMA_PASSAGEM_EMAIL_PCNC_PNM_perc</th>\n",
              "      <th>ULTIMA_PASSAGEM_ENDERECO_PCNC_PNM_perc</th>\n",
              "      <th>ULTIMA_PASSAGEM_MERCADO_FINANCEIRO_PCNC_PNM_perc</th>\n",
              "      <th>ULTIMA_PASSAGEM_TELEFONE_PCNC_PNM_perc</th>\n",
              "      <th>VALOR_PARCELA_BOLSA_FAMILIA_PCNC_PNM_perc</th>\n",
              "    </tr>\n",
              "  </thead>\n",
              "  <tbody>\n",
              "    <tr>\n",
              "      <th>0</th>\n",
              "      <td>0.400</td>\n",
              "      <td>0.268</td>\n",
              "      <td>0.200</td>\n",
              "      <td>1.000</td>\n",
              "      <td>0.0</td>\n",
              "      <td>0.0</td>\n",
              "      <td>0.0</td>\n",
              "      <td>0.0</td>\n",
              "      <td>0.0</td>\n",
              "      <td>0.0</td>\n",
              "      <td>0.0</td>\n",
              "      <td>1.0</td>\n",
              "      <td>1.0</td>\n",
              "      <td>0.0</td>\n",
              "      <td>0.0</td>\n",
              "      <td>0.0</td>\n",
              "      <td>0.0</td>\n",
              "      <td>0.0</td>\n",
              "      <td>0.0</td>\n",
              "      <td>0.0</td>\n",
              "      <td>1.0</td>\n",
              "      <td>0.0</td>\n",
              "      <td>0.0</td>\n",
              "      <td>1.0</td>\n",
              "      <td>0.0</td>\n",
              "      <td>1.0</td>\n",
              "      <td>1.0</td>\n",
              "      <td>1.0</td>\n",
              "      <td>0.0</td>\n",
              "      <td>0.0</td>\n",
              "      <td>0.0</td>\n",
              "      <td>0.0</td>\n",
              "      <td>1.0</td>\n",
              "      <td>0.0</td>\n",
              "      <td>0.0</td>\n",
              "      <td>1.0</td>\n",
              "      <td>0.0</td>\n",
              "      <td>1.0</td>\n",
              "      <td>1.0</td>\n",
              "      <td>0.0</td>\n",
              "      <td>...</td>\n",
              "      <td>0.0</td>\n",
              "      <td>0.0</td>\n",
              "      <td>0.0</td>\n",
              "      <td>0.0</td>\n",
              "      <td>0.0</td>\n",
              "      <td>0.0</td>\n",
              "      <td>0.0</td>\n",
              "      <td>0.0</td>\n",
              "      <td>0.0</td>\n",
              "      <td>1.0</td>\n",
              "      <td>38.196999</td>\n",
              "      <td>-15.233475</td>\n",
              "      <td>-59.328518</td>\n",
              "      <td>0.0</td>\n",
              "      <td>0.000</td>\n",
              "      <td>0.3</td>\n",
              "      <td>0.667</td>\n",
              "      <td>0.000</td>\n",
              "      <td>0.074</td>\n",
              "      <td>0.000</td>\n",
              "      <td>1.000</td>\n",
              "      <td>0.001</td>\n",
              "      <td>0.0</td>\n",
              "      <td>0.608700</td>\n",
              "      <td>0.549318</td>\n",
              "      <td>0.957772</td>\n",
              "      <td>0.420847</td>\n",
              "      <td>0.0</td>\n",
              "      <td>0.0</td>\n",
              "      <td>0.0</td>\n",
              "      <td>0.0</td>\n",
              "      <td>1.0</td>\n",
              "      <td>0.0</td>\n",
              "      <td>0.0</td>\n",
              "      <td>0.0</td>\n",
              "      <td>2.147235</td>\n",
              "      <td>2.471023</td>\n",
              "      <td>3.750000</td>\n",
              "      <td>7.406249</td>\n",
              "      <td>134.0</td>\n",
              "    </tr>\n",
              "    <tr>\n",
              "      <th>1</th>\n",
              "      <td>1.000</td>\n",
              "      <td>1.000</td>\n",
              "      <td>1.000</td>\n",
              "      <td>1.000</td>\n",
              "      <td>0.0</td>\n",
              "      <td>0.0</td>\n",
              "      <td>0.0</td>\n",
              "      <td>0.0</td>\n",
              "      <td>1.0</td>\n",
              "      <td>3.0</td>\n",
              "      <td>1.0</td>\n",
              "      <td>0.0</td>\n",
              "      <td>0.0</td>\n",
              "      <td>1.0</td>\n",
              "      <td>1.0</td>\n",
              "      <td>0.0</td>\n",
              "      <td>1.0</td>\n",
              "      <td>1.0</td>\n",
              "      <td>1.0</td>\n",
              "      <td>0.0</td>\n",
              "      <td>0.0</td>\n",
              "      <td>0.0</td>\n",
              "      <td>1.0</td>\n",
              "      <td>1.0</td>\n",
              "      <td>1.0</td>\n",
              "      <td>0.0</td>\n",
              "      <td>0.0</td>\n",
              "      <td>0.0</td>\n",
              "      <td>1.0</td>\n",
              "      <td>1.0</td>\n",
              "      <td>0.0</td>\n",
              "      <td>1.0</td>\n",
              "      <td>1.0</td>\n",
              "      <td>1.0</td>\n",
              "      <td>0.0</td>\n",
              "      <td>0.0</td>\n",
              "      <td>1.0</td>\n",
              "      <td>0.0</td>\n",
              "      <td>0.0</td>\n",
              "      <td>1.0</td>\n",
              "      <td>...</td>\n",
              "      <td>0.0</td>\n",
              "      <td>0.0</td>\n",
              "      <td>0.0</td>\n",
              "      <td>0.0</td>\n",
              "      <td>0.0</td>\n",
              "      <td>0.0</td>\n",
              "      <td>0.0</td>\n",
              "      <td>0.0</td>\n",
              "      <td>0.0</td>\n",
              "      <td>1.0</td>\n",
              "      <td>21.893000</td>\n",
              "      <td>-30.047363</td>\n",
              "      <td>-34.984375</td>\n",
              "      <td>0.0</td>\n",
              "      <td>0.083</td>\n",
              "      <td>0.3</td>\n",
              "      <td>0.000</td>\n",
              "      <td>0.063</td>\n",
              "      <td>1.000</td>\n",
              "      <td>1.000</td>\n",
              "      <td>1.000</td>\n",
              "      <td>0.001</td>\n",
              "      <td>1.0</td>\n",
              "      <td>0.518692</td>\n",
              "      <td>0.806152</td>\n",
              "      <td>0.964457</td>\n",
              "      <td>0.447420</td>\n",
              "      <td>0.0</td>\n",
              "      <td>0.0</td>\n",
              "      <td>0.0</td>\n",
              "      <td>0.0</td>\n",
              "      <td>0.0</td>\n",
              "      <td>0.0</td>\n",
              "      <td>0.0</td>\n",
              "      <td>1.0</td>\n",
              "      <td>8.234374</td>\n",
              "      <td>0.623947</td>\n",
              "      <td>15.999999</td>\n",
              "      <td>7.406249</td>\n",
              "      <td>22.0</td>\n",
              "    </tr>\n",
              "    <tr>\n",
              "      <th>2</th>\n",
              "      <td>1.000</td>\n",
              "      <td>1.000</td>\n",
              "      <td>0.095</td>\n",
              "      <td>1.000</td>\n",
              "      <td>0.0</td>\n",
              "      <td>0.0</td>\n",
              "      <td>0.0</td>\n",
              "      <td>0.0</td>\n",
              "      <td>1.0</td>\n",
              "      <td>3.0</td>\n",
              "      <td>1.0</td>\n",
              "      <td>0.0</td>\n",
              "      <td>0.0</td>\n",
              "      <td>1.0</td>\n",
              "      <td>1.0</td>\n",
              "      <td>0.0</td>\n",
              "      <td>1.0</td>\n",
              "      <td>1.0</td>\n",
              "      <td>1.0</td>\n",
              "      <td>0.0</td>\n",
              "      <td>0.0</td>\n",
              "      <td>0.0</td>\n",
              "      <td>1.0</td>\n",
              "      <td>1.0</td>\n",
              "      <td>1.0</td>\n",
              "      <td>0.0</td>\n",
              "      <td>0.0</td>\n",
              "      <td>0.0</td>\n",
              "      <td>1.0</td>\n",
              "      <td>1.0</td>\n",
              "      <td>0.0</td>\n",
              "      <td>1.0</td>\n",
              "      <td>1.0</td>\n",
              "      <td>1.0</td>\n",
              "      <td>0.0</td>\n",
              "      <td>0.0</td>\n",
              "      <td>1.0</td>\n",
              "      <td>0.0</td>\n",
              "      <td>0.0</td>\n",
              "      <td>1.0</td>\n",
              "      <td>...</td>\n",
              "      <td>0.0</td>\n",
              "      <td>0.0</td>\n",
              "      <td>0.0</td>\n",
              "      <td>0.0</td>\n",
              "      <td>0.0</td>\n",
              "      <td>0.0</td>\n",
              "      <td>0.0</td>\n",
              "      <td>0.0</td>\n",
              "      <td>0.0</td>\n",
              "      <td>0.0</td>\n",
              "      <td>50.841000</td>\n",
              "      <td>-30.047363</td>\n",
              "      <td>-34.984375</td>\n",
              "      <td>0.0</td>\n",
              "      <td>0.125</td>\n",
              "      <td>0.3</td>\n",
              "      <td>0.667</td>\n",
              "      <td>0.000</td>\n",
              "      <td>1.000</td>\n",
              "      <td>1.000</td>\n",
              "      <td>1.000</td>\n",
              "      <td>0.013</td>\n",
              "      <td>0.0</td>\n",
              "      <td>0.637903</td>\n",
              "      <td>0.806152</td>\n",
              "      <td>0.964457</td>\n",
              "      <td>0.478518</td>\n",
              "      <td>0.0</td>\n",
              "      <td>0.0</td>\n",
              "      <td>0.0</td>\n",
              "      <td>0.0</td>\n",
              "      <td>0.0</td>\n",
              "      <td>0.0</td>\n",
              "      <td>0.0</td>\n",
              "      <td>1.0</td>\n",
              "      <td>8.234374</td>\n",
              "      <td>0.623947</td>\n",
              "      <td>15.999999</td>\n",
              "      <td>7.406249</td>\n",
              "      <td>22.0</td>\n",
              "    </tr>\n",
              "    <tr>\n",
              "      <th>3</th>\n",
              "      <td>1.000</td>\n",
              "      <td>0.225</td>\n",
              "      <td>1.000</td>\n",
              "      <td>1.000</td>\n",
              "      <td>0.0</td>\n",
              "      <td>0.0</td>\n",
              "      <td>0.0</td>\n",
              "      <td>0.0</td>\n",
              "      <td>0.0</td>\n",
              "      <td>0.0</td>\n",
              "      <td>0.0</td>\n",
              "      <td>1.0</td>\n",
              "      <td>0.0</td>\n",
              "      <td>0.0</td>\n",
              "      <td>0.0</td>\n",
              "      <td>0.0</td>\n",
              "      <td>0.0</td>\n",
              "      <td>0.0</td>\n",
              "      <td>0.0</td>\n",
              "      <td>1.0</td>\n",
              "      <td>1.0</td>\n",
              "      <td>0.0</td>\n",
              "      <td>0.0</td>\n",
              "      <td>0.0</td>\n",
              "      <td>0.0</td>\n",
              "      <td>0.0</td>\n",
              "      <td>0.0</td>\n",
              "      <td>0.0</td>\n",
              "      <td>0.0</td>\n",
              "      <td>0.0</td>\n",
              "      <td>0.0</td>\n",
              "      <td>0.0</td>\n",
              "      <td>1.0</td>\n",
              "      <td>0.0</td>\n",
              "      <td>0.0</td>\n",
              "      <td>1.0</td>\n",
              "      <td>0.0</td>\n",
              "      <td>0.0</td>\n",
              "      <td>1.0</td>\n",
              "      <td>0.0</td>\n",
              "      <td>...</td>\n",
              "      <td>0.0</td>\n",
              "      <td>0.0</td>\n",
              "      <td>0.0</td>\n",
              "      <td>0.0</td>\n",
              "      <td>0.0</td>\n",
              "      <td>0.0</td>\n",
              "      <td>0.0</td>\n",
              "      <td>0.0</td>\n",
              "      <td>0.0</td>\n",
              "      <td>0.0</td>\n",
              "      <td>19.208000</td>\n",
              "      <td>-20.947599</td>\n",
              "      <td>-48.489433</td>\n",
              "      <td>0.0</td>\n",
              "      <td>0.000</td>\n",
              "      <td>0.3</td>\n",
              "      <td>0.667</td>\n",
              "      <td>0.000</td>\n",
              "      <td>1.000</td>\n",
              "      <td>0.000</td>\n",
              "      <td>1.000</td>\n",
              "      <td>0.001</td>\n",
              "      <td>1.0</td>\n",
              "      <td>0.602285</td>\n",
              "      <td>0.524547</td>\n",
              "      <td>0.514168</td>\n",
              "      <td>0.459219</td>\n",
              "      <td>0.0</td>\n",
              "      <td>0.0</td>\n",
              "      <td>0.0</td>\n",
              "      <td>0.0</td>\n",
              "      <td>0.0</td>\n",
              "      <td>0.0</td>\n",
              "      <td>0.0</td>\n",
              "      <td>0.0</td>\n",
              "      <td>8.234374</td>\n",
              "      <td>2.226687</td>\n",
              "      <td>15.999999</td>\n",
              "      <td>7.406249</td>\n",
              "      <td>22.0</td>\n",
              "    </tr>\n",
              "    <tr>\n",
              "      <th>4</th>\n",
              "      <td>1.000</td>\n",
              "      <td>0.268</td>\n",
              "      <td>0.414</td>\n",
              "      <td>1.000</td>\n",
              "      <td>0.0</td>\n",
              "      <td>0.0</td>\n",
              "      <td>0.0</td>\n",
              "      <td>1.0</td>\n",
              "      <td>0.0</td>\n",
              "      <td>3.0</td>\n",
              "      <td>0.0</td>\n",
              "      <td>1.0</td>\n",
              "      <td>0.0</td>\n",
              "      <td>1.0</td>\n",
              "      <td>0.0</td>\n",
              "      <td>0.0</td>\n",
              "      <td>0.0</td>\n",
              "      <td>1.0</td>\n",
              "      <td>0.0</td>\n",
              "      <td>1.0</td>\n",
              "      <td>1.0</td>\n",
              "      <td>0.0</td>\n",
              "      <td>0.0</td>\n",
              "      <td>0.0</td>\n",
              "      <td>0.0</td>\n",
              "      <td>1.0</td>\n",
              "      <td>0.0</td>\n",
              "      <td>0.0</td>\n",
              "      <td>0.0</td>\n",
              "      <td>0.0</td>\n",
              "      <td>1.0</td>\n",
              "      <td>0.0</td>\n",
              "      <td>0.0</td>\n",
              "      <td>0.0</td>\n",
              "      <td>1.0</td>\n",
              "      <td>0.0</td>\n",
              "      <td>0.0</td>\n",
              "      <td>0.0</td>\n",
              "      <td>1.0</td>\n",
              "      <td>0.0</td>\n",
              "      <td>...</td>\n",
              "      <td>0.0</td>\n",
              "      <td>0.0</td>\n",
              "      <td>0.0</td>\n",
              "      <td>0.0</td>\n",
              "      <td>0.0</td>\n",
              "      <td>0.0</td>\n",
              "      <td>0.0</td>\n",
              "      <td>0.0</td>\n",
              "      <td>0.0</td>\n",
              "      <td>0.0</td>\n",
              "      <td>41.835999</td>\n",
              "      <td>-26.834274</td>\n",
              "      <td>-49.109596</td>\n",
              "      <td>0.0</td>\n",
              "      <td>0.063</td>\n",
              "      <td>0.3</td>\n",
              "      <td>0.042</td>\n",
              "      <td>0.000</td>\n",
              "      <td>1.000</td>\n",
              "      <td>0.000</td>\n",
              "      <td>1.000</td>\n",
              "      <td>0.002</td>\n",
              "      <td>0.0</td>\n",
              "      <td>0.635462</td>\n",
              "      <td>0.572844</td>\n",
              "      <td>0.529117</td>\n",
              "      <td>0.493501</td>\n",
              "      <td>0.0</td>\n",
              "      <td>1.0</td>\n",
              "      <td>0.0</td>\n",
              "      <td>0.0</td>\n",
              "      <td>0.0</td>\n",
              "      <td>0.0</td>\n",
              "      <td>1.0</td>\n",
              "      <td>1.0</td>\n",
              "      <td>8.234374</td>\n",
              "      <td>2.471023</td>\n",
              "      <td>15.999999</td>\n",
              "      <td>7.406249</td>\n",
              "      <td>22.0</td>\n",
              "    </tr>\n",
              "    <tr>\n",
              "      <th>...</th>\n",
              "      <td>...</td>\n",
              "      <td>...</td>\n",
              "      <td>...</td>\n",
              "      <td>...</td>\n",
              "      <td>...</td>\n",
              "      <td>...</td>\n",
              "      <td>...</td>\n",
              "      <td>...</td>\n",
              "      <td>...</td>\n",
              "      <td>...</td>\n",
              "      <td>...</td>\n",
              "      <td>...</td>\n",
              "      <td>...</td>\n",
              "      <td>...</td>\n",
              "      <td>...</td>\n",
              "      <td>...</td>\n",
              "      <td>...</td>\n",
              "      <td>...</td>\n",
              "      <td>...</td>\n",
              "      <td>...</td>\n",
              "      <td>...</td>\n",
              "      <td>...</td>\n",
              "      <td>...</td>\n",
              "      <td>...</td>\n",
              "      <td>...</td>\n",
              "      <td>...</td>\n",
              "      <td>...</td>\n",
              "      <td>...</td>\n",
              "      <td>...</td>\n",
              "      <td>...</td>\n",
              "      <td>...</td>\n",
              "      <td>...</td>\n",
              "      <td>...</td>\n",
              "      <td>...</td>\n",
              "      <td>...</td>\n",
              "      <td>...</td>\n",
              "      <td>...</td>\n",
              "      <td>...</td>\n",
              "      <td>...</td>\n",
              "      <td>...</td>\n",
              "      <td>...</td>\n",
              "      <td>...</td>\n",
              "      <td>...</td>\n",
              "      <td>...</td>\n",
              "      <td>...</td>\n",
              "      <td>...</td>\n",
              "      <td>...</td>\n",
              "      <td>...</td>\n",
              "      <td>...</td>\n",
              "      <td>...</td>\n",
              "      <td>...</td>\n",
              "      <td>...</td>\n",
              "      <td>...</td>\n",
              "      <td>...</td>\n",
              "      <td>...</td>\n",
              "      <td>...</td>\n",
              "      <td>...</td>\n",
              "      <td>...</td>\n",
              "      <td>...</td>\n",
              "      <td>...</td>\n",
              "      <td>...</td>\n",
              "      <td>...</td>\n",
              "      <td>...</td>\n",
              "      <td>...</td>\n",
              "      <td>...</td>\n",
              "      <td>...</td>\n",
              "      <td>...</td>\n",
              "      <td>...</td>\n",
              "      <td>...</td>\n",
              "      <td>...</td>\n",
              "      <td>...</td>\n",
              "      <td>...</td>\n",
              "      <td>...</td>\n",
              "      <td>...</td>\n",
              "      <td>...</td>\n",
              "      <td>...</td>\n",
              "      <td>...</td>\n",
              "      <td>...</td>\n",
              "      <td>...</td>\n",
              "      <td>...</td>\n",
              "      <td>...</td>\n",
              "    </tr>\n",
              "    <tr>\n",
              "      <th>193674</th>\n",
              "      <td>0.631</td>\n",
              "      <td>0.283</td>\n",
              "      <td>0.241</td>\n",
              "      <td>0.648</td>\n",
              "      <td>0.0</td>\n",
              "      <td>0.0</td>\n",
              "      <td>0.0</td>\n",
              "      <td>0.0</td>\n",
              "      <td>0.0</td>\n",
              "      <td>1.0</td>\n",
              "      <td>0.0</td>\n",
              "      <td>1.0</td>\n",
              "      <td>0.0</td>\n",
              "      <td>0.0</td>\n",
              "      <td>0.0</td>\n",
              "      <td>0.0</td>\n",
              "      <td>0.0</td>\n",
              "      <td>1.0</td>\n",
              "      <td>0.0</td>\n",
              "      <td>0.0</td>\n",
              "      <td>1.0</td>\n",
              "      <td>0.0</td>\n",
              "      <td>0.0</td>\n",
              "      <td>1.0</td>\n",
              "      <td>0.0</td>\n",
              "      <td>1.0</td>\n",
              "      <td>0.0</td>\n",
              "      <td>0.0</td>\n",
              "      <td>1.0</td>\n",
              "      <td>0.0</td>\n",
              "      <td>0.0</td>\n",
              "      <td>0.0</td>\n",
              "      <td>0.0</td>\n",
              "      <td>0.0</td>\n",
              "      <td>1.0</td>\n",
              "      <td>0.0</td>\n",
              "      <td>0.0</td>\n",
              "      <td>0.0</td>\n",
              "      <td>0.0</td>\n",
              "      <td>0.0</td>\n",
              "      <td>...</td>\n",
              "      <td>0.0</td>\n",
              "      <td>0.0</td>\n",
              "      <td>0.0</td>\n",
              "      <td>1.0</td>\n",
              "      <td>0.0</td>\n",
              "      <td>1.0</td>\n",
              "      <td>0.0</td>\n",
              "      <td>1.0</td>\n",
              "      <td>0.0</td>\n",
              "      <td>1.0</td>\n",
              "      <td>58.479000</td>\n",
              "      <td>-23.539642</td>\n",
              "      <td>-46.968254</td>\n",
              "      <td>0.0</td>\n",
              "      <td>0.146</td>\n",
              "      <td>0.3</td>\n",
              "      <td>0.667</td>\n",
              "      <td>0.000</td>\n",
              "      <td>0.191</td>\n",
              "      <td>0.069</td>\n",
              "      <td>0.452</td>\n",
              "      <td>1.000</td>\n",
              "      <td>0.0</td>\n",
              "      <td>0.658748</td>\n",
              "      <td>0.444697</td>\n",
              "      <td>0.436559</td>\n",
              "      <td>0.584157</td>\n",
              "      <td>0.0</td>\n",
              "      <td>1.0</td>\n",
              "      <td>0.0</td>\n",
              "      <td>0.0</td>\n",
              "      <td>0.0</td>\n",
              "      <td>0.0</td>\n",
              "      <td>0.0</td>\n",
              "      <td>0.0</td>\n",
              "      <td>1.681482</td>\n",
              "      <td>0.626687</td>\n",
              "      <td>0.083333</td>\n",
              "      <td>0.467783</td>\n",
              "      <td>22.0</td>\n",
              "    </tr>\n",
              "    <tr>\n",
              "      <th>193675</th>\n",
              "      <td>0.143</td>\n",
              "      <td>1.000</td>\n",
              "      <td>1.000</td>\n",
              "      <td>1.000</td>\n",
              "      <td>0.0</td>\n",
              "      <td>0.0</td>\n",
              "      <td>0.0</td>\n",
              "      <td>0.0</td>\n",
              "      <td>1.0</td>\n",
              "      <td>3.0</td>\n",
              "      <td>1.0</td>\n",
              "      <td>0.0</td>\n",
              "      <td>0.0</td>\n",
              "      <td>1.0</td>\n",
              "      <td>1.0</td>\n",
              "      <td>0.0</td>\n",
              "      <td>1.0</td>\n",
              "      <td>1.0</td>\n",
              "      <td>1.0</td>\n",
              "      <td>0.0</td>\n",
              "      <td>0.0</td>\n",
              "      <td>0.0</td>\n",
              "      <td>1.0</td>\n",
              "      <td>1.0</td>\n",
              "      <td>1.0</td>\n",
              "      <td>0.0</td>\n",
              "      <td>0.0</td>\n",
              "      <td>0.0</td>\n",
              "      <td>1.0</td>\n",
              "      <td>1.0</td>\n",
              "      <td>0.0</td>\n",
              "      <td>1.0</td>\n",
              "      <td>1.0</td>\n",
              "      <td>1.0</td>\n",
              "      <td>0.0</td>\n",
              "      <td>0.0</td>\n",
              "      <td>1.0</td>\n",
              "      <td>0.0</td>\n",
              "      <td>0.0</td>\n",
              "      <td>1.0</td>\n",
              "      <td>...</td>\n",
              "      <td>0.0</td>\n",
              "      <td>0.0</td>\n",
              "      <td>0.0</td>\n",
              "      <td>0.0</td>\n",
              "      <td>0.0</td>\n",
              "      <td>0.0</td>\n",
              "      <td>0.0</td>\n",
              "      <td>1.0</td>\n",
              "      <td>0.0</td>\n",
              "      <td>1.0</td>\n",
              "      <td>20.496000</td>\n",
              "      <td>-30.047363</td>\n",
              "      <td>-34.984375</td>\n",
              "      <td>0.0</td>\n",
              "      <td>0.000</td>\n",
              "      <td>0.3</td>\n",
              "      <td>0.667</td>\n",
              "      <td>0.000</td>\n",
              "      <td>0.074</td>\n",
              "      <td>1.000</td>\n",
              "      <td>1.000</td>\n",
              "      <td>0.080</td>\n",
              "      <td>0.0</td>\n",
              "      <td>0.422917</td>\n",
              "      <td>0.806152</td>\n",
              "      <td>0.964457</td>\n",
              "      <td>0.598243</td>\n",
              "      <td>0.0</td>\n",
              "      <td>0.0</td>\n",
              "      <td>0.0</td>\n",
              "      <td>0.0</td>\n",
              "      <td>0.0</td>\n",
              "      <td>0.0</td>\n",
              "      <td>0.0</td>\n",
              "      <td>1.0</td>\n",
              "      <td>1.122578</td>\n",
              "      <td>0.623947</td>\n",
              "      <td>15.999999</td>\n",
              "      <td>7.406249</td>\n",
              "      <td>22.0</td>\n",
              "    </tr>\n",
              "    <tr>\n",
              "      <th>193676</th>\n",
              "      <td>1.000</td>\n",
              "      <td>0.268</td>\n",
              "      <td>0.659</td>\n",
              "      <td>0.054</td>\n",
              "      <td>0.0</td>\n",
              "      <td>0.0</td>\n",
              "      <td>0.0</td>\n",
              "      <td>0.0</td>\n",
              "      <td>0.0</td>\n",
              "      <td>0.0</td>\n",
              "      <td>0.0</td>\n",
              "      <td>1.0</td>\n",
              "      <td>1.0</td>\n",
              "      <td>0.0</td>\n",
              "      <td>0.0</td>\n",
              "      <td>0.0</td>\n",
              "      <td>0.0</td>\n",
              "      <td>0.0</td>\n",
              "      <td>0.0</td>\n",
              "      <td>0.0</td>\n",
              "      <td>1.0</td>\n",
              "      <td>0.0</td>\n",
              "      <td>0.0</td>\n",
              "      <td>0.0</td>\n",
              "      <td>0.0</td>\n",
              "      <td>1.0</td>\n",
              "      <td>1.0</td>\n",
              "      <td>1.0</td>\n",
              "      <td>0.0</td>\n",
              "      <td>0.0</td>\n",
              "      <td>0.0</td>\n",
              "      <td>0.0</td>\n",
              "      <td>1.0</td>\n",
              "      <td>0.0</td>\n",
              "      <td>0.0</td>\n",
              "      <td>1.0</td>\n",
              "      <td>0.0</td>\n",
              "      <td>1.0</td>\n",
              "      <td>1.0</td>\n",
              "      <td>0.0</td>\n",
              "      <td>...</td>\n",
              "      <td>0.0</td>\n",
              "      <td>0.0</td>\n",
              "      <td>0.0</td>\n",
              "      <td>0.0</td>\n",
              "      <td>0.0</td>\n",
              "      <td>0.0</td>\n",
              "      <td>0.0</td>\n",
              "      <td>0.0</td>\n",
              "      <td>0.0</td>\n",
              "      <td>1.0</td>\n",
              "      <td>48.847000</td>\n",
              "      <td>-26.478802</td>\n",
              "      <td>-51.995838</td>\n",
              "      <td>0.0</td>\n",
              "      <td>0.271</td>\n",
              "      <td>0.3</td>\n",
              "      <td>0.667</td>\n",
              "      <td>0.000</td>\n",
              "      <td>1.000</td>\n",
              "      <td>0.138</td>\n",
              "      <td>0.032</td>\n",
              "      <td>1.000</td>\n",
              "      <td>0.0</td>\n",
              "      <td>0.229235</td>\n",
              "      <td>0.630233</td>\n",
              "      <td>0.898428</td>\n",
              "      <td>0.608772</td>\n",
              "      <td>0.0</td>\n",
              "      <td>0.0</td>\n",
              "      <td>0.0</td>\n",
              "      <td>1.0</td>\n",
              "      <td>0.0</td>\n",
              "      <td>0.0</td>\n",
              "      <td>1.0</td>\n",
              "      <td>0.0</td>\n",
              "      <td>8.234374</td>\n",
              "      <td>2.097920</td>\n",
              "      <td>0.083333</td>\n",
              "      <td>0.659564</td>\n",
              "      <td>22.0</td>\n",
              "    </tr>\n",
              "    <tr>\n",
              "      <th>193677</th>\n",
              "      <td>0.507</td>\n",
              "      <td>0.268</td>\n",
              "      <td>0.023</td>\n",
              "      <td>0.738</td>\n",
              "      <td>0.0</td>\n",
              "      <td>0.0</td>\n",
              "      <td>0.0</td>\n",
              "      <td>0.0</td>\n",
              "      <td>0.0</td>\n",
              "      <td>3.0</td>\n",
              "      <td>0.0</td>\n",
              "      <td>1.0</td>\n",
              "      <td>0.0</td>\n",
              "      <td>0.0</td>\n",
              "      <td>0.0</td>\n",
              "      <td>0.0</td>\n",
              "      <td>0.0</td>\n",
              "      <td>1.0</td>\n",
              "      <td>0.0</td>\n",
              "      <td>1.0</td>\n",
              "      <td>1.0</td>\n",
              "      <td>0.0</td>\n",
              "      <td>0.0</td>\n",
              "      <td>1.0</td>\n",
              "      <td>0.0</td>\n",
              "      <td>0.0</td>\n",
              "      <td>0.0</td>\n",
              "      <td>0.0</td>\n",
              "      <td>1.0</td>\n",
              "      <td>0.0</td>\n",
              "      <td>0.0</td>\n",
              "      <td>0.0</td>\n",
              "      <td>0.0</td>\n",
              "      <td>0.0</td>\n",
              "      <td>1.0</td>\n",
              "      <td>0.0</td>\n",
              "      <td>0.0</td>\n",
              "      <td>0.0</td>\n",
              "      <td>0.0</td>\n",
              "      <td>0.0</td>\n",
              "      <td>...</td>\n",
              "      <td>0.0</td>\n",
              "      <td>0.0</td>\n",
              "      <td>0.0</td>\n",
              "      <td>0.0</td>\n",
              "      <td>0.0</td>\n",
              "      <td>0.0</td>\n",
              "      <td>0.0</td>\n",
              "      <td>0.0</td>\n",
              "      <td>0.0</td>\n",
              "      <td>1.0</td>\n",
              "      <td>50.644001</td>\n",
              "      <td>-22.706015</td>\n",
              "      <td>-43.582443</td>\n",
              "      <td>0.0</td>\n",
              "      <td>0.313</td>\n",
              "      <td>0.3</td>\n",
              "      <td>0.667</td>\n",
              "      <td>0.000</td>\n",
              "      <td>0.032</td>\n",
              "      <td>0.034</td>\n",
              "      <td>0.194</td>\n",
              "      <td>1.000</td>\n",
              "      <td>0.0</td>\n",
              "      <td>0.565092</td>\n",
              "      <td>0.383262</td>\n",
              "      <td>0.369147</td>\n",
              "      <td>0.443843</td>\n",
              "      <td>0.0</td>\n",
              "      <td>1.0</td>\n",
              "      <td>0.0</td>\n",
              "      <td>0.0</td>\n",
              "      <td>0.0</td>\n",
              "      <td>1.0</td>\n",
              "      <td>0.0</td>\n",
              "      <td>1.0</td>\n",
              "      <td>5.486961</td>\n",
              "      <td>1.215728</td>\n",
              "      <td>0.333333</td>\n",
              "      <td>0.634906</td>\n",
              "      <td>22.0</td>\n",
              "    </tr>\n",
              "    <tr>\n",
              "      <th>193678</th>\n",
              "      <td>0.529</td>\n",
              "      <td>0.686</td>\n",
              "      <td>0.895</td>\n",
              "      <td>0.541</td>\n",
              "      <td>1.0</td>\n",
              "      <td>0.0</td>\n",
              "      <td>1.0</td>\n",
              "      <td>1.0</td>\n",
              "      <td>1.0</td>\n",
              "      <td>0.0</td>\n",
              "      <td>0.0</td>\n",
              "      <td>0.0</td>\n",
              "      <td>0.0</td>\n",
              "      <td>0.0</td>\n",
              "      <td>1.0</td>\n",
              "      <td>0.0</td>\n",
              "      <td>0.0</td>\n",
              "      <td>0.0</td>\n",
              "      <td>0.0</td>\n",
              "      <td>0.0</td>\n",
              "      <td>0.0</td>\n",
              "      <td>0.0</td>\n",
              "      <td>0.0</td>\n",
              "      <td>1.0</td>\n",
              "      <td>0.0</td>\n",
              "      <td>0.0</td>\n",
              "      <td>0.0</td>\n",
              "      <td>0.0</td>\n",
              "      <td>0.0</td>\n",
              "      <td>0.0</td>\n",
              "      <td>0.0</td>\n",
              "      <td>0.0</td>\n",
              "      <td>0.0</td>\n",
              "      <td>0.0</td>\n",
              "      <td>0.0</td>\n",
              "      <td>1.0</td>\n",
              "      <td>0.0</td>\n",
              "      <td>0.0</td>\n",
              "      <td>0.0</td>\n",
              "      <td>0.0</td>\n",
              "      <td>...</td>\n",
              "      <td>0.0</td>\n",
              "      <td>0.0</td>\n",
              "      <td>0.0</td>\n",
              "      <td>0.0</td>\n",
              "      <td>0.0</td>\n",
              "      <td>0.0</td>\n",
              "      <td>0.0</td>\n",
              "      <td>0.0</td>\n",
              "      <td>0.0</td>\n",
              "      <td>0.0</td>\n",
              "      <td>61.563999</td>\n",
              "      <td>-22.974113</td>\n",
              "      <td>-46.547737</td>\n",
              "      <td>0.0</td>\n",
              "      <td>0.000</td>\n",
              "      <td>0.3</td>\n",
              "      <td>0.667</td>\n",
              "      <td>0.000</td>\n",
              "      <td>0.032</td>\n",
              "      <td>0.293</td>\n",
              "      <td>0.097</td>\n",
              "      <td>0.017</td>\n",
              "      <td>0.0</td>\n",
              "      <td>0.611116</td>\n",
              "      <td>0.582114</td>\n",
              "      <td>0.521354</td>\n",
              "      <td>0.454135</td>\n",
              "      <td>0.0</td>\n",
              "      <td>0.0</td>\n",
              "      <td>1.0</td>\n",
              "      <td>0.0</td>\n",
              "      <td>0.0</td>\n",
              "      <td>0.0</td>\n",
              "      <td>0.0</td>\n",
              "      <td>0.0</td>\n",
              "      <td>5.730797</td>\n",
              "      <td>1.404769</td>\n",
              "      <td>15.999999</td>\n",
              "      <td>0.467783</td>\n",
              "      <td>22.0</td>\n",
              "    </tr>\n",
              "  </tbody>\n",
              "</table>\n",
              "<p>525807 rows × 306 columns</p>\n",
              "</div>"
            ],
            "text/plain": [
              "        ATIVIDADE_EMAIL_PCNC_PNM_perc  ...  VALOR_PARCELA_BOLSA_FAMILIA_PCNC_PNM_perc\n",
              "0                               0.400  ...                                      134.0\n",
              "1                               1.000  ...                                       22.0\n",
              "2                               1.000  ...                                       22.0\n",
              "3                               1.000  ...                                       22.0\n",
              "4                               1.000  ...                                       22.0\n",
              "...                               ...  ...                                        ...\n",
              "193674                          0.631  ...                                       22.0\n",
              "193675                          0.143  ...                                       22.0\n",
              "193676                          1.000  ...                                       22.0\n",
              "193677                          0.507  ...                                       22.0\n",
              "193678                          0.529  ...                                       22.0\n",
              "\n",
              "[525807 rows x 306 columns]"
            ]
          },
          "metadata": {
            "tags": []
          },
          "execution_count": 36
        }
      ]
    },
    {
      "cell_type": "code",
      "metadata": {
        "id": "ioO9UJsgkNia"
      },
      "source": [
        "X.drop('PROPHET_LABEL', axis=1, inplace=True)"
      ],
      "id": "ioO9UJsgkNia",
      "execution_count": 47,
      "outputs": []
    },
    {
      "cell_type": "code",
      "metadata": {
        "id": "fTJNE7FyVamT"
      },
      "source": [
        "y = df.ALVO"
      ],
      "id": "fTJNE7FyVamT",
      "execution_count": 37,
      "outputs": []
    },
    {
      "cell_type": "code",
      "metadata": {
        "colab": {
          "base_uri": "https://localhost:8080/"
        },
        "id": "nRjNf88ARCfc",
        "outputId": "bfd70c73-8481-474e-ff61-21f767c64ed8"
      },
      "source": [
        "from sklearn.tree import DecisionTreeRegressor\n",
        "\n",
        "tree = DecisionTreeRegressor().fit(X, y)\n",
        "tree.feature_importances_"
      ],
      "id": "nRjNf88ARCfc",
      "execution_count": 48,
      "outputs": [
        {
          "output_type": "execute_result",
          "data": {
            "text/plain": [
              "array([1.09614309e-02, 1.87231609e-02, 3.76150506e-02, 1.49103611e-02,\n",
              "       5.36067460e-04, 6.05709891e-04, 5.47366183e-04, 1.35914217e-03,\n",
              "       9.07572365e-04, 6.26611973e-03, 0.00000000e+00, 5.43060146e-04,\n",
              "       9.02156013e-04, 2.06830374e-03, 1.02704601e-03, 9.19450332e-04,\n",
              "       1.50610772e-03, 1.50503524e-03, 0.00000000e+00, 2.05347297e-03,\n",
              "       6.56887367e-04, 1.85860335e-03, 9.07073180e-04, 2.37619920e-03,\n",
              "       0.00000000e+00, 8.70308173e-04, 1.44635160e-03, 5.72125083e-04,\n",
              "       1.43124822e-03, 1.67047606e-03, 1.41114811e-03, 1.02747953e-03,\n",
              "       4.64653595e-04, 0.00000000e+00, 1.22693929e-03, 6.30279899e-04,\n",
              "       0.00000000e+00, 8.64487440e-04, 5.82809063e-04, 0.00000000e+00,\n",
              "       1.21242031e-03, 3.75712810e-04, 2.44364371e-03, 1.05781877e-03,\n",
              "       1.27044770e-03, 1.83952874e-03, 1.70894477e-03, 5.67790970e-04,\n",
              "       0.00000000e+00, 7.40118047e-04, 1.45844422e-03, 1.38863300e-03,\n",
              "       8.32712697e-04, 1.51209369e-03, 1.55309072e-03, 9.52389954e-04,\n",
              "       1.33398762e-03, 3.07266557e-04, 1.58527676e-03, 2.42453784e-03,\n",
              "       1.67041564e-03, 2.11056282e-03, 0.00000000e+00, 2.76519155e-04,\n",
              "       1.62618300e-03, 0.00000000e+00, 1.56902054e-03, 1.14110043e-03,\n",
              "       0.00000000e+00, 5.32913917e-04, 1.04091120e-03, 8.44679528e-04,\n",
              "       1.73575939e-03, 1.36652810e-03, 5.47508391e-04, 1.29032770e-03,\n",
              "       2.39905236e-03, 0.00000000e+00, 5.54788772e-04, 1.83074764e-03,\n",
              "       0.00000000e+00, 8.93130412e-04, 5.38375632e-04, 1.61585517e-03,\n",
              "       2.33807728e-03, 1.98278565e-03, 6.93246359e-04, 0.00000000e+00,\n",
              "       1.31125143e-03, 2.25791264e-03, 1.65404509e-03, 1.08837479e-03,\n",
              "       1.47702973e-03, 6.12638271e-04, 1.29168987e-03, 3.63173873e-04,\n",
              "       1.10554832e-03, 1.31689914e-03, 0.00000000e+00, 1.59055971e-03,\n",
              "       1.46838980e-03, 0.00000000e+00, 5.13084017e-04, 1.31135208e-03,\n",
              "       4.18710051e-04, 1.44745017e-03, 1.81946080e-03, 0.00000000e+00,\n",
              "       1.43002546e-03, 0.00000000e+00, 7.88881190e-04, 2.23671327e-03,\n",
              "       2.30415863e-03, 3.19154358e-03, 2.39673824e-03, 4.81183202e-04,\n",
              "       2.03157934e-03, 2.19509047e-03, 5.60064939e-05, 1.33143893e-03,\n",
              "       2.82918475e-03, 1.81081142e-03, 1.36064805e-03, 2.00560902e-03,\n",
              "       7.33601028e-04, 2.26904523e-03, 7.63736768e-04, 9.44337927e-04,\n",
              "       1.76504622e-03, 2.30770967e-03, 9.47869141e-04, 1.97425431e-03,\n",
              "       1.09381788e-03, 2.56489865e-04, 2.40364469e-03, 1.23661614e-03,\n",
              "       5.36103661e-04, 1.95557076e-03, 1.92569830e-03, 6.08894514e-04,\n",
              "       1.98209024e-03, 9.51175349e-04, 1.31055025e-04, 2.38474991e-03,\n",
              "       2.72400447e-03, 2.91015639e-04, 7.05283485e-04, 2.54912476e-03,\n",
              "       1.21490029e-03, 2.66439487e-03, 1.49046342e-03, 1.07728433e-03,\n",
              "       2.23658927e-03, 3.00769410e-03, 1.66908799e-03, 1.79605661e-03,\n",
              "       2.11258603e-03, 1.26179927e-03, 2.10154398e-03, 2.43745232e-03,\n",
              "       1.31064106e-03, 2.41473164e-03, 1.51704727e-03, 7.71171433e-04,\n",
              "       1.83702952e-03, 1.39610837e-03, 5.53303618e-05, 1.72587272e-03,\n",
              "       1.77790910e-03, 1.61421649e-02, 8.59312555e-04, 0.00000000e+00,\n",
              "       2.23768147e-03, 1.86686845e-03, 4.42357540e-04, 2.24455800e-03,\n",
              "       2.68695335e-03, 9.43602443e-04, 1.73489818e-03, 1.54814081e-03,\n",
              "       6.30502802e-04, 2.18661267e-03, 9.02276771e-04, 7.35116456e-04,\n",
              "       1.60933485e-03, 1.58591037e-03, 9.90792711e-04, 2.25232039e-03,\n",
              "       1.58520785e-03, 1.77750631e-03, 1.80819964e-03, 1.80125341e-03,\n",
              "       6.56249098e-05, 1.11075261e-03, 1.00076137e-03, 1.01888211e-03,\n",
              "       2.05785054e-03, 1.66804198e-03, 4.68394994e-05, 2.36811531e-03,\n",
              "       1.32173721e-03, 3.99382311e-04, 2.26347834e-03, 2.13148204e-03,\n",
              "       8.01675844e-04, 2.20033660e-03, 1.42906474e-03, 4.56951429e-04,\n",
              "       1.20026017e-03, 2.35391169e-03, 6.97160989e-04, 2.42644074e-03,\n",
              "       1.54222150e-03, 8.99149614e-04, 1.20115642e-03, 3.03328420e-03,\n",
              "       4.04358125e-04, 1.81015645e-03, 1.17820226e-03, 1.42375935e-03,\n",
              "       2.09655227e-03, 1.63246577e-03, 1.08966296e-04, 1.78669481e-03,\n",
              "       1.88382718e-03, 3.25882982e-04, 2.28251959e-03, 1.29948053e-03,\n",
              "       7.36285629e-03, 2.61048129e-03, 7.20266846e-03, 1.40824633e-03,\n",
              "       2.51174856e-03, 2.46174961e-04, 7.27530288e-04, 2.49903323e-03,\n",
              "       1.36456954e-03, 1.44992583e-03, 1.46380128e-04, 6.72505849e-04,\n",
              "       0.00000000e+00, 3.73103649e-03, 0.00000000e+00, 1.80451463e-03,\n",
              "       0.00000000e+00, 3.46877485e-03, 1.52624523e-03, 0.00000000e+00,\n",
              "       0.00000000e+00, 2.18965407e-03, 0.00000000e+00, 3.27144661e-03,\n",
              "       0.00000000e+00, 1.66451502e-03, 0.00000000e+00, 4.58369696e-03,\n",
              "       0.00000000e+00, 2.37125287e-03, 1.21997319e-03, 0.00000000e+00,\n",
              "       0.00000000e+00, 3.61746814e-03, 0.00000000e+00, 3.97237808e-03,\n",
              "       0.00000000e+00, 3.57847690e-03, 0.00000000e+00, 2.18897107e-03,\n",
              "       0.00000000e+00, 1.20919352e-03, 0.00000000e+00, 2.34533186e-03,\n",
              "       1.26837401e-05, 2.94451240e-03, 1.17679824e-03, 6.15177173e-03,\n",
              "       8.65005513e-02, 3.27348176e-02, 3.26142143e-02, 1.57520521e-03,\n",
              "       1.46521504e-02, 1.75949052e-03, 2.42948172e-03, 4.90268087e-03,\n",
              "       7.56731450e-03, 1.86155805e-02, 1.01879552e-02, 2.92883825e-02,\n",
              "       5.89582372e-02, 3.33058600e-02, 3.05885240e-02, 6.13469256e-02,\n",
              "       1.11095254e-03, 2.29485841e-03, 2.43572015e-02, 4.72088491e-03,\n",
              "       8.82602300e-04, 1.30889916e-03, 9.51646179e-04, 2.15441944e-03,\n",
              "       1.17330267e-02, 1.18523069e-02, 2.25326091e-02, 1.25099281e-02,\n",
              "       5.90263572e-03])"
            ]
          },
          "metadata": {
            "tags": []
          },
          "execution_count": 48
        }
      ]
    },
    {
      "cell_type": "code",
      "metadata": {
        "id": "Vc2v8ovvj4I8"
      },
      "source": [
        "feat_imp = tree.feature_importances_\n",
        "cols_to_use = X[X.columns.values[np.where(feat_imp>5e-3)]].columns.values"
      ],
      "id": "Vc2v8ovvj4I8",
      "execution_count": 66,
      "outputs": []
    },
    {
      "cell_type": "code",
      "metadata": {
        "id": "DlzsvDdhkEU2"
      },
      "source": [
        "cols_to_use = np.append(cols_to_use, df_test.columns[0])"
      ],
      "id": "DlzsvDdhkEU2",
      "execution_count": 71,
      "outputs": []
    },
    {
      "cell_type": "code",
      "metadata": {
        "id": "APrr0L5UneCe"
      },
      "source": [
        "df_train = df_train[cols_to_use]\n",
        "df_test = df_test[cols_to_use]"
      ],
      "id": "APrr0L5UneCe",
      "execution_count": 72,
      "outputs": []
    },
    {
      "cell_type": "code",
      "metadata": {
        "id": "solved-ebony"
      },
      "source": [
        "X_train = df_train[df_train.drop(['ALVO'], axis=1).columns.values]\n",
        "y_train = df_train.ALVO\n"
      ],
      "id": "solved-ebony",
      "execution_count": 92,
      "outputs": []
    },
    {
      "cell_type": "code",
      "metadata": {
        "id": "g2BTeM6kXrsA"
      },
      "source": [
        "X_test = df_test[df_test.drop(['ALVO'], axis=1).columns.values]\n",
        "y_test = df_test.ALVO"
      ],
      "id": "g2BTeM6kXrsA",
      "execution_count": 97,
      "outputs": []
    },
    {
      "cell_type": "markdown",
      "metadata": {
        "id": "documented-ordering"
      },
      "source": [
        "# Primeiro Modelo: Random Forest"
      ],
      "id": "documented-ordering"
    },
    {
      "cell_type": "code",
      "metadata": {
        "id": "emotional-surgery"
      },
      "source": [
        "from sklearn.ensemble import RandomForestClassifier"
      ],
      "id": "emotional-surgery",
      "execution_count": 93,
      "outputs": []
    },
    {
      "cell_type": "code",
      "metadata": {
        "id": "equipped-front"
      },
      "source": [
        "forest = RandomForestClassifier(max_features=6, n_estimators=100)"
      ],
      "id": "equipped-front",
      "execution_count": 94,
      "outputs": []
    },
    {
      "cell_type": "code",
      "metadata": {
        "id": "level-bibliography",
        "colab": {
          "base_uri": "https://localhost:8080/"
        },
        "outputId": "13f01927-265f-4338-ce85-9ac2d3fd418a"
      },
      "source": [
        "forest.fit(X_train, y_train)"
      ],
      "id": "level-bibliography",
      "execution_count": 95,
      "outputs": [
        {
          "output_type": "execute_result",
          "data": {
            "text/plain": [
              "RandomForestClassifier(bootstrap=True, ccp_alpha=0.0, class_weight=None,\n",
              "                       criterion='gini', max_depth=None, max_features=6,\n",
              "                       max_leaf_nodes=None, max_samples=None,\n",
              "                       min_impurity_decrease=0.0, min_impurity_split=None,\n",
              "                       min_samples_leaf=1, min_samples_split=2,\n",
              "                       min_weight_fraction_leaf=0.0, n_estimators=100,\n",
              "                       n_jobs=None, oob_score=False, random_state=None,\n",
              "                       verbose=0, warm_start=False)"
            ]
          },
          "metadata": {
            "tags": []
          },
          "execution_count": 95
        }
      ]
    },
    {
      "cell_type": "code",
      "metadata": {
        "id": "allied-reconstruction"
      },
      "source": [
        "y_pred = forest.predict(X_test)\n",
        "accuracy = accuracy_score(y_test, y_pred)\n",
        "recall = recall_score(y_test, y_pred)\n",
        "precision = precision_score(y_test, y_pred)\n",
        "f1 = f1_score(y_test, y_pred)\n",
        "roc = roc_auc_score(y_test, y_pred)"
      ],
      "id": "allied-reconstruction",
      "execution_count": 98,
      "outputs": []
    },
    {
      "cell_type": "code",
      "metadata": {
        "id": "secure-freight"
      },
      "source": [
        "metrics_dict = {'Accuracy': accuracy, 'Recall': recall, 'Precision': precision, 'F1': f1, 'ROC-AUC': roc}"
      ],
      "id": "secure-freight",
      "execution_count": 99,
      "outputs": []
    },
    {
      "cell_type": "code",
      "metadata": {
        "id": "dangerous-perry"
      },
      "source": [
        "metrics_df = pd.DataFrame(metrics_dict.items(), index = metrics_dict.keys(), columns=['Métrica', 'Valor'])"
      ],
      "id": "dangerous-perry",
      "execution_count": 100,
      "outputs": []
    },
    {
      "cell_type": "code",
      "metadata": {
        "colab": {
          "base_uri": "https://localhost:8080/",
          "height": 204
        },
        "id": "IY8hG5H4Zl-e",
        "outputId": "6a280ea5-dcf6-4511-83b2-6dcfcdeba4e9"
      },
      "source": [
        "metrics_df"
      ],
      "id": "IY8hG5H4Zl-e",
      "execution_count": 101,
      "outputs": [
        {
          "output_type": "execute_result",
          "data": {
            "text/html": [
              "<div>\n",
              "<style scoped>\n",
              "    .dataframe tbody tr th:only-of-type {\n",
              "        vertical-align: middle;\n",
              "    }\n",
              "\n",
              "    .dataframe tbody tr th {\n",
              "        vertical-align: top;\n",
              "    }\n",
              "\n",
              "    .dataframe thead th {\n",
              "        text-align: right;\n",
              "    }\n",
              "</style>\n",
              "<table border=\"1\" class=\"dataframe\">\n",
              "  <thead>\n",
              "    <tr style=\"text-align: right;\">\n",
              "      <th></th>\n",
              "      <th>Métrica</th>\n",
              "      <th>Valor</th>\n",
              "    </tr>\n",
              "  </thead>\n",
              "  <tbody>\n",
              "    <tr>\n",
              "      <th>Accuracy</th>\n",
              "      <td>Accuracy</td>\n",
              "      <td>0.981480</td>\n",
              "    </tr>\n",
              "    <tr>\n",
              "      <th>Recall</th>\n",
              "      <td>Recall</td>\n",
              "      <td>0.978689</td>\n",
              "    </tr>\n",
              "    <tr>\n",
              "      <th>Precision</th>\n",
              "      <td>Precision</td>\n",
              "      <td>0.999705</td>\n",
              "    </tr>\n",
              "    <tr>\n",
              "      <th>F1</th>\n",
              "      <td>F1</td>\n",
              "      <td>0.989085</td>\n",
              "    </tr>\n",
              "    <tr>\n",
              "      <th>ROC-AUC</th>\n",
              "      <td>ROC-AUC</td>\n",
              "      <td>0.988475</td>\n",
              "    </tr>\n",
              "  </tbody>\n",
              "</table>\n",
              "</div>"
            ],
            "text/plain": [
              "             Métrica     Valor\n",
              "Accuracy    Accuracy  0.981480\n",
              "Recall        Recall  0.978689\n",
              "Precision  Precision  0.999705\n",
              "F1                F1  0.989085\n",
              "ROC-AUC      ROC-AUC  0.988475"
            ]
          },
          "metadata": {
            "tags": []
          },
          "execution_count": 101
        }
      ]
    },
    {
      "cell_type": "code",
      "metadata": {
        "id": "shaped-advocate",
        "colab": {
          "base_uri": "https://localhost:8080/",
          "height": 537
        },
        "outputId": "f930ead6-d621-4d90-bf99-e59b648839e1"
      },
      "source": [
        "metrics_df.plot(kind='bar',figsize=(14,8))"
      ],
      "id": "shaped-advocate",
      "execution_count": 102,
      "outputs": [
        {
          "output_type": "execute_result",
          "data": {
            "text/plain": [
              "<matplotlib.axes._subplots.AxesSubplot at 0x7f92eb8d9910>"
            ]
          },
          "metadata": {
            "tags": []
          },
          "execution_count": 102
        },
        {
          "output_type": "display_data",
          "data": {
            "image/png": "[encoded data removed]",
            "text/plain": [
              "<Figure size 1008x576 with 1 Axes>"
            ]
          },
          "metadata": {
            "tags": [],
            "needs_background": "light"
          }
        }
      ]
    },
    {
      "cell_type": "code",
      "metadata": {
        "colab": {
          "base_uri": "https://localhost:8080/"
        },
        "id": "6COgjE_cm8eS",
        "outputId": "03f9ed1d-79a2-4a6e-f6cc-9cf4835439ca"
      },
      "source": [
        "from scipy.stats import ks_2samp\n",
        "ks_2samp(y_pred, y_test)"
      ],
      "id": "6COgjE_cm8eS",
      "execution_count": 65,
      "outputs": [
        {
          "output_type": "execute_result",
          "data": {
            "text/plain": [
              "Ks_2sampResult(statistic=0.14258128139860285, pvalue=0.0)"
            ]
          },
          "metadata": {
            "tags": []
          },
          "execution_count": 65
        }
      ]
    },
    {
      "cell_type": "code",
      "metadata": {
        "id": "24411a87"
      },
      "source": [
        "import pickle\n",
        "f = open('./models/RandomForest', 'wb')\n",
        "pickle.dump(forest, f)"
      ],
      "id": "24411a87",
      "execution_count": null,
      "outputs": []
    },
    {
      "cell_type": "markdown",
      "metadata": {
        "id": "southern-stability"
      },
      "source": [
        "# Gradient Boosting"
      ],
      "id": "southern-stability"
    },
    {
      "cell_type": "code",
      "metadata": {
        "id": "genetic-carolina"
      },
      "source": [
        "from sklearn.ensemble import GradientBoostingClassifier"
      ],
      "id": "genetic-carolina",
      "execution_count": null,
      "outputs": []
    },
    {
      "cell_type": "code",
      "metadata": {
        "id": "proof-effectiveness"
      },
      "source": [
        "gbrt = GradientBoostingClassifier(max_depth = 25)"
      ],
      "id": "proof-effectiveness",
      "execution_count": null,
      "outputs": []
    },
    {
      "cell_type": "code",
      "metadata": {
        "id": "aggressive-south",
        "outputId": "39a9f082-d87e-41df-9157-69d83a446829"
      },
      "source": [
        "gbrt.fit(X_train, y_train)"
      ],
      "id": "aggressive-south",
      "execution_count": null,
      "outputs": [
        {
          "output_type": "execute_result",
          "data": {
            "text/plain": [
              "GradientBoostingClassifier(max_depth=25)"
            ]
          },
          "metadata": {
            "tags": []
          },
          "execution_count": 35
        }
      ]
    },
    {
      "cell_type": "code",
      "metadata": {
        "id": "external-fountain"
      },
      "source": [
        "y_pred = gbrt.predict(X_test)\n",
        "accuracy = accuracy_score(y_test, y_pred)\n",
        "recall = recall_score(y_test, y_pred)\n",
        "precision = precision_score(y_test, y_pred)\n",
        "f1 = f1_score(y_test, y_pred)\n",
        "roc = roc_auc_score(y_test, y_pred)"
      ],
      "id": "external-fountain",
      "execution_count": 12,
      "outputs": []
    },
    {
      "cell_type": "code",
      "metadata": {
        "id": "super-federal",
        "colab": {
          "base_uri": "https://localhost:8080/",
          "height": 537
        },
        "outputId": "269c62be-fe00-4ccc-d046-0e81ccbdd56f"
      },
      "source": [
        "metrics_dict = {'Accuracy': accuracy, 'Recall': recall, 'Precision': precision, 'F1': f1, 'ROC-AUC': roc}\n",
        "\n",
        "metrics_df = pd.DataFrame(metrics_dict.items(), index = metrics_dict.keys(), columns=['Métrica', 'Valor'])\n",
        "\n",
        "metrics_df.plot(kind='bar',figsize=(14,8))"
      ],
      "id": "super-federal",
      "execution_count": 13,
      "outputs": [
        {
          "output_type": "execute_result",
          "data": {
            "text/plain": [
              "<matplotlib.axes._subplots.AxesSubplot at 0x7f0915312710>"
            ]
          },
          "metadata": {
            "tags": []
          },
          "execution_count": 13
        },
        {
          "output_type": "display_data",
          "data": {
            "image/png": "[encoded data removed]",
            "text/plain": [
              "<Figure size 1008x576 with 1 Axes>"
            ]
          },
          "metadata": {
            "tags": [],
            "needs_background": "light"
          }
        }
      ]
    },
    {
      "cell_type": "code",
      "metadata": {
        "id": "38bd85bf"
      },
      "source": [
        "import pickle\n",
        "f = open('./models/GradientBoosting', 'wb')\n",
        "pickle.dump(gbrt, f)"
      ],
      "id": "38bd85bf",
      "execution_count": null,
      "outputs": []
    },
    {
      "cell_type": "code",
      "metadata": {
        "id": "czYDUPU7SATZ"
      },
      "source": [
        ""
      ],
      "id": "czYDUPU7SATZ",
      "execution_count": null,
      "outputs": []
    },
    {
      "cell_type": "markdown",
      "metadata": {
        "id": "88bd7b69"
      },
      "source": [
        "# Ensemble MLP"
      ],
      "id": "88bd7b69"
    },
    {
      "cell_type": "code",
      "metadata": {
        "id": "822efcb7"
      },
      "source": [
        "from sklearn.neural_network import MLPClassifier\n",
        "from sklearn.ensemble import BaggingClassifier"
      ],
      "id": "822efcb7",
      "execution_count": null,
      "outputs": []
    },
    {
      "cell_type": "code",
      "metadata": {
        "id": "003ba258"
      },
      "source": [
        "baggingClassifier = BaggingClassifier(\n",
        "    base_estimator = MLPClassifier(hidden_layer_sizes = (16)),\n",
        "    max_samples = 0.75,\n",
        "    max_features = 0.75,\n",
        "    n_estimators = 5\n",
        ")"
      ],
      "id": "003ba258",
      "execution_count": null,
      "outputs": []
    },
    {
      "cell_type": "code",
      "metadata": {
        "id": "8a42b7a2",
        "outputId": "f2c9603d-5f40-410e-b6d5-1d464080bb56"
      },
      "source": [
        "baggingClassifier.fit(X_train, y_train)"
      ],
      "id": "8a42b7a2",
      "execution_count": null,
      "outputs": [
        {
          "output_type": "execute_result",
          "data": {
            "text/plain": [
              "BaggingClassifier(base_estimator=MLPClassifier(hidden_layer_sizes=16),\n",
              "                  max_features=0.75, max_samples=0.75, n_estimators=5)"
            ]
          },
          "metadata": {
            "tags": []
          },
          "execution_count": 7
        }
      ]
    },
    {
      "cell_type": "code",
      "metadata": {
        "id": "eb6c998a"
      },
      "source": [
        "y_pred = baggingClassifier.predict(X_test)"
      ],
      "id": "eb6c998a",
      "execution_count": null,
      "outputs": []
    },
    {
      "cell_type": "code",
      "metadata": {
        "id": "b942f41e"
      },
      "source": [
        "accuracy = accuracy_score(y_test, y_pred)\n",
        "recall = recall_score(y_test, y_pred)\n",
        "precision = precision_score(y_test, y_pred)\n",
        "f1 = f1_score(y_test, y_pred)\n",
        "roc = roc_auc_score(y_test, y_pred)"
      ],
      "id": "b942f41e",
      "execution_count": null,
      "outputs": []
    },
    {
      "cell_type": "code",
      "metadata": {
        "id": "d4fd66ed",
        "outputId": "c77acd17-c8f7-46ea-c893-76d3da06bd91"
      },
      "source": [
        "metrics_dict = {'Accuracy': accuracy, 'Recall': recall, 'Precision': precision, 'F1': f1, 'ROC-AUC': roc}\n",
        "\n",
        "metrics_df = pd.DataFrame(metrics_dict.items(), index = metrics_dict.keys(), columns=['Métrica', 'Valor'])\n",
        "\n",
        "metrics_df.plot(kind='bar',figsize=(14,8))"
      ],
      "id": "d4fd66ed",
      "execution_count": null,
      "outputs": [
        {
          "output_type": "execute_result",
          "data": {
            "text/plain": [
              "<AxesSubplot:>"
            ]
          },
          "metadata": {
            "tags": []
          },
          "execution_count": 11
        },
        {
          "output_type": "display_data",
          "data": {
            "image/png": "[encoded data removed]",
            "text/plain": [
              "<Figure size 1008x576 with 1 Axes>"
            ]
          },
          "metadata": {
            "tags": [],
            "needs_background": "light"
          }
        }
      ]
    },
    {
      "cell_type": "code",
      "metadata": {
        "id": "81a80393"
      },
      "source": [
        "from scipy.stats import ks_2samp"
      ],
      "id": "81a80393",
      "execution_count": null,
      "outputs": []
    },
    {
      "cell_type": "code",
      "metadata": {
        "id": "4b2f5824",
        "outputId": "c53abab3-3d6c-4a53-c1e9-f7ebcecf0ac7"
      },
      "source": [
        "from scipy.stats import ks_2samp\n",
        "ks_2samp(y_pred, y_test)"
      ],
      "id": "4b2f5824",
      "execution_count": null,
      "outputs": [
        {
          "output_type": "execute_result",
          "data": {
            "text/plain": [
              "KstestResult(statistic=0.06861353063574266, pvalue=0.0)"
            ]
          },
          "metadata": {
            "tags": []
          },
          "execution_count": 14
        }
      ]
    },
    {
      "cell_type": "code",
      "metadata": {
        "id": "6dfd61aa"
      },
      "source": [
        "import pickle\n",
        "f = open('./models/BaggingClassifierMLP', 'wb')\n",
        "pickle.dump(baggingClassifier, f)"
      ],
      "id": "6dfd61aa",
      "execution_count": null,
      "outputs": []
    },
    {
      "cell_type": "markdown",
      "metadata": {
        "id": "pFUCZGN_y3QI"
      },
      "source": [
        "# Ensemble de Modelos por Max Voting"
      ],
      "id": "pFUCZGN_y3QI"
    },
    {
      "cell_type": "code",
      "metadata": {
        "id": "LtTm2ZyUyyLp"
      },
      "source": [
        "#model imports\n",
        "import pickle"
      ],
      "id": "LtTm2ZyUyyLp",
      "execution_count": 10,
      "outputs": []
    },
    {
      "cell_type": "code",
      "metadata": {
        "colab": {
          "base_uri": "https://localhost:8080/"
        },
        "id": "AWqqViePzWX4",
        "outputId": "17534c18-afa3-4ace-924e-ab90aa2bb2a6"
      },
      "source": [
        "rf = pickle.load(open('drive/MyDrive/Colab Notebooks/RandomForest', 'rb'))\n",
        "gbrt = pickle.load(open('drive/MyDrive/Colab Notebooks/GradientBoosting', 'rb'))"
      ],
      "id": "AWqqViePzWX4",
      "execution_count": 11,
      "outputs": [
        {
          "output_type": "stream",
          "text": [
            "/usr/local/lib/python3.7/dist-packages/sklearn/base.py:318: UserWarning: Trying to unpickle estimator DecisionTreeClassifier from version 0.24.1 when using version 0.22.2.post1. This might lead to breaking code or invalid results. Use at your own risk.\n",
            "  UserWarning)\n",
            "/usr/local/lib/python3.7/dist-packages/sklearn/base.py:318: UserWarning: Trying to unpickle estimator RandomForestClassifier from version 0.24.1 when using version 0.22.2.post1. This might lead to breaking code or invalid results. Use at your own risk.\n",
            "  UserWarning)\n",
            "/usr/local/lib/python3.7/dist-packages/sklearn/base.py:318: UserWarning: Trying to unpickle estimator DummyClassifier from version 0.24.1 when using version 0.22.2.post1. This might lead to breaking code or invalid results. Use at your own risk.\n",
            "  UserWarning)\n",
            "/usr/local/lib/python3.7/dist-packages/sklearn/base.py:318: UserWarning: Trying to unpickle estimator DecisionTreeRegressor from version 0.24.1 when using version 0.22.2.post1. This might lead to breaking code or invalid results. Use at your own risk.\n",
            "  UserWarning)\n",
            "/usr/local/lib/python3.7/dist-packages/sklearn/base.py:318: UserWarning: Trying to unpickle estimator GradientBoostingClassifier from version 0.24.1 when using version 0.22.2.post1. This might lead to breaking code or invalid results. Use at your own risk.\n",
            "  UserWarning)\n"
          ],
          "name": "stderr"
        }
      ]
    },
    {
      "cell_type": "code",
      "metadata": {
        "id": "dLFlW6Cizn1G"
      },
      "source": [
        "pred1=rf.predict(X_test)\n",
        "pred2=gbrt.predict(X_test)"
      ],
      "id": "dLFlW6Cizn1G",
      "execution_count": null,
      "outputs": []
    },
    {
      "cell_type": "code",
      "metadata": {
        "id": "1GPp_kj_0bkg"
      },
      "source": [
        "from scipy import stats\n",
        "final_pred = []\n",
        "for i in range(0,len(X_test)):\n",
        "    final_pred.append(stats.mode([pred1[i], pred2[i]])[0][0])"
      ],
      "id": "1GPp_kj_0bkg",
      "execution_count": null,
      "outputs": []
    },
    {
      "cell_type": "code",
      "metadata": {
        "id": "HHkaFw5I1FvE"
      },
      "source": [
        "accuracy = accuracy_score(y_test, final_pred)\n",
        "recall = recall_score(y_test, final_pred)\n",
        "precision = precision_score(y_test, final_pred)\n",
        "f1 = f1_score(y_test, final_pred)\n",
        "roc = roc_auc_score(y_test, final_pred)"
      ],
      "id": "HHkaFw5I1FvE",
      "execution_count": null,
      "outputs": []
    },
    {
      "cell_type": "code",
      "metadata": {
        "colab": {
          "base_uri": "https://localhost:8080/",
          "height": 537
        },
        "id": "LRH4AxVi1gFX",
        "outputId": "cc769910-14df-45f8-9070-4a72cc301e0f"
      },
      "source": [
        "metrics_dict = {'Accuracy': accuracy, 'Recall': recall, 'Precision': precision, 'F1': f1, 'ROC-AUC': roc}\n",
        "\n",
        "metrics_df = pd.DataFrame(metrics_dict.items(), index = metrics_dict.keys(), columns=['Métrica', 'Valor'])\n",
        "\n",
        "metrics_df.plot(kind='bar',figsize=(14,8))"
      ],
      "id": "LRH4AxVi1gFX",
      "execution_count": null,
      "outputs": [
        {
          "output_type": "execute_result",
          "data": {
            "text/plain": [
              "<matplotlib.axes._subplots.AxesSubplot at 0x7f36409c5f50>"
            ]
          },
          "metadata": {
            "tags": []
          },
          "execution_count": 36
        },
        {
          "output_type": "display_data",
          "data": {
            "image/png": "[encoded data removed]",
            "text/plain": [
              "<Figure size 1008x576 with 1 Axes>"
            ]
          },
          "metadata": {
            "tags": [],
            "needs_background": "light"
          }
        }
      ]
    },
    {
      "cell_type": "code",
      "metadata": {
        "id": "WU_mAI671xy_"
      },
      "source": [
        ""
      ],
      "id": "WU_mAI671xy_",
      "execution_count": null,
      "outputs": []
    }
  ]
}