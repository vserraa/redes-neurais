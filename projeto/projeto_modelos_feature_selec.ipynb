{
  "nbformat": 4,
  "nbformat_minor": 5,
  "metadata": {
    "kernelspec": {
      "display_name": "Python 3",
      "language": "python",
      "name": "python3"
    },
    "language_info": {
      "codemirror_mode": {
        "name": "ipython",
        "version": 3
      },
      "file_extension": ".py",
      "mimetype": "text/x-python",
      "name": "python",
      "nbconvert_exporter": "python",
      "pygments_lexer": "ipython3",
      "version": "3.9.2"
    },
    "colab": {
      "name": "projeto-modelos.ipynb",
      "provenance": [],
      "collapsed_sections": [],
      "toc_visible": true
    },
    "accelerator": "GPU"
  },
  "cells": [
    {
      "cell_type": "code",
      "metadata": {
        "id": "chemical-charlotte"
      },
      "source": [
        "##imports\n",
        "import pandas as pd\n",
        "import numpy as np\n",
        "import matplotlib.pyplot as plt\n",
        "from sklearn.metrics import accuracy_score, recall_score, precision_score, f1_score, roc_auc_score\n",
        "from sklearn.metrics import confusion_matrix"
      ],
      "id": "chemical-charlotte",
      "execution_count": 1,
      "outputs": []
    },
    {
      "cell_type": "code",
      "metadata": {
        "colab": {
          "base_uri": "https://localhost:8080/"
        },
        "id": "VinTpJg_xskD",
        "outputId": "c7c89324-2d91-4471-c2f5-88fc45ca9f1b"
      },
      "source": [
        "## mounting on gdrive/comment for jupyter\n",
        "from google.colab import drive\n",
        "drive.mount('/content/drive')"
      ],
      "id": "VinTpJg_xskD",
      "execution_count": 2,
      "outputs": [
        {
          "output_type": "stream",
          "text": [
            "Mounted at /content/drive\n"
          ],
          "name": "stdout"
        }
      ]
    },
    {
      "cell_type": "markdown",
      "metadata": {
        "id": "unexpected-simpson"
      },
      "source": [
        "# Importação dos Dados"
      ],
      "id": "unexpected-simpson"
    },
    {
      "cell_type": "code",
      "metadata": {
        "id": "junior-writer"
      },
      "source": [
        "df_train = pd.read_csv('drive/MyDrive/Colab Notebooks/treino_309.csv')\n",
        "df_test = pd.read_csv('drive/MyDrive/Colab Notebooks/BASE-PREPROCESSED(TESTE).gz', compression='gzip', sep='\\t')"
      ],
      "id": "junior-writer",
      "execution_count": 3,
      "outputs": []
    },
    {
      "cell_type": "code",
      "metadata": {
        "id": "younger-cooler"
      },
      "source": [
        "def create_split(df, target, drop_end=1):\n",
        "    df = df.dropna()\n",
        "    if 'PROPHET_NORM_FEATURES' in df.columns.values:\n",
        "        df.drop(['PROPHET_NORM_FEATURES'], inplace=True, axis=1)\n",
        "    if 'NEURO_LABEL' in df.columns.values:\n",
        "        df.drop(['NEURO_LABEL'], inplace=True, axis=1)\n",
        "    if 'PROPHET_LABEL' in df.columns.values:\n",
        "        df.drop(['PROPHET_LABEL'], inplace=True, axis=1)\n",
        "    return df[df.columns[:len(df.columns)-drop_end]].to_numpy(), df[[target]].to_numpy().reshape(-1)"
      ],
      "id": "younger-cooler",
      "execution_count": null,
      "outputs": []
    },
    {
      "cell_type": "code",
      "metadata": {
        "id": "dZMGOlJXU4c2"
      },
      "source": [
        "df = df_train.drop(['PROPHET_NORM_FEATURES', 'NEURO_LABEL', 'Unnamed: 0'], axis = 1).append(df_test.drop(['PROPHET_NORM_FEATURES', 'NEURO_LABEL'], axis = 1))"
      ],
      "id": "dZMGOlJXU4c2",
      "execution_count": 4,
      "outputs": []
    },
    {
      "cell_type": "code",
      "metadata": {
        "id": "aL3os-VJRP-e"
      },
      "source": [
        "X = df[df.columns].drop(['ALVO'], axis=1)"
      ],
      "id": "aL3os-VJRP-e",
      "execution_count": 5,
      "outputs": []
    },
    {
      "cell_type": "code",
      "metadata": {
        "id": "ioO9UJsgkNia"
      },
      "source": [
        "X.drop('PROPHET_LABEL', axis=1, inplace=True)"
      ],
      "id": "ioO9UJsgkNia",
      "execution_count": 6,
      "outputs": []
    },
    {
      "cell_type": "code",
      "metadata": {
        "id": "fTJNE7FyVamT"
      },
      "source": [
        "y = df.ALVO"
      ],
      "id": "fTJNE7FyVamT",
      "execution_count": 7,
      "outputs": []
    },
    {
      "cell_type": "code",
      "metadata": {
        "colab": {
          "base_uri": "https://localhost:8080/"
        },
        "id": "nRjNf88ARCfc",
        "outputId": "5878ad78-f4b9-44d1-8281-87fd81a690fd"
      },
      "source": [
        "from sklearn.tree import DecisionTreeRegressor\n",
        "\n",
        "tree = DecisionTreeRegressor().fit(X, y)\n",
        "tree.feature_importances_"
      ],
      "id": "nRjNf88ARCfc",
      "execution_count": 8,
      "outputs": [
        {
          "output_type": "execute_result",
          "data": {
            "text/plain": [
              "array([1.07170694e-02, 1.89633593e-02, 3.72218747e-02, 1.42269433e-02,\n",
              "       5.13170131e-04, 5.07875301e-04, 5.93215745e-04, 1.50210832e-03,\n",
              "       9.18817387e-04, 6.61567678e-03, 1.61421649e-02, 5.00771419e-04,\n",
              "       9.54590354e-04, 2.38246188e-03, 8.67583791e-04, 8.21033087e-04,\n",
              "       1.51011128e-03, 1.35796878e-03, 0.00000000e+00, 2.23185823e-03,\n",
              "       6.56765104e-04, 2.19572648e-03, 8.80524963e-04, 2.14580346e-03,\n",
              "       0.00000000e+00, 8.51632457e-04, 1.29874351e-03, 5.21995816e-04,\n",
              "       1.22630370e-03, 1.74424415e-03, 1.34610740e-03, 8.41728875e-04,\n",
              "       4.65283431e-04, 0.00000000e+00, 1.16491065e-03, 7.82242977e-04,\n",
              "       0.00000000e+00, 6.93244918e-04, 6.32103989e-04, 0.00000000e+00,\n",
              "       1.22367602e-03, 4.63645454e-04, 2.42286360e-03, 7.17339938e-04,\n",
              "       1.41508014e-03, 1.53704015e-03, 1.63589490e-03, 8.61291416e-04,\n",
              "       0.00000000e+00, 7.55209720e-04, 1.47692977e-03, 1.21185771e-03,\n",
              "       7.27896576e-04, 1.21274131e-03, 1.30028256e-03, 1.16927915e-03,\n",
              "       1.45441264e-03, 3.51583257e-04, 1.63779741e-03, 2.47965609e-03,\n",
              "       1.62786310e-03, 1.88293447e-03, 0.00000000e+00, 4.22465181e-04,\n",
              "       1.73863843e-03, 0.00000000e+00, 1.77689248e-03, 1.09352889e-03,\n",
              "       0.00000000e+00, 6.48745148e-04, 1.05595454e-03, 8.74623862e-04,\n",
              "       1.61929100e-03, 1.35903485e-03, 6.80784990e-04, 1.25765231e-03,\n",
              "       2.14312072e-03, 0.00000000e+00, 7.13479952e-04, 1.73689920e-03,\n",
              "       0.00000000e+00, 1.08960160e-03, 7.96509790e-04, 1.52916610e-03,\n",
              "       2.25527750e-03, 1.73815274e-03, 6.45108018e-04, 0.00000000e+00,\n",
              "       1.38401650e-03, 2.25192306e-03, 1.53583056e-03, 1.18349872e-03,\n",
              "       1.51020234e-03, 5.85523013e-04, 1.44076653e-03, 5.01024261e-04,\n",
              "       1.01545655e-03, 1.35721689e-03, 0.00000000e+00, 1.69585147e-03,\n",
              "       1.47394519e-03, 0.00000000e+00, 6.91942968e-04, 1.05899288e-03,\n",
              "       1.71378524e-04, 1.56649670e-03, 1.77260826e-03, 0.00000000e+00,\n",
              "       1.39829007e-03, 0.00000000e+00, 6.17924939e-04, 2.07656560e-03,\n",
              "       2.32228966e-03, 2.81040197e-03, 2.36239002e-03, 4.18042965e-04,\n",
              "       1.86178663e-03, 2.17674889e-03, 5.60064939e-05, 1.15372722e-03,\n",
              "       2.96594474e-03, 1.66008577e-03, 1.39433430e-03, 2.16154183e-03,\n",
              "       8.47623351e-04, 2.28658547e-03, 9.44462957e-04, 1.08563067e-03,\n",
              "       1.75896735e-03, 2.23909178e-03, 9.17341551e-04, 2.03991941e-03,\n",
              "       9.95859198e-04, 2.45198197e-04, 2.62517637e-03, 1.13845780e-03,\n",
              "       5.02442699e-04, 1.85539810e-03, 2.06320181e-03, 4.83168784e-04,\n",
              "       1.65146066e-03, 9.52956967e-04, 8.11357080e-05, 2.45787877e-03,\n",
              "       2.88694139e-03, 3.06183773e-04, 6.89420885e-04, 2.85499995e-03,\n",
              "       1.08634292e-03, 2.57219019e-03, 1.12802420e-03, 1.20635349e-03,\n",
              "       2.32028933e-03, 2.69246306e-03, 1.57575493e-03, 1.90691422e-03,\n",
              "       1.94525499e-03, 1.27668255e-03, 1.97689860e-03, 2.63771143e-03,\n",
              "       1.43724136e-03, 2.18626405e-03, 1.67011769e-03, 6.03529074e-04,\n",
              "       1.73593243e-03, 1.55801793e-03, 7.02186490e-05, 1.56112337e-03,\n",
              "       1.44137732e-03, 0.00000000e+00, 7.09397441e-04, 0.00000000e+00,\n",
              "       2.01548767e-03, 1.79411173e-03, 4.08586515e-04, 2.26678197e-03,\n",
              "       2.88968591e-03, 1.14061739e-03, 2.04821101e-03, 1.35049701e-03,\n",
              "       5.75650997e-04, 2.21242898e-03, 7.83738308e-04, 8.14814355e-04,\n",
              "       1.82992641e-03, 1.47461268e-03, 8.66186834e-04, 2.32390658e-03,\n",
              "       1.56851903e-03, 1.50815720e-03, 1.72947898e-03, 2.09032533e-03,\n",
              "       5.14142284e-05, 1.67912568e-03, 1.13072579e-03, 8.45825763e-04,\n",
              "       2.13498157e-03, 1.62472505e-03, 4.68394994e-05, 2.47416807e-03,\n",
              "       1.15088069e-03, 4.40226110e-04, 1.95069808e-03, 2.14888580e-03,\n",
              "       9.89343528e-04, 2.18280899e-03, 1.43558567e-03, 4.30173970e-04,\n",
              "       1.28252434e-03, 2.15382718e-03, 7.63707522e-04, 2.35365645e-03,\n",
              "       1.56331365e-03, 8.77326386e-04, 1.14076733e-03, 3.07721266e-03,\n",
              "       4.12779548e-04, 1.87425087e-03, 1.47115616e-03, 1.40402357e-03,\n",
              "       2.09008922e-03, 1.55148986e-03, 8.25655242e-05, 1.76726491e-03,\n",
              "       1.92263834e-03, 3.11003072e-04, 2.33547193e-03, 1.51698359e-03,\n",
              "       7.08420233e-03, 2.31641190e-03, 7.69119798e-03, 1.13340715e-03,\n",
              "       2.63308034e-03, 1.43344071e-04, 1.12033147e-03, 2.44792108e-03,\n",
              "       1.13411155e-03, 1.41405724e-03, 1.83301681e-04, 7.51116948e-04,\n",
              "       0.00000000e+00, 3.71768365e-03, 0.00000000e+00, 1.73341272e-03,\n",
              "       0.00000000e+00, 3.51247501e-03, 1.39934860e-03, 0.00000000e+00,\n",
              "       0.00000000e+00, 2.12362623e-03, 0.00000000e+00, 3.45625374e-03,\n",
              "       0.00000000e+00, 1.77917509e-03, 0.00000000e+00, 4.58514275e-03,\n",
              "       0.00000000e+00, 2.58387882e-03, 1.25350303e-03, 0.00000000e+00,\n",
              "       0.00000000e+00, 3.39882900e-03, 1.26837401e-05, 3.99077610e-03,\n",
              "       0.00000000e+00, 3.40956339e-03, 0.00000000e+00, 1.99658693e-03,\n",
              "       0.00000000e+00, 1.21618845e-03, 0.00000000e+00, 2.02474166e-03,\n",
              "       0.00000000e+00, 2.92721472e-03, 1.16035765e-03, 6.26361951e-03,\n",
              "       8.74017783e-02, 3.30569810e-02, 3.27320274e-02, 1.77188042e-03,\n",
              "       1.45139471e-02, 1.73244638e-03, 1.95137116e-03, 5.18018579e-03,\n",
              "       7.83260267e-03, 1.93256956e-02, 9.87563363e-03, 2.91343853e-02,\n",
              "       5.98970125e-02, 3.24914684e-02, 3.21099913e-02, 6.19981183e-02,\n",
              "       8.71111522e-04, 2.38190077e-03, 2.43572015e-02, 4.71838034e-03,\n",
              "       7.36929654e-04, 1.22461380e-03, 8.27506453e-04, 2.05374150e-03,\n",
              "       1.18303040e-02, 1.21336787e-02, 2.25061928e-02, 1.17496201e-02,\n",
              "       6.06898652e-03])"
            ]
          },
          "metadata": {
            "tags": []
          },
          "execution_count": 8
        }
      ]
    },
    {
      "cell_type": "code",
      "metadata": {
        "id": "Vc2v8ovvj4I8"
      },
      "source": [
        "feat_imp = tree.feature_importances_\n",
        "cols_to_use = X[X.columns.values[np.where(feat_imp>5e-3)]].columns.values"
      ],
      "id": "Vc2v8ovvj4I8",
      "execution_count": 9,
      "outputs": []
    },
    {
      "cell_type": "code",
      "metadata": {
        "id": "DlzsvDdhkEU2"
      },
      "source": [
        "cols_to_use = np.append(cols_to_use, df_test.columns[0])"
      ],
      "id": "DlzsvDdhkEU2",
      "execution_count": 10,
      "outputs": []
    },
    {
      "cell_type": "code",
      "metadata": {
        "id": "APrr0L5UneCe"
      },
      "source": [
        "df_train = df_train[cols_to_use]\n",
        "df_test = df_test[cols_to_use]"
      ],
      "id": "APrr0L5UneCe",
      "execution_count": 11,
      "outputs": []
    },
    {
      "cell_type": "code",
      "metadata": {
        "id": "solved-ebony"
      },
      "source": [
        "X_train = df_train[df_train.drop(['ALVO'], axis=1).columns.values]\n",
        "y_train = df_train.ALVO\n"
      ],
      "id": "solved-ebony",
      "execution_count": 12,
      "outputs": []
    },
    {
      "cell_type": "code",
      "metadata": {
        "id": "g2BTeM6kXrsA"
      },
      "source": [
        "X_test = df_test[df_test.drop(['ALVO'], axis=1).columns.values]\n",
        "y_test = df_test.ALVO"
      ],
      "id": "g2BTeM6kXrsA",
      "execution_count": 13,
      "outputs": []
    },
    {
      "cell_type": "markdown",
      "metadata": {
        "id": "documented-ordering"
      },
      "source": [
        "# Primeiro Modelo: Random Forest"
      ],
      "id": "documented-ordering"
    },
    {
      "cell_type": "code",
      "metadata": {
        "id": "emotional-surgery"
      },
      "source": [
        "from sklearn.ensemble import RandomForestClassifier"
      ],
      "id": "emotional-surgery",
      "execution_count": null,
      "outputs": []
    },
    {
      "cell_type": "code",
      "metadata": {
        "id": "equipped-front"
      },
      "source": [
        "forest = RandomForestClassifier(max_features=6, n_estimators=100)"
      ],
      "id": "equipped-front",
      "execution_count": null,
      "outputs": []
    },
    {
      "cell_type": "code",
      "metadata": {
        "id": "level-bibliography",
        "colab": {
          "base_uri": "https://localhost:8080/"
        },
        "outputId": "13f01927-265f-4338-ce85-9ac2d3fd418a"
      },
      "source": [
        "forest.fit(X_train, y_train)"
      ],
      "id": "level-bibliography",
      "execution_count": null,
      "outputs": [
        {
          "output_type": "execute_result",
          "data": {
            "text/plain": [
              "RandomForestClassifier(bootstrap=True, ccp_alpha=0.0, class_weight=None,\n",
              "                       criterion='gini', max_depth=None, max_features=6,\n",
              "                       max_leaf_nodes=None, max_samples=None,\n",
              "                       min_impurity_decrease=0.0, min_impurity_split=None,\n",
              "                       min_samples_leaf=1, min_samples_split=2,\n",
              "                       min_weight_fraction_leaf=0.0, n_estimators=100,\n",
              "                       n_jobs=None, oob_score=False, random_state=None,\n",
              "                       verbose=0, warm_start=False)"
            ]
          },
          "metadata": {
            "tags": []
          },
          "execution_count": 95
        }
      ]
    },
    {
      "cell_type": "code",
      "metadata": {
        "id": "allied-reconstruction"
      },
      "source": [
        "y_pred = forest.predict(X_test)\n",
        "accuracy = accuracy_score(y_test, y_pred)\n",
        "recall = recall_score(y_test, y_pred)\n",
        "precision = precision_score(y_test, y_pred)\n",
        "f1 = f1_score(y_test, y_pred)\n",
        "roc = roc_auc_score(y_test, y_pred)"
      ],
      "id": "allied-reconstruction",
      "execution_count": null,
      "outputs": []
    },
    {
      "cell_type": "code",
      "metadata": {
        "id": "secure-freight"
      },
      "source": [
        "metrics_dict = {'Accuracy': accuracy, 'Recall': recall, 'Precision': precision, 'F1': f1, 'ROC-AUC': roc}"
      ],
      "id": "secure-freight",
      "execution_count": null,
      "outputs": []
    },
    {
      "cell_type": "code",
      "metadata": {
        "id": "dangerous-perry"
      },
      "source": [
        "metrics_df = pd.DataFrame(metrics_dict.items(), index = metrics_dict.keys(), columns=['Métrica', 'Valor'])"
      ],
      "id": "dangerous-perry",
      "execution_count": null,
      "outputs": []
    },
    {
      "cell_type": "code",
      "metadata": {
        "colab": {
          "base_uri": "https://localhost:8080/",
          "height": 204
        },
        "id": "IY8hG5H4Zl-e",
        "outputId": "6a280ea5-dcf6-4511-83b2-6dcfcdeba4e9"
      },
      "source": [
        "metrics_df"
      ],
      "id": "IY8hG5H4Zl-e",
      "execution_count": null,
      "outputs": [
        {
          "output_type": "execute_result",
          "data": {
            "text/html": [
              "<div>\n",
              "<style scoped>\n",
              "    .dataframe tbody tr th:only-of-type {\n",
              "        vertical-align: middle;\n",
              "    }\n",
              "\n",
              "    .dataframe tbody tr th {\n",
              "        vertical-align: top;\n",
              "    }\n",
              "\n",
              "    .dataframe thead th {\n",
              "        text-align: right;\n",
              "    }\n",
              "</style>\n",
              "<table border=\"1\" class=\"dataframe\">\n",
              "  <thead>\n",
              "    <tr style=\"text-align: right;\">\n",
              "      <th></th>\n",
              "      <th>Métrica</th>\n",
              "      <th>Valor</th>\n",
              "    </tr>\n",
              "  </thead>\n",
              "  <tbody>\n",
              "    <tr>\n",
              "      <th>Accuracy</th>\n",
              "      <td>Accuracy</td>\n",
              "      <td>0.981480</td>\n",
              "    </tr>\n",
              "    <tr>\n",
              "      <th>Recall</th>\n",
              "      <td>Recall</td>\n",
              "      <td>0.978689</td>\n",
              "    </tr>\n",
              "    <tr>\n",
              "      <th>Precision</th>\n",
              "      <td>Precision</td>\n",
              "      <td>0.999705</td>\n",
              "    </tr>\n",
              "    <tr>\n",
              "      <th>F1</th>\n",
              "      <td>F1</td>\n",
              "      <td>0.989085</td>\n",
              "    </tr>\n",
              "    <tr>\n",
              "      <th>ROC-AUC</th>\n",
              "      <td>ROC-AUC</td>\n",
              "      <td>0.988475</td>\n",
              "    </tr>\n",
              "  </tbody>\n",
              "</table>\n",
              "</div>"
            ],
            "text/plain": [
              "             Métrica     Valor\n",
              "Accuracy    Accuracy  0.981480\n",
              "Recall        Recall  0.978689\n",
              "Precision  Precision  0.999705\n",
              "F1                F1  0.989085\n",
              "ROC-AUC      ROC-AUC  0.988475"
            ]
          },
          "metadata": {
            "tags": []
          },
          "execution_count": 101
        }
      ]
    },
    {
      "cell_type": "code",
      "metadata": {
        "id": "shaped-advocate",
        "colab": {
          "base_uri": "https://localhost:8080/",
          "height": 537
        },
        "outputId": "f930ead6-d621-4d90-bf99-e59b648839e1"
      },
      "source": [
        "metrics_df.plot(kind='bar',figsize=(14,8))"
      ],
      "id": "shaped-advocate",
      "execution_count": null,
      "outputs": [
        {
          "output_type": "execute_result",
          "data": {
            "text/plain": [
              "<matplotlib.axes._subplots.AxesSubplot at 0x7f92eb8d9910>"
            ]
          },
          "metadata": {
            "tags": []
          },
          "execution_count": 102
        },
        {
          "output_type": "display_data",
          "data": {
            "image/png": "[encoded data removed]",
            "text/plain": [
              "<Figure size 1008x576 with 1 Axes>"
            ]
          },
          "metadata": {
            "tags": [],
            "needs_background": "light"
          }
        }
      ]
    },
    {
      "cell_type": "code",
      "metadata": {
        "colab": {
          "base_uri": "https://localhost:8080/"
        },
        "id": "6COgjE_cm8eS",
        "outputId": "03f9ed1d-79a2-4a6e-f6cc-9cf4835439ca"
      },
      "source": [
        "from scipy.stats import ks_2samp\n",
        "ks_2samp(y_pred, y_test)"
      ],
      "id": "6COgjE_cm8eS",
      "execution_count": null,
      "outputs": [
        {
          "output_type": "execute_result",
          "data": {
            "text/plain": [
              "Ks_2sampResult(statistic=0.14258128139860285, pvalue=0.0)"
            ]
          },
          "metadata": {
            "tags": []
          },
          "execution_count": 65
        }
      ]
    },
    {
      "cell_type": "code",
      "metadata": {
        "id": "24411a87"
      },
      "source": [
        "import pickle\n",
        "f = open('RandomForest', 'wb')\n",
        "pickle.dump(forest, f)"
      ],
      "id": "24411a87",
      "execution_count": null,
      "outputs": []
    },
    {
      "cell_type": "markdown",
      "metadata": {
        "id": "southern-stability"
      },
      "source": [
        "# Gradient Boosting"
      ],
      "id": "southern-stability"
    },
    {
      "cell_type": "code",
      "metadata": {
        "id": "genetic-carolina"
      },
      "source": [
        "from sklearn.ensemble import GradientBoostingClassifier"
      ],
      "id": "genetic-carolina",
      "execution_count": 14,
      "outputs": []
    },
    {
      "cell_type": "code",
      "metadata": {
        "id": "proof-effectiveness"
      },
      "source": [
        "gbrt = GradientBoostingClassifier(max_depth = 25)"
      ],
      "id": "proof-effectiveness",
      "execution_count": 15,
      "outputs": []
    },
    {
      "cell_type": "code",
      "metadata": {
        "id": "aggressive-south",
        "colab": {
          "base_uri": "https://localhost:8080/",
          "height": 340
        },
        "outputId": "785326da-7002-43b9-ac86-662879e2ecbf"
      },
      "source": [
        "gbrt.fit(X_train, y_train)"
      ],
      "id": "aggressive-south",
      "execution_count": 16,
      "outputs": [
        {
          "output_type": "error",
          "ename": "KeyboardInterrupt",
          "evalue": "ignored",
          "traceback": [
            "\u001b[0;31m---------------------------------------------------------------------------\u001b[0m",
            "\u001b[0;31mKeyboardInterrupt\u001b[0m                         Traceback (most recent call last)",
            "\u001b[0;32m<ipython-input-16-e4cd130faf4c>\u001b[0m in \u001b[0;36m<module>\u001b[0;34m()\u001b[0m\n\u001b[0;32m----> 1\u001b[0;31m \u001b[0mgbrt\u001b[0m\u001b[0;34m.\u001b[0m\u001b[0mfit\u001b[0m\u001b[0;34m(\u001b[0m\u001b[0mX_train\u001b[0m\u001b[0;34m,\u001b[0m \u001b[0my_train\u001b[0m\u001b[0;34m)\u001b[0m\u001b[0;34m\u001b[0m\u001b[0;34m\u001b[0m\u001b[0m\n\u001b[0m",
            "\u001b[0;32m/usr/local/lib/python3.7/dist-packages/sklearn/ensemble/_gb.py\u001b[0m in \u001b[0;36mfit\u001b[0;34m(self, X, y, sample_weight, monitor)\u001b[0m\n\u001b[1;32m   1535\u001b[0m         n_stages = self._fit_stages(\n\u001b[1;32m   1536\u001b[0m             \u001b[0mX\u001b[0m\u001b[0;34m,\u001b[0m \u001b[0my\u001b[0m\u001b[0;34m,\u001b[0m \u001b[0mraw_predictions\u001b[0m\u001b[0;34m,\u001b[0m \u001b[0msample_weight\u001b[0m\u001b[0;34m,\u001b[0m \u001b[0mself\u001b[0m\u001b[0;34m.\u001b[0m\u001b[0m_rng\u001b[0m\u001b[0;34m,\u001b[0m \u001b[0mX_val\u001b[0m\u001b[0;34m,\u001b[0m \u001b[0my_val\u001b[0m\u001b[0;34m,\u001b[0m\u001b[0;34m\u001b[0m\u001b[0;34m\u001b[0m\u001b[0m\n\u001b[0;32m-> 1537\u001b[0;31m             sample_weight_val, begin_at_stage, monitor, X_idx_sorted)\n\u001b[0m\u001b[1;32m   1538\u001b[0m \u001b[0;34m\u001b[0m\u001b[0m\n\u001b[1;32m   1539\u001b[0m         \u001b[0;31m# change shape of arrays after fit (early-stopping or additional ests)\u001b[0m\u001b[0;34m\u001b[0m\u001b[0;34m\u001b[0m\u001b[0;34m\u001b[0m\u001b[0m\n",
            "\u001b[0;32m/usr/local/lib/python3.7/dist-packages/sklearn/ensemble/_gb.py\u001b[0m in \u001b[0;36m_fit_stages\u001b[0;34m(self, X, y, raw_predictions, sample_weight, random_state, X_val, y_val, sample_weight_val, begin_at_stage, monitor, X_idx_sorted)\u001b[0m\n\u001b[1;32m   1592\u001b[0m             raw_predictions = self._fit_stage(\n\u001b[1;32m   1593\u001b[0m                 \u001b[0mi\u001b[0m\u001b[0;34m,\u001b[0m \u001b[0mX\u001b[0m\u001b[0;34m,\u001b[0m \u001b[0my\u001b[0m\u001b[0;34m,\u001b[0m \u001b[0mraw_predictions\u001b[0m\u001b[0;34m,\u001b[0m \u001b[0msample_weight\u001b[0m\u001b[0;34m,\u001b[0m \u001b[0msample_mask\u001b[0m\u001b[0;34m,\u001b[0m\u001b[0;34m\u001b[0m\u001b[0;34m\u001b[0m\u001b[0m\n\u001b[0;32m-> 1594\u001b[0;31m                 random_state, X_idx_sorted, X_csc, X_csr)\n\u001b[0m\u001b[1;32m   1595\u001b[0m \u001b[0;34m\u001b[0m\u001b[0m\n\u001b[1;32m   1596\u001b[0m             \u001b[0;31m# track deviance (= loss)\u001b[0m\u001b[0;34m\u001b[0m\u001b[0;34m\u001b[0m\u001b[0;34m\u001b[0m\u001b[0m\n",
            "\u001b[0;32m/usr/local/lib/python3.7/dist-packages/sklearn/ensemble/_gb.py\u001b[0m in \u001b[0;36m_fit_stage\u001b[0;34m(self, i, X, y, raw_predictions, sample_weight, sample_mask, random_state, X_idx_sorted, X_csc, X_csr)\u001b[0m\n\u001b[1;32m   1248\u001b[0m             loss.update_terminal_regions(\n\u001b[1;32m   1249\u001b[0m                 \u001b[0mtree\u001b[0m\u001b[0;34m.\u001b[0m\u001b[0mtree_\u001b[0m\u001b[0;34m,\u001b[0m \u001b[0mX\u001b[0m\u001b[0;34m,\u001b[0m \u001b[0my\u001b[0m\u001b[0;34m,\u001b[0m \u001b[0mresidual\u001b[0m\u001b[0;34m,\u001b[0m \u001b[0mraw_predictions\u001b[0m\u001b[0;34m,\u001b[0m \u001b[0msample_weight\u001b[0m\u001b[0;34m,\u001b[0m\u001b[0;34m\u001b[0m\u001b[0;34m\u001b[0m\u001b[0m\n\u001b[0;32m-> 1250\u001b[0;31m                 sample_mask, learning_rate=self.learning_rate, k=k)\n\u001b[0m\u001b[1;32m   1251\u001b[0m \u001b[0;34m\u001b[0m\u001b[0m\n\u001b[1;32m   1252\u001b[0m             \u001b[0;31m# add tree to ensemble\u001b[0m\u001b[0;34m\u001b[0m\u001b[0;34m\u001b[0m\u001b[0;34m\u001b[0m\u001b[0m\n",
            "\u001b[0;32m/usr/local/lib/python3.7/dist-packages/sklearn/ensemble/_gb_losses.py\u001b[0m in \u001b[0;36mupdate_terminal_regions\u001b[0;34m(self, tree, X, y, residual, raw_predictions, sample_weight, sample_mask, learning_rate, k)\u001b[0m\n\u001b[1;32m    113\u001b[0m             self._update_terminal_region(tree, masked_terminal_regions,\n\u001b[1;32m    114\u001b[0m                                          \u001b[0mleaf\u001b[0m\u001b[0;34m,\u001b[0m \u001b[0mX\u001b[0m\u001b[0;34m,\u001b[0m \u001b[0my\u001b[0m\u001b[0;34m,\u001b[0m \u001b[0mresidual\u001b[0m\u001b[0;34m,\u001b[0m\u001b[0;34m\u001b[0m\u001b[0;34m\u001b[0m\u001b[0m\n\u001b[0;32m--> 115\u001b[0;31m                                          raw_predictions[:, k], sample_weight)\n\u001b[0m\u001b[1;32m    116\u001b[0m \u001b[0;34m\u001b[0m\u001b[0m\n\u001b[1;32m    117\u001b[0m         \u001b[0;31m# update predictions (both in-bag and out-of-bag)\u001b[0m\u001b[0;34m\u001b[0m\u001b[0;34m\u001b[0m\u001b[0;34m\u001b[0m\u001b[0m\n",
            "\u001b[0;32m/usr/local/lib/python3.7/dist-packages/sklearn/ensemble/_gb_losses.py\u001b[0m in \u001b[0;36m_update_terminal_region\u001b[0;34m(self, tree, terminal_regions, leaf, X, y, residual, raw_predictions, sample_weight)\u001b[0m\n\u001b[1;32m    634\u001b[0m         \u001b[0mwe\u001b[0m \u001b[0mtake\u001b[0m \u001b[0madvantage\u001b[0m \u001b[0mthat\u001b[0m\u001b[0;34m:\u001b[0m \u001b[0my\u001b[0m \u001b[0;34m-\u001b[0m \u001b[0mprob\u001b[0m \u001b[0;34m=\u001b[0m \u001b[0mresidual\u001b[0m\u001b[0;34m\u001b[0m\u001b[0;34m\u001b[0m\u001b[0m\n\u001b[1;32m    635\u001b[0m         \"\"\"\n\u001b[0;32m--> 636\u001b[0;31m         \u001b[0mterminal_region\u001b[0m \u001b[0;34m=\u001b[0m \u001b[0mnp\u001b[0m\u001b[0;34m.\u001b[0m\u001b[0mwhere\u001b[0m\u001b[0;34m(\u001b[0m\u001b[0mterminal_regions\u001b[0m \u001b[0;34m==\u001b[0m \u001b[0mleaf\u001b[0m\u001b[0;34m)\u001b[0m\u001b[0;34m[\u001b[0m\u001b[0;36m0\u001b[0m\u001b[0;34m]\u001b[0m\u001b[0;34m\u001b[0m\u001b[0;34m\u001b[0m\u001b[0m\n\u001b[0m\u001b[1;32m    637\u001b[0m         \u001b[0mresidual\u001b[0m \u001b[0;34m=\u001b[0m \u001b[0mresidual\u001b[0m\u001b[0;34m.\u001b[0m\u001b[0mtake\u001b[0m\u001b[0;34m(\u001b[0m\u001b[0mterminal_region\u001b[0m\u001b[0;34m,\u001b[0m \u001b[0maxis\u001b[0m\u001b[0;34m=\u001b[0m\u001b[0;36m0\u001b[0m\u001b[0;34m)\u001b[0m\u001b[0;34m\u001b[0m\u001b[0;34m\u001b[0m\u001b[0m\n\u001b[1;32m    638\u001b[0m         \u001b[0my\u001b[0m \u001b[0;34m=\u001b[0m \u001b[0my\u001b[0m\u001b[0;34m.\u001b[0m\u001b[0mtake\u001b[0m\u001b[0;34m(\u001b[0m\u001b[0mterminal_region\u001b[0m\u001b[0;34m,\u001b[0m \u001b[0maxis\u001b[0m\u001b[0;34m=\u001b[0m\u001b[0;36m0\u001b[0m\u001b[0;34m)\u001b[0m\u001b[0;34m\u001b[0m\u001b[0;34m\u001b[0m\u001b[0m\n",
            "\u001b[0;31mKeyboardInterrupt\u001b[0m: "
          ]
        }
      ]
    },
    {
      "cell_type": "code",
      "metadata": {
        "id": "external-fountain"
      },
      "source": [
        "y_pred = gbrt.predict(X_test)\n",
        "accuracy = accuracy_score(y_test, y_pred)\n",
        "recall = recall_score(y_test, y_pred)\n",
        "precision = precision_score(y_test, y_pred)\n",
        "f1 = f1_score(y_test, y_pred)\n",
        "roc = roc_auc_score(y_test, y_pred)"
      ],
      "id": "external-fountain",
      "execution_count": null,
      "outputs": []
    },
    {
      "cell_type": "code",
      "metadata": {
        "id": "super-federal"
      },
      "source": [
        "metrics_dict = {'Accuracy': accuracy, 'Recall': recall, 'Precision': precision, 'F1': f1, 'ROC-AUC': roc}\n",
        "\n",
        "metrics_df = pd.DataFrame(metrics_dict.items(), index = metrics_dict.keys(), columns=['Métrica', 'Valor'])\n",
        "\n",
        "metrics_df.plot(kind='bar',figsize=(14,8))"
      ],
      "id": "super-federal",
      "execution_count": null,
      "outputs": []
    },
    {
      "cell_type": "code",
      "metadata": {
        "id": "38bd85bf"
      },
      "source": [
        "import pickle\n",
        "f = open('./models/GradientBoosting', 'wb')\n",
        "pickle.dump(gbrt, f)"
      ],
      "id": "38bd85bf",
      "execution_count": null,
      "outputs": []
    },
    {
      "cell_type": "code",
      "metadata": {
        "id": "czYDUPU7SATZ"
      },
      "source": [
        ""
      ],
      "id": "czYDUPU7SATZ",
      "execution_count": null,
      "outputs": []
    },
    {
      "cell_type": "markdown",
      "metadata": {
        "id": "88bd7b69"
      },
      "source": [
        "# Ensemble MLP"
      ],
      "id": "88bd7b69"
    },
    {
      "cell_type": "code",
      "metadata": {
        "id": "822efcb7"
      },
      "source": [
        "from sklearn.neural_network import MLPClassifier\n",
        "from sklearn.ensemble import BaggingClassifier"
      ],
      "id": "822efcb7",
      "execution_count": 17,
      "outputs": []
    },
    {
      "cell_type": "code",
      "metadata": {
        "id": "003ba258"
      },
      "source": [
        "baggingClassifier = BaggingClassifier(\n",
        "    base_estimator = MLPClassifier(hidden_layer_sizes = (16)),\n",
        "    max_samples = 0.75,\n",
        "    max_features = 0.75,\n",
        "    n_estimators = 5\n",
        ")"
      ],
      "id": "003ba258",
      "execution_count": 18,
      "outputs": []
    },
    {
      "cell_type": "code",
      "metadata": {
        "id": "8a42b7a2",
        "colab": {
          "base_uri": "https://localhost:8080/"
        },
        "outputId": "f35f9360-8ea3-4254-eba3-dc3af9a8bcaa"
      },
      "source": [
        "baggingClassifier.fit(X_train, y_train)"
      ],
      "id": "8a42b7a2",
      "execution_count": 19,
      "outputs": [
        {
          "output_type": "execute_result",
          "data": {
            "text/plain": [
              "BaggingClassifier(base_estimator=MLPClassifier(activation='relu', alpha=0.0001,\n",
              "                                               batch_size='auto', beta_1=0.9,\n",
              "                                               beta_2=0.999,\n",
              "                                               early_stopping=False,\n",
              "                                               epsilon=1e-08,\n",
              "                                               hidden_layer_sizes=16,\n",
              "                                               learning_rate='constant',\n",
              "                                               learning_rate_init=0.001,\n",
              "                                               max_fun=15000, max_iter=200,\n",
              "                                               momentum=0.9,\n",
              "                                               n_iter_no_change=10,\n",
              "                                               nesterovs_momentum=True,\n",
              "                                               power_t=0.5, random_state=None,\n",
              "                                               shuffle=True, solver='adam',\n",
              "                                               tol=0.0001,\n",
              "                                               validation_fraction=0.1,\n",
              "                                               verbose=False,\n",
              "                                               warm_start=False),\n",
              "                  bootstrap=True, bootstrap_features=False, max_features=0.75,\n",
              "                  max_samples=0.75, n_estimators=5, n_jobs=None,\n",
              "                  oob_score=False, random_state=None, verbose=0,\n",
              "                  warm_start=False)"
            ]
          },
          "metadata": {
            "tags": []
          },
          "execution_count": 19
        }
      ]
    },
    {
      "cell_type": "code",
      "metadata": {
        "id": "eb6c998a"
      },
      "source": [
        "y_pred = baggingClassifier.predict(X_test)"
      ],
      "id": "eb6c998a",
      "execution_count": 20,
      "outputs": []
    },
    {
      "cell_type": "code",
      "metadata": {
        "id": "b942f41e"
      },
      "source": [
        "accuracy = accuracy_score(y_test, y_pred)\n",
        "recall = recall_score(y_test, y_pred)\n",
        "precision = precision_score(y_test, y_pred)\n",
        "f1 = f1_score(y_test, y_pred)\n",
        "roc = roc_auc_score(y_test, y_pred)"
      ],
      "id": "b942f41e",
      "execution_count": 21,
      "outputs": []
    },
    {
      "cell_type": "code",
      "metadata": {
        "id": "d4fd66ed",
        "colab": {
          "base_uri": "https://localhost:8080/",
          "height": 537
        },
        "outputId": "a1468f03-84e0-4087-c65b-04c9e8e2ef98"
      },
      "source": [
        "metrics_dict = {'Accuracy': accuracy, 'Recall': recall, 'Precision': precision, 'F1': f1, 'ROC-AUC': roc}\n",
        "\n",
        "metrics_df = pd.DataFrame(metrics_dict.items(), index = metrics_dict.keys(), columns=['Métrica', 'Valor'])\n",
        "\n",
        "metrics_df.plot(kind='bar',figsize=(14,8))"
      ],
      "id": "d4fd66ed",
      "execution_count": 22,
      "outputs": [
        {
          "output_type": "execute_result",
          "data": {
            "text/plain": [
              "<matplotlib.axes._subplots.AxesSubplot at 0x7f0a45b4b7d0>"
            ]
          },
          "metadata": {
            "tags": []
          },
          "execution_count": 22
        },
        {
          "output_type": "display_data",
          "data": {
            "image/png": "[encoded data removed]",
            "text/plain": [
              "<Figure size 1008x576 with 1 Axes>"
            ]
          },
          "metadata": {
            "tags": [],
            "needs_background": "light"
          }
        }
      ]
    },
    {
      "cell_type": "code",
      "metadata": {
        "id": "81a80393"
      },
      "source": [
        "from scipy.stats import ks_2samp"
      ],
      "id": "81a80393",
      "execution_count": 23,
      "outputs": []
    },
    {
      "cell_type": "code",
      "metadata": {
        "id": "4b2f5824",
        "colab": {
          "base_uri": "https://localhost:8080/"
        },
        "outputId": "f824f1ad-6808-4c58-e016-4c3fe62c5715"
      },
      "source": [
        "ks_2samp(y_pred, y_test)"
      ],
      "id": "4b2f5824",
      "execution_count": 24,
      "outputs": [
        {
          "output_type": "execute_result",
          "data": {
            "text/plain": [
              "Ks_2sampResult(statistic=0.2630383263028, pvalue=0.0)"
            ]
          },
          "metadata": {
            "tags": []
          },
          "execution_count": 24
        }
      ]
    },
    {
      "cell_type": "code",
      "metadata": {
        "colab": {
          "base_uri": "https://localhost:8080/",
          "height": 531
        },
        "id": "1nVnyW1vYD1a",
        "outputId": "6ca24d71-94c9-49cf-9f4c-d9e8465fc1ce"
      },
      "source": [
        "!pip install scikit-plot\n",
        "from scikitplot.metrics import plot_ks_statistic\n",
        "plot_ks_statistic(y_test,baggingClassifier.predict_proba(X_test))"
      ],
      "id": "1nVnyW1vYD1a",
      "execution_count": 30,
      "outputs": [
        {
          "output_type": "stream",
          "text": [
            "Requirement already satisfied: scikit-plot in /usr/local/lib/python3.7/dist-packages (0.3.7)\n",
            "Requirement already satisfied: scipy>=0.9 in /usr/local/lib/python3.7/dist-packages (from scikit-plot) (1.4.1)\n",
            "Requirement already satisfied: matplotlib>=1.4.0 in /usr/local/lib/python3.7/dist-packages (from scikit-plot) (3.2.2)\n",
            "Requirement already satisfied: joblib>=0.10 in /usr/local/lib/python3.7/dist-packages (from scikit-plot) (1.0.1)\n",
            "Requirement already satisfied: scikit-learn>=0.18 in /usr/local/lib/python3.7/dist-packages (from scikit-plot) (0.22.2.post1)\n",
            "Requirement already satisfied: numpy>=1.13.3 in /usr/local/lib/python3.7/dist-packages (from scipy>=0.9->scikit-plot) (1.19.5)\n",
            "Requirement already satisfied: kiwisolver>=1.0.1 in /usr/local/lib/python3.7/dist-packages (from matplotlib>=1.4.0->scikit-plot) (1.3.1)\n",
            "Requirement already satisfied: cycler>=0.10 in /usr/local/lib/python3.7/dist-packages (from matplotlib>=1.4.0->scikit-plot) (0.10.0)\n",
            "Requirement already satisfied: pyparsing!=2.0.4,!=2.1.2,!=2.1.6,>=2.0.1 in /usr/local/lib/python3.7/dist-packages (from matplotlib>=1.4.0->scikit-plot) (2.4.7)\n",
            "Requirement already satisfied: python-dateutil>=2.1 in /usr/local/lib/python3.7/dist-packages (from matplotlib>=1.4.0->scikit-plot) (2.8.1)\n",
            "Requirement already satisfied: six in /usr/local/lib/python3.7/dist-packages (from cycler>=0.10->matplotlib>=1.4.0->scikit-plot) (1.15.0)\n"
          ],
          "name": "stdout"
        },
        {
          "output_type": "execute_result",
          "data": {
            "text/plain": [
              "<matplotlib.axes._subplots.AxesSubplot at 0x7f0a35a7ac50>"
            ]
          },
          "metadata": {
            "tags": []
          },
          "execution_count": 30
        },
        {
          "output_type": "display_data",
          "data": {
            "image/png": "[encoded data removed]",
            "text/plain": [
              "<Figure size 432x288 with 1 Axes>"
            ]
          },
          "metadata": {
            "tags": [],
            "needs_background": "light"
          }
        }
      ]
    },
    {
      "cell_type": "code",
      "metadata": {
        "id": "6dfd61aa"
      },
      "source": [
        "import pickle\n",
        "f = open('BaggingClassifierMLP', 'wb')\n",
        "pickle.dump(baggingClassifier, f)"
      ],
      "id": "6dfd61aa",
      "execution_count": 25,
      "outputs": []
    },
    {
      "cell_type": "markdown",
      "metadata": {
        "id": "pFUCZGN_y3QI"
      },
      "source": [
        "# Ensemble de Modelos por Max Voting"
      ],
      "id": "pFUCZGN_y3QI"
    },
    {
      "cell_type": "code",
      "metadata": {
        "id": "LtTm2ZyUyyLp"
      },
      "source": [
        "#model imports\n",
        "import pickle"
      ],
      "id": "LtTm2ZyUyyLp",
      "execution_count": null,
      "outputs": []
    },
    {
      "cell_type": "code",
      "metadata": {
        "colab": {
          "base_uri": "https://localhost:8080/"
        },
        "id": "AWqqViePzWX4",
        "outputId": "17534c18-afa3-4ace-924e-ab90aa2bb2a6"
      },
      "source": [
        "rf = pickle.load(open('drive/MyDrive/Colab Notebooks/RandomForest', 'rb'))\n",
        "gbrt = pickle.load(open('drive/MyDrive/Colab Notebooks/GradientBoosting', 'rb'))"
      ],
      "id": "AWqqViePzWX4",
      "execution_count": null,
      "outputs": [
        {
          "output_type": "stream",
          "text": [
            "/usr/local/lib/python3.7/dist-packages/sklearn/base.py:318: UserWarning: Trying to unpickle estimator DecisionTreeClassifier from version 0.24.1 when using version 0.22.2.post1. This might lead to breaking code or invalid results. Use at your own risk.\n",
            "  UserWarning)\n",
            "/usr/local/lib/python3.7/dist-packages/sklearn/base.py:318: UserWarning: Trying to unpickle estimator RandomForestClassifier from version 0.24.1 when using version 0.22.2.post1. This might lead to breaking code or invalid results. Use at your own risk.\n",
            "  UserWarning)\n",
            "/usr/local/lib/python3.7/dist-packages/sklearn/base.py:318: UserWarning: Trying to unpickle estimator DummyClassifier from version 0.24.1 when using version 0.22.2.post1. This might lead to breaking code or invalid results. Use at your own risk.\n",
            "  UserWarning)\n",
            "/usr/local/lib/python3.7/dist-packages/sklearn/base.py:318: UserWarning: Trying to unpickle estimator DecisionTreeRegressor from version 0.24.1 when using version 0.22.2.post1. This might lead to breaking code or invalid results. Use at your own risk.\n",
            "  UserWarning)\n",
            "/usr/local/lib/python3.7/dist-packages/sklearn/base.py:318: UserWarning: Trying to unpickle estimator GradientBoostingClassifier from version 0.24.1 when using version 0.22.2.post1. This might lead to breaking code or invalid results. Use at your own risk.\n",
            "  UserWarning)\n"
          ],
          "name": "stderr"
        }
      ]
    },
    {
      "cell_type": "code",
      "metadata": {
        "id": "dLFlW6Cizn1G"
      },
      "source": [
        "pred1=rf.predict(X_test)\n",
        "pred2=gbrt.predict(X_test)"
      ],
      "id": "dLFlW6Cizn1G",
      "execution_count": null,
      "outputs": []
    },
    {
      "cell_type": "code",
      "metadata": {
        "id": "1GPp_kj_0bkg"
      },
      "source": [
        "from scipy import stats\n",
        "final_pred = []\n",
        "for i in range(0,len(X_test)):\n",
        "    final_pred.append(stats.mode([pred1[i], pred2[i]])[0][0])"
      ],
      "id": "1GPp_kj_0bkg",
      "execution_count": null,
      "outputs": []
    },
    {
      "cell_type": "code",
      "metadata": {
        "id": "HHkaFw5I1FvE"
      },
      "source": [
        "accuracy = accuracy_score(y_test, final_pred)\n",
        "recall = recall_score(y_test, final_pred)\n",
        "precision = precision_score(y_test, final_pred)\n",
        "f1 = f1_score(y_test, final_pred)\n",
        "roc = roc_auc_score(y_test, final_pred)"
      ],
      "id": "HHkaFw5I1FvE",
      "execution_count": null,
      "outputs": []
    },
    {
      "cell_type": "code",
      "metadata": {
        "colab": {
          "base_uri": "https://localhost:8080/",
          "height": 537
        },
        "id": "LRH4AxVi1gFX",
        "outputId": "cc769910-14df-45f8-9070-4a72cc301e0f"
      },
      "source": [
        "metrics_dict = {'Accuracy': accuracy, 'Recall': recall, 'Precision': precision, 'F1': f1, 'ROC-AUC': roc}\n",
        "\n",
        "metrics_df = pd.DataFrame(metrics_dict.items(), index = metrics_dict.keys(), columns=['Métrica', 'Valor'])\n",
        "\n",
        "metrics_df.plot(kind='bar',figsize=(14,8))"
      ],
      "id": "LRH4AxVi1gFX",
      "execution_count": null,
      "outputs": [
        {
          "output_type": "execute_result",
          "data": {
            "text/plain": [
              "<matplotlib.axes._subplots.AxesSubplot at 0x7f36409c5f50>"
            ]
          },
          "metadata": {
            "tags": []
          },
          "execution_count": 36
        },
        {
          "output_type": "display_data",
          "data": {
            "image/png": "[encoded data removed]",
            "text/plain": [
              "<Figure size 1008x576 with 1 Axes>"
            ]
          },
          "metadata": {
            "tags": [],
            "needs_background": "light"
          }
        }
      ]
    },
    {
      "cell_type": "code",
      "metadata": {
        "id": "WU_mAI671xy_"
      },
      "source": [
        ""
      ],
      "id": "WU_mAI671xy_",
      "execution_count": null,
      "outputs": []
    }
  ]
}