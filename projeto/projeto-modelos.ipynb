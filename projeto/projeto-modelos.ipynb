{
 "cells": [
  {
   "cell_type": "code",
   "execution_count": 1,
   "id": "chemical-charlotte",
   "metadata": {},
   "outputs": [],
   "source": [
    "##imports\n",
    "import pandas as pd\n",
    "import numpy as np\n",
    "import matplotlib.pyplot as plt\n",
    "from sklearn.metrics import accuracy_score, recall_score, precision_score, f1_score, roc_auc_score\n",
    "from sklearn.metrics import confusion_matrix"
   ]
  },
  {
   "cell_type": "markdown",
   "id": "unexpected-simpson",
   "metadata": {},
   "source": [
    "# Importação dos Dados"
   ]
  },
  {
   "cell_type": "code",
   "execution_count": 2,
   "id": "junior-writer",
   "metadata": {},
   "outputs": [],
   "source": [
    "df_valid = pd.read_csv('./data/valid.csv')\n",
    "df_test = pd.read_csv('./data/preprocessed_test.csv.gz', compression='gzip', sep='\\t')"
   ]
  },
  {
   "cell_type": "code",
   "execution_count": 3,
   "id": "younger-cooler",
   "metadata": {},
   "outputs": [],
   "source": [
    "def create_split(df, target, drop_start):\n",
    "    df.drop(['PROPHET_NORM_FEATURES'], inplace=True, axis=1)\n",
    "    return df[df.columns[drop_start:]].to_numpy(), df[[target]].to_numpy().reshape(-1)"
   ]
  },
  {
   "cell_type": "code",
   "execution_count": 4,
   "id": "solved-ebony",
   "metadata": {},
   "outputs": [],
   "source": [
    "X_test, y_test = create_split(df_test, 'ALVO', drop_start=1)"
   ]
  },
  {
   "cell_type": "code",
   "execution_count": 5,
   "id": "60ab782d",
   "metadata": {},
   "outputs": [],
   "source": [
    "def train_in_batches(model, chunksize, target_col, drop_start, increase_estimators = None):\n",
    "    with pd.read_csv('./data/treino_309.csv', chunksize=chunksize) as reader:\n",
    "        for chunk in reader:\n",
    "            Xs, ys = create_split(chunk, target_col, drop_start)\n",
    "            if (increase_estimators != None):\n",
    "                model.n_estimators += increase_estimators\n",
    "            model.fit(Xs, ys)"
   ]
  },
  {
   "cell_type": "markdown",
   "id": "documented-ordering",
   "metadata": {},
   "source": [
    "# Primeiro Modelo: Random Forest"
   ]
  },
  {
   "cell_type": "code",
   "execution_count": 6,
   "id": "emotional-surgery",
   "metadata": {},
   "outputs": [],
   "source": [
    "from sklearn.ensemble import RandomForestClassifier\n",
    "from sklearn.model_selection import train_test_split\n",
    "from sklearn import preprocessing"
   ]
  },
  {
   "cell_type": "code",
   "execution_count": 7,
   "id": "equipped-front",
   "metadata": {},
   "outputs": [],
   "source": [
    "forest = RandomForestClassifier(max_features=25, n_estimators=100, warm_start=True,random_state=0)"
   ]
  },
  {
   "cell_type": "code",
   "execution_count": 8,
   "id": "level-bibliography",
   "metadata": {},
   "outputs": [],
   "source": [
    "train_in_batches(forest, 30000, 'ALVO', 2, increase_estimators=10)"
   ]
  },
  {
   "cell_type": "code",
   "execution_count": 9,
   "id": "allied-reconstruction",
   "metadata": {},
   "outputs": [],
   "source": [
    "#conjunto de testes nao eh tao grande entao podemos predizer tudo de uma vez\n",
    "y_pred = forest.predict(X_test)\n",
    "accuracy = accuracy_score(y_test, y_pred)\n",
    "recall = recall_score(y_test, y_pred)\n",
    "precision = precision_score(y_test, y_pred)\n",
    "f1 = f1_score(y_test, y_pred)\n",
    "roc = roc_auc_score(y_test, y_pred)"
   ]
  },
  {
   "cell_type": "code",
   "execution_count": 10,
   "id": "secure-freight",
   "metadata": {},
   "outputs": [],
   "source": [
    "metrics_dict = {'Accuracy': accuracy, 'Recall': recall, 'Precision': precision, 'F1': f1, 'ROC-AUC': roc}"
   ]
  },
  {
   "cell_type": "code",
   "execution_count": 11,
   "id": "dangerous-perry",
   "metadata": {},
   "outputs": [],
   "source": [
    "metrics_df = pd.DataFrame(metrics_dict.items(), index = metrics_dict.keys(), columns=['Métrica', 'Valor'])"
   ]
  },
  {
   "cell_type": "code",
   "execution_count": 12,
   "id": "shaped-advocate",
   "metadata": {},
   "outputs": [
    {
     "data": {
      "text/plain": [
       "<AxesSubplot:>"
      ]
     },
     "execution_count": 12,
     "metadata": {},
     "output_type": "execute_result"
    },
    {
     "data": {
      "image/png": "[encoded data removed]",
      "text/plain": [
       "<Figure size 1008x576 with 1 Axes>"
      ]
     },
     "metadata": {
      "needs_background": "light"
     },
     "output_type": "display_data"
    }
   ],
   "source": [
    "metrics_df.plot(kind='bar',figsize=(14,8))"
   ]
  },
  {
   "cell_type": "markdown",
   "id": "southern-stability",
   "metadata": {},
   "source": [
    "# Gradient Boosting"
   ]
  },
  {
   "cell_type": "code",
   "execution_count": 13,
   "id": "genetic-carolina",
   "metadata": {},
   "outputs": [],
   "source": [
    "from sklearn.ensemble import GradientBoostingClassifier\n",
    "from sklearn.model_selection import train_test_split\n",
    "from sklearn import preprocessing"
   ]
  },
  {
   "cell_type": "code",
   "execution_count": 14,
   "id": "proof-effectiveness",
   "metadata": {},
   "outputs": [],
   "source": [
    "gbrt = GradientBoostingClassifier(max_depth = 25, random_state=0, warm_start = True)"
   ]
  },
  {
   "cell_type": "code",
   "execution_count": 15,
   "id": "aggressive-south",
   "metadata": {},
   "outputs": [],
   "source": [
    "train_in_batches(gbrt, 30000, 'ALVO', 2, increase_estimators=10)"
   ]
  },
  {
   "cell_type": "code",
   "execution_count": 16,
   "id": "external-fountain",
   "metadata": {},
   "outputs": [],
   "source": [
    "y_pred = forest.predict(X_test)\n",
    "accuracy = accuracy_score(y_test, y_pred)\n",
    "recall = recall_score(y_test, y_pred)\n",
    "precision = precision_score(y_test, y_pred)\n",
    "f1 = f1_score(y_test, y_pred)\n",
    "roc = roc_auc_score(y_test, y_pred)"
   ]
  },
  {
   "cell_type": "code",
   "execution_count": 17,
   "id": "super-federal",
   "metadata": {},
   "outputs": [
    {
     "data": {
      "text/plain": [
       "<AxesSubplot:>"
      ]
     },
     "execution_count": 17,
     "metadata": {},
     "output_type": "execute_result"
    },
    {
     "data": {
      "image/png": "[encoded data removed]",
      "text/plain": [
       "<Figure size 1008x576 with 1 Axes>"
      ]
     },
     "metadata": {
      "needs_background": "light"
     },
     "output_type": "display_data"
    }
   ],
   "source": [
    "metrics_dict = {'Accuracy': accuracy, 'Recall': recall, 'Precision': precision, 'F1': f1, 'ROC-AUC': roc}\n",
    "\n",
    "metrics_df = pd.DataFrame(metrics_dict.items(), index = metrics_dict.keys(), columns=['Métrica', 'Valor'])\n",
    "\n",
    "metrics_df.plot(kind='bar',figsize=(14,8))"
   ]
  },
  {
   "cell_type": "code",
   "execution_count": null,
   "id": "fatty-florence",
   "metadata": {},
   "outputs": [],
   "source": []
  }
 ],
 "metadata": {
  "kernelspec": {
   "display_name": "Python 3",
   "language": "python",
   "name": "python3"
  },
  "language_info": {
   "codemirror_mode": {
    "name": "ipython",
    "version": 3
   },
   "file_extension": ".py",
   "mimetype": "text/x-python",
   "name": "python",
   "nbconvert_exporter": "python",
   "pygments_lexer": "ipython3",
   "version": "3.9.2"
  }
 },
 "nbformat": 4,
 "nbformat_minor": 5
}
