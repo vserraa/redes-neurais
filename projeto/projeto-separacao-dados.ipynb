{
 "cells": [
  {
   "cell_type": "code",
   "execution_count": 2,
   "id": "unknown-marble",
   "metadata": {},
   "outputs": [],
   "source": [
    "import pandas as pd"
   ]
  },
  {
   "cell_type": "code",
   "execution_count": 4,
   "id": "brilliant-shepherd",
   "metadata": {},
   "outputs": [],
   "source": [
    "df_train = pd.read_csv(\"./data/preprocessed_train.csv.gz\", compression='gzip', sep='\\t')"
   ]
  },
  {
   "cell_type": "code",
   "execution_count": 5,
   "id": "isolated-symposium",
   "metadata": {},
   "outputs": [],
   "source": [
    "df_valid = pd.read_csv(\"./data/preprocessed_val.csv.gz\", compression='gzip', sep='\\t')"
   ]
  },
  {
   "cell_type": "code",
   "execution_count": 6,
   "id": "reduced-lender",
   "metadata": {
    "scrolled": true
   },
   "outputs": [
    {
     "name": "stdout",
     "output_type": "stream",
     "text": [
      "Porcentagem de 1 na classe alvo (treino): 0.8557759242943048\n",
      "Porcentagem de 0 na classe alvo (treino): 0.14422407570569515\n",
      "Porcentagem de 1 na classe alvo (valid): 0.8544457946313555\n",
      "Porcentagem de 0 na classe alvo (valid): 0.1455542053686445\n"
     ]
    }
   ],
   "source": [
    "print('Porcentagem de 1 na classe alvo (treino):', len(df_train[df_train['ALVO'] == 1])/len(df_train))\n",
    "print('Porcentagem de 0 na classe alvo (treino):', len(df_train[df_train['ALVO'] == 0])/len(df_train))\n",
    "print('Porcentagem de 1 na classe alvo (valid):', len(df_valid[df_valid['ALVO'] == 1])/len(df_valid))\n",
    "print('Porcentagem de 0 na classe alvo (valid):', len(df_valid[df_valid['ALVO'] == 0])/len(df_valid))"
   ]
  },
  {
   "cell_type": "markdown",
   "id": "spanish-organ",
   "metadata": {},
   "source": [
    "## Oversampling\n"
   ]
  },
  {
   "cell_type": "code",
   "execution_count": 7,
   "id": "reported-productivity",
   "metadata": {},
   "outputs": [],
   "source": [
    "df_1 = df_train[df_train['ALVO'] == 1]\n",
    "df_0 = df_train[df_train['ALVO'] == 0]"
   ]
  },
  {
   "cell_type": "code",
   "execution_count": 8,
   "id": "needed-river",
   "metadata": {},
   "outputs": [],
   "source": [
    "class1_count = df_1.shape[0]\n",
    "df_oversampled = df_0.sample(n=class1_count, replace=True)"
   ]
  },
  {
   "cell_type": "code",
   "execution_count": 9,
   "id": "coordinate-emphasis",
   "metadata": {},
   "outputs": [],
   "source": [
    "df_train_balanced = pd.concat([df_1, df_oversampled])"
   ]
  },
  {
   "cell_type": "code",
   "execution_count": 10,
   "id": "weighted-complex",
   "metadata": {},
   "outputs": [
    {
     "name": "stdout",
     "output_type": "stream",
     "text": [
      "Porcentagem de 1 na classe alvo (treino): 0.5\n",
      "Porcentagem de 0 na classe alvo (treino): 0.5\n"
     ]
    }
   ],
   "source": [
    "print('Porcentagem de 1 na classe alvo (treino):', len(df_train_balanced[df_train_balanced['ALVO'] == 1])/len(df_train_balanced))\n",
    "print('Porcentagem de 0 na classe alvo (treino):', len(df_train_balanced[df_train_balanced['ALVO'] == 0])/len(df_train_balanced))"
   ]
  },
  {
   "cell_type": "code",
   "execution_count": 11,
   "id": "young-cache",
   "metadata": {},
   "outputs": [],
   "source": [
    "df_1 = df_valid[df_valid['ALVO'] == 1]\n",
    "df_0 = df_valid[df_valid['ALVO'] == 0]"
   ]
  },
  {
   "cell_type": "code",
   "execution_count": 12,
   "id": "illegal-context",
   "metadata": {},
   "outputs": [],
   "source": [
    "class1_count = df_1.shape[0]\n",
    "df_oversampled = df_0.sample(n=class1_count, replace=True)\n",
    "\n",
    "df_valid_balanced = pd.concat([df_1, df_oversampled])"
   ]
  },
  {
   "cell_type": "code",
   "execution_count": 13,
   "id": "optional-basket",
   "metadata": {},
   "outputs": [
    {
     "name": "stdout",
     "output_type": "stream",
     "text": [
      "Porcentagem de 1 na classe alvo (valid): 0.5\n",
      "Porcentagem de 0 na classe alvo (valid): 0.5\n"
     ]
    }
   ],
   "source": [
    "print('Porcentagem de 1 na classe alvo (valid):', len(df_valid_balanced[df_valid_balanced['ALVO'] == 1])/len(df_valid_balanced))\n",
    "print('Porcentagem de 0 na classe alvo (valid):', len(df_valid_balanced[df_valid_balanced['ALVO'] == 0])/len(df_valid_balanced))"
   ]
  },
  {
   "cell_type": "code",
   "execution_count": 14,
   "id": "accredited-finnish",
   "metadata": {},
   "outputs": [],
   "source": [
    "df_valid_balanced = df_valid_balanced.sample(frac=1, random_state=0).reset_index(drop=True)"
   ]
  },
  {
   "cell_type": "code",
   "execution_count": 15,
   "id": "charitable-brown",
   "metadata": {},
   "outputs": [],
   "source": [
    "df_train_balanced = df_train_balanced.sample(frac=1, random_state=1).reset_index(drop=True)"
   ]
  },
  {
   "cell_type": "code",
   "execution_count": 16,
   "id": "beautiful-feedback",
   "metadata": {},
   "outputs": [],
   "source": [
    "import numpy as np\n",
    "main_list = np.setdiff1d(df_train_balanced.columns.values,df_valid_balanced.columns.values)\n",
    "wanted = np.setdiff1d(df_train_balanced.columns.values,main_list)"
   ]
  },
  {
   "cell_type": "code",
   "execution_count": 17,
   "id": "divided-captain",
   "metadata": {},
   "outputs": [],
   "source": [
    "df_train_balanced[wanted].to_csv('./data/treino_309.csv')"
   ]
  },
  {
   "cell_type": "code",
   "execution_count": 18,
   "id": "physical-furniture",
   "metadata": {},
   "outputs": [],
   "source": [
    "df_train_balanced.to_csv('./data/treino.csv')"
   ]
  },
  {
   "cell_type": "code",
   "execution_count": 19,
   "id": "considerable-apartment",
   "metadata": {},
   "outputs": [],
   "source": [
    "df_valid_balanced.to_csv('./data/valid.csv')"
   ]
  },
  {
   "cell_type": "code",
   "execution_count": null,
   "id": "stretch-irrigation",
   "metadata": {},
   "outputs": [],
   "source": []
  }
 ],
 "metadata": {
  "kernelspec": {
   "display_name": "Python 3",
   "language": "python",
   "name": "python3"
  },
  "language_info": {
   "codemirror_mode": {
    "name": "ipython",
    "version": 3
   },
   "file_extension": ".py",
   "mimetype": "text/x-python",
   "name": "python",
   "nbconvert_exporter": "python",
   "pygments_lexer": "ipython3",
   "version": "3.9.2"
  }
 },
 "nbformat": 4,
 "nbformat_minor": 5
}
