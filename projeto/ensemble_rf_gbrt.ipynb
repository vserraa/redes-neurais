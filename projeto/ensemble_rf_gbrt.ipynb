{
 "cells": [
  {
   "cell_type": "code",
   "execution_count": 1,
   "id": "chemical-charlotte",
   "metadata": {
    "id": "chemical-charlotte"
   },
   "outputs": [],
   "source": [
    "##imports\n",
    "import pandas as pd\n",
    "import numpy as np\n",
    "import matplotlib.pyplot as plt\n",
    "from sklearn.metrics import accuracy_score, recall_score, precision_score, f1_score, roc_auc_score\n",
    "from sklearn.metrics import confusion_matrix"
   ]
  },
  {
   "cell_type": "code",
   "execution_count": 2,
   "id": "VinTpJg_xskD",
   "metadata": {
    "colab": {
     "base_uri": "https://localhost:8080/"
    },
    "id": "VinTpJg_xskD",
    "outputId": "fe4ec715-e93e-463a-ec6f-4e06086ec889"
   },
   "outputs": [
    {
     "name": "stdout",
     "output_type": "stream",
     "text": [
      "Mounted at /content/drive\n"
     ]
    }
   ],
   "source": [
    "## mounting on gdrive/comment for jupyter\n",
    "from google.colab import drive\n",
    "drive.mount('/content/drive')"
   ]
  },
  {
   "cell_type": "markdown",
   "id": "unexpected-simpson",
   "metadata": {
    "id": "unexpected-simpson"
   },
   "source": [
    "# Importação dos Dados"
   ]
  },
  {
   "cell_type": "code",
   "execution_count": 3,
   "id": "junior-writer",
   "metadata": {
    "id": "junior-writer"
   },
   "outputs": [],
   "source": [
    "df_train = pd.read_csv('drive/MyDrive/Colab Notebooks/treino_309.csv')\n",
    "df_test = pd.read_csv('drive/MyDrive/Colab Notebooks/BASE-PREPROCESSED(TESTE).gz', compression='gzip', sep='\\t')"
   ]
  },
  {
   "cell_type": "code",
   "execution_count": 14,
   "id": "younger-cooler",
   "metadata": {
    "id": "younger-cooler"
   },
   "outputs": [],
   "source": [
    "def create_split(df, target, drop_start):\n",
    "    df = df.dropna()\n",
    "    if 'PROPHET_NORM_FEATURES' in df:\n",
    "        df.drop(['PROPHET_NORM_FEATURES'], inplace=True, axis=1)\n",
    "    return df[df.columns[drop_start:]].to_numpy(), df[[target]].to_numpy().reshape(-1)"
   ]
  },
  {
   "cell_type": "code",
   "execution_count": 15,
   "id": "solved-ebony",
   "metadata": {
    "id": "solved-ebony"
   },
   "outputs": [],
   "source": [
    "X_train, y_train = create_split(df_train, 'ALVO', drop_start=2)\n",
    "X_test, y_test = create_split(df_test, 'ALVO', drop_start=1)"
   ]
  },
  {
   "cell_type": "markdown",
   "id": "pFUCZGN_y3QI",
   "metadata": {
    "id": "pFUCZGN_y3QI"
   },
   "source": [
    "# Ensemble de Modelos por Max Voting"
   ]
  },
  {
   "cell_type": "code",
   "execution_count": 4,
   "id": "LtTm2ZyUyyLp",
   "metadata": {
    "id": "LtTm2ZyUyyLp"
   },
   "outputs": [],
   "source": [
    "#model imports\n",
    "import pickle"
   ]
  },
  {
   "cell_type": "code",
   "execution_count": 12,
   "id": "AWqqViePzWX4",
   "metadata": {
    "colab": {
     "base_uri": "https://localhost:8080/"
    },
    "id": "AWqqViePzWX4",
    "outputId": "15b1034f-602c-4d21-8c2f-8a01053ffafe"
   },
   "outputs": [
    {
     "name": "stderr",
     "output_type": "stream",
     "text": [
      "/usr/local/lib/python3.7/dist-packages/sklearn/base.py:318: UserWarning: Trying to unpickle estimator DecisionTreeClassifier from version 0.24.1 when using version 0.22.2.post1. This might lead to breaking code or invalid results. Use at your own risk.\n",
      "  UserWarning)\n",
      "/usr/local/lib/python3.7/dist-packages/sklearn/base.py:318: UserWarning: Trying to unpickle estimator RandomForestClassifier from version 0.24.1 when using version 0.22.2.post1. This might lead to breaking code or invalid results. Use at your own risk.\n",
      "  UserWarning)\n",
      "/usr/local/lib/python3.7/dist-packages/sklearn/base.py:318: UserWarning: Trying to unpickle estimator DummyClassifier from version 0.24.1 when using version 0.22.2.post1. This might lead to breaking code or invalid results. Use at your own risk.\n",
      "  UserWarning)\n",
      "/usr/local/lib/python3.7/dist-packages/sklearn/base.py:318: UserWarning: Trying to unpickle estimator DecisionTreeRegressor from version 0.24.1 when using version 0.22.2.post1. This might lead to breaking code or invalid results. Use at your own risk.\n",
      "  UserWarning)\n",
      "/usr/local/lib/python3.7/dist-packages/sklearn/base.py:318: UserWarning: Trying to unpickle estimator GradientBoostingClassifier from version 0.24.1 when using version 0.22.2.post1. This might lead to breaking code or invalid results. Use at your own risk.\n",
      "  UserWarning)\n"
     ]
    }
   ],
   "source": [
    "rf = pickle.load(open('drive/MyDrive/Colab Notebooks/RandomForest', 'rb'))\n",
    "gbrt = pickle.load(open('drive/MyDrive/Colab Notebooks/GradientBoosting', 'rb'))"
   ]
  },
  {
   "cell_type": "code",
   "execution_count": 16,
   "id": "dLFlW6Cizn1G",
   "metadata": {
    "id": "dLFlW6Cizn1G"
   },
   "outputs": [],
   "source": [
    "pred1=rf.predict(X_test)\n",
    "pred2=gbrt.predict(X_test)"
   ]
  },
  {
   "cell_type": "code",
   "execution_count": 34,
   "id": "1GPp_kj_0bkg",
   "metadata": {
    "id": "1GPp_kj_0bkg"
   },
   "outputs": [],
   "source": [
    "from scipy import stats\n",
    "final_pred = []\n",
    "for i in range(0,len(X_test)):\n",
    "    final_pred.append(stats.mode([pred1[i], pred2[i]])[0][0])"
   ]
  },
  {
   "cell_type": "code",
   "execution_count": 35,
   "id": "HHkaFw5I1FvE",
   "metadata": {
    "id": "HHkaFw5I1FvE"
   },
   "outputs": [],
   "source": [
    "accuracy = accuracy_score(y_test, final_pred)\n",
    "recall = recall_score(y_test, final_pred)\n",
    "precision = precision_score(y_test, final_pred)\n",
    "f1 = f1_score(y_test, final_pred)\n",
    "roc = roc_auc_score(y_test, final_pred)"
   ]
  },
  {
   "cell_type": "code",
   "execution_count": 36,
   "id": "LRH4AxVi1gFX",
   "metadata": {
    "colab": {
     "base_uri": "https://localhost:8080/",
     "height": 537
    },
    "id": "LRH4AxVi1gFX",
    "outputId": "cc769910-14df-45f8-9070-4a72cc301e0f"
   },
   "outputs": [
    {
     "data": {
      "text/plain": [
       "<matplotlib.axes._subplots.AxesSubplot at 0x7f36409c5f50>"
      ]
     },
     "execution_count": 36,
     "metadata": {
      "tags": []
     },
     "output_type": "execute_result"
    },
    {
     "data": {
      "image/png": "[encoded data removed]",
      "text/plain": [
       "<Figure size 1008x576 with 1 Axes>"
      ]
     },
     "metadata": {
      "needs_background": "light",
      "tags": []
     },
     "output_type": "display_data"
    }
   ],
   "source": [
    "metrics_dict = {'Accuracy': accuracy, 'Recall': recall, 'Precision': precision, 'F1': f1, 'ROC-AUC': roc}\n",
    "\n",
    "metrics_df = pd.DataFrame(metrics_dict.items(), index = metrics_dict.keys(), columns=['Métrica', 'Valor'])\n",
    "\n",
    "metrics_df.plot(kind='bar',figsize=(14,8))"
   ]
  },
  {
   "cell_type": "code",
   "execution_count": null,
   "id": "WU_mAI671xy_",
   "metadata": {
    "id": "WU_mAI671xy_"
   },
   "outputs": [],
   "source": []
  }
 ],
 "metadata": {
  "accelerator": "GPU",
  "colab": {
   "collapsed_sections": [],
   "name": "projeto-modelos.ipynb",
   "provenance": [],
   "toc_visible": true
  },
  "kernelspec": {
   "display_name": "Python 3",
   "language": "python",
   "name": "python3"
  },
  "language_info": {
   "codemirror_mode": {
    "name": "ipython",
    "version": 3
   },
   "file_extension": ".py",
   "mimetype": "text/x-python",
   "name": "python",
   "nbconvert_exporter": "python",
   "pygments_lexer": "ipython3",
   "version": "3.7.6"
  }
 },
 "nbformat": 4,
 "nbformat_minor": 5
}
