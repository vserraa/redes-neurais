{
 "cells": [
  {
   "cell_type": "code",
   "execution_count": 25,
   "metadata": {},
   "outputs": [],
   "source": [
    "import tensorflow as tf\n",
    "from tensorflow import keras\n",
    "import numpy as np"
   ]
  },
  {
   "cell_type": "code",
   "execution_count": 14,
   "metadata": {},
   "outputs": [
    {
     "name": "stdout",
     "output_type": "stream",
     "text": [
      "Downloading data from https://storage.googleapis.com/tensorflow/tf-keras-datasets/mnist.npz\n",
      "11493376/11490434 [==============================] - 8s 1us/step\n"
     ]
    }
   ],
   "source": [
    "mnist = keras.datasets.mnist\n",
    "(X_train_full, y_train_full), (X_test, y_test) = mnist.load_data()"
   ]
  },
  {
   "cell_type": "code",
   "execution_count": 16,
   "metadata": {},
   "outputs": [
    {
     "data": {
      "text/plain": [
       "(60000, 28, 28)"
      ]
     },
     "execution_count": 16,
     "metadata": {},
     "output_type": "execute_result"
    }
   ],
   "source": [
    "X_train_full.shape"
   ]
  },
  {
   "cell_type": "code",
   "execution_count": 17,
   "metadata": {},
   "outputs": [
    {
     "data": {
      "text/plain": [
       "dtype('uint8')"
      ]
     },
     "execution_count": 17,
     "metadata": {},
     "output_type": "execute_result"
    }
   ],
   "source": [
    "X_train_full.dtype"
   ]
  },
  {
   "cell_type": "code",
   "execution_count": 28,
   "metadata": {},
   "outputs": [
    {
     "data": {
      "text/plain": [
       "10"
      ]
     },
     "execution_count": 28,
     "metadata": {},
     "output_type": "execute_result"
    }
   ],
   "source": [
    "len_output= len(np.unique(y))\n",
    "len_output"
   ]
  },
  {
   "cell_type": "code",
   "execution_count": 20,
   "metadata": {},
   "outputs": [],
   "source": [
    "#dividindo por 255 para escalar os pixels entre 0 e 1\n",
    "X_valid, X_train = X_train_full[:5000] / 255.0, X_train_full[5000:] /255.0\n",
    "y_valid, y_train = y_train_full[:5000], y_train_full[5000:]"
   ]
  },
  {
   "cell_type": "code",
   "execution_count": 29,
   "metadata": {},
   "outputs": [],
   "source": [
    "model = keras.models.Sequential() #sequential -> modelo do keras composto por uma pilha de camadas conectadas\n",
    "\n",
    "#primeira camada (Flatten) -> apenas faz o preprocessamento das imagens, convertando cada uma em um array de uma dimensão\n",
    "model.add(keras.layers.Flatten(input_shape=[28, 28])) \n",
    "\n",
    "#cada camada Dense abaixo vai ter seu próprio vetor de pesos entre os neurons e os inputs\n",
    "#segunda camada -> hidden layer com 300 neurons, função de ativação ReLU\n",
    "model.add(keras.layers.Dense(300, activation=\"relu\"))\n",
    "\n",
    "#terceira camada -> hidden layer com 100 neurons, função de ativação ReLU\n",
    "model.add(keras.layers.Dense(100, activation=\"relu\"))\n",
    "\n",
    "#output layer -> 10 neurons (numero de saídas) usando softmax (classes exclusivas e classificaçao p mais de duas classes), se fosse binario, usaria sigmoid\n",
    "model.add(keras.layers.Dense(len_output, activation=\"softmax\"))"
   ]
  },
  {
   "cell_type": "code",
   "execution_count": 30,
   "metadata": {},
   "outputs": [
    {
     "name": "stdout",
     "output_type": "stream",
     "text": [
      "Model: \"sequential\"\n",
      "_________________________________________________________________\n",
      "Layer (type)                 Output Shape              Param #   \n",
      "=================================================================\n",
      "flatten (Flatten)            (None, 784)               0         \n",
      "_________________________________________________________________\n",
      "dense (Dense)                (None, 300)               235500    \n",
      "_________________________________________________________________\n",
      "dense_1 (Dense)              (None, 100)               30100     \n",
      "_________________________________________________________________\n",
      "dense_2 (Dense)              (None, 10)                1010      \n",
      "=================================================================\n",
      "Total params: 266,610\n",
      "Trainable params: 266,610\n",
      "Non-trainable params: 0\n",
      "_________________________________________________________________\n"
     ]
    }
   ],
   "source": [
    "model.summary()"
   ]
  },
  {
   "cell_type": "code",
   "execution_count": 32,
   "metadata": {},
   "outputs": [],
   "source": [
    "model.compile(loss=\"sparse_categorical_crossentropy\", optimizer=\"sgd\", metrics=[\"accuracy\"])"
   ]
  },
  {
   "cell_type": "markdown",
   "metadata": {},
   "source": [
    "sparse_categorical_crossentropy -> usado porque as labels são esparças e as classes exclusivas (não é one-hot encoding) e nem é classificacao binaria, se fosse usaria binary_crossentropy\n",
    "\n",
    "sgd -> Stochastic Gradient Descent, o algoritmo da backpropagation"
   ]
  },
  {
   "cell_type": "code",
   "execution_count": 33,
   "metadata": {},
   "outputs": [
    {
     "name": "stdout",
     "output_type": "stream",
     "text": [
      "Epoch 1/30\n",
      "1719/1719 [==============================] - 5s 2ms/step - loss: 1.0117 - accuracy: 0.7388 - val_loss: 0.3002 - val_accuracy: 0.9158\n",
      "Epoch 2/30\n",
      "1719/1719 [==============================] - 4s 2ms/step - loss: 0.2923 - accuracy: 0.9175 - val_loss: 0.2433 - val_accuracy: 0.9330\n",
      "Epoch 3/30\n",
      "1719/1719 [==============================] - 3s 2ms/step - loss: 0.2383 - accuracy: 0.9338 - val_loss: 0.2006 - val_accuracy: 0.9436\n",
      "Epoch 4/30\n",
      "1719/1719 [==============================] - 3s 2ms/step - loss: 0.2049 - accuracy: 0.9414 - val_loss: 0.1751 - val_accuracy: 0.9512\n",
      "Epoch 5/30\n",
      "1719/1719 [==============================] - 4s 2ms/step - loss: 0.1726 - accuracy: 0.9512 - val_loss: 0.1555 - val_accuracy: 0.9572\n",
      "Epoch 6/30\n",
      "1719/1719 [==============================] - 3s 2ms/step - loss: 0.1532 - accuracy: 0.9572 - val_loss: 0.1413 - val_accuracy: 0.9606\n",
      "Epoch 7/30\n",
      "1719/1719 [==============================] - 3s 2ms/step - loss: 0.1412 - accuracy: 0.9607 - val_loss: 0.1397 - val_accuracy: 0.9590\n",
      "Epoch 8/30\n",
      "1719/1719 [==============================] - 4s 2ms/step - loss: 0.1290 - accuracy: 0.9630 - val_loss: 0.1246 - val_accuracy: 0.9662\n",
      "Epoch 9/30\n",
      "1719/1719 [==============================] - 3s 2ms/step - loss: 0.1145 - accuracy: 0.9679 - val_loss: 0.1178 - val_accuracy: 0.9676\n",
      "Epoch 10/30\n",
      "1719/1719 [==============================] - 4s 2ms/step - loss: 0.1072 - accuracy: 0.9701 - val_loss: 0.1117 - val_accuracy: 0.9688\n",
      "Epoch 11/30\n",
      "1719/1719 [==============================] - 3s 2ms/step - loss: 0.0954 - accuracy: 0.9735 - val_loss: 0.1043 - val_accuracy: 0.9704\n",
      "Epoch 12/30\n",
      "1719/1719 [==============================] - 3s 2ms/step - loss: 0.0895 - accuracy: 0.9753 - val_loss: 0.0999 - val_accuracy: 0.9718\n",
      "Epoch 13/30\n",
      "1719/1719 [==============================] - 4s 2ms/step - loss: 0.0803 - accuracy: 0.9767 - val_loss: 0.0950 - val_accuracy: 0.9726\n",
      "Epoch 14/30\n",
      "1719/1719 [==============================] - 4s 2ms/step - loss: 0.0739 - accuracy: 0.9795 - val_loss: 0.0912 - val_accuracy: 0.9740\n",
      "Epoch 15/30\n",
      "1719/1719 [==============================] - 4s 2ms/step - loss: 0.0707 - accuracy: 0.9800 - val_loss: 0.0895 - val_accuracy: 0.9736\n",
      "Epoch 16/30\n",
      "1719/1719 [==============================] - 3s 2ms/step - loss: 0.0676 - accuracy: 0.9813 - val_loss: 0.0865 - val_accuracy: 0.9760\n",
      "Epoch 17/30\n",
      "1719/1719 [==============================] - 3s 2ms/step - loss: 0.0643 - accuracy: 0.9818 - val_loss: 0.0848 - val_accuracy: 0.9756\n",
      "Epoch 18/30\n",
      "1719/1719 [==============================] - 3s 2ms/step - loss: 0.0592 - accuracy: 0.9837 - val_loss: 0.0826 - val_accuracy: 0.9762\n",
      "Epoch 19/30\n",
      "1719/1719 [==============================] - 4s 2ms/step - loss: 0.0529 - accuracy: 0.9862 - val_loss: 0.0805 - val_accuracy: 0.9760\n",
      "Epoch 20/30\n",
      "1719/1719 [==============================] - 3s 2ms/step - loss: 0.0510 - accuracy: 0.9867 - val_loss: 0.0793 - val_accuracy: 0.9774\n",
      "Epoch 21/30\n",
      "1719/1719 [==============================] - 4s 2ms/step - loss: 0.0473 - accuracy: 0.9869 - val_loss: 0.0773 - val_accuracy: 0.9776\n",
      "Epoch 22/30\n",
      "1719/1719 [==============================] - 4s 2ms/step - loss: 0.0437 - accuracy: 0.9885 - val_loss: 0.0816 - val_accuracy: 0.9754\n",
      "Epoch 23/30\n",
      "1719/1719 [==============================] - 4s 2ms/step - loss: 0.0396 - accuracy: 0.9906 - val_loss: 0.0736 - val_accuracy: 0.9778\n",
      "Epoch 24/30\n",
      "1719/1719 [==============================] - 3s 2ms/step - loss: 0.0406 - accuracy: 0.9897 - val_loss: 0.0755 - val_accuracy: 0.9776\n",
      "Epoch 25/30\n",
      "1719/1719 [==============================] - 4s 2ms/step - loss: 0.0390 - accuracy: 0.9905 - val_loss: 0.0745 - val_accuracy: 0.9776\n",
      "Epoch 26/30\n",
      "1719/1719 [==============================] - 4s 2ms/step - loss: 0.0357 - accuracy: 0.9907 - val_loss: 0.0720 - val_accuracy: 0.9796\n",
      "Epoch 27/30\n",
      "1719/1719 [==============================] - 4s 2ms/step - loss: 0.0333 - accuracy: 0.9917 - val_loss: 0.0715 - val_accuracy: 0.9794\n",
      "Epoch 28/30\n",
      "1719/1719 [==============================] - 4s 2ms/step - loss: 0.0315 - accuracy: 0.9922 - val_loss: 0.0725 - val_accuracy: 0.9790\n",
      "Epoch 29/30\n",
      "1719/1719 [==============================] - 4s 2ms/step - loss: 0.0297 - accuracy: 0.9931 - val_loss: 0.0697 - val_accuracy: 0.9810\n",
      "Epoch 30/30\n",
      "1719/1719 [==============================] - 4s 2ms/step - loss: 0.0269 - accuracy: 0.9938 - val_loss: 0.0695 - val_accuracy: 0.9812\n"
     ]
    }
   ],
   "source": [
    "history = model.fit(X_train, y_train, epochs=30, validation_data=(X_valid, y_valid))"
   ]
  },
  {
   "cell_type": "markdown",
   "metadata": {},
   "source": [
    "Se a performance no training set for muito melhor que a do validation, provavelmente há overfitting"
   ]
  },
  {
   "cell_type": "markdown",
   "metadata": {},
   "source": [
    "Plot das losses:"
   ]
  },
  {
   "cell_type": "code",
   "execution_count": 35,
   "metadata": {},
   "outputs": [
    {
     "data": {
      "text/html": [
       "<div>\n",
       "<style scoped>\n",
       "    .dataframe tbody tr th:only-of-type {\n",
       "        vertical-align: middle;\n",
       "    }\n",
       "\n",
       "    .dataframe tbody tr th {\n",
       "        vertical-align: top;\n",
       "    }\n",
       "\n",
       "    .dataframe thead th {\n",
       "        text-align: right;\n",
       "    }\n",
       "</style>\n",
       "<table border=\"1\" class=\"dataframe\">\n",
       "  <thead>\n",
       "    <tr style=\"text-align: right;\">\n",
       "      <th></th>\n",
       "      <th>loss</th>\n",
       "      <th>accuracy</th>\n",
       "      <th>val_loss</th>\n",
       "      <th>val_accuracy</th>\n",
       "    </tr>\n",
       "  </thead>\n",
       "  <tbody>\n",
       "    <tr>\n",
       "      <th>0</th>\n",
       "      <td>0.597783</td>\n",
       "      <td>0.848800</td>\n",
       "      <td>0.300189</td>\n",
       "      <td>0.9158</td>\n",
       "    </tr>\n",
       "    <tr>\n",
       "      <th>1</th>\n",
       "      <td>0.281372</td>\n",
       "      <td>0.919745</td>\n",
       "      <td>0.243332</td>\n",
       "      <td>0.9330</td>\n",
       "    </tr>\n",
       "    <tr>\n",
       "      <th>2</th>\n",
       "      <td>0.228476</td>\n",
       "      <td>0.935327</td>\n",
       "      <td>0.200601</td>\n",
       "      <td>0.9436</td>\n",
       "    </tr>\n",
       "    <tr>\n",
       "      <th>3</th>\n",
       "      <td>0.195001</td>\n",
       "      <td>0.944745</td>\n",
       "      <td>0.175079</td>\n",
       "      <td>0.9512</td>\n",
       "    </tr>\n",
       "    <tr>\n",
       "      <th>4</th>\n",
       "      <td>0.171003</td>\n",
       "      <td>0.951291</td>\n",
       "      <td>0.155489</td>\n",
       "      <td>0.9572</td>\n",
       "    </tr>\n",
       "    <tr>\n",
       "      <th>5</th>\n",
       "      <td>0.151774</td>\n",
       "      <td>0.957073</td>\n",
       "      <td>0.141294</td>\n",
       "      <td>0.9606</td>\n",
       "    </tr>\n",
       "    <tr>\n",
       "      <th>6</th>\n",
       "      <td>0.136755</td>\n",
       "      <td>0.961236</td>\n",
       "      <td>0.139740</td>\n",
       "      <td>0.9590</td>\n",
       "    </tr>\n",
       "    <tr>\n",
       "      <th>7</th>\n",
       "      <td>0.124137</td>\n",
       "      <td>0.964491</td>\n",
       "      <td>0.124552</td>\n",
       "      <td>0.9662</td>\n",
       "    </tr>\n",
       "    <tr>\n",
       "      <th>8</th>\n",
       "      <td>0.113501</td>\n",
       "      <td>0.968273</td>\n",
       "      <td>0.117837</td>\n",
       "      <td>0.9676</td>\n",
       "    </tr>\n",
       "    <tr>\n",
       "      <th>9</th>\n",
       "      <td>0.104537</td>\n",
       "      <td>0.970927</td>\n",
       "      <td>0.111702</td>\n",
       "      <td>0.9688</td>\n",
       "    </tr>\n",
       "    <tr>\n",
       "      <th>10</th>\n",
       "      <td>0.096392</td>\n",
       "      <td>0.972618</td>\n",
       "      <td>0.104280</td>\n",
       "      <td>0.9704</td>\n",
       "    </tr>\n",
       "    <tr>\n",
       "      <th>11</th>\n",
       "      <td>0.088848</td>\n",
       "      <td>0.975418</td>\n",
       "      <td>0.099939</td>\n",
       "      <td>0.9718</td>\n",
       "    </tr>\n",
       "    <tr>\n",
       "      <th>12</th>\n",
       "      <td>0.082789</td>\n",
       "      <td>0.976364</td>\n",
       "      <td>0.095009</td>\n",
       "      <td>0.9726</td>\n",
       "    </tr>\n",
       "    <tr>\n",
       "      <th>13</th>\n",
       "      <td>0.076585</td>\n",
       "      <td>0.978455</td>\n",
       "      <td>0.091160</td>\n",
       "      <td>0.9740</td>\n",
       "    </tr>\n",
       "    <tr>\n",
       "      <th>14</th>\n",
       "      <td>0.071501</td>\n",
       "      <td>0.980036</td>\n",
       "      <td>0.089481</td>\n",
       "      <td>0.9736</td>\n",
       "    </tr>\n",
       "    <tr>\n",
       "      <th>15</th>\n",
       "      <td>0.066674</td>\n",
       "      <td>0.981418</td>\n",
       "      <td>0.086528</td>\n",
       "      <td>0.9760</td>\n",
       "    </tr>\n",
       "    <tr>\n",
       "      <th>16</th>\n",
       "      <td>0.062474</td>\n",
       "      <td>0.982364</td>\n",
       "      <td>0.084809</td>\n",
       "      <td>0.9756</td>\n",
       "    </tr>\n",
       "    <tr>\n",
       "      <th>17</th>\n",
       "      <td>0.058075</td>\n",
       "      <td>0.983927</td>\n",
       "      <td>0.082550</td>\n",
       "      <td>0.9762</td>\n",
       "    </tr>\n",
       "    <tr>\n",
       "      <th>18</th>\n",
       "      <td>0.054419</td>\n",
       "      <td>0.985018</td>\n",
       "      <td>0.080506</td>\n",
       "      <td>0.9760</td>\n",
       "    </tr>\n",
       "    <tr>\n",
       "      <th>19</th>\n",
       "      <td>0.050999</td>\n",
       "      <td>0.986600</td>\n",
       "      <td>0.079323</td>\n",
       "      <td>0.9774</td>\n",
       "    </tr>\n",
       "    <tr>\n",
       "      <th>20</th>\n",
       "      <td>0.048179</td>\n",
       "      <td>0.986873</td>\n",
       "      <td>0.077341</td>\n",
       "      <td>0.9776</td>\n",
       "    </tr>\n",
       "    <tr>\n",
       "      <th>21</th>\n",
       "      <td>0.045341</td>\n",
       "      <td>0.987891</td>\n",
       "      <td>0.081598</td>\n",
       "      <td>0.9754</td>\n",
       "    </tr>\n",
       "    <tr>\n",
       "      <th>22</th>\n",
       "      <td>0.042758</td>\n",
       "      <td>0.988855</td>\n",
       "      <td>0.073593</td>\n",
       "      <td>0.9778</td>\n",
       "    </tr>\n",
       "    <tr>\n",
       "      <th>23</th>\n",
       "      <td>0.040139</td>\n",
       "      <td>0.989709</td>\n",
       "      <td>0.075529</td>\n",
       "      <td>0.9776</td>\n",
       "    </tr>\n",
       "    <tr>\n",
       "      <th>24</th>\n",
       "      <td>0.037703</td>\n",
       "      <td>0.990527</td>\n",
       "      <td>0.074504</td>\n",
       "      <td>0.9776</td>\n",
       "    </tr>\n",
       "    <tr>\n",
       "      <th>25</th>\n",
       "      <td>0.035497</td>\n",
       "      <td>0.990927</td>\n",
       "      <td>0.072025</td>\n",
       "      <td>0.9796</td>\n",
       "    </tr>\n",
       "    <tr>\n",
       "      <th>26</th>\n",
       "      <td>0.033592</td>\n",
       "      <td>0.991636</td>\n",
       "      <td>0.071480</td>\n",
       "      <td>0.9794</td>\n",
       "    </tr>\n",
       "    <tr>\n",
       "      <th>27</th>\n",
       "      <td>0.031741</td>\n",
       "      <td>0.992018</td>\n",
       "      <td>0.072517</td>\n",
       "      <td>0.9790</td>\n",
       "    </tr>\n",
       "    <tr>\n",
       "      <th>28</th>\n",
       "      <td>0.029651</td>\n",
       "      <td>0.993036</td>\n",
       "      <td>0.069745</td>\n",
       "      <td>0.9810</td>\n",
       "    </tr>\n",
       "    <tr>\n",
       "      <th>29</th>\n",
       "      <td>0.028084</td>\n",
       "      <td>0.993509</td>\n",
       "      <td>0.069453</td>\n",
       "      <td>0.9812</td>\n",
       "    </tr>\n",
       "  </tbody>\n",
       "</table>\n",
       "</div>"
      ],
      "text/plain": [
       "        loss  accuracy  val_loss  val_accuracy\n",
       "0   0.597783  0.848800  0.300189        0.9158\n",
       "1   0.281372  0.919745  0.243332        0.9330\n",
       "2   0.228476  0.935327  0.200601        0.9436\n",
       "3   0.195001  0.944745  0.175079        0.9512\n",
       "4   0.171003  0.951291  0.155489        0.9572\n",
       "5   0.151774  0.957073  0.141294        0.9606\n",
       "6   0.136755  0.961236  0.139740        0.9590\n",
       "7   0.124137  0.964491  0.124552        0.9662\n",
       "8   0.113501  0.968273  0.117837        0.9676\n",
       "9   0.104537  0.970927  0.111702        0.9688\n",
       "10  0.096392  0.972618  0.104280        0.9704\n",
       "11  0.088848  0.975418  0.099939        0.9718\n",
       "12  0.082789  0.976364  0.095009        0.9726\n",
       "13  0.076585  0.978455  0.091160        0.9740\n",
       "14  0.071501  0.980036  0.089481        0.9736\n",
       "15  0.066674  0.981418  0.086528        0.9760\n",
       "16  0.062474  0.982364  0.084809        0.9756\n",
       "17  0.058075  0.983927  0.082550        0.9762\n",
       "18  0.054419  0.985018  0.080506        0.9760\n",
       "19  0.050999  0.986600  0.079323        0.9774\n",
       "20  0.048179  0.986873  0.077341        0.9776\n",
       "21  0.045341  0.987891  0.081598        0.9754\n",
       "22  0.042758  0.988855  0.073593        0.9778\n",
       "23  0.040139  0.989709  0.075529        0.9776\n",
       "24  0.037703  0.990527  0.074504        0.9776\n",
       "25  0.035497  0.990927  0.072025        0.9796\n",
       "26  0.033592  0.991636  0.071480        0.9794\n",
       "27  0.031741  0.992018  0.072517        0.9790\n",
       "28  0.029651  0.993036  0.069745        0.9810\n",
       "29  0.028084  0.993509  0.069453        0.9812"
      ]
     },
     "execution_count": 35,
     "metadata": {},
     "output_type": "execute_result"
    }
   ],
   "source": [
    "import pandas as pd\n",
    "import matplotlib.pyplot as plt\n",
    "\n",
    "df_losses = pd.DataFrame(history.history)\n",
    "df_losses\n"
   ]
  },
  {
   "cell_type": "code",
   "execution_count": 39,
   "metadata": {},
   "outputs": [
    {
     "data": {
      "image/png": "[encoded data removed]",
      "text/plain": [
       "<Figure size 720x576 with 1 Axes>"
      ]
     },
     "metadata": {
      "needs_background": "light"
     },
     "output_type": "display_data"
    }
   ],
   "source": [
    "df_losses.plot(figsize=(10,8))\n",
    "plt.grid(True)\n",
    "plt.gca().set_ylim(0, 1) # set the vertical range to [0-1]\n",
    "plt.show()"
   ]
  },
  {
   "cell_type": "markdown",
   "metadata": {},
   "source": [
    "Validation curve e training curve proximas -> baixo risco de overfitting\n",
    "\n",
    "*O erro do dataset de validação é computado após o treinamento da epoch, enquanto do treino é durante, por isso a curva de validação parece performar melhor que a de treino "
   ]
  },
  {
   "cell_type": "markdown",
   "metadata": {},
   "source": [
    "Parametros que podem ser tunados:\n",
    "\n",
    "- learning rate\n",
    "- tentar outro optimizer\n",
    "- numero de camadas, neurons por camadas, tipos de funções de ativação para cada hidden layer\n",
    "- batch size (padrão 32), que é tunado no fit\n",
    "- class_weight, caso o dataset seja muito assimetrico (para dar mais peso para classe pouco representada)"
   ]
  },
  {
   "cell_type": "code",
   "execution_count": 41,
   "metadata": {},
   "outputs": [
    {
     "name": "stdout",
     "output_type": "stream",
     "text": [
      "313/313 [==============================] - 1s 2ms/step - loss: 12.1442 - accuracy: 0.9774\n"
     ]
    },
    {
     "data": {
      "text/plain": [
       "[12.144227027893066, 0.977400004863739]"
      ]
     },
     "execution_count": 41,
     "metadata": {},
     "output_type": "execute_result"
    }
   ],
   "source": [
    "model.evaluate(X_test, y_test)"
   ]
  },
  {
   "cell_type": "code",
   "execution_count": 48,
   "metadata": {},
   "outputs": [
    {
     "data": {
      "text/plain": [
       "array([[0., 0., 0., 0., 0., 0., 0., 1., 0., 0.],\n",
       "       [0., 0., 1., 0., 0., 0., 0., 0., 0., 0.],\n",
       "       [0., 1., 0., 0., 0., 0., 0., 0., 0., 0.],\n",
       "       [1., 0., 0., 0., 0., 0., 0., 0., 0., 0.],\n",
       "       [0., 0., 0., 0., 1., 0., 0., 0., 0., 0.],\n",
       "       [0., 1., 0., 0., 0., 0., 0., 0., 0., 0.],\n",
       "       [0., 0., 0., 0., 1., 0., 0., 0., 0., 0.],\n",
       "       [0., 0., 0., 0., 0., 0., 0., 0., 0., 1.],\n",
       "       [0., 0., 0., 0., 0., 1., 0., 0., 0., 0.],\n",
       "       [0., 0., 0., 0., 0., 0., 0., 0., 0., 1.]], dtype=float32)"
      ]
     },
     "execution_count": 48,
     "metadata": {},
     "output_type": "execute_result"
    }
   ],
   "source": [
    "X_new = X_test[:10]\n",
    "y_proba = model.predict(X_new)\n",
    "y_proba.round(2)"
   ]
  },
  {
   "cell_type": "code",
   "execution_count": 49,
   "metadata": {},
   "outputs": [
    {
     "data": {
      "text/plain": [
       "array([7, 2, 1, 0, 4, 1, 4, 9, 5, 9])"
      ]
     },
     "execution_count": 49,
     "metadata": {},
     "output_type": "execute_result"
    }
   ],
   "source": [
    "y_pred = np.argmax(model.predict(X_new), axis=-1)\n",
    "y_pred"
   ]
  },
  {
   "cell_type": "code",
   "execution_count": 50,
   "metadata": {},
   "outputs": [
    {
     "data": {
      "text/plain": [
       "array([7, 2, 1, 0, 4, 1, 4, 9, 5, 9], dtype=uint8)"
      ]
     },
     "execution_count": 50,
     "metadata": {},
     "output_type": "execute_result"
    }
   ],
   "source": [
    "y_test[:10]"
   ]
  },
  {
   "cell_type": "code",
   "execution_count": null,
   "metadata": {},
   "outputs": [],
   "source": []
  }
 ],
 "metadata": {
  "kernelspec": {
   "display_name": "Python 3",
   "language": "python",
   "name": "python3"
  },
  "language_info": {
   "codemirror_mode": {
    "name": "ipython",
    "version": 3
   },
   "file_extension": ".py",
   "mimetype": "text/x-python",
   "name": "python",
   "nbconvert_exporter": "python",
   "pygments_lexer": "ipython3",
   "version": "3.7.6"
  }
 },
 "nbformat": 4,
 "nbformat_minor": 4
}
