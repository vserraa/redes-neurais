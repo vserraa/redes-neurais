{
  "nbformat": 4,
  "nbformat_minor": 5,
  "metadata": {
    "kernelspec": {
      "display_name": "Python 3",
      "language": "python",
      "name": "python3"
    },
    "language_info": {
      "codemirror_mode": {
        "name": "ipython",
        "version": 3
      },
      "file_extension": ".py",
      "mimetype": "text/x-python",
      "name": "python",
      "nbconvert_exporter": "python",
      "pygments_lexer": "ipython3",
      "version": "3.7.6"
    },
    "colab": {
      "name": "CNN MNIST.ipynb",
      "provenance": [],
      "collapsed_sections": [],
      "toc_visible": true
    },
    "accelerator": "GPU"
  },
  "cells": [
    {
      "cell_type": "code",
      "metadata": {
        "colab": {
          "base_uri": "https://localhost:8080/"
        },
        "id": "subtle-airplane",
        "outputId": "0bb90a9d-37ca-404e-9dd4-ffb30af7e950"
      },
      "source": [
        "!pip install tensorflow\n",
        "!pip install keras"
      ],
      "id": "subtle-airplane",
      "execution_count": 8,
      "outputs": [
        {
          "output_type": "stream",
          "text": [
            "Requirement already satisfied: tensorflow in /usr/local/lib/python3.7/dist-packages (2.4.1)\n",
            "Requirement already satisfied: h5py~=2.10.0 in /usr/local/lib/python3.7/dist-packages (from tensorflow) (2.10.0)\n",
            "Requirement already satisfied: tensorboard~=2.4 in /usr/local/lib/python3.7/dist-packages (from tensorflow) (2.4.1)\n",
            "Requirement already satisfied: typing-extensions~=3.7.4 in /usr/local/lib/python3.7/dist-packages (from tensorflow) (3.7.4.3)\n",
            "Requirement already satisfied: opt-einsum~=3.3.0 in /usr/local/lib/python3.7/dist-packages (from tensorflow) (3.3.0)\n",
            "Requirement already satisfied: protobuf>=3.9.2 in /usr/local/lib/python3.7/dist-packages (from tensorflow) (3.12.4)\n",
            "Requirement already satisfied: flatbuffers~=1.12.0 in /usr/local/lib/python3.7/dist-packages (from tensorflow) (1.12)\n",
            "Requirement already satisfied: tensorflow-estimator<2.5.0,>=2.4.0 in /usr/local/lib/python3.7/dist-packages (from tensorflow) (2.4.0)\n",
            "Requirement already satisfied: six~=1.15.0 in /usr/local/lib/python3.7/dist-packages (from tensorflow) (1.15.0)\n",
            "Requirement already satisfied: numpy~=1.19.2 in /usr/local/lib/python3.7/dist-packages (from tensorflow) (1.19.5)\n",
            "Requirement already satisfied: gast==0.3.3 in /usr/local/lib/python3.7/dist-packages (from tensorflow) (0.3.3)\n",
            "Requirement already satisfied: astunparse~=1.6.3 in /usr/local/lib/python3.7/dist-packages (from tensorflow) (1.6.3)\n",
            "Requirement already satisfied: termcolor~=1.1.0 in /usr/local/lib/python3.7/dist-packages (from tensorflow) (1.1.0)\n",
            "Requirement already satisfied: absl-py~=0.10 in /usr/local/lib/python3.7/dist-packages (from tensorflow) (0.10.0)\n",
            "Requirement already satisfied: google-pasta~=0.2 in /usr/local/lib/python3.7/dist-packages (from tensorflow) (0.2.0)\n",
            "Requirement already satisfied: wheel~=0.35 in /usr/local/lib/python3.7/dist-packages (from tensorflow) (0.36.2)\n",
            "Requirement already satisfied: wrapt~=1.12.1 in /usr/local/lib/python3.7/dist-packages (from tensorflow) (1.12.1)\n",
            "Requirement already satisfied: keras-preprocessing~=1.1.2 in /usr/local/lib/python3.7/dist-packages (from tensorflow) (1.1.2)\n",
            "Requirement already satisfied: grpcio~=1.32.0 in /usr/local/lib/python3.7/dist-packages (from tensorflow) (1.32.0)\n",
            "Requirement already satisfied: google-auth<2,>=1.6.3 in /usr/local/lib/python3.7/dist-packages (from tensorboard~=2.4->tensorflow) (1.27.1)\n",
            "Requirement already satisfied: markdown>=2.6.8 in /usr/local/lib/python3.7/dist-packages (from tensorboard~=2.4->tensorflow) (3.3.4)\n",
            "Requirement already satisfied: setuptools>=41.0.0 in /usr/local/lib/python3.7/dist-packages (from tensorboard~=2.4->tensorflow) (54.0.0)\n",
            "Requirement already satisfied: tensorboard-plugin-wit>=1.6.0 in /usr/local/lib/python3.7/dist-packages (from tensorboard~=2.4->tensorflow) (1.8.0)\n",
            "Requirement already satisfied: werkzeug>=0.11.15 in /usr/local/lib/python3.7/dist-packages (from tensorboard~=2.4->tensorflow) (1.0.1)\n",
            "Requirement already satisfied: google-auth-oauthlib<0.5,>=0.4.1 in /usr/local/lib/python3.7/dist-packages (from tensorboard~=2.4->tensorflow) (0.4.3)\n",
            "Requirement already satisfied: requests<3,>=2.21.0 in /usr/local/lib/python3.7/dist-packages (from tensorboard~=2.4->tensorflow) (2.23.0)\n",
            "Requirement already satisfied: cachetools<5.0,>=2.0.0 in /usr/local/lib/python3.7/dist-packages (from google-auth<2,>=1.6.3->tensorboard~=2.4->tensorflow) (4.2.1)\n",
            "Requirement already satisfied: pyasn1-modules>=0.2.1 in /usr/local/lib/python3.7/dist-packages (from google-auth<2,>=1.6.3->tensorboard~=2.4->tensorflow) (0.2.8)\n",
            "Requirement already satisfied: rsa<5,>=3.1.4; python_version >= \"3.6\" in /usr/local/lib/python3.7/dist-packages (from google-auth<2,>=1.6.3->tensorboard~=2.4->tensorflow) (4.7.2)\n",
            "Requirement already satisfied: importlib-metadata; python_version < \"3.8\" in /usr/local/lib/python3.7/dist-packages (from markdown>=2.6.8->tensorboard~=2.4->tensorflow) (3.7.2)\n",
            "Requirement already satisfied: requests-oauthlib>=0.7.0 in /usr/local/lib/python3.7/dist-packages (from google-auth-oauthlib<0.5,>=0.4.1->tensorboard~=2.4->tensorflow) (1.3.0)\n",
            "Requirement already satisfied: urllib3!=1.25.0,!=1.25.1,<1.26,>=1.21.1 in /usr/local/lib/python3.7/dist-packages (from requests<3,>=2.21.0->tensorboard~=2.4->tensorflow) (1.24.3)\n",
            "Requirement already satisfied: chardet<4,>=3.0.2 in /usr/local/lib/python3.7/dist-packages (from requests<3,>=2.21.0->tensorboard~=2.4->tensorflow) (3.0.4)\n",
            "Requirement already satisfied: idna<3,>=2.5 in /usr/local/lib/python3.7/dist-packages (from requests<3,>=2.21.0->tensorboard~=2.4->tensorflow) (2.10)\n",
            "Requirement already satisfied: certifi>=2017.4.17 in /usr/local/lib/python3.7/dist-packages (from requests<3,>=2.21.0->tensorboard~=2.4->tensorflow) (2020.12.5)\n",
            "Requirement already satisfied: pyasn1<0.5.0,>=0.4.6 in /usr/local/lib/python3.7/dist-packages (from pyasn1-modules>=0.2.1->google-auth<2,>=1.6.3->tensorboard~=2.4->tensorflow) (0.4.8)\n",
            "Requirement already satisfied: zipp>=0.5 in /usr/local/lib/python3.7/dist-packages (from importlib-metadata; python_version < \"3.8\"->markdown>=2.6.8->tensorboard~=2.4->tensorflow) (3.4.1)\n",
            "Requirement already satisfied: oauthlib>=3.0.0 in /usr/local/lib/python3.7/dist-packages (from requests-oauthlib>=0.7.0->google-auth-oauthlib<0.5,>=0.4.1->tensorboard~=2.4->tensorflow) (3.1.0)\n",
            "Requirement already satisfied: keras in /usr/local/lib/python3.7/dist-packages (2.4.3)\n",
            "Requirement already satisfied: h5py in /usr/local/lib/python3.7/dist-packages (from keras) (2.10.0)\n",
            "Requirement already satisfied: scipy>=0.14 in /usr/local/lib/python3.7/dist-packages (from keras) (1.4.1)\n",
            "Requirement already satisfied: numpy>=1.9.1 in /usr/local/lib/python3.7/dist-packages (from keras) (1.19.5)\n",
            "Requirement already satisfied: pyyaml in /usr/local/lib/python3.7/dist-packages (from keras) (3.13)\n",
            "Requirement already satisfied: six in /usr/local/lib/python3.7/dist-packages (from h5py->keras) (1.15.0)\n"
          ],
          "name": "stdout"
        }
      ]
    },
    {
      "cell_type": "code",
      "metadata": {
        "id": "disciplinary-isaac"
      },
      "source": [
        "from tensorflow import keras\n",
        "import numpy as np\n",
        "from functions import build_model\n",
        "from sklearn.metrics import accuracy_score, recall_score, precision_score, f1_score\n",
        "from sklearn.metrics import confusion_matrix\n",
        "import seaborn as sns\n",
        "from sklearn.metrics import classification_report"
      ],
      "id": "disciplinary-isaac",
      "execution_count": 9,
      "outputs": []
    },
    {
      "cell_type": "code",
      "metadata": {
        "id": "confirmed-shell"
      },
      "source": [
        "mnist = keras.datasets.mnist\n",
        "(X_train_full, y_train_full), (X_test, y_test) = mnist.load_data()"
      ],
      "id": "confirmed-shell",
      "execution_count": 10,
      "outputs": []
    },
    {
      "cell_type": "code",
      "metadata": {
        "id": "signed-speech"
      },
      "source": [
        "row_size = X_train_full[0].shape[0]\n",
        "col_size = X_train_full[0].shape[1]"
      ],
      "id": "signed-speech",
      "execution_count": 11,
      "outputs": []
    },
    {
      "cell_type": "code",
      "metadata": {
        "id": "announced-yemen"
      },
      "source": [
        "X_train_full = X_train_full.reshape(X_train_full.shape[0],row_size, col_size,1)\n",
        "X_test = X_test.reshape(X_test.shape[0],row_size, col_size,1)\n",
        "#y_train_full.reshape(X_train_full.shape[0],row_size, col_size,1)"
      ],
      "id": "announced-yemen",
      "execution_count": 12,
      "outputs": []
    },
    {
      "cell_type": "code",
      "metadata": {
        "id": "premier-oklahoma"
      },
      "source": [
        "#dividindo por 255 para escalar os pixels entre 0 e 1\n",
        "X_valid, X_train = X_train_full[:5000] / 255.0, X_train_full[5000:] /255.0\n",
        "y_valid, y_train = y_train_full[:5000], y_train_full[5000:]"
      ],
      "id": "premier-oklahoma",
      "execution_count": 13,
      "outputs": []
    },
    {
      "cell_type": "markdown",
      "metadata": {
        "id": "shared-complexity"
      },
      "source": [
        "## Arquitetura\n",
        "\n",
        "Uma arquitetura comum para CNN's é: pilha de convolutional layers, seguida por uma ReLU layer, pooling layer, e mais algumas convolutional layers (seguido por ReLU). Uma rede convolucional pode ser definida abaixo:"
      ],
      "id": "shared-complexity"
    },
    {
      "cell_type": "code",
      "metadata": {
        "id": "bacterial-mainstream",
        "colab": {
          "base_uri": "https://localhost:8080/"
        },
        "outputId": "3b858b8f-47e2-4b99-c0aa-4afb7a78a253"
      },
      "source": [
        "n_filters = [16, 32, 64]\n",
        "learning_rate = [0.001, 0.01, 0.05]\n",
        "\n",
        "best_sz, best_lr = 0, 0\n",
        "best_acc = 0\n",
        "\n",
        "for sz in n_filters:\n",
        "    for lr in learning_rate:\n",
        "        model = build_model(lr, sz)\n",
        "        model.fit(X_train, y_train, epochs=20)\n",
        "        y_pred = np.argmax(model.predict(X_valid), axis=-1)\n",
        "        accuracy = accuracy_score(y_valid, y_pred)\n",
        "        \n",
        "\n",
        "        if accuracy > best_acc:\n",
        "            best_acc = accuracy\n",
        "            best_sz, best_lr = sz, lr"
      ],
      "id": "bacterial-mainstream",
      "execution_count": 16,
      "outputs": [
        {
          "output_type": "stream",
          "text": [
            "Epoch 1/20\n",
            "1719/1719 [==============================] - 5s 3ms/step - loss: 2.2996 - accuracy: 0.1115\n",
            "Epoch 2/20\n",
            "1719/1719 [==============================] - 5s 3ms/step - loss: 2.2704 - accuracy: 0.1658\n",
            "Epoch 3/20\n",
            "1719/1719 [==============================] - 5s 3ms/step - loss: 2.1798 - accuracy: 0.2277\n",
            "Epoch 4/20\n",
            "1719/1719 [==============================] - 5s 3ms/step - loss: 1.9588 - accuracy: 0.3090\n",
            "Epoch 5/20\n",
            "1719/1719 [==============================] - 5s 3ms/step - loss: 1.7121 - accuracy: 0.4004\n",
            "Epoch 6/20\n",
            "1719/1719 [==============================] - 5s 3ms/step - loss: 1.5257 - accuracy: 0.4587\n",
            "Epoch 7/20\n",
            "1719/1719 [==============================] - 5s 3ms/step - loss: 1.3833 - accuracy: 0.5066\n",
            "Epoch 8/20\n",
            "1719/1719 [==============================] - 5s 3ms/step - loss: 1.2735 - accuracy: 0.5501\n",
            "Epoch 9/20\n",
            "1719/1719 [==============================] - 5s 3ms/step - loss: 1.1910 - accuracy: 0.5839\n",
            "Epoch 10/20\n",
            "1719/1719 [==============================] - 5s 3ms/step - loss: 1.1264 - accuracy: 0.6118\n",
            "Epoch 11/20\n",
            "1719/1719 [==============================] - 5s 3ms/step - loss: 1.0724 - accuracy: 0.6323\n",
            "Epoch 12/20\n",
            "1719/1719 [==============================] - 5s 3ms/step - loss: 1.0269 - accuracy: 0.6446\n",
            "Epoch 13/20\n",
            "1719/1719 [==============================] - 5s 3ms/step - loss: 0.9970 - accuracy: 0.6563\n",
            "Epoch 14/20\n",
            "1719/1719 [==============================] - 5s 3ms/step - loss: 0.9582 - accuracy: 0.6711\n",
            "Epoch 15/20\n",
            "1719/1719 [==============================] - 5s 3ms/step - loss: 0.9307 - accuracy: 0.6775\n",
            "Epoch 16/20\n",
            "1719/1719 [==============================] - 5s 3ms/step - loss: 0.8807 - accuracy: 0.6978\n",
            "Epoch 17/20\n",
            "1719/1719 [==============================] - 5s 3ms/step - loss: 0.8644 - accuracy: 0.7015\n",
            "Epoch 18/20\n",
            "1719/1719 [==============================] - 5s 3ms/step - loss: 0.8368 - accuracy: 0.7082\n",
            "Epoch 19/20\n",
            "1719/1719 [==============================] - 5s 3ms/step - loss: 0.8225 - accuracy: 0.7145\n",
            "Epoch 20/20\n",
            "1719/1719 [==============================] - 5s 3ms/step - loss: 0.7969 - accuracy: 0.7199\n",
            "Epoch 1/20\n",
            "1719/1719 [==============================] - 6s 3ms/step - loss: 2.0520 - accuracy: 0.2399\n",
            "Epoch 2/20\n",
            "1719/1719 [==============================] - 5s 3ms/step - loss: 0.9344 - accuracy: 0.6766\n",
            "Epoch 3/20\n",
            "1719/1719 [==============================] - 5s 3ms/step - loss: 0.6719 - accuracy: 0.7726\n",
            "Epoch 4/20\n",
            "1719/1719 [==============================] - 5s 3ms/step - loss: 0.5556 - accuracy: 0.8128\n",
            "Epoch 5/20\n",
            "1719/1719 [==============================] - 5s 3ms/step - loss: 0.5062 - accuracy: 0.8315\n",
            "Epoch 6/20\n",
            "1719/1719 [==============================] - 5s 3ms/step - loss: 0.4622 - accuracy: 0.8482\n",
            "Epoch 7/20\n",
            "1719/1719 [==============================] - 5s 3ms/step - loss: 0.4386 - accuracy: 0.8540\n",
            "Epoch 8/20\n",
            "1719/1719 [==============================] - 5s 3ms/step - loss: 0.3951 - accuracy: 0.8683\n",
            "Epoch 9/20\n",
            "1719/1719 [==============================] - 5s 3ms/step - loss: 0.3695 - accuracy: 0.8804\n",
            "Epoch 10/20\n",
            "1719/1719 [==============================] - 5s 3ms/step - loss: 0.3528 - accuracy: 0.8865\n",
            "Epoch 11/20\n",
            "1719/1719 [==============================] - 5s 3ms/step - loss: 0.3309 - accuracy: 0.8908\n",
            "Epoch 12/20\n",
            "1719/1719 [==============================] - 5s 3ms/step - loss: 0.3147 - accuracy: 0.8974\n",
            "Epoch 13/20\n",
            "1719/1719 [==============================] - 5s 3ms/step - loss: 0.3136 - accuracy: 0.8951\n",
            "Epoch 14/20\n",
            "1719/1719 [==============================] - 5s 3ms/step - loss: 0.3090 - accuracy: 0.8991\n",
            "Epoch 15/20\n",
            "1719/1719 [==============================] - 5s 3ms/step - loss: 0.3062 - accuracy: 0.9019\n",
            "Epoch 16/20\n",
            "1719/1719 [==============================] - 5s 3ms/step - loss: 0.2899 - accuracy: 0.9061\n",
            "Epoch 17/20\n",
            "1719/1719 [==============================] - 5s 3ms/step - loss: 0.2764 - accuracy: 0.9090\n",
            "Epoch 18/20\n",
            "1719/1719 [==============================] - 5s 3ms/step - loss: 0.2656 - accuracy: 0.9136\n",
            "Epoch 19/20\n",
            "1719/1719 [==============================] - 5s 3ms/step - loss: 0.2621 - accuracy: 0.9157\n",
            "Epoch 20/20\n",
            "1719/1719 [==============================] - 5s 3ms/step - loss: 0.2495 - accuracy: 0.9176\n",
            "Epoch 1/20\n",
            "1719/1719 [==============================] - 5s 3ms/step - loss: 1.3924 - accuracy: 0.5044\n",
            "Epoch 2/20\n",
            "1719/1719 [==============================] - 5s 3ms/step - loss: 0.4741 - accuracy: 0.8512\n",
            "Epoch 3/20\n",
            "1719/1719 [==============================] - 5s 3ms/step - loss: 0.3955 - accuracy: 0.8702\n",
            "Epoch 4/20\n",
            "1719/1719 [==============================] - 5s 3ms/step - loss: 0.3658 - accuracy: 0.8814\n",
            "Epoch 5/20\n",
            "1719/1719 [==============================] - 5s 3ms/step - loss: 0.3472 - accuracy: 0.8855\n",
            "Epoch 6/20\n",
            "1719/1719 [==============================] - 5s 3ms/step - loss: 0.3298 - accuracy: 0.8939\n",
            "Epoch 7/20\n",
            "1719/1719 [==============================] - 5s 3ms/step - loss: 0.3122 - accuracy: 0.8968\n",
            "Epoch 8/20\n",
            "1719/1719 [==============================] - 5s 3ms/step - loss: 0.3075 - accuracy: 0.8973\n",
            "Epoch 9/20\n",
            "1719/1719 [==============================] - 5s 3ms/step - loss: 0.2817 - accuracy: 0.9055\n",
            "Epoch 10/20\n",
            "1719/1719 [==============================] - 5s 3ms/step - loss: 0.2715 - accuracy: 0.9092\n",
            "Epoch 11/20\n",
            "1719/1719 [==============================] - 5s 3ms/step - loss: 0.2612 - accuracy: 0.9126\n",
            "Epoch 12/20\n",
            "1719/1719 [==============================] - 5s 3ms/step - loss: 0.2614 - accuracy: 0.9155\n",
            "Epoch 13/20\n",
            "1719/1719 [==============================] - 5s 3ms/step - loss: 0.2615 - accuracy: 0.9146\n",
            "Epoch 14/20\n",
            "1719/1719 [==============================] - 5s 3ms/step - loss: 0.2475 - accuracy: 0.9153\n",
            "Epoch 15/20\n",
            "1719/1719 [==============================] - 5s 3ms/step - loss: 0.2536 - accuracy: 0.9149\n",
            "Epoch 16/20\n",
            "1719/1719 [==============================] - 5s 3ms/step - loss: 0.2401 - accuracy: 0.9204\n",
            "Epoch 17/20\n",
            "1719/1719 [==============================] - 5s 3ms/step - loss: 0.2444 - accuracy: 0.9197\n",
            "Epoch 18/20\n",
            "1719/1719 [==============================] - 5s 3ms/step - loss: 0.2423 - accuracy: 0.9185\n",
            "Epoch 19/20\n",
            "1719/1719 [==============================] - 5s 3ms/step - loss: 0.2336 - accuracy: 0.9211\n",
            "Epoch 20/20\n",
            "1719/1719 [==============================] - 5s 3ms/step - loss: 0.2316 - accuracy: 0.9220\n",
            "Epoch 1/20\n",
            "1719/1719 [==============================] - 6s 3ms/step - loss: 2.2889 - accuracy: 0.1299\n",
            "Epoch 2/20\n",
            "1719/1719 [==============================] - 5s 3ms/step - loss: 2.1672 - accuracy: 0.2337\n",
            "Epoch 3/20\n",
            "1719/1719 [==============================] - 5s 3ms/step - loss: 1.7940 - accuracy: 0.3739\n",
            "Epoch 4/20\n",
            "1719/1719 [==============================] - 5s 3ms/step - loss: 1.3927 - accuracy: 0.5268\n",
            "Epoch 5/20\n",
            "1719/1719 [==============================] - 5s 3ms/step - loss: 1.1246 - accuracy: 0.6194\n",
            "Epoch 6/20\n",
            "1719/1719 [==============================] - 5s 3ms/step - loss: 0.9487 - accuracy: 0.6856\n",
            "Epoch 7/20\n",
            "1719/1719 [==============================] - 5s 3ms/step - loss: 0.8121 - accuracy: 0.7349\n",
            "Epoch 8/20\n",
            "1719/1719 [==============================] - 5s 3ms/step - loss: 0.7081 - accuracy: 0.7755\n",
            "Epoch 9/20\n",
            "1719/1719 [==============================] - 5s 3ms/step - loss: 0.6345 - accuracy: 0.7960\n",
            "Epoch 10/20\n",
            "1719/1719 [==============================] - 5s 3ms/step - loss: 0.5697 - accuracy: 0.8199\n",
            "Epoch 11/20\n",
            "1719/1719 [==============================] - 5s 3ms/step - loss: 0.5237 - accuracy: 0.8396\n",
            "Epoch 12/20\n",
            "1719/1719 [==============================] - 5s 3ms/step - loss: 0.4673 - accuracy: 0.8557\n",
            "Epoch 13/20\n",
            "1719/1719 [==============================] - 5s 3ms/step - loss: 0.4430 - accuracy: 0.8619\n",
            "Epoch 14/20\n",
            "1719/1719 [==============================] - 5s 3ms/step - loss: 0.4267 - accuracy: 0.8691\n",
            "Epoch 15/20\n",
            "1719/1719 [==============================] - 5s 3ms/step - loss: 0.3920 - accuracy: 0.8828\n",
            "Epoch 16/20\n",
            "1719/1719 [==============================] - 5s 3ms/step - loss: 0.3703 - accuracy: 0.8886\n",
            "Epoch 17/20\n",
            "1719/1719 [==============================] - 5s 3ms/step - loss: 0.3535 - accuracy: 0.8920\n",
            "Epoch 18/20\n",
            "1719/1719 [==============================] - 5s 3ms/step - loss: 0.3440 - accuracy: 0.8975\n",
            "Epoch 19/20\n",
            "1719/1719 [==============================] - 5s 3ms/step - loss: 0.3222 - accuracy: 0.9030\n",
            "Epoch 20/20\n",
            "1719/1719 [==============================] - 5s 3ms/step - loss: 0.3052 - accuracy: 0.9081\n",
            "Epoch 1/20\n",
            "1719/1719 [==============================] - 6s 3ms/step - loss: 1.8908 - accuracy: 0.3202\n",
            "Epoch 2/20\n",
            "1719/1719 [==============================] - 5s 3ms/step - loss: 0.5093 - accuracy: 0.8406\n",
            "Epoch 3/20\n",
            "1719/1719 [==============================] - 5s 3ms/step - loss: 0.3254 - accuracy: 0.9023\n",
            "Epoch 4/20\n",
            "1719/1719 [==============================] - 5s 3ms/step - loss: 0.2475 - accuracy: 0.9295\n",
            "Epoch 5/20\n",
            "1719/1719 [==============================] - 5s 3ms/step - loss: 0.2115 - accuracy: 0.9400\n",
            "Epoch 6/20\n",
            "1719/1719 [==============================] - 5s 3ms/step - loss: 0.1839 - accuracy: 0.9488\n",
            "Epoch 7/20\n",
            "1719/1719 [==============================] - 5s 3ms/step - loss: 0.1589 - accuracy: 0.9554\n",
            "Epoch 8/20\n",
            "1719/1719 [==============================] - 5s 3ms/step - loss: 0.1429 - accuracy: 0.9599\n",
            "Epoch 9/20\n",
            "1719/1719 [==============================] - 5s 3ms/step - loss: 0.1372 - accuracy: 0.9620\n",
            "Epoch 10/20\n",
            "1719/1719 [==============================] - 5s 3ms/step - loss: 0.1262 - accuracy: 0.9649\n",
            "Epoch 11/20\n",
            "1719/1719 [==============================] - 5s 3ms/step - loss: 0.1203 - accuracy: 0.9664\n",
            "Epoch 12/20\n",
            "1719/1719 [==============================] - 5s 3ms/step - loss: 0.1094 - accuracy: 0.9687\n",
            "Epoch 13/20\n",
            "1719/1719 [==============================] - 5s 3ms/step - loss: 0.1113 - accuracy: 0.9701\n",
            "Epoch 14/20\n",
            "1719/1719 [==============================] - 5s 3ms/step - loss: 0.1003 - accuracy: 0.9714\n",
            "Epoch 15/20\n",
            "1719/1719 [==============================] - 5s 3ms/step - loss: 0.0979 - accuracy: 0.9725\n",
            "Epoch 16/20\n",
            "1719/1719 [==============================] - 5s 3ms/step - loss: 0.0881 - accuracy: 0.9755\n",
            "Epoch 17/20\n",
            "1719/1719 [==============================] - 5s 3ms/step - loss: 0.0906 - accuracy: 0.9753\n",
            "Epoch 18/20\n",
            "1719/1719 [==============================] - 5s 3ms/step - loss: 0.0857 - accuracy: 0.9760\n",
            "Epoch 19/20\n",
            "1719/1719 [==============================] - 5s 3ms/step - loss: 0.0754 - accuracy: 0.9790\n",
            "Epoch 20/20\n",
            "1719/1719 [==============================] - 5s 3ms/step - loss: 0.0769 - accuracy: 0.9773\n",
            "Epoch 1/20\n",
            "1719/1719 [==============================] - 6s 3ms/step - loss: 1.1615 - accuracy: 0.5872\n",
            "Epoch 2/20\n",
            "1719/1719 [==============================] - 5s 3ms/step - loss: 0.2435 - accuracy: 0.9304\n",
            "Epoch 3/20\n",
            "1719/1719 [==============================] - 5s 3ms/step - loss: 0.1701 - accuracy: 0.9516\n",
            "Epoch 4/20\n",
            "1719/1719 [==============================] - 5s 3ms/step - loss: 0.1382 - accuracy: 0.9615\n",
            "Epoch 5/20\n",
            "1719/1719 [==============================] - 5s 3ms/step - loss: 0.1264 - accuracy: 0.9658\n",
            "Epoch 6/20\n",
            "1719/1719 [==============================] - 5s 3ms/step - loss: 0.1043 - accuracy: 0.9721\n",
            "Epoch 7/20\n",
            "1719/1719 [==============================] - 5s 3ms/step - loss: 0.0883 - accuracy: 0.9756\n",
            "Epoch 8/20\n",
            "1719/1719 [==============================] - 5s 3ms/step - loss: 0.0814 - accuracy: 0.9780\n",
            "Epoch 9/20\n",
            "1719/1719 [==============================] - 5s 3ms/step - loss: 0.0760 - accuracy: 0.9786\n",
            "Epoch 10/20\n",
            "1719/1719 [==============================] - 5s 3ms/step - loss: 0.0675 - accuracy: 0.9803\n",
            "Epoch 11/20\n",
            "1719/1719 [==============================] - 5s 3ms/step - loss: 0.0654 - accuracy: 0.9808\n",
            "Epoch 12/20\n",
            "1719/1719 [==============================] - 5s 3ms/step - loss: 0.0553 - accuracy: 0.9837\n",
            "Epoch 13/20\n",
            "1719/1719 [==============================] - 5s 3ms/step - loss: 0.0604 - accuracy: 0.9832\n",
            "Epoch 14/20\n",
            "1719/1719 [==============================] - 5s 3ms/step - loss: 0.0536 - accuracy: 0.9856\n",
            "Epoch 15/20\n",
            "1719/1719 [==============================] - 5s 3ms/step - loss: 0.0518 - accuracy: 0.9858\n",
            "Epoch 16/20\n",
            "1719/1719 [==============================] - 5s 3ms/step - loss: 0.0513 - accuracy: 0.9862\n",
            "Epoch 17/20\n",
            "1719/1719 [==============================] - 5s 3ms/step - loss: 0.0471 - accuracy: 0.9869\n",
            "Epoch 18/20\n",
            "1719/1719 [==============================] - 5s 3ms/step - loss: 0.0407 - accuracy: 0.9882\n",
            "Epoch 19/20\n",
            "1719/1719 [==============================] - 5s 3ms/step - loss: 0.0420 - accuracy: 0.9877\n",
            "Epoch 20/20\n",
            "1719/1719 [==============================] - 5s 3ms/step - loss: 0.0385 - accuracy: 0.9893\n",
            "Epoch 1/20\n",
            "1719/1719 [==============================] - 8s 4ms/step - loss: 2.2868 - accuracy: 0.1553\n",
            "Epoch 2/20\n",
            "1719/1719 [==============================] - 7s 4ms/step - loss: 2.0566 - accuracy: 0.3202\n",
            "Epoch 3/20\n",
            "1719/1719 [==============================] - 7s 4ms/step - loss: 1.2705 - accuracy: 0.5726\n",
            "Epoch 4/20\n",
            "1719/1719 [==============================] - 7s 4ms/step - loss: 0.8736 - accuracy: 0.7099\n",
            "Epoch 5/20\n",
            "1719/1719 [==============================] - 7s 4ms/step - loss: 0.6923 - accuracy: 0.7792\n",
            "Epoch 6/20\n",
            "1719/1719 [==============================] - 7s 4ms/step - loss: 0.5904 - accuracy: 0.8184\n",
            "Epoch 7/20\n",
            "1719/1719 [==============================] - 7s 4ms/step - loss: 0.5194 - accuracy: 0.8446\n",
            "Epoch 8/20\n",
            "1719/1719 [==============================] - 7s 4ms/step - loss: 0.4465 - accuracy: 0.8669\n",
            "Epoch 9/20\n",
            "1719/1719 [==============================] - 7s 4ms/step - loss: 0.4064 - accuracy: 0.8791\n",
            "Epoch 10/20\n",
            "1719/1719 [==============================] - 7s 4ms/step - loss: 0.3654 - accuracy: 0.8939\n",
            "Epoch 11/20\n",
            "1719/1719 [==============================] - 7s 4ms/step - loss: 0.3378 - accuracy: 0.9047\n",
            "Epoch 12/20\n",
            "1719/1719 [==============================] - 7s 4ms/step - loss: 0.3039 - accuracy: 0.9134\n",
            "Epoch 13/20\n",
            "1719/1719 [==============================] - 7s 4ms/step - loss: 0.2787 - accuracy: 0.9211\n",
            "Epoch 14/20\n",
            "1719/1719 [==============================] - 7s 4ms/step - loss: 0.2633 - accuracy: 0.9266\n",
            "Epoch 15/20\n",
            "1719/1719 [==============================] - 7s 4ms/step - loss: 0.2395 - accuracy: 0.9325\n",
            "Epoch 16/20\n",
            "1719/1719 [==============================] - 7s 4ms/step - loss: 0.2258 - accuracy: 0.9353\n",
            "Epoch 17/20\n",
            "1719/1719 [==============================] - 7s 4ms/step - loss: 0.2122 - accuracy: 0.9410\n",
            "Epoch 18/20\n",
            "1719/1719 [==============================] - 7s 4ms/step - loss: 0.1976 - accuracy: 0.9450\n",
            "Epoch 19/20\n",
            "1719/1719 [==============================] - 7s 4ms/step - loss: 0.1909 - accuracy: 0.9486\n",
            "Epoch 20/20\n",
            "1719/1719 [==============================] - 7s 4ms/step - loss: 0.1856 - accuracy: 0.9514\n",
            "Epoch 1/20\n",
            "1719/1719 [==============================] - 8s 4ms/step - loss: 1.5852 - accuracy: 0.4474\n",
            "Epoch 2/20\n",
            "1719/1719 [==============================] - 7s 4ms/step - loss: 0.3025 - accuracy: 0.9125\n",
            "Epoch 3/20\n",
            "1719/1719 [==============================] - 7s 4ms/step - loss: 0.1932 - accuracy: 0.9441\n",
            "Epoch 4/20\n",
            "1719/1719 [==============================] - 7s 4ms/step - loss: 0.1519 - accuracy: 0.9580\n",
            "Epoch 5/20\n",
            "1719/1719 [==============================] - 7s 4ms/step - loss: 0.1257 - accuracy: 0.9655\n",
            "Epoch 6/20\n",
            "1719/1719 [==============================] - 7s 4ms/step - loss: 0.1099 - accuracy: 0.9702\n",
            "Epoch 7/20\n",
            "1719/1719 [==============================] - 7s 4ms/step - loss: 0.0955 - accuracy: 0.9747\n",
            "Epoch 8/20\n",
            "1719/1719 [==============================] - 7s 4ms/step - loss: 0.0878 - accuracy: 0.9758\n",
            "Epoch 9/20\n",
            "1719/1719 [==============================] - 7s 4ms/step - loss: 0.0855 - accuracy: 0.9781\n",
            "Epoch 10/20\n",
            "1719/1719 [==============================] - 7s 4ms/step - loss: 0.0725 - accuracy: 0.9798\n",
            "Epoch 11/20\n",
            "1719/1719 [==============================] - 7s 4ms/step - loss: 0.0708 - accuracy: 0.9810\n",
            "Epoch 12/20\n",
            "1719/1719 [==============================] - 7s 4ms/step - loss: 0.0653 - accuracy: 0.9816\n",
            "Epoch 13/20\n",
            "1719/1719 [==============================] - 7s 4ms/step - loss: 0.0651 - accuracy: 0.9823\n",
            "Epoch 14/20\n",
            "1719/1719 [==============================] - 7s 4ms/step - loss: 0.0576 - accuracy: 0.9841\n",
            "Epoch 15/20\n",
            "1719/1719 [==============================] - 7s 4ms/step - loss: 0.0514 - accuracy: 0.9855\n",
            "Epoch 16/20\n",
            "1719/1719 [==============================] - 7s 4ms/step - loss: 0.0470 - accuracy: 0.9877\n",
            "Epoch 17/20\n",
            "1719/1719 [==============================] - 7s 4ms/step - loss: 0.0491 - accuracy: 0.9861\n",
            "Epoch 18/20\n",
            "1719/1719 [==============================] - 7s 4ms/step - loss: 0.0488 - accuracy: 0.9866\n",
            "Epoch 19/20\n",
            "1719/1719 [==============================] - 7s 4ms/step - loss: 0.0409 - accuracy: 0.9884\n",
            "Epoch 20/20\n",
            "1719/1719 [==============================] - 7s 4ms/step - loss: 0.0419 - accuracy: 0.9880\n",
            "Epoch 1/20\n",
            "1719/1719 [==============================] - 8s 4ms/step - loss: 0.8730 - accuracy: 0.7019\n",
            "Epoch 2/20\n",
            "1719/1719 [==============================] - 7s 4ms/step - loss: 0.1382 - accuracy: 0.9628\n",
            "Epoch 3/20\n",
            "1719/1719 [==============================] - 7s 4ms/step - loss: 0.0927 - accuracy: 0.9747\n",
            "Epoch 4/20\n",
            "1719/1719 [==============================] - 7s 4ms/step - loss: 0.0792 - accuracy: 0.9789\n",
            "Epoch 5/20\n",
            "1719/1719 [==============================] - 7s 4ms/step - loss: 0.0638 - accuracy: 0.9830\n",
            "Epoch 6/20\n",
            "1719/1719 [==============================] - 7s 4ms/step - loss: 0.0506 - accuracy: 0.9868\n",
            "Epoch 7/20\n",
            "1719/1719 [==============================] - 7s 4ms/step - loss: 0.0486 - accuracy: 0.9872\n",
            "Epoch 8/20\n",
            "1719/1719 [==============================] - 7s 4ms/step - loss: 0.0407 - accuracy: 0.9892\n",
            "Epoch 9/20\n",
            "1719/1719 [==============================] - 7s 4ms/step - loss: 0.0393 - accuracy: 0.9894\n",
            "Epoch 10/20\n",
            "1719/1719 [==============================] - 7s 4ms/step - loss: 0.0287 - accuracy: 0.9922\n",
            "Epoch 11/20\n",
            "1719/1719 [==============================] - 7s 4ms/step - loss: 0.0297 - accuracy: 0.9919\n",
            "Epoch 12/20\n",
            "1719/1719 [==============================] - 7s 4ms/step - loss: 0.0267 - accuracy: 0.9928\n",
            "Epoch 13/20\n",
            "1719/1719 [==============================] - 7s 4ms/step - loss: 0.0198 - accuracy: 0.9938\n",
            "Epoch 14/20\n",
            "1719/1719 [==============================] - 7s 4ms/step - loss: 0.0214 - accuracy: 0.9943\n",
            "Epoch 15/20\n",
            "1719/1719 [==============================] - 7s 4ms/step - loss: 0.0190 - accuracy: 0.9945\n",
            "Epoch 16/20\n",
            "1719/1719 [==============================] - 7s 4ms/step - loss: 0.0197 - accuracy: 0.9941\n",
            "Epoch 17/20\n",
            "1719/1719 [==============================] - 7s 4ms/step - loss: 0.0167 - accuracy: 0.9952\n",
            "Epoch 18/20\n",
            "1719/1719 [==============================] - 7s 4ms/step - loss: 0.0207 - accuracy: 0.9941\n",
            "Epoch 19/20\n",
            "1719/1719 [==============================] - 7s 4ms/step - loss: 0.0154 - accuracy: 0.9954\n",
            "Epoch 20/20\n",
            "1719/1719 [==============================] - 7s 4ms/step - loss: 0.0147 - accuracy: 0.9961\n"
          ],
          "name": "stdout"
        }
      ]
    },
    {
      "cell_type": "markdown",
      "metadata": {
        "id": "driving-plymouth"
      },
      "source": [
        "* A primeira layer usa 64 filtros, cada um 7x7, com função de ativação ReLU, padding same, e o shape do input (imagens 28x28, com um canal de cor)\n",
        "* Pooling layer que divide as dimensões por 2\n",
        "* Depois, a repetição de duas layers convolucionais seguidas de uma pooling layer. Para imagens maiores, isso poderia ser repetido mais vezes. O número de repetições é um hiperparametro.\n",
        "* Por fim, duas hidden dense layers e uma output layer, além das dropout layers para reduzir overfitting."
      ],
      "id": "driving-plymouth"
    },
    {
      "cell_type": "markdown",
      "metadata": {
        "id": "pretty-reliance"
      },
      "source": [
        "Obs:\n",
        "- o número de filtros das layers convolucionais aumenta a medida que crescemos a CNN, isso tem a ver com o número de combinações que podemos fazer com cada imagem de baixo nível\n",
        "- padding 'same' que significa que a rede convolucional utiliza zero padding se necessário (adicionaria zeros ao dataset caso a output layer seja menor que a input layer, por causa do stride). O padding poderia ser 'valid', que nessa situação ao invés de adicionar zero, ignoraria algumas colunas e linhas da input layer"
      ],
      "id": "pretty-reliance"
    },
    {
      "cell_type": "code",
      "metadata": {
        "id": "bpx1MCqT7ZAE",
        "colab": {
          "base_uri": "https://localhost:8080/"
        },
        "outputId": "8af2f9bd-bb69-4f46-9834-dfe560a00f45"
      },
      "source": [
        "print(best_sz, best_lr)\n",
        "final_model = build_model(best_lr, best_sz)"
      ],
      "id": "bpx1MCqT7ZAE",
      "execution_count": 19,
      "outputs": [
        {
          "output_type": "stream",
          "text": [
            "64 0.05\n"
          ],
          "name": "stdout"
        }
      ]
    },
    {
      "cell_type": "code",
      "metadata": {
        "colab": {
          "base_uri": "https://localhost:8080/"
        },
        "id": "standard-jackson",
        "outputId": "44bd25c8-e548-4890-de53-1589b0085337"
      },
      "source": [
        "final_model.summary()"
      ],
      "id": "standard-jackson",
      "execution_count": 20,
      "outputs": [
        {
          "output_type": "stream",
          "text": [
            "Model: \"sequential_13\"\n",
            "_________________________________________________________________\n",
            "Layer (type)                 Output Shape              Param #   \n",
            "=================================================================\n",
            "conv2d_39 (Conv2D)           (None, 28, 28, 64)        3200      \n",
            "_________________________________________________________________\n",
            "max_pooling2d_26 (MaxPooling (None, 14, 14, 64)        0         \n",
            "_________________________________________________________________\n",
            "conv2d_40 (Conv2D)           (None, 14, 14, 128)       73856     \n",
            "_________________________________________________________________\n",
            "conv2d_41 (Conv2D)           (None, 14, 14, 128)       147584    \n",
            "_________________________________________________________________\n",
            "max_pooling2d_27 (MaxPooling (None, 7, 7, 128)         0         \n",
            "_________________________________________________________________\n",
            "flatten_13 (Flatten)         (None, 6272)              0         \n",
            "_________________________________________________________________\n",
            "dense_39 (Dense)             (None, 128)               802944    \n",
            "_________________________________________________________________\n",
            "dropout_26 (Dropout)         (None, 128)               0         \n",
            "_________________________________________________________________\n",
            "dense_40 (Dense)             (None, 128)               16512     \n",
            "_________________________________________________________________\n",
            "dropout_27 (Dropout)         (None, 128)               0         \n",
            "_________________________________________________________________\n",
            "dense_41 (Dense)             (None, 10)                1290      \n",
            "=================================================================\n",
            "Total params: 1,045,386\n",
            "Trainable params: 1,045,386\n",
            "Non-trainable params: 0\n",
            "_________________________________________________________________\n"
          ],
          "name": "stdout"
        }
      ]
    },
    {
      "cell_type": "code",
      "metadata": {
        "id": "level-swift"
      },
      "source": [
        "from keras.optimizers import SGD\n",
        "custom_optimizer = SGD(lr = 0.05)\n",
        "final_model.compile(loss=\"sparse_categorical_crossentropy\", optimizer=custom_optimizer, metrics=[\"accuracy\"])"
      ],
      "id": "level-swift",
      "execution_count": 21,
      "outputs": []
    },
    {
      "cell_type": "code",
      "metadata": {
        "colab": {
          "base_uri": "https://localhost:8080/"
        },
        "id": "senior-panel",
        "outputId": "f64efcc7-9500-4cb3-fccb-ac9794dab557"
      },
      "source": [
        "history = final_model.fit(X_train, y_train, epochs=20, validation_data=(X_valid, y_valid))"
      ],
      "id": "senior-panel",
      "execution_count": 22,
      "outputs": [
        {
          "output_type": "stream",
          "text": [
            "Epoch 1/20\n",
            "1719/1719 [==============================] - 8s 5ms/step - loss: 0.9341 - accuracy: 0.6806 - val_loss: 0.0723 - val_accuracy: 0.9804\n",
            "Epoch 2/20\n",
            "1719/1719 [==============================] - 8s 4ms/step - loss: 0.1435 - accuracy: 0.9637 - val_loss: 0.0563 - val_accuracy: 0.9848\n",
            "Epoch 3/20\n",
            "1719/1719 [==============================] - 8s 4ms/step - loss: 0.0962 - accuracy: 0.9751 - val_loss: 0.0463 - val_accuracy: 0.9878\n",
            "Epoch 4/20\n",
            "1719/1719 [==============================] - 8s 4ms/step - loss: 0.0747 - accuracy: 0.9805 - val_loss: 0.0433 - val_accuracy: 0.9900\n",
            "Epoch 5/20\n",
            "1719/1719 [==============================] - 8s 4ms/step - loss: 0.0642 - accuracy: 0.9820 - val_loss: 0.0426 - val_accuracy: 0.9902\n",
            "Epoch 6/20\n",
            "1719/1719 [==============================] - 8s 4ms/step - loss: 0.0489 - accuracy: 0.9867 - val_loss: 0.0425 - val_accuracy: 0.9908\n",
            "Epoch 7/20\n",
            "1719/1719 [==============================] - 8s 4ms/step - loss: 0.0464 - accuracy: 0.9870 - val_loss: 0.0413 - val_accuracy: 0.9900\n",
            "Epoch 8/20\n",
            "1719/1719 [==============================] - 8s 4ms/step - loss: 0.0404 - accuracy: 0.9894 - val_loss: 0.0389 - val_accuracy: 0.9914\n",
            "Epoch 9/20\n",
            "1719/1719 [==============================] - 8s 4ms/step - loss: 0.0352 - accuracy: 0.9896 - val_loss: 0.0362 - val_accuracy: 0.9922\n",
            "Epoch 10/20\n",
            "1719/1719 [==============================] - 8s 4ms/step - loss: 0.0350 - accuracy: 0.9915 - val_loss: 0.0316 - val_accuracy: 0.9930\n",
            "Epoch 11/20\n",
            "1719/1719 [==============================] - 8s 4ms/step - loss: 0.0287 - accuracy: 0.9921 - val_loss: 0.0344 - val_accuracy: 0.9932\n",
            "Epoch 12/20\n",
            "1719/1719 [==============================] - 8s 4ms/step - loss: 0.0250 - accuracy: 0.9933 - val_loss: 0.0307 - val_accuracy: 0.9930\n",
            "Epoch 13/20\n",
            "1719/1719 [==============================] - 8s 4ms/step - loss: 0.0239 - accuracy: 0.9930 - val_loss: 0.0354 - val_accuracy: 0.9928\n",
            "Epoch 14/20\n",
            "1719/1719 [==============================] - 8s 4ms/step - loss: 0.0246 - accuracy: 0.9930 - val_loss: 0.0364 - val_accuracy: 0.9928\n",
            "Epoch 15/20\n",
            "1719/1719 [==============================] - 8s 4ms/step - loss: 0.0211 - accuracy: 0.9944 - val_loss: 0.0320 - val_accuracy: 0.9918\n",
            "Epoch 16/20\n",
            "1719/1719 [==============================] - 8s 4ms/step - loss: 0.0197 - accuracy: 0.9945 - val_loss: 0.0318 - val_accuracy: 0.9948\n",
            "Epoch 17/20\n",
            "1719/1719 [==============================] - 8s 4ms/step - loss: 0.0181 - accuracy: 0.9947 - val_loss: 0.0343 - val_accuracy: 0.9936\n",
            "Epoch 18/20\n",
            "1719/1719 [==============================] - 8s 5ms/step - loss: 0.0162 - accuracy: 0.9956 - val_loss: 0.0303 - val_accuracy: 0.9942\n",
            "Epoch 19/20\n",
            "1719/1719 [==============================] - 8s 4ms/step - loss: 0.0135 - accuracy: 0.9961 - val_loss: 0.0426 - val_accuracy: 0.9914\n",
            "Epoch 20/20\n",
            "1719/1719 [==============================] - 8s 4ms/step - loss: 0.0156 - accuracy: 0.9954 - val_loss: 0.0362 - val_accuracy: 0.9926\n"
          ],
          "name": "stdout"
        }
      ]
    },
    {
      "cell_type": "code",
      "metadata": {
        "colab": {
          "base_uri": "https://localhost:8080/",
          "height": 669
        },
        "id": "through-madonna",
        "outputId": "0a5b0d0e-e867-4c29-85ef-1e3210e5c17d"
      },
      "source": [
        "import pandas as pd\n",
        "import matplotlib.pyplot as plt\n",
        "\n",
        "df_losses = pd.DataFrame(history.history)\n",
        "df_losses"
      ],
      "id": "through-madonna",
      "execution_count": 23,
      "outputs": [
        {
          "output_type": "execute_result",
          "data": {
            "text/html": [
              "<div>\n",
              "<style scoped>\n",
              "    .dataframe tbody tr th:only-of-type {\n",
              "        vertical-align: middle;\n",
              "    }\n",
              "\n",
              "    .dataframe tbody tr th {\n",
              "        vertical-align: top;\n",
              "    }\n",
              "\n",
              "    .dataframe thead th {\n",
              "        text-align: right;\n",
              "    }\n",
              "</style>\n",
              "<table border=\"1\" class=\"dataframe\">\n",
              "  <thead>\n",
              "    <tr style=\"text-align: right;\">\n",
              "      <th></th>\n",
              "      <th>loss</th>\n",
              "      <th>accuracy</th>\n",
              "      <th>val_loss</th>\n",
              "      <th>val_accuracy</th>\n",
              "    </tr>\n",
              "  </thead>\n",
              "  <tbody>\n",
              "    <tr>\n",
              "      <th>0</th>\n",
              "      <td>0.460302</td>\n",
              "      <td>0.854073</td>\n",
              "      <td>0.072278</td>\n",
              "      <td>0.9804</td>\n",
              "    </tr>\n",
              "    <tr>\n",
              "      <th>1</th>\n",
              "      <td>0.127622</td>\n",
              "      <td>0.966364</td>\n",
              "      <td>0.056260</td>\n",
              "      <td>0.9848</td>\n",
              "    </tr>\n",
              "    <tr>\n",
              "      <th>2</th>\n",
              "      <td>0.091811</td>\n",
              "      <td>0.975764</td>\n",
              "      <td>0.046271</td>\n",
              "      <td>0.9878</td>\n",
              "    </tr>\n",
              "    <tr>\n",
              "      <th>3</th>\n",
              "      <td>0.070731</td>\n",
              "      <td>0.981218</td>\n",
              "      <td>0.043270</td>\n",
              "      <td>0.9900</td>\n",
              "    </tr>\n",
              "    <tr>\n",
              "      <th>4</th>\n",
              "      <td>0.060466</td>\n",
              "      <td>0.983691</td>\n",
              "      <td>0.042586</td>\n",
              "      <td>0.9902</td>\n",
              "    </tr>\n",
              "    <tr>\n",
              "      <th>5</th>\n",
              "      <td>0.052776</td>\n",
              "      <td>0.986436</td>\n",
              "      <td>0.042473</td>\n",
              "      <td>0.9908</td>\n",
              "    </tr>\n",
              "    <tr>\n",
              "      <th>6</th>\n",
              "      <td>0.046860</td>\n",
              "      <td>0.987273</td>\n",
              "      <td>0.041261</td>\n",
              "      <td>0.9900</td>\n",
              "    </tr>\n",
              "    <tr>\n",
              "      <th>7</th>\n",
              "      <td>0.039955</td>\n",
              "      <td>0.989400</td>\n",
              "      <td>0.038869</td>\n",
              "      <td>0.9914</td>\n",
              "    </tr>\n",
              "    <tr>\n",
              "      <th>8</th>\n",
              "      <td>0.035354</td>\n",
              "      <td>0.990382</td>\n",
              "      <td>0.036200</td>\n",
              "      <td>0.9922</td>\n",
              "    </tr>\n",
              "    <tr>\n",
              "      <th>9</th>\n",
              "      <td>0.033846</td>\n",
              "      <td>0.991309</td>\n",
              "      <td>0.031627</td>\n",
              "      <td>0.9930</td>\n",
              "    </tr>\n",
              "    <tr>\n",
              "      <th>10</th>\n",
              "      <td>0.030048</td>\n",
              "      <td>0.991982</td>\n",
              "      <td>0.034369</td>\n",
              "      <td>0.9932</td>\n",
              "    </tr>\n",
              "    <tr>\n",
              "      <th>11</th>\n",
              "      <td>0.027221</td>\n",
              "      <td>0.992636</td>\n",
              "      <td>0.030711</td>\n",
              "      <td>0.9930</td>\n",
              "    </tr>\n",
              "    <tr>\n",
              "      <th>12</th>\n",
              "      <td>0.025292</td>\n",
              "      <td>0.992582</td>\n",
              "      <td>0.035382</td>\n",
              "      <td>0.9928</td>\n",
              "    </tr>\n",
              "    <tr>\n",
              "      <th>13</th>\n",
              "      <td>0.024299</td>\n",
              "      <td>0.993455</td>\n",
              "      <td>0.036387</td>\n",
              "      <td>0.9928</td>\n",
              "    </tr>\n",
              "    <tr>\n",
              "      <th>14</th>\n",
              "      <td>0.021093</td>\n",
              "      <td>0.994309</td>\n",
              "      <td>0.031982</td>\n",
              "      <td>0.9918</td>\n",
              "    </tr>\n",
              "    <tr>\n",
              "      <th>15</th>\n",
              "      <td>0.019010</td>\n",
              "      <td>0.994691</td>\n",
              "      <td>0.031772</td>\n",
              "      <td>0.9948</td>\n",
              "    </tr>\n",
              "    <tr>\n",
              "      <th>16</th>\n",
              "      <td>0.016894</td>\n",
              "      <td>0.995036</td>\n",
              "      <td>0.034277</td>\n",
              "      <td>0.9936</td>\n",
              "    </tr>\n",
              "    <tr>\n",
              "      <th>17</th>\n",
              "      <td>0.017116</td>\n",
              "      <td>0.995600</td>\n",
              "      <td>0.030331</td>\n",
              "      <td>0.9942</td>\n",
              "    </tr>\n",
              "    <tr>\n",
              "      <th>18</th>\n",
              "      <td>0.016088</td>\n",
              "      <td>0.995527</td>\n",
              "      <td>0.042628</td>\n",
              "      <td>0.9914</td>\n",
              "    </tr>\n",
              "    <tr>\n",
              "      <th>19</th>\n",
              "      <td>0.015607</td>\n",
              "      <td>0.995455</td>\n",
              "      <td>0.036158</td>\n",
              "      <td>0.9926</td>\n",
              "    </tr>\n",
              "  </tbody>\n",
              "</table>\n",
              "</div>"
            ],
            "text/plain": [
              "        loss  accuracy  val_loss  val_accuracy\n",
              "0   0.460302  0.854073  0.072278        0.9804\n",
              "1   0.127622  0.966364  0.056260        0.9848\n",
              "2   0.091811  0.975764  0.046271        0.9878\n",
              "3   0.070731  0.981218  0.043270        0.9900\n",
              "4   0.060466  0.983691  0.042586        0.9902\n",
              "5   0.052776  0.986436  0.042473        0.9908\n",
              "6   0.046860  0.987273  0.041261        0.9900\n",
              "7   0.039955  0.989400  0.038869        0.9914\n",
              "8   0.035354  0.990382  0.036200        0.9922\n",
              "9   0.033846  0.991309  0.031627        0.9930\n",
              "10  0.030048  0.991982  0.034369        0.9932\n",
              "11  0.027221  0.992636  0.030711        0.9930\n",
              "12  0.025292  0.992582  0.035382        0.9928\n",
              "13  0.024299  0.993455  0.036387        0.9928\n",
              "14  0.021093  0.994309  0.031982        0.9918\n",
              "15  0.019010  0.994691  0.031772        0.9948\n",
              "16  0.016894  0.995036  0.034277        0.9936\n",
              "17  0.017116  0.995600  0.030331        0.9942\n",
              "18  0.016088  0.995527  0.042628        0.9914\n",
              "19  0.015607  0.995455  0.036158        0.9926"
            ]
          },
          "metadata": {
            "tags": []
          },
          "execution_count": 23
        }
      ]
    },
    {
      "cell_type": "code",
      "metadata": {
        "colab": {
          "base_uri": "https://localhost:8080/",
          "height": 487
        },
        "id": "naval-swing",
        "outputId": "a5d6fa24-6bbd-402f-be35-c9a25c3f895c"
      },
      "source": [
        "df_losses.plot(figsize=(10,8))\n",
        "plt.grid(True)\n",
        "plt.gca().set_ylim(0, 1) # set the vertical range to [0-1]\n",
        "plt.show()"
      ],
      "id": "naval-swing",
      "execution_count": 24,
      "outputs": [
        {
          "output_type": "display_data",
          "data": {
            "image/png": "[encoded data removed]",
            "text/plain": [
              "<Figure size 720x576 with 1 Axes>"
            ]
          },
          "metadata": {
            "tags": [],
            "needs_background": "light"
          }
        }
      ]
    },
    {
      "cell_type": "code",
      "metadata": {
        "colab": {
          "base_uri": "https://localhost:8080/",
          "height": 446
        },
        "id": "sitting-premium",
        "outputId": "b4b09e61-9b3e-4bc4-909c-2d0cef0e84a0"
      },
      "source": [
        "y_pred = np.argmax(model.predict(X_test), axis=-1)\n",
        "\n",
        "#traditional confusion matrix\n",
        "df_cm = pd.DataFrame(confusion_matrix(y_test, y_pred))\n",
        "\n",
        "plt.figure(figsize = (13,7))\n",
        "sns.heatmap(df_cm, annot=True, fmt='d')"
      ],
      "id": "sitting-premium",
      "execution_count": 25,
      "outputs": [
        {
          "output_type": "execute_result",
          "data": {
            "text/plain": [
              "<matplotlib.axes._subplots.AxesSubplot at 0x7f21400cdf10>"
            ]
          },
          "metadata": {
            "tags": []
          },
          "execution_count": 25
        },
        {
          "output_type": "display_data",
          "data": {
            "image/png": "[encoded data removed]",
            "text/plain": [
              "<Figure size 936x504 with 2 Axes>"
            ]
          },
          "metadata": {
            "tags": [],
            "needs_background": "light"
          }
        }
      ]
    },
    {
      "cell_type": "code",
      "metadata": {
        "colab": {
          "base_uri": "https://localhost:8080/",
          "height": 446
        },
        "id": "concrete-portugal",
        "outputId": "b1c7eba4-a6f3-47f5-8104-fa4e4f30e858"
      },
      "source": [
        "#confusion matrix in accuracy format for each class\n",
        "cm = confusion_matrix(y_test, y_pred)\n",
        "\n",
        "df_cm_acc = pd.DataFrame(cm.astype('float') / cm.sum(axis=1)[:, np.newaxis])\n",
        "\n",
        "plt.figure(figsize = (13,7))\n",
        "sns.heatmap(df_cm_acc, annot=True, fmt='f')"
      ],
      "id": "concrete-portugal",
      "execution_count": 26,
      "outputs": [
        {
          "output_type": "execute_result",
          "data": {
            "text/plain": [
              "<matplotlib.axes._subplots.AxesSubplot at 0x7f2190055ed0>"
            ]
          },
          "metadata": {
            "tags": []
          },
          "execution_count": 26
        },
        {
          "output_type": "display_data",
          "data": {
            "image/png": "[encoded data removed]",
            "text/plain": [
              "<Figure size 936x504 with 2 Axes>"
            ]
          },
          "metadata": {
            "tags": [],
            "needs_background": "light"
          }
        }
      ]
    },
    {
      "cell_type": "code",
      "metadata": {
        "id": "hollywood-afternoon"
      },
      "source": [
        ""
      ],
      "id": "hollywood-afternoon",
      "execution_count": null,
      "outputs": []
    }
  ]
}